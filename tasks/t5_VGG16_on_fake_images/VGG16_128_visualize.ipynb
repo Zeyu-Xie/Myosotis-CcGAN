{
 "cells": [
  {
   "cell_type": "markdown",
   "id": "05bee791",
   "metadata": {},
   "source": [
    "# VGG\n",
    "\n",
    "This notebook visualize our trained VGG16 model."
   ]
  },
  {
   "cell_type": "code",
   "execution_count": 1,
   "id": "9c623ed7",
   "metadata": {
    "execution": {
     "iopub.execute_input": "2025-05-29T22:40:54.406756Z",
     "iopub.status.busy": "2025-05-29T22:40:54.406399Z",
     "iopub.status.idle": "2025-05-29T22:40:57.684867Z",
     "shell.execute_reply": "2025-05-29T22:40:57.684352Z"
    }
   },
   "outputs": [],
   "source": [
    "import h5py\n",
    "from matplotlib import pyplot as plt\n",
    "import numpy as np\n",
    "import os\n",
    "import pandas as pd\n",
    "from sklearn.manifold import TSNE\n",
    "from sklearn.model_selection import train_test_split\n",
    "import torch\n",
    "import torch.nn as nn\n",
    "from torchsummary import summary\n",
    "from torch.utils.data import TensorDataset, DataLoader\n",
    "from torchvision import models"
   ]
  },
  {
   "cell_type": "markdown",
   "id": "28904883",
   "metadata": {},
   "source": [
    "## Step 1 - Config\n",
    "\n",
    "First set the hyperparameters and other configurations."
   ]
  },
  {
   "cell_type": "code",
   "execution_count": 2,
   "id": "33cb27b0",
   "metadata": {
    "execution": {
     "iopub.execute_input": "2025-05-29T22:40:57.687467Z",
     "iopub.status.busy": "2025-05-29T22:40:57.687174Z",
     "iopub.status.idle": "2025-05-29T22:40:57.822458Z",
     "shell.execute_reply": "2025-05-29T22:40:57.822002Z"
    }
   },
   "outputs": [
    {
     "name": "stdout",
     "output_type": "stream",
     "text": [
      "Device: cpu\n"
     ]
    }
   ],
   "source": [
    "# Dataset and model path\n",
    "DATASET_PATH = \"./datasets/Ra_128_indexed.h5\"\n",
    "DATASET_FAKE_PATH = \"./datasets/CcGAN_SAGAN_dim_128_128_batchSizeG_64_batchSizeD_64_lrG_1e-04_lrD_1e-04_nIters_30000_nDsteps_4_soft_0.047_108.739_loss_hinge_seed_42_in_generate.h5\"\n",
    "# DATASET_FAKE_PATH = \"./datasets/Ra_128_indexed.h5\"\n",
    "MODEL_DIR = \"./models\"\n",
    "OUTPUT_DIR = \"./outputs\"\n",
    "IMAGE_DIR = \"./images\"\n",
    "# Env\n",
    "SEED = 42\n",
    "# Dataset\n",
    "MIN_LABEL = 1.3\n",
    "MAX_LABEL = 5.2\n",
    "# Hyperparameters\n",
    "NUM_EPOCHS = 200\n",
    "LR = 1e-3\n",
    "LR_WEIGHT_DECAY = 1e-4\n",
    "TEST_SIZE = 0.2\n",
    "BATCH_SIZE_TRAIN = 256\n",
    "BATCH_SIZE_VAL = 10\n",
    "\n",
    "# Device\n",
    "device = torch.device(\"cuda\" if torch.cuda.is_available() else \"cpu\")\n",
    "print(f\"Device: {device}\")\n",
    "\n",
    "# Path\n",
    "if not os.path.exists(MODEL_DIR):\n",
    "    os.makedirs(MODEL_DIR, exist_ok=True)\n",
    "    print(f\"Make new directory {MODEL_DIR}\")\n",
    "if not os.path.exists(OUTPUT_DIR):\n",
    "    os.makedirs(OUTPUT_DIR, exist_ok=True)\n",
    "    print(f\"Make new directory {OUTPUT_DIR}\")\n",
    "if not os.path.exists(IMAGE_DIR):\n",
    "    os.makedirs(IMAGE_DIR, exist_ok=True)\n",
    "    print(f\"Make new directory {IMAGE_DIR}\")\n",
    "MODEL_PATH = f\"{MODEL_DIR}/VGG16_test_size_{TEST_SIZE}_epoch_{NUM_EPOCHS}_batch_size_{BATCH_SIZE_TRAIN}_lr_{LR:.0e}_seed_{SEED}.pth\"\n",
    "OUTPUT_PATH = f\"{OUTPUT_DIR}/VGG16_test_size_{TEST_SIZE}_epoch_{NUM_EPOCHS}_batch_size_{BATCH_SIZE_TRAIN}_lr_{LR:.0e}_seed_{SEED}.csv\"\n",
    "IMAGE_PATH = f\"{IMAGE_DIR}/VGG16_test_size_{TEST_SIZE}_epoch_{NUM_EPOCHS}_batch_size_{BATCH_SIZE_TRAIN}_lr_{LR:.0e}_seed_{SEED}.png\""
   ]
  },
  {
   "cell_type": "markdown",
   "id": "6d7ff1c7",
   "metadata": {},
   "source": [
    "Then load the pretrained model from `torchvision`."
   ]
  },
  {
   "cell_type": "code",
   "execution_count": 3,
   "id": "b8b13a96",
   "metadata": {
    "execution": {
     "iopub.execute_input": "2025-05-29T22:40:57.824481Z",
     "iopub.status.busy": "2025-05-29T22:40:57.824210Z",
     "iopub.status.idle": "2025-05-29T22:40:59.329245Z",
     "shell.execute_reply": "2025-05-29T22:40:59.328708Z"
    }
   },
   "outputs": [
    {
     "name": "stderr",
     "output_type": "stream",
     "text": [
      "/opt/homebrew/Caskroom/miniconda/base/envs/2025-04-23_macOS/lib/python3.12/site-packages/torchvision/models/_utils.py:208: UserWarning: The parameter 'pretrained' is deprecated since 0.13 and may be removed in the future, please use 'weights' instead.\n",
      "  warnings.warn(\n",
      "/opt/homebrew/Caskroom/miniconda/base/envs/2025-04-23_macOS/lib/python3.12/site-packages/torchvision/models/_utils.py:223: UserWarning: Arguments other than a weight enum or `None` for 'weights' are deprecated since 0.13 and may be removed in the future. The current behavior is equivalent to passing `weights=VGG16_Weights.IMAGENET1K_V1`. You can also use `weights=VGG16_Weights.DEFAULT` to get the most up-to-date weights.\n",
      "  warnings.warn(msg)\n"
     ]
    }
   ],
   "source": [
    "# Pretrained VGG16 model\n",
    "vgg16 = models.vgg16(pretrained=True)\n",
    "\n",
    "# Change the last layer to fit the regression task\n",
    "vgg16.classifier[-1] = nn.Linear(in_features=4096, out_features=1)\n",
    "\n",
    "# Choose to freeze the layers or not\n",
    "for param in vgg16.features.parameters():\n",
    "    param.requires_grad = False\n",
    "\n",
    "# Move to the appropriate device\n",
    "vgg16 = vgg16.to(device)"
   ]
  },
  {
   "cell_type": "markdown",
   "id": "4b3b175c",
   "metadata": {},
   "source": [
    "## Step 2 - Load data\n",
    "\n",
    "In this step we load the images and process them, the goal is to get `train_loader` and `val_loader` for training. After this step we will get:\n",
    "\n",
    "1. `images_train` and `images_val` (4 dim tensor)\n",
    "2. `labels_train` and `labels_val` (1 dim tensor)\n",
    "3. `train_dataset` and `val_dataset` (dataset)\n",
    "4. `train_loader` and `val_loader` (dataloader)\n",
    "\n",
    "First we load the images, and normalize the pixel values."
   ]
  },
  {
   "cell_type": "code",
   "execution_count": 4,
   "id": "bc9be499",
   "metadata": {
    "execution": {
     "iopub.execute_input": "2025-05-29T22:40:59.331634Z",
     "iopub.status.busy": "2025-05-29T22:40:59.331349Z",
     "iopub.status.idle": "2025-05-29T22:41:03.617056Z",
     "shell.execute_reply": "2025-05-29T22:41:03.616488Z"
    }
   },
   "outputs": [
    {
     "name": "stdout",
     "output_type": "stream",
     "text": [
      "Images and labels loaded.\n",
      "Images Shape: (9192, 128, 128, 3)\n",
      "Labels Shape: (9192,)\n",
      "\n",
      "Fake images and labels loaded.\n",
      "Fake Images Shape: (9192, 128, 128, 3)\n",
      "Fake Labels Shape: (9192,)\n",
      "Select indexes by MIN_LABEL = 1.3 and MAX_LABEL = 5.2\n",
      "Images Shape: (9192, 128, 128, 3)\n",
      "Labels Shape: (9192,)\n",
      "\n",
      "Select fake indexes by MIN_LABEL = 1.3 and MAX_LABEL = 5.2\n",
      "Fake Images Shape: (9191, 128, 128, 3)\n",
      "Fake Labels Shape: (9191,)\n",
      "\n",
      "Transform `images` and `labels` to tensors.\n",
      "Images Shape: torch.Size([9192, 3, 128, 128])\n",
      "Labels Shape: torch.Size([9192])\n",
      "Transform `images_fake` and `labels_fake` to tensors.\n",
      "Fake Images Shape: torch.Size([9191, 3, 128, 128])\n",
      "Fake Labels Shape: torch.Size([9191])\n"
     ]
    }
   ],
   "source": [
    "# Load datasets\n",
    "with h5py.File(DATASET_PATH, \"r\") as f:\n",
    "    images = f[\"images\"][:].astype(float)\n",
    "    labels = f[\"labels\"][:].astype(float)\n",
    "N_all = len(images)\n",
    "print(\"Images and labels loaded.\")\n",
    "print(f\"Images Shape: {images.shape}\")\n",
    "print(f\"Labels Shape: {labels.shape}\")\n",
    "print(\"\")\n",
    "\n",
    "# Load fake datasets\n",
    "with h5py.File(DATASET_FAKE_PATH, \"r\") as f:\n",
    "    images_fake = f[\"images\"][:].astype(float)\n",
    "    labels_fake = f[\"labels\"][:].astype(float)\n",
    "N_fake_all = len(images_fake)\n",
    "print(\"Fake images and labels loaded.\")\n",
    "print(f\"Fake Images Shape: {images_fake.shape}\")\n",
    "print(f\"Fake Labels Shape: {labels_fake.shape}\")\n",
    "\n",
    "# Selection\n",
    "indx = np.where((labels >= MIN_LABEL) * (labels < MAX_LABEL) == True)[0]\n",
    "labels = labels[indx]\n",
    "images = images[indx]\n",
    "print(f\"Select indexes by MIN_LABEL = {MIN_LABEL} and MAX_LABEL = {MAX_LABEL}\")\n",
    "print(f\"Images Shape: {images.shape}\")\n",
    "print(f\"Labels Shape: {labels.shape}\")\n",
    "print(\"\")\n",
    "\n",
    "# Selection fake\n",
    "indx_fake = np.where((labels_fake >= MIN_LABEL) * (labels_fake < MAX_LABEL) == True)[0]\n",
    "labels_fake = labels_fake[indx_fake]\n",
    "images_fake = images_fake[indx_fake]\n",
    "print(f\"Select fake indexes by MIN_LABEL = {MIN_LABEL} and MAX_LABEL = {MAX_LABEL}\")\n",
    "print(f\"Fake Images Shape: {images_fake.shape}\")\n",
    "print(f\"Fake Labels Shape: {labels_fake.shape}\")\n",
    "print(\"\")\n",
    "\n",
    "# To tensor\n",
    "images = torch.from_numpy(images).permute(0, 3, 1, 2)\n",
    "labels = torch.from_numpy(labels)\n",
    "print(\"Transform `images` and `labels` to tensors.\")\n",
    "print(f\"Images Shape: {images.shape}\")\n",
    "print(f\"Labels Shape: {labels.shape}\")\n",
    "\n",
    "# Fake to tensor\n",
    "images_fake = torch.from_numpy(images_fake).permute(0, 3, 1, 2)\n",
    "labels_fake = torch.from_numpy(labels_fake)\n",
    "print(\"Transform `images_fake` and `labels_fake` to tensors.\")\n",
    "print(f\"Fake Images Shape: {images_fake.shape}\")\n",
    "print(f\"Fake Labels Shape: {labels_fake.shape}\")"
   ]
  },
  {
   "cell_type": "markdown",
   "id": "2127b3c6",
   "metadata": {},
   "source": [
    "Then use `train_test_split` function to get data for training and validation."
   ]
  },
  {
   "cell_type": "code",
   "execution_count": 5,
   "id": "2f7d1dd9",
   "metadata": {
    "execution": {
     "iopub.execute_input": "2025-05-29T22:41:03.619772Z",
     "iopub.status.busy": "2025-05-29T22:41:03.619297Z",
     "iopub.status.idle": "2025-05-29T22:41:04.146806Z",
     "shell.execute_reply": "2025-05-29T22:41:04.146206Z"
    }
   },
   "outputs": [],
   "source": [
    "# Train-test split\n",
    "images_train, images_val, labels_train, labels_val = train_test_split(\n",
    "    images, labels, test_size=TEST_SIZE, random_state=SEED\n",
    ")\n",
    "\n",
    "# Set fake as val\n",
    "images_val = images_fake\n",
    "labels_val = labels_fake"
   ]
  },
  {
   "cell_type": "markdown",
   "id": "80321c71",
   "metadata": {},
   "source": [
    "Implement images standardization and labels normalization."
   ]
  },
  {
   "cell_type": "code",
   "execution_count": 6,
   "id": "36982cbb",
   "metadata": {},
   "outputs": [
    {
     "name": "stdout",
     "output_type": "stream",
     "text": [
      "Mean of `images_train`: tensor([[[[ 13.5371]],\n",
      "\n",
      "         [[ 17.8462]],\n",
      "\n",
      "         [[112.1119]]]], dtype=torch.float64)\n",
      "Std of `images_train`: tensor([[[[18.5847]],\n",
      "\n",
      "         [[20.2589]],\n",
      "\n",
      "         [[41.6000]]]], dtype=torch.float64)\n",
      "Train test split with test size 0.2.\n",
      "Images (train) Shape: torch.Size([7353, 3, 128, 128])\n",
      "Images (val) Shape: torch.Size([9191, 3, 128, 128])\n",
      "Labels (train) Shape: torch.Size([7353])\n",
      "Labels (val) Shape: torch.Size([9191])\n"
     ]
    }
   ],
   "source": [
    "# Image standardization\n",
    "mean = images_train.mean(dim=[0, 2, 3], keepdim=True)\n",
    "std = images_train.std(dim=[0, 2, 3], keepdim=True)\n",
    "print(f\"Mean of `images_train`: {mean}\")\n",
    "print(f\"Std of `images_train`: {std}\")\n",
    "images_train = (images_train - mean) / std\n",
    "images_val = (images_val - mean) / std\n",
    "\n",
    "# Label normalization\n",
    "labels_train = (labels_train - MIN_LABEL) / (MAX_LABEL - MIN_LABEL)\n",
    "labels_val = (labels_val - MIN_LABEL) / (MAX_LABEL - MIN_LABEL)\n",
    "\n",
    "print(f\"Train test split with test size {TEST_SIZE}.\")\n",
    "print(f\"Images (train) Shape: {images_train.shape}\")\n",
    "print(f\"Images (val) Shape: {images_val.shape}\")\n",
    "print(f\"Labels (train) Shape: {labels_train.shape}\")\n",
    "print(f\"Labels (val) Shape: {labels_val.shape}\")"
   ]
  },
  {
   "cell_type": "markdown",
   "id": "e5f55f94",
   "metadata": {},
   "source": [
    "Next, we should transform the data to tensors, combine `images` and `labels` to datasets and get dataloaders according to `BATCH_SIZE`."
   ]
  },
  {
   "cell_type": "code",
   "execution_count": 7,
   "id": "51549a4b",
   "metadata": {
    "execution": {
     "iopub.execute_input": "2025-05-29T22:41:04.149042Z",
     "iopub.status.busy": "2025-05-29T22:41:04.148828Z",
     "iopub.status.idle": "2025-05-29T22:41:04.436755Z",
     "shell.execute_reply": "2025-05-29T22:41:04.436267Z"
    }
   },
   "outputs": [
    {
     "name": "stderr",
     "output_type": "stream",
     "text": [
      "/var/folders/j2/1t6mzhh53vb76rvvn6g_yhm80000gn/T/ipykernel_26623/1722485521.py:2: UserWarning: To copy construct from a tensor, it is recommended to use sourceTensor.detach().clone() or sourceTensor.detach().clone().requires_grad_(True), rather than torch.tensor(sourceTensor).\n",
      "  images_train_tensor = torch.tensor(images_train, dtype=torch.float32)\n",
      "/var/folders/j2/1t6mzhh53vb76rvvn6g_yhm80000gn/T/ipykernel_26623/1722485521.py:3: UserWarning: To copy construct from a tensor, it is recommended to use sourceTensor.detach().clone() or sourceTensor.detach().clone().requires_grad_(True), rather than torch.tensor(sourceTensor).\n",
      "  images_val_tensor = torch.tensor(images_val, dtype=torch.float32)\n"
     ]
    },
    {
     "name": "stdout",
     "output_type": "stream",
     "text": [
      "Shape of `images_train_tensor`: torch.Size([7353, 3, 128, 128])\n",
      "Shape of `labels_train_tensor`: torch.Size([7353, 1])\n",
      "Shape of `images_val_tensor`: torch.Size([9191, 3, 128, 128])\n",
      "Shape of `labels_val_tensor`: torch.Size([9191, 1])\n"
     ]
    },
    {
     "name": "stderr",
     "output_type": "stream",
     "text": [
      "/var/folders/j2/1t6mzhh53vb76rvvn6g_yhm80000gn/T/ipykernel_26623/1722485521.py:4: UserWarning: To copy construct from a tensor, it is recommended to use sourceTensor.detach().clone() or sourceTensor.detach().clone().requires_grad_(True), rather than torch.tensor(sourceTensor).\n",
      "  labels_train_tensor = torch.tensor(labels_train, dtype=torch.float32).view(-1, 1)\n",
      "/var/folders/j2/1t6mzhh53vb76rvvn6g_yhm80000gn/T/ipykernel_26623/1722485521.py:5: UserWarning: To copy construct from a tensor, it is recommended to use sourceTensor.detach().clone() or sourceTensor.detach().clone().requires_grad_(True), rather than torch.tensor(sourceTensor).\n",
      "  labels_val_tensor = torch.tensor(labels_val, dtype=torch.float32).view(-1, 1)\n"
     ]
    }
   ],
   "source": [
    "# Change to tensor\n",
    "images_train_tensor = torch.tensor(images_train, dtype=torch.float32)\n",
    "images_val_tensor = torch.tensor(images_val, dtype=torch.float32)\n",
    "labels_train_tensor = torch.tensor(labels_train, dtype=torch.float32).view(-1, 1)\n",
    "labels_val_tensor = torch.tensor(labels_val, dtype=torch.float32).view(-1, 1)\n",
    "print(f\"Shape of `images_train_tensor`: {images_train_tensor.shape}\")\n",
    "print(f\"Shape of `labels_train_tensor`: {labels_train_tensor.shape}\")\n",
    "print(f\"Shape of `images_val_tensor`: {images_val_tensor.shape}\")\n",
    "print(f\"Shape of `labels_val_tensor`: {labels_val_tensor.shape}\")\n",
    "\n",
    "# Tensor's dataset\n",
    "train_dataset = TensorDataset(images_train_tensor, labels_train_tensor)\n",
    "val_dataset = TensorDataset(images_val_tensor, labels_val_tensor)\n",
    "\n",
    "# DataLoader\n",
    "train_loader = DataLoader(train_dataset, batch_size=BATCH_SIZE_TRAIN, shuffle=True)\n",
    "val_loader = DataLoader(val_dataset, batch_size=BATCH_SIZE_VAL)"
   ]
  },
  {
   "cell_type": "markdown",
   "id": "bedc2858",
   "metadata": {},
   "source": [
    "## Step 3 - Load the model\n",
    "\n",
    "To read the saved data, we can run the following codes:"
   ]
  },
  {
   "cell_type": "code",
   "execution_count": 8,
   "id": "1b045a1c",
   "metadata": {
    "execution": {
     "iopub.execute_input": "2025-05-29T23:04:57.620616Z",
     "iopub.status.busy": "2025-05-29T23:04:57.620330Z",
     "iopub.status.idle": "2025-05-29T23:04:57.622700Z",
     "shell.execute_reply": "2025-05-29T23:04:57.622284Z"
    }
   },
   "outputs": [
    {
     "name": "stdout",
     "output_type": "stream",
     "text": [
      "Model loaded from ./models/VGG16_test_size_0.2_epoch_200_batch_size_256_lr_1e-03_seed_42.pth\n",
      "----------------------------------------------------------------\n",
      "        Layer (type)               Output Shape         Param #\n",
      "================================================================\n",
      "            Conv2d-1         [-1, 64, 128, 128]           1,792\n",
      "              ReLU-2         [-1, 64, 128, 128]               0\n",
      "            Conv2d-3         [-1, 64, 128, 128]          36,928\n",
      "              ReLU-4         [-1, 64, 128, 128]               0\n",
      "         MaxPool2d-5           [-1, 64, 64, 64]               0\n",
      "            Conv2d-6          [-1, 128, 64, 64]          73,856\n",
      "              ReLU-7          [-1, 128, 64, 64]               0\n",
      "            Conv2d-8          [-1, 128, 64, 64]         147,584\n",
      "              ReLU-9          [-1, 128, 64, 64]               0\n",
      "        MaxPool2d-10          [-1, 128, 32, 32]               0\n",
      "           Conv2d-11          [-1, 256, 32, 32]         295,168\n",
      "             ReLU-12          [-1, 256, 32, 32]               0\n",
      "           Conv2d-13          [-1, 256, 32, 32]         590,080\n",
      "             ReLU-14          [-1, 256, 32, 32]               0\n",
      "           Conv2d-15          [-1, 256, 32, 32]         590,080\n",
      "             ReLU-16          [-1, 256, 32, 32]               0\n",
      "        MaxPool2d-17          [-1, 256, 16, 16]               0\n",
      "           Conv2d-18          [-1, 512, 16, 16]       1,180,160\n",
      "             ReLU-19          [-1, 512, 16, 16]               0\n",
      "           Conv2d-20          [-1, 512, 16, 16]       2,359,808\n",
      "             ReLU-21          [-1, 512, 16, 16]               0\n",
      "           Conv2d-22          [-1, 512, 16, 16]       2,359,808\n",
      "             ReLU-23          [-1, 512, 16, 16]               0\n",
      "        MaxPool2d-24            [-1, 512, 8, 8]               0\n",
      "           Conv2d-25            [-1, 512, 8, 8]       2,359,808\n",
      "             ReLU-26            [-1, 512, 8, 8]               0\n",
      "           Conv2d-27            [-1, 512, 8, 8]       2,359,808\n",
      "             ReLU-28            [-1, 512, 8, 8]               0\n",
      "           Conv2d-29            [-1, 512, 8, 8]       2,359,808\n",
      "             ReLU-30            [-1, 512, 8, 8]               0\n",
      "        MaxPool2d-31            [-1, 512, 4, 4]               0\n",
      "AdaptiveAvgPool2d-32            [-1, 512, 7, 7]               0\n",
      "           Linear-33                 [-1, 4096]     102,764,544\n",
      "             ReLU-34                 [-1, 4096]               0\n",
      "          Dropout-35                 [-1, 4096]               0\n",
      "           Linear-36                 [-1, 4096]      16,781,312\n",
      "             ReLU-37                 [-1, 4096]               0\n",
      "          Dropout-38                 [-1, 4096]               0\n",
      "           Linear-39                    [-1, 1]           4,097\n",
      "================================================================\n",
      "Total params: 134,264,641\n",
      "Trainable params: 119,549,953\n",
      "Non-trainable params: 14,714,688\n",
      "----------------------------------------------------------------\n",
      "Input size (MB): 0.19\n",
      "Forward/backward pass size (MB): 71.69\n",
      "Params size (MB): 512.18\n",
      "Estimated Total Size (MB): 584.06\n",
      "----------------------------------------------------------------\n"
     ]
    }
   ],
   "source": [
    "# Load the trained model weights\n",
    "vgg16.load_state_dict(torch.load(MODEL_PATH, map_location=device))\n",
    "vgg16.eval()\n",
    "print(\"Model loaded from\", MODEL_PATH)\n",
    "\n",
    "summary(vgg16, input_size=(3, 128, 128))"
   ]
  },
  {
   "cell_type": "markdown",
   "id": "555622cd",
   "metadata": {},
   "source": [
    "## Step 4 - Extract features"
   ]
  },
  {
   "cell_type": "markdown",
   "id": "0a0f4d97",
   "metadata": {},
   "source": [
    "We extract the images' features from the second-to-last layer of the trained VGG16 net."
   ]
  },
  {
   "cell_type": "code",
   "execution_count": null,
   "id": "96b8e85d",
   "metadata": {},
   "outputs": [],
   "source": [
    "# Get features\n",
    "def get_fc2_features(model, batch_images):\n",
    "    features = []\n",
    "    def hook_fn(module, input, output):\n",
    "        features.append(output)\n",
    "    handle = model.classifier[3].register_forward_hook(hook_fn)\n",
    "    model.eval()\n",
    "    with torch.no_grad():\n",
    "        _ = model(batch_images)\n",
    "    handle.remove()\n",
    "    return features[0]\n",
    "\n",
    "# Get features\n",
    "features_val = []\n",
    "for _images, _ in val_loader:\n",
    "    features_val.append(get_fc2_features(vgg16, _images.to(device)).cpu().detach().numpy())\n",
    "features_val = np.concatenate(features_val, axis=0)\n",
    "\n",
    "print(f\"Shape of features of the images for validation: {features_val.shape}\")"
   ]
  },
  {
   "cell_type": "markdown",
   "id": "b4fde114",
   "metadata": {},
   "source": [
    "We use t-SNE algorithm to decrease the features' dimemsion to 2, and plot the 2-dimensional features with gradual colors."
   ]
  },
  {
   "cell_type": "code",
   "execution_count": null,
   "id": "6e13e8bd",
   "metadata": {},
   "outputs": [
    {
     "name": "stdout",
     "output_type": "stream",
     "text": [
      "[[ -419.17825    553.89014 ]\n",
      " [ -177.36572    650.239   ]\n",
      " [ -306.48697    614.7287  ]\n",
      " ...\n",
      " [-1054.0358      29.484306]\n",
      " [-1054.0358      29.484306]\n",
      " [ -112.97637   -717.4599  ]]\n"
     ]
    },
    {
     "data": {
      "image/png": "[encoded data removed]",
      "text/plain": [
       "<Figure size 800x600 with 2 Axes>"
      ]
     },
     "metadata": {},
     "output_type": "display_data"
    }
   ],
   "source": [
    "# Turn to `numpy.array`\n",
    "labels_val_real = labels_val.numpy()\n",
    "labels_val_predicted = []\n",
    "for _images_val_tensor, _labels_val_tensor in val_loader:\n",
    "    preds = vgg16(_images_val_tensor.to(device)).cpu().detach().numpy()\n",
    "    labels_val_predicted.append(preds)\n",
    "labels_val_predicted = np.concatenate(labels_val_predicted, axis=0)\n",
    "\n",
    "# Unnormalize labels\n",
    "labels_val_real = labels_val_real * (MAX_LABEL - MIN_LABEL) + MIN_LABEL\n",
    "labels_val_predicted = labels_val_predicted * (MAX_LABEL - MIN_LABEL) + MIN_LABEL\n",
    "\n",
    "# Turn to `pandas.Series`\n",
    "labels_val_real = pd.Series(labels_val_real)\n",
    "labels_val_predicted = pd.Series(labels_val_predicted.flatten())\n",
    "labels_val_diff = labels_val_predicted - labels_val_real\n",
    "\n",
    "# t-SNE\n",
    "tsne = TSNE(n_components=2, random_state=SEED)\n",
    "reduced_tsne = tsne.fit_transform(features_val)\n",
    "print(reduced_tsne)\n",
    "\n",
    "# Plot 2-dim features\n",
    "plt.figure(figsize=(8, 6))\n",
    "plt.scatter(reduced_tsne[:, 0], reduced_tsne[:, 1], c=labels_val_real, cmap='viridis', s=10)\n",
    "plt.colorbar(label='Real Label')\n",
    "plt.title('t-SNE of VGG16 FC2 Features (Validation Set)')\n",
    "plt.xlabel('t-SNE 1')\n",
    "plt.ylabel('t-SNE 2')\n",
    "plt.savefig(IMAGE_PATH)\n",
    "plt.show()"
   ]
  },
  {
   "cell_type": "markdown",
   "id": "f3159f06",
   "metadata": {},
   "source": [
    "## Exceptional test\n",
    "\n",
    "Let's see if the model works well."
   ]
  },
  {
   "cell_type": "code",
   "execution_count": null,
   "id": "5178524e",
   "metadata": {
    "execution": {
     "iopub.execute_input": "2025-05-29T23:04:57.624557Z",
     "iopub.status.busy": "2025-05-29T23:04:57.624291Z",
     "iopub.status.idle": "2025-05-29T23:04:59.854656Z",
     "shell.execute_reply": "2025-05-29T23:04:59.854195Z"
    }
   },
   "outputs": [
    {
     "name": "stdout",
     "output_type": "stream",
     "text": [
      "      Real Labels  Predicted Labels      Diff      MAPE\n",
      "0        1.300000          2.509999  1.209999  0.069232\n",
      "1        1.300424          2.509999  1.209574  0.069862\n",
      "2        1.300849          2.509999  1.209150  0.070491\n",
      "3        1.301273          2.509999  1.208726  0.071120\n",
      "4        1.301697          2.509999  1.208301  0.071749\n",
      "...           ...               ...       ...       ...\n",
      "9186     5.197878          2.509999 -2.687880  0.482889\n",
      "9187     5.198303          2.509999 -2.688304  0.482850\n",
      "9188     5.198727          2.509999 -2.688728  0.482810\n",
      "9189     5.199151          2.509999 -2.689153  0.482771\n",
      "9190     5.199576          2.510292 -2.689284  0.482788\n",
      "\n",
      "[9191 rows x 4 columns]\n",
      "MAPE: 0.6658359542776325\n"
     ]
    },
    {
     "data": {
      "image/png": "[encoded data removed]",
      "text/plain": [
       "<Figure size 640x480 with 1 Axes>"
      ]
     },
     "metadata": {},
     "output_type": "display_data"
    },
    {
     "data": {
      "image/png": "[encoded data removed]",
      "text/plain": [
       "<Figure size 640x480 with 1 Axes>"
      ]
     },
     "metadata": {},
     "output_type": "display_data"
    }
   ],
   "source": [
    "# Make `pandas.DataFrame`\n",
    "df = pd.DataFrame(\n",
    "    {\n",
    "        \"Real Labels\": labels_val_real,\n",
    "        \"Predicted Labels\": labels_val_predicted,\n",
    "        \"Diff\": labels_val_diff,\n",
    "        \"MAPE\": 1 - np.abs(labels_val_diff) / labels_val_real\n",
    "    }\n",
    ")\n",
    "df.to_csv(OUTPUT_PATH, index = False)\n",
    "print(df)\n",
    "print(f\"MAPE: {df[\"MAPE\"].mean()}\")\n",
    "\n",
    "# Boxplot of the differences\n",
    "plt.boxplot(labels_val_diff)\n",
    "plt.ylabel(\"Prediction Error (Predicted - Real)\")\n",
    "plt.title(\"Boxplot of Prediction Errors\")\n",
    "plt.show()\n",
    "\n",
    "# Plot the differences by the real labels.\n",
    "plt.scatter(labels_val_real, labels_val_diff, s=10)\n",
    "plt.xlabel(\"Real Labels\")\n",
    "plt.ylabel(\"Prediction Error (Predicted - Real)\")\n",
    "plt.title(\"Prediction Error vs Real Labels\")\n",
    "plt.axhline(0, color=\"red\", linestyle=\"--\", linewidth=1)\n",
    "plt.show()"
   ]
  }
 ],
 "metadata": {
  "kernelspec": {
   "display_name": "2025-04-23_macOS",
   "language": "python",
   "name": "python3"
  },
  "language_info": {
   "codemirror_mode": {
    "name": "ipython",
    "version": 3
   },
   "file_extension": ".py",
   "mimetype": "text/x-python",
   "name": "python",
   "nbconvert_exporter": "python",
   "pygments_lexer": "ipython3",
   "version": "3.12.9"
  }
 },
 "nbformat": 4,
 "nbformat_minor": 5
}
