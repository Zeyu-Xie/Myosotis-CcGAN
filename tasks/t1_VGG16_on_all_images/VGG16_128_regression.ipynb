{
 "cells": [
  {
   "cell_type": "markdown",
   "id": "05bee791",
   "metadata": {},
   "source": [
    "# VGG\n",
    "\n",
    "This notebook uses model \"VGG16\" to conduct regression of images."
   ]
  },
  {
   "cell_type": "code",
   "execution_count": 1,
   "id": "9c623ed7",
   "metadata": {
    "execution": {
     "iopub.execute_input": "2025-06-18T09:18:18.036677Z",
     "iopub.status.busy": "2025-06-18T09:18:18.036474Z",
     "iopub.status.idle": "2025-06-18T09:18:21.400255Z",
     "shell.execute_reply": "2025-06-18T09:18:21.399726Z"
    }
   },
   "outputs": [],
   "source": [
    "import h5py\n",
    "from matplotlib import pyplot as plt\n",
    "import numpy as np\n",
    "import os\n",
    "import pandas as pd\n",
    "from sklearn.model_selection import train_test_split\n",
    "import torch\n",
    "import torch.nn as nn\n",
    "import torch.optim as optim\n",
    "from torch.utils.data import TensorDataset, DataLoader\n",
    "from torchvision import models"
   ]
  },
  {
   "cell_type": "markdown",
   "id": "28904883",
   "metadata": {},
   "source": [
    "## Step 1 - Config\n",
    "\n",
    "First set the hyperparameters and other configurations."
   ]
  },
  {
   "cell_type": "code",
   "execution_count": 2,
   "id": "33cb27b0",
   "metadata": {
    "execution": {
     "iopub.execute_input": "2025-06-18T09:18:21.402839Z",
     "iopub.status.busy": "2025-06-18T09:18:21.402414Z",
     "iopub.status.idle": "2025-06-18T09:18:21.535576Z",
     "shell.execute_reply": "2025-06-18T09:18:21.535065Z"
    }
   },
   "outputs": [
    {
     "name": "stdout",
     "output_type": "stream",
     "text": [
      "Device: cuda\n"
     ]
    }
   ],
   "source": [
    "# Dataset and model path\n",
    "DATASET_PATH = \"./datasets/Ra_128_indexed.h5\"\n",
    "MODEL_DIR = \"./models\"\n",
    "OUTPUT_DIR = \"./outputs\"\n",
    "# Env\n",
    "SEED = 42\n",
    "# Dataset\n",
    "MIN_LABEL = 1.3\n",
    "MAX_LABEL = 5.2\n",
    "# Hyperparameters\n",
    "NUM_EPOCHS = 10\n",
    "LR = 1e-3\n",
    "LR_WEIGHT_DECAY = 1e-4\n",
    "TEST_SIZE = 0.5\n",
    "BATCH_SIZE_TRAIN = 256\n",
    "BATCH_SIZE_VAL = 10\n",
    "\n",
    "# Device\n",
    "device = torch.device(\"cuda\" if torch.cuda.is_available() else \"cpu\")\n",
    "print(f\"Device: {device}\")\n",
    "\n",
    "# Path\n",
    "if not os.path.exists(MODEL_DIR):\n",
    "    os.makedirs(MODEL_DIR, exist_ok=True)\n",
    "    print(f\"Make new directory {MODEL_DIR}\")\n",
    "if not os.path.exists(OUTPUT_DIR):\n",
    "    os.makedirs(OUTPUT_DIR, exist_ok=True)\n",
    "    print(f\"Make new directory {OUTPUT_DIR}\")\n",
    "MODEL_PATH = f\"{MODEL_DIR}/VGG16_test_size_{TEST_SIZE}_epoch_{NUM_EPOCHS}_batch_size_{BATCH_SIZE_TRAIN}_lr_{LR:.0e}_seed_{SEED}.pth\"\n",
    "OUTPUT_PATH = f\"{OUTPUT_DIR}/VGG16_test_size_{TEST_SIZE}_epoch_{NUM_EPOCHS}_batch_size_{BATCH_SIZE_TRAIN}_lr_{LR:.0e}_seed_{SEED}.csv\""
   ]
  },
  {
   "cell_type": "markdown",
   "id": "6d7ff1c7",
   "metadata": {},
   "source": [
    "Then load the pretrained model from `torchvision`."
   ]
  },
  {
   "cell_type": "code",
   "execution_count": 3,
   "id": "b8b13a96",
   "metadata": {
    "execution": {
     "iopub.execute_input": "2025-06-18T09:18:21.537788Z",
     "iopub.status.busy": "2025-06-18T09:18:21.537499Z",
     "iopub.status.idle": "2025-06-18T09:18:23.044638Z",
     "shell.execute_reply": "2025-06-18T09:18:23.044123Z"
    }
   },
   "outputs": [
    {
     "name": "stderr",
     "output_type": "stream",
     "text": [
      "/opt/pytorch/lib/python3.12/site-packages/torchvision/models/_utils.py:208: UserWarning: The parameter 'pretrained' is deprecated since 0.13 and may be removed in the future, please use 'weights' instead.\n",
      "  warnings.warn(\n",
      "/opt/pytorch/lib/python3.12/site-packages/torchvision/models/_utils.py:223: UserWarning: Arguments other than a weight enum or `None` for 'weights' are deprecated since 0.13 and may be removed in the future. The current behavior is equivalent to passing `weights=VGG16_Weights.IMAGENET1K_V1`. You can also use `weights=VGG16_Weights.DEFAULT` to get the most up-to-date weights.\n",
      "  warnings.warn(msg)\n"
     ]
    }
   ],
   "source": [
    "# Pretrained VGG16 model\n",
    "vgg16 = models.vgg16(pretrained=True)\n",
    "\n",
    "# Change the last layer to fit the regression task\n",
    "vgg16.classifier[-1] = nn.Linear(in_features=4096, out_features=1)\n",
    "\n",
    "# Choose to freeze the layers or not\n",
    "for param in vgg16.features.parameters():\n",
    "    param.requires_grad = False\n",
    "\n",
    "# Move to the appropriate device\n",
    "vgg16 = vgg16.to(device)"
   ]
  },
  {
   "cell_type": "markdown",
   "id": "4b3b175c",
   "metadata": {},
   "source": [
    "## Step 2 - Load data\n",
    "\n",
    "In this step we load the images and process them, the goal is to get `train_loader` and `val_loader` for training. After this step we will get:\n",
    "\n",
    "1. `images_train` and `images_val` (4 dim tensor)\n",
    "2. `labels_train` and `labels_val` (1 dim tensor)\n",
    "3. `train_dataset` and `val_dataset` (dataset)\n",
    "4. `train_loader` and `val_loader` (dataloader)\n",
    "\n",
    "First we load the images (`images`) and labels (`labels`)."
   ]
  },
  {
   "cell_type": "code",
   "execution_count": 4,
   "id": "bc9be499",
   "metadata": {
    "execution": {
     "iopub.execute_input": "2025-06-18T09:18:23.047037Z",
     "iopub.status.busy": "2025-06-18T09:18:23.046754Z",
     "iopub.status.idle": "2025-06-18T09:18:24.288886Z",
     "shell.execute_reply": "2025-06-18T09:18:24.288341Z"
    }
   },
   "outputs": [
    {
     "name": "stdout",
     "output_type": "stream",
     "text": [
      "Images and labels loaded.\n",
      "Images Shape: (9192, 128, 128, 3)\n",
      "Labels Shape: (9192,)\n",
      "\n",
      "Select indexes by MIN_LABEL = 1.3 and MAX_LABEL = 5.2\n",
      "Images Shape: (9192, 128, 128, 3)\n",
      "Labels Shape: (9192,)\n",
      "\n",
      "Transform `images` and `labels` to tensors.\n",
      "Images Shape: torch.Size([9192, 3, 128, 128])\n",
      "Labels Shape: torch.Size([9192])\n"
     ]
    }
   ],
   "source": [
    "# Load datasets\n",
    "with h5py.File(DATASET_PATH, \"r\") as f:\n",
    "    images = f[\"images\"][:].astype(float)\n",
    "    labels = f[\"labels\"][:].astype(float)\n",
    "N_all = len(images)\n",
    "print(\"Images and labels loaded.\")\n",
    "print(f\"Images Shape: {images.shape}\")\n",
    "print(f\"Labels Shape: {labels.shape}\")\n",
    "print(\"\")\n",
    "\n",
    "# Selection\n",
    "indx = np.where((labels >= MIN_LABEL) * (labels < MAX_LABEL) == True)[0]\n",
    "labels = labels[indx]\n",
    "images = images[indx]\n",
    "print(f\"Select indexes by MIN_LABEL = {MIN_LABEL} and MAX_LABEL = {MAX_LABEL}\")\n",
    "print(f\"Images Shape: {images.shape}\")\n",
    "print(f\"Labels Shape: {labels.shape}\")\n",
    "print(\"\")\n",
    "\n",
    "# To tensor\n",
    "images = torch.from_numpy(images).permute(0, 3, 1, 2)\n",
    "labels = torch.from_numpy(labels)\n",
    "print(\"Transform `images` and `labels` to tensors.\")\n",
    "print(f\"Images Shape: {images.shape}\")\n",
    "print(f\"Labels Shape: {labels.shape}\")"
   ]
  },
  {
   "cell_type": "markdown",
   "id": "2127b3c6",
   "metadata": {},
   "source": [
    "Then use `train_test_split` function to get data for training and validation."
   ]
  },
  {
   "cell_type": "code",
   "execution_count": 5,
   "id": "2f7d1dd9",
   "metadata": {
    "execution": {
     "iopub.execute_input": "2025-06-18T09:18:24.291038Z",
     "iopub.status.busy": "2025-06-18T09:18:24.290773Z",
     "iopub.status.idle": "2025-06-18T09:18:24.819061Z",
     "shell.execute_reply": "2025-06-18T09:18:24.818460Z"
    }
   },
   "outputs": [],
   "source": [
    "# Train-test split\n",
    "images_train, images_val, labels_train, labels_val = train_test_split(\n",
    "    images, labels, test_size=TEST_SIZE, random_state=SEED\n",
    ")"
   ]
  },
  {
   "cell_type": "markdown",
   "id": "479b686b",
   "metadata": {},
   "source": [
    "Implement images standardization and labels normalization."
   ]
  },
  {
   "cell_type": "code",
   "execution_count": 6,
   "id": "1ec75f9b",
   "metadata": {
    "execution": {
     "iopub.execute_input": "2025-06-18T09:18:24.821412Z",
     "iopub.status.busy": "2025-06-18T09:18:24.821229Z",
     "iopub.status.idle": "2025-06-18T09:18:27.811288Z",
     "shell.execute_reply": "2025-06-18T09:18:27.810718Z"
    }
   },
   "outputs": [
    {
     "name": "stdout",
     "output_type": "stream",
     "text": [
      "Mean of `images_train`: tensor([[[[ 13.6506]],\n",
      "\n",
      "         [[ 17.8427]],\n",
      "\n",
      "         [[112.0481]]]], dtype=torch.float64)\n",
      "Std of `images_train`: tensor([[[[18.6748]],\n",
      "\n",
      "         [[20.2556]],\n",
      "\n",
      "         [[41.5851]]]], dtype=torch.float64)\n",
      "Train test split with test size 0.5.\n",
      "Images (train) Shape: torch.Size([4596, 3, 128, 128])\n",
      "Images (val) Shape: torch.Size([4596, 3, 128, 128])\n",
      "Labels (train) Shape: torch.Size([4596])\n",
      "Labels (val) Shape: torch.Size([4596])\n"
     ]
    }
   ],
   "source": [
    "# Image standardization\n",
    "mean = images_train.mean(dim=[0, 2, 3], keepdim=True)\n",
    "std = images_train.std(dim=[0, 2, 3], keepdim=True)\n",
    "print(f\"Mean of `images_train`: {mean}\")\n",
    "print(f\"Std of `images_train`: {std}\")\n",
    "images_train = (images_train - mean) / std\n",
    "images_val = (images_val - mean) / std\n",
    "\n",
    "# Label normalization\n",
    "labels_train = (labels_train - MIN_LABEL) / (MAX_LABEL - MIN_LABEL)\n",
    "labels_val = (labels_val - MIN_LABEL) / (MAX_LABEL - MIN_LABEL)\n",
    "\n",
    "print(f\"Train test split with test size {TEST_SIZE}.\")\n",
    "print(f\"Images (train) Shape: {images_train.shape}\")\n",
    "print(f\"Images (val) Shape: {images_val.shape}\")\n",
    "print(f\"Labels (train) Shape: {labels_train.shape}\")\n",
    "print(f\"Labels (val) Shape: {labels_val.shape}\")"
   ]
  },
  {
   "cell_type": "markdown",
   "id": "e5f55f94",
   "metadata": {},
   "source": [
    "Next, we should transform the data to tensors, combine `images` and `labels` to datasets and get dataloaders according to `BATCH_SIZE`."
   ]
  },
  {
   "cell_type": "code",
   "execution_count": 7,
   "id": "51549a4b",
   "metadata": {
    "execution": {
     "iopub.execute_input": "2025-06-18T09:18:27.813481Z",
     "iopub.status.busy": "2025-06-18T09:18:27.813042Z",
     "iopub.status.idle": "2025-06-18T09:18:28.097214Z",
     "shell.execute_reply": "2025-06-18T09:18:28.096636Z"
    }
   },
   "outputs": [
    {
     "name": "stderr",
     "output_type": "stream",
     "text": [
      "/tmp/ipykernel_21772/1722485521.py:2: UserWarning: To copy construct from a tensor, it is recommended to use sourceTensor.detach().clone() or sourceTensor.detach().clone().requires_grad_(True), rather than torch.tensor(sourceTensor).\n",
      "  images_train_tensor = torch.tensor(images_train, dtype=torch.float32)\n",
      "/tmp/ipykernel_21772/1722485521.py:3: UserWarning: To copy construct from a tensor, it is recommended to use sourceTensor.detach().clone() or sourceTensor.detach().clone().requires_grad_(True), rather than torch.tensor(sourceTensor).\n",
      "  images_val_tensor = torch.tensor(images_val, dtype=torch.float32)\n"
     ]
    },
    {
     "name": "stdout",
     "output_type": "stream",
     "text": [
      "Shape of `images_train_tensor`: torch.Size([4596, 3, 128, 128])\n",
      "Shape of `labels_train_tensor`: torch.Size([4596, 1])\n",
      "Shape of `images_val_tensor`: torch.Size([4596, 3, 128, 128])\n",
      "Shape of `labels_val_tensor`: torch.Size([4596, 1])\n"
     ]
    },
    {
     "name": "stderr",
     "output_type": "stream",
     "text": [
      "/tmp/ipykernel_21772/1722485521.py:4: UserWarning: To copy construct from a tensor, it is recommended to use sourceTensor.detach().clone() or sourceTensor.detach().clone().requires_grad_(True), rather than torch.tensor(sourceTensor).\n",
      "  labels_train_tensor = torch.tensor(labels_train, dtype=torch.float32).view(-1, 1)\n",
      "/tmp/ipykernel_21772/1722485521.py:5: UserWarning: To copy construct from a tensor, it is recommended to use sourceTensor.detach().clone() or sourceTensor.detach().clone().requires_grad_(True), rather than torch.tensor(sourceTensor).\n",
      "  labels_val_tensor = torch.tensor(labels_val, dtype=torch.float32).view(-1, 1)\n"
     ]
    }
   ],
   "source": [
    "# Change to tensor\n",
    "images_train_tensor = torch.tensor(images_train, dtype=torch.float32)\n",
    "images_val_tensor = torch.tensor(images_val, dtype=torch.float32)\n",
    "labels_train_tensor = torch.tensor(labels_train, dtype=torch.float32).view(-1, 1)\n",
    "labels_val_tensor = torch.tensor(labels_val, dtype=torch.float32).view(-1, 1)\n",
    "print(f\"Shape of `images_train_tensor`: {images_train_tensor.shape}\")\n",
    "print(f\"Shape of `labels_train_tensor`: {labels_train_tensor.shape}\")\n",
    "print(f\"Shape of `images_val_tensor`: {images_val_tensor.shape}\")\n",
    "print(f\"Shape of `labels_val_tensor`: {labels_val_tensor.shape}\")\n",
    "\n",
    "# Tensor's dataset\n",
    "train_dataset = TensorDataset(images_train_tensor, labels_train_tensor)\n",
    "val_dataset = TensorDataset(images_val_tensor, labels_val_tensor)\n",
    "\n",
    "# DataLoader\n",
    "train_loader = DataLoader(train_dataset, batch_size=BATCH_SIZE_TRAIN, shuffle=True)\n",
    "val_loader = DataLoader(val_dataset, batch_size=BATCH_SIZE_VAL)"
   ]
  },
  {
   "cell_type": "markdown",
   "id": "ce4ea102",
   "metadata": {},
   "source": [
    "## Step 3 - Train"
   ]
  },
  {
   "cell_type": "markdown",
   "id": "534bdeac",
   "metadata": {},
   "source": [
    "Start training for `epoch` loops, record the training losses and validation losses."
   ]
  },
  {
   "cell_type": "code",
   "execution_count": 8,
   "id": "c0161423",
   "metadata": {
    "execution": {
     "iopub.execute_input": "2025-06-18T09:18:28.099588Z",
     "iopub.status.busy": "2025-06-18T09:18:28.099121Z",
     "iopub.status.idle": "2025-06-18T09:54:10.995163Z",
     "shell.execute_reply": "2025-06-18T09:54:10.994623Z"
    }
   },
   "outputs": [
    {
     "name": "stdout",
     "output_type": "stream",
     "text": [
      "[Epoch 1 / 10] [Train Loss 2.356644 (MSE)] [Valid Loss 0.063842 (MSE)] [Learning Rate: 0.001]\n",
      "[Epoch 2 / 10] [Train Loss 0.178717 (MSE)] [Valid Loss 0.056522 (MSE)] [Learning Rate: 0.001]\n",
      "[Epoch 3 / 10] [Train Loss 0.067176 (MSE)] [Valid Loss 0.046281 (MSE)] [Learning Rate: 0.001]\n",
      "[Epoch 4 / 10] [Train Loss 0.063373 (MSE)] [Valid Loss 0.031190 (MSE)] [Learning Rate: 0.001]\n",
      "[Epoch 5 / 10] [Train Loss 0.048507 (MSE)] [Valid Loss 0.023035 (MSE)] [Learning Rate: 0.001]\n",
      "[Epoch 6 / 10] [Train Loss 0.051011 (MSE)] [Valid Loss 0.038140 (MSE)] [Learning Rate: 0.001]\n",
      "[Epoch 7 / 10] [Train Loss 0.045955 (MSE)] [Valid Loss 0.027874 (MSE)] [Learning Rate: 0.001]\n",
      "[Epoch 8 / 10] [Train Loss 0.063648 (MSE)] [Valid Loss 0.028997 (MSE)] [Learning Rate: 0.001]\n",
      "[Epoch 9 / 10] [Train Loss 0.043315 (MSE)] [Valid Loss 0.021322 (MSE)] [Learning Rate: 0.001]\n",
      "[Epoch 10 / 10] [Train Loss 0.038826 (MSE)] [Valid Loss 0.020292 (MSE)] [Learning Rate: 0.001]\n"
     ]
    }
   ],
   "source": [
    "# Criterion and optimizer\n",
    "criterion = nn.MSELoss()\n",
    "optimizer = optim.Adam(\n",
    "    vgg16.classifier.parameters(), lr=LR, weight_decay=LR_WEIGHT_DECAY\n",
    ")\n",
    "scheduler = torch.optim.lr_scheduler.ReduceLROnPlateau(\n",
    "    optimizer, mode=\"min\", factor=0.5, patience=5\n",
    ")\n",
    "\n",
    "# Record the loss values\n",
    "train_loss_list = []\n",
    "val_loss_list = []\n",
    "\n",
    "# Loop by epoch\n",
    "for epoch in range(NUM_EPOCHS):\n",
    "\n",
    "    # Train\n",
    "    vgg16.train()\n",
    "    train_loss = 0.0\n",
    "    train_size = 0\n",
    "    for batch_images, batch_labels in train_loader:\n",
    "        # Load data\n",
    "        batch_images = batch_images.to(device)\n",
    "        batch_labels = batch_labels.to(device)\n",
    "        # Pass loss value\n",
    "        outputs = vgg16(batch_images)\n",
    "        loss = criterion(outputs, batch_labels)\n",
    "        # Back propagation\n",
    "        optimizer.zero_grad()\n",
    "        loss.backward()\n",
    "        optimizer.step()\n",
    "        # Add to the total loss\n",
    "        batch_size = batch_images.size(0)\n",
    "        train_loss += loss.item() * batch_size\n",
    "        train_size += batch_size\n",
    "\n",
    "    train_loss = train_loss / train_size\n",
    "    train_loss_list.append(train_loss)\n",
    "\n",
    "    # Validate\n",
    "    vgg16.eval()\n",
    "    val_loss = 0\n",
    "    val_samples = 0\n",
    "    with torch.no_grad():\n",
    "        for batch_images, batch_labels in val_loader:\n",
    "            # Load data\n",
    "            batch_images = batch_images.to(device)\n",
    "            batch_labels = batch_labels.to(device)\n",
    "            # Output\n",
    "            outputs = vgg16(batch_images)\n",
    "            # Calculate loss\n",
    "            loss = criterion(outputs, batch_labels)\n",
    "            # Add to total loss\n",
    "            batch_size = batch_images.size(0)\n",
    "            val_loss += loss.item() * batch_size\n",
    "            val_samples += batch_size\n",
    "    val_loss /= val_samples\n",
    "    val_loss_list.append(val_loss)\n",
    "\n",
    "    # Print\n",
    "    print(\n",
    "        f\"[Epoch {(epoch+1):d} / {(NUM_EPOCHS):d}] [Train Loss {train_loss:f} (MSE)] [Valid Loss {val_loss:f} (MSE)] [Learning Rate: {optimizer.param_groups[0]['lr']}]\"\n",
    "    )\n",
    "\n",
    "    # Scheduler\n",
    "    scheduler.step(val_loss)"
   ]
  },
  {
   "cell_type": "markdown",
   "id": "7cf24633",
   "metadata": {},
   "source": [
    "Then we plot the graphs of `train_loss_list` and `val_loss_lost`."
   ]
  },
  {
   "cell_type": "code",
   "execution_count": 9,
   "id": "f06a4e35",
   "metadata": {
    "execution": {
     "iopub.execute_input": "2025-06-18T09:54:10.997075Z",
     "iopub.status.busy": "2025-06-18T09:54:10.996901Z",
     "iopub.status.idle": "2025-06-18T09:54:11.109292Z",
     "shell.execute_reply": "2025-06-18T09:54:11.108776Z"
    }
   },
   "outputs": [
    {
     "data": {
      "image/png": "[encoded data removed]",
      "text/plain": [
       "<Figure size 640x480 with 1 Axes>"
      ]
     },
     "metadata": {},
     "output_type": "display_data"
    }
   ],
   "source": [
    "x = list(range(NUM_EPOCHS))\n",
    "plt.plot(x, train_loss_list, label=\"Train Loss\", marker=\".\")\n",
    "plt.plot(x, val_loss_list, label=\"Val Loss\", marker=\".\")\n",
    "plt.xlabel(\"Epoch\")\n",
    "plt.ylabel(\"Loss\")\n",
    "plt.title(\"Training and Validation Loss\")\n",
    "plt.legend()\n",
    "plt.show()"
   ]
  },
  {
   "cell_type": "markdown",
   "id": "bedc2858",
   "metadata": {},
   "source": [
    "## Step 4 - Save / load the model\n",
    "\n",
    "After training, we need to save the models."
   ]
  },
  {
   "cell_type": "code",
   "execution_count": 10,
   "id": "75c4022d",
   "metadata": {
    "execution": {
     "iopub.execute_input": "2025-06-18T09:54:11.111277Z",
     "iopub.status.busy": "2025-06-18T09:54:11.111081Z",
     "iopub.status.idle": "2025-06-18T09:54:15.326129Z",
     "shell.execute_reply": "2025-06-18T09:54:15.325615Z"
    }
   },
   "outputs": [
    {
     "name": "stdout",
     "output_type": "stream",
     "text": [
      "Model saved to ./models/VGG16_test_size_0.5_epoch_10_batch_size_256_lr_1e-03_seed_42.pth\n"
     ]
    }
   ],
   "source": [
    "# Save the trained model to disk\n",
    "torch.save(vgg16.state_dict(), MODEL_PATH)\n",
    "print(f\"Model saved to {MODEL_PATH}\")"
   ]
  },
  {
   "cell_type": "markdown",
   "id": "814f9e3d",
   "metadata": {},
   "source": [
    "To read the saved data, we can run the following codes:"
   ]
  },
  {
   "cell_type": "code",
   "execution_count": 11,
   "id": "1b045a1c",
   "metadata": {
    "execution": {
     "iopub.execute_input": "2025-06-18T09:54:15.334877Z",
     "iopub.status.busy": "2025-06-18T09:54:15.334581Z",
     "iopub.status.idle": "2025-06-18T09:54:15.337227Z",
     "shell.execute_reply": "2025-06-18T09:54:15.336752Z"
    }
   },
   "outputs": [],
   "source": [
    "# # Load the trained model weights\n",
    "# vgg16.load_state_dict(torch.load(MODEL_PATH, map_location=device))\n",
    "# vgg16.eval()\n",
    "# print(\"Model loaded from\", MODEL_PATH)"
   ]
  },
  {
   "cell_type": "markdown",
   "id": "f3159f06",
   "metadata": {},
   "source": [
    "## Exceptional test\n",
    "\n",
    "Let's see if the model works well."
   ]
  },
  {
   "cell_type": "code",
   "execution_count": null,
   "id": "5178524e",
   "metadata": {
    "execution": {
     "iopub.execute_input": "2025-06-18T09:54:15.339085Z",
     "iopub.status.busy": "2025-06-18T09:54:15.338828Z",
     "iopub.status.idle": "2025-06-18T09:54:17.564062Z",
     "shell.execute_reply": "2025-06-18T09:54:17.563571Z"
    }
   },
   "outputs": [
    {
     "name": "stdout",
     "output_type": "stream",
     "text": [
      "Model loaded from ./models/VGG16_test_size_0.5_epoch_10_batch_size_256_lr_1e-03_seed_42.pth\n",
      "      Real Labels  Predicted Labels      Diff      MAPE\n",
      "0           1.746          2.013458  0.267458  0.846817\n",
      "1           2.695          2.546810 -0.148190  0.945013\n",
      "2           1.816          2.019623  0.203623  0.887873\n",
      "3           2.354          2.278820 -0.075180  0.968063\n",
      "4           3.901          2.979115 -0.921885  0.763680\n",
      "...           ...               ...       ...       ...\n",
      "4591        3.492          2.909087 -0.582913  0.833072\n",
      "4592        2.895          2.193072 -0.701928  0.757538\n",
      "4593        2.860          2.775787 -0.084213  0.970555\n",
      "4594        3.956          3.229743 -0.726257  0.816416\n",
      "4595        2.203          2.074244 -0.128756  0.941554\n",
      "\n",
      "[4596 rows x 4 columns]\n",
      "MAPE: 0.848003849064232\n"
     ]
    },
    {
     "data": {
      "image/png": "[encoded data removed]",
      "text/plain": [
       "<Figure size 640x480 with 1 Axes>"
      ]
     },
     "metadata": {},
     "output_type": "display_data"
    },
    {
     "data": {
      "image/png": "[encoded data removed]",
      "text/plain": [
       "<Figure size 640x480 with 1 Axes>"
      ]
     },
     "metadata": {},
     "output_type": "display_data"
    },
    {
     "ename": "",
     "evalue": "",
     "output_type": "error",
     "traceback": [
      "\u001b[1;31mThe Kernel crashed while executing code in the current cell or a previous cell. \n",
      "\u001b[1;31mPlease review the code in the cell(s) to identify a possible cause of the failure. \n",
      "\u001b[1;31mClick <a href='https://aka.ms/vscodeJupyterKernelCrash'>here</a> for more info. \n",
      "\u001b[1;31mView Jupyter <a href='command:jupyter.viewOutput'>log</a> for further details."
     ]
    }
   ],
   "source": [
    "# Load the trained model weights\n",
    "vgg16.load_state_dict(torch.load(MODEL_PATH, map_location=device))\n",
    "vgg16.eval()\n",
    "print(\"Model loaded from\", MODEL_PATH)\n",
    "\n",
    "# Turn to `numpy.array`\n",
    "labels_val_real = labels_val.numpy()\n",
    "labels_val_predicted = []\n",
    "for _images_val_tensor, _labels_val_tensor in val_loader:\n",
    "    preds = vgg16(_images_val_tensor.to(device)).cpu().detach().numpy()\n",
    "    labels_val_predicted.append(preds)\n",
    "labels_val_predicted = np.concatenate(labels_val_predicted, axis=0)\n",
    "\n",
    "# Unnormalize labels\n",
    "labels_val_real = labels_val_real * (MAX_LABEL - MIN_LABEL) + MIN_LABEL\n",
    "labels_val_predicted = labels_val_predicted * (MAX_LABEL - MIN_LABEL) + MIN_LABEL\n",
    "\n",
    "# Turn to `pandas.Series`\n",
    "labels_val_real = pd.Series(labels_val_real)\n",
    "labels_val_predicted = pd.Series(labels_val_predicted.flatten())\n",
    "labels_val_diff = labels_val_predicted - labels_val_real\n",
    "\n",
    "# Make `pandas.DataFrame`\n",
    "df = pd.DataFrame(\n",
    "    {\n",
    "        \"Real Labels\": labels_val_real,\n",
    "        \"Predicted Labels\": labels_val_predicted,\n",
    "        \"Diff\": labels_val_diff,\n",
    "        \"MAPE\": 1 - np.abs(labels_val_diff) / labels_val_real\n",
    "    }\n",
    ")\n",
    "df.to_csv(OUTPUT_PATH, index = False)\n",
    "print(df)\n",
    "print(f\"MAPE: {df[\"MAPE\"].mean()}\")\n",
    "\n",
    "# Boxplot of the differences\n",
    "plt.boxplot(labels_val_diff)\n",
    "plt.ylabel(\"Prediction Error (Predicted - Real)\")\n",
    "plt.title(\"Boxplot of Prediction Errors\")\n",
    "plt.show()\n",
    "\n",
    "# Plot the differences by the real labels.\n",
    "plt.scatter(labels_val_real, labels_val_diff, s=10)\n",
    "plt.xlabel(\"Real Labels\")\n",
    "plt.ylabel(\"Prediction Error (Predicted - Real)\")\n",
    "plt.title(\"Prediction Error vs Real Labels\")\n",
    "plt.axhline(0, color=\"red\", linestyle=\"--\", linewidth=1)\n",
    "plt.show()"
   ]
  }
 ],
 "metadata": {
  "kernelspec": {
   "display_name": "pytorch",
   "language": "python",
   "name": "python3"
  },
  "language_info": {
   "codemirror_mode": {
    "name": "ipython",
    "version": 3
   },
   "file_extension": ".py",
   "mimetype": "text/x-python",
   "name": "python",
   "nbconvert_exporter": "python",
   "pygments_lexer": "ipython3",
   "version": "3.12.10"
  }
 },
 "nbformat": 4,
 "nbformat_minor": 5
}
