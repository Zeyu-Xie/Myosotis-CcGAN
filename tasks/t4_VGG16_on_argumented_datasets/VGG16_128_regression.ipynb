{
 "cells": [
  {
   "cell_type": "markdown",
   "id": "05bee791",
   "metadata": {},
   "source": [
    "# VGG\n",
    "\n",
    "This notebook uses model \"VGG16\" to conduct regression of images."
   ]
  },
  {
   "cell_type": "code",
   "execution_count": 1,
   "id": "9c623ed7",
   "metadata": {
    "execution": {
     "iopub.execute_input": "2025-06-23T06:09:40.584942Z",
     "iopub.status.busy": "2025-06-23T06:09:40.584604Z",
     "iopub.status.idle": "2025-06-23T06:09:44.256773Z",
     "shell.execute_reply": "2025-06-23T06:09:44.256270Z"
    }
   },
   "outputs": [],
   "source": [
    "import h5py\n",
    "from matplotlib import pyplot as plt\n",
    "import numpy as np\n",
    "import os\n",
    "import pandas as pd\n",
    "from sklearn.model_selection import train_test_split\n",
    "import torch\n",
    "import torch.nn as nn\n",
    "import torch.optim as optim\n",
    "from torch.utils.data import TensorDataset, DataLoader\n",
    "from torchvision import models"
   ]
  },
  {
   "cell_type": "markdown",
   "id": "28904883",
   "metadata": {},
   "source": [
    "## Step 1 - Config\n",
    "\n",
    "First set the hyperparameters and other configurations."
   ]
  },
  {
   "cell_type": "code",
   "execution_count": 2,
   "id": "33cb27b0",
   "metadata": {
    "execution": {
     "iopub.execute_input": "2025-06-23T06:09:44.259454Z",
     "iopub.status.busy": "2025-06-23T06:09:44.259023Z",
     "iopub.status.idle": "2025-06-23T06:09:44.396373Z",
     "shell.execute_reply": "2025-06-23T06:09:44.395905Z"
    }
   },
   "outputs": [
    {
     "name": "stdout",
     "output_type": "stream",
     "text": [
      "Device: cuda\n"
     ]
    }
   ],
   "source": [
    "# Dataset and model path\n",
    "DATASET_PATH = \"./datasets/Ra_128_indexed.h5\"\n",
    "DATASET_FAKE_PATH = \"./datasets/CcGAN_SAGAN_dim_128_128_batchSizeG_64_batchSizeD_64_lrG_1e-04_lrD_1e-04_nIters_30000_nDsteps_4_soft_0.047_108.739_loss_hinge_seed_42_in_generate.h5\"\n",
    "MODEL_DIR = \"./models\"\n",
    "OUTPUT_DIR = \"./outputs\"\n",
    "# Env\n",
    "SEED = 42\n",
    "# Dataset\n",
    "MIN_LABEL = 1.3\n",
    "MAX_LABEL = 5.2\n",
    "# Hyperparameters\n",
    "NUM_EPOCHS = 100\n",
    "LR = 1e-3\n",
    "LR_WEIGHT_DECAY = 1e-4\n",
    "TEST_SIZE = 0.2\n",
    "BATCH_SIZE_TRAIN = 1024\n",
    "BATCH_SIZE_VAL = 10\n",
    "\n",
    "# Device\n",
    "device = torch.device(\"cuda\" if torch.cuda.is_available() else \"cpu\")\n",
    "print(f\"Device: {device}\")\n",
    "\n",
    "# Path\n",
    "if not os.path.exists(MODEL_DIR):\n",
    "    os.makedirs(MODEL_DIR, exist_ok=True)\n",
    "    print(f\"Make new directory {MODEL_DIR}\")\n",
    "if not os.path.exists(OUTPUT_DIR):\n",
    "    os.makedirs(OUTPUT_DIR, exist_ok=True)\n",
    "    print(f\"Make new directory {OUTPUT_DIR}\")\n",
    "MODEL_PATH = f\"{MODEL_DIR}/VGG16_epoch_{NUM_EPOCHS}_batch_size_{BATCH_SIZE_TRAIN}_lr_{LR:.0e}_seed_{SEED}.pth\"\n",
    "OUTPUT_PATH = f\"{OUTPUT_DIR}/VGG16_epoch_{NUM_EPOCHS}_batch_size_{BATCH_SIZE_TRAIN}_lr_{LR:.0e}_seed_{SEED}.csv\""
   ]
  },
  {
   "cell_type": "markdown",
   "id": "6d7ff1c7",
   "metadata": {},
   "source": [
    "Then load the pretrained model from `torchvision`."
   ]
  },
  {
   "cell_type": "code",
   "execution_count": 3,
   "id": "b8b13a96",
   "metadata": {
    "execution": {
     "iopub.execute_input": "2025-06-23T06:09:44.398388Z",
     "iopub.status.busy": "2025-06-23T06:09:44.398112Z",
     "iopub.status.idle": "2025-06-23T06:09:48.264667Z",
     "shell.execute_reply": "2025-06-23T06:09:48.264146Z"
    }
   },
   "outputs": [
    {
     "name": "stderr",
     "output_type": "stream",
     "text": [
      "/opt/pytorch/lib/python3.12/site-packages/torchvision/models/_utils.py:208: UserWarning: The parameter 'pretrained' is deprecated since 0.13 and may be removed in the future, please use 'weights' instead.\n",
      "  warnings.warn(\n",
      "/opt/pytorch/lib/python3.12/site-packages/torchvision/models/_utils.py:223: UserWarning: Arguments other than a weight enum or `None` for 'weights' are deprecated since 0.13 and may be removed in the future. The current behavior is equivalent to passing `weights=VGG16_Weights.IMAGENET1K_V1`. You can also use `weights=VGG16_Weights.DEFAULT` to get the most up-to-date weights.\n",
      "  warnings.warn(msg)\n"
     ]
    }
   ],
   "source": [
    "# Pretrained VGG16 model\n",
    "vgg16 = models.vgg16(pretrained=True)\n",
    "\n",
    "# Change the last layer to fit the regression task\n",
    "vgg16.classifier[-1] = nn.Linear(in_features=4096, out_features=1)\n",
    "\n",
    "# Choose to freeze the layers or not\n",
    "for param in vgg16.features.parameters():\n",
    "    param.requires_grad = False\n",
    "\n",
    "# Move to the appropriate device\n",
    "vgg16 = vgg16.to(device)"
   ]
  },
  {
   "cell_type": "markdown",
   "id": "4b3b175c",
   "metadata": {},
   "source": [
    "## Step 2 - Load data\n",
    "\n",
    "In this step we load the images and process them, the goal is to get `train_loader` and `val_loader` for training. After this step we will get:\n",
    "\n",
    "1. `images_train` and `images_val` (4 dim tensor)\n",
    "2. `labels_train` and `labels_val` (1 dim tensor)\n",
    "3. `train_dataset` and `val_dataset` (dataset)\n",
    "4. `train_loader` and `val_loader` (dataloader)\n",
    "\n",
    "First we load the images (`images`) and labels (`labels`)."
   ]
  },
  {
   "cell_type": "code",
   "execution_count": 4,
   "id": "bc9be499",
   "metadata": {
    "execution": {
     "iopub.execute_input": "2025-06-23T06:09:48.267182Z",
     "iopub.status.busy": "2025-06-23T06:09:48.266782Z",
     "iopub.status.idle": "2025-06-23T06:09:51.558048Z",
     "shell.execute_reply": "2025-06-23T06:09:51.557431Z"
    }
   },
   "outputs": [
    {
     "name": "stdout",
     "output_type": "stream",
     "text": [
      "Images and labels loaded.\n",
      "Images Shape: (9192, 128, 128, 3)\n",
      "Labels Shape: (9192,)\n",
      "\n",
      "Fake images and labels loaded.\n",
      "Fake Images Shape: (9192, 128, 128, 3)\n",
      "Fake Labels Shape: (9192,)\n",
      "Select indexes by MIN_LABEL = 1.3 and MAX_LABEL = 5.2\n",
      "Images Shape: (9192, 128, 128, 3)\n",
      "Labels Shape: (9192,)\n",
      "\n",
      "Select fake indexes by MIN_LABEL = 1.3 and MAX_LABEL = 5.2\n",
      "Fake Images Shape: (9191, 128, 128, 3)\n",
      "Fake Labels Shape: (9191,)\n",
      "\n",
      "Transform `images` and `labels` to tensors.\n",
      "Images Shape: torch.Size([9192, 3, 128, 128])\n",
      "Labels Shape: torch.Size([9192])\n",
      "Transform `images_fake` and `labels_fake` to tensors.\n",
      "Fake Images Shape: torch.Size([9191, 3, 128, 128])\n",
      "Fake Labels Shape: torch.Size([9191])\n"
     ]
    }
   ],
   "source": [
    "# Load datasets\n",
    "with h5py.File(DATASET_PATH, \"r\") as f:\n",
    "    images = f[\"images\"][:].astype(float)\n",
    "    labels = f[\"labels\"][:].astype(float)\n",
    "N_all = len(images)\n",
    "print(\"Images and labels loaded.\")\n",
    "print(f\"Images Shape: {images.shape}\")\n",
    "print(f\"Labels Shape: {labels.shape}\")\n",
    "print(\"\")\n",
    "\n",
    "# Load fake datasets\n",
    "with h5py.File(DATASET_FAKE_PATH, \"r\") as f:\n",
    "    images_fake = f[\"images\"][:].astype(float)\n",
    "    labels_fake = f[\"labels\"][:].astype(float)\n",
    "N_fake_all = len(images_fake)\n",
    "print(\"Fake images and labels loaded.\")\n",
    "print(f\"Fake Images Shape: {images_fake.shape}\")\n",
    "print(f\"Fake Labels Shape: {labels_fake.shape}\")\n",
    "\n",
    "# Selection\n",
    "indx = np.where((labels >= MIN_LABEL) * (labels < MAX_LABEL) == True)[0]\n",
    "labels = labels[indx]\n",
    "images = images[indx]\n",
    "print(f\"Select indexes by MIN_LABEL = {MIN_LABEL} and MAX_LABEL = {MAX_LABEL}\")\n",
    "print(f\"Images Shape: {images.shape}\")\n",
    "print(f\"Labels Shape: {labels.shape}\")\n",
    "print(\"\")\n",
    "\n",
    "# Selection fake\n",
    "indx_fake = np.where((labels_fake >= MIN_LABEL) * (labels_fake < MAX_LABEL) == True)[0]\n",
    "labels_fake = labels_fake[indx_fake]\n",
    "images_fake = images_fake[indx_fake]\n",
    "print(f\"Select fake indexes by MIN_LABEL = {MIN_LABEL} and MAX_LABEL = {MAX_LABEL}\")\n",
    "print(f\"Fake Images Shape: {images_fake.shape}\")\n",
    "print(f\"Fake Labels Shape: {labels_fake.shape}\")\n",
    "print(\"\")\n",
    "\n",
    "# To tensor\n",
    "images = torch.from_numpy(images).permute(0, 3, 1, 2)\n",
    "labels = torch.from_numpy(labels)\n",
    "print(\"Transform `images` and `labels` to tensors.\")\n",
    "print(f\"Images Shape: {images.shape}\")\n",
    "print(f\"Labels Shape: {labels.shape}\")\n",
    "\n",
    "# Fake to tensor\n",
    "images_fake = torch.from_numpy(images_fake).permute(0, 3, 1, 2)\n",
    "labels_fake = torch.from_numpy(labels_fake)\n",
    "print(\"Transform `images_fake` and `labels_fake` to tensors.\")\n",
    "print(f\"Fake Images Shape: {images_fake.shape}\")\n",
    "print(f\"Fake Labels Shape: {labels_fake.shape}\")"
   ]
  },
  {
   "cell_type": "markdown",
   "id": "2127b3c6",
   "metadata": {},
   "source": [
    "Then use `train_test_split` function to get data for training and validation, and add all fake images and labels to the training set."
   ]
  },
  {
   "cell_type": "code",
   "execution_count": 5,
   "id": "2f7d1dd9",
   "metadata": {
    "execution": {
     "iopub.execute_input": "2025-06-23T06:09:51.560317Z",
     "iopub.status.busy": "2025-06-23T06:09:51.559839Z",
     "iopub.status.idle": "2025-06-23T06:09:53.201168Z",
     "shell.execute_reply": "2025-06-23T06:09:53.200499Z"
    }
   },
   "outputs": [],
   "source": [
    "# Train-test split\n",
    "images_train, images_val, labels_train, labels_val = train_test_split(\n",
    "    images, labels, test_size=TEST_SIZE, random_state=SEED\n",
    ")\n",
    "\n",
    "# Add fake images and labels\n",
    "images_train = torch.cat((images_train, images_fake), dim=0)\n",
    "labels_train = torch.cat((labels_train, labels_fake), dim=0)"
   ]
  },
  {
   "cell_type": "markdown",
   "id": "479b686b",
   "metadata": {},
   "source": [
    "Implement images standardization and labels normalization."
   ]
  },
  {
   "cell_type": "code",
   "execution_count": 6,
   "id": "1ec75f9b",
   "metadata": {
    "execution": {
     "iopub.execute_input": "2025-06-23T06:09:53.203682Z",
     "iopub.status.busy": "2025-06-23T06:09:53.203329Z",
     "iopub.status.idle": "2025-06-23T06:09:59.392254Z",
     "shell.execute_reply": "2025-06-23T06:09:59.391765Z"
    }
   },
   "outputs": [
    {
     "name": "stdout",
     "output_type": "stream",
     "text": [
      "Mean of `images_train`: tensor([[[[ 6.0166]],\n",
      "\n",
      "         [[ 7.9318]],\n",
      "\n",
      "         [[49.8283]]]], dtype=torch.float64)\n",
      "Std of `images_train`: tensor([[[[14.0981]],\n",
      "\n",
      "         [[16.1571]],\n",
      "\n",
      "         [[62.2305]]]], dtype=torch.float64)\n",
      "Train test split with test size 0.2.\n",
      "Images (train) Shape: torch.Size([16544, 3, 128, 128])\n",
      "Images (val) Shape: torch.Size([1839, 3, 128, 128])\n",
      "Labels (train) Shape: torch.Size([16544])\n",
      "Labels (val) Shape: torch.Size([1839])\n"
     ]
    }
   ],
   "source": [
    "# Image standardization\n",
    "mean = images_train.mean(dim=[0, 2, 3], keepdim=True)\n",
    "std = images_train.std(dim=[0, 2, 3], keepdim=True)\n",
    "print(f\"Mean of `images_train`: {mean}\")\n",
    "print(f\"Std of `images_train`: {std}\")\n",
    "images_train = (images_train - mean) / std\n",
    "images_val = (images_val - mean) / std\n",
    "\n",
    "# Label normalization\n",
    "labels_train = (labels_train - MIN_LABEL) / (MAX_LABEL - MIN_LABEL)\n",
    "labels_val = (labels_val - MIN_LABEL) / (MAX_LABEL - MIN_LABEL)\n",
    "\n",
    "print(f\"Train test split with test size {TEST_SIZE}.\")\n",
    "print(f\"Images (train) Shape: {images_train.shape}\")\n",
    "print(f\"Images (val) Shape: {images_val.shape}\")\n",
    "print(f\"Labels (train) Shape: {labels_train.shape}\")\n",
    "print(f\"Labels (val) Shape: {labels_val.shape}\")"
   ]
  },
  {
   "cell_type": "markdown",
   "id": "e5f55f94",
   "metadata": {},
   "source": [
    "Next, we should transform the data to tensors, combine `images` and `labels` to datasets and get dataloaders according to `BATCH_SIZE`."
   ]
  },
  {
   "cell_type": "code",
   "execution_count": 7,
   "id": "51549a4b",
   "metadata": {
    "execution": {
     "iopub.execute_input": "2025-06-23T06:09:59.394401Z",
     "iopub.status.busy": "2025-06-23T06:09:59.394054Z",
     "iopub.status.idle": "2025-06-23T06:09:59.938209Z",
     "shell.execute_reply": "2025-06-23T06:09:59.937715Z"
    }
   },
   "outputs": [
    {
     "name": "stderr",
     "output_type": "stream",
     "text": [
      "/tmp/ipykernel_7566/1722485521.py:2: UserWarning: To copy construct from a tensor, it is recommended to use sourceTensor.detach().clone() or sourceTensor.detach().clone().requires_grad_(True), rather than torch.tensor(sourceTensor).\n",
      "  images_train_tensor = torch.tensor(images_train, dtype=torch.float32)\n"
     ]
    },
    {
     "name": "stdout",
     "output_type": "stream",
     "text": [
      "Shape of `images_train_tensor`: torch.Size([16544, 3, 128, 128])\n",
      "Shape of `labels_train_tensor`: torch.Size([16544, 1])\n",
      "Shape of `images_val_tensor`: torch.Size([1839, 3, 128, 128])\n",
      "Shape of `labels_val_tensor`: torch.Size([1839, 1])\n"
     ]
    },
    {
     "name": "stderr",
     "output_type": "stream",
     "text": [
      "/tmp/ipykernel_7566/1722485521.py:3: UserWarning: To copy construct from a tensor, it is recommended to use sourceTensor.detach().clone() or sourceTensor.detach().clone().requires_grad_(True), rather than torch.tensor(sourceTensor).\n",
      "  images_val_tensor = torch.tensor(images_val, dtype=torch.float32)\n",
      "/tmp/ipykernel_7566/1722485521.py:4: UserWarning: To copy construct from a tensor, it is recommended to use sourceTensor.detach().clone() or sourceTensor.detach().clone().requires_grad_(True), rather than torch.tensor(sourceTensor).\n",
      "  labels_train_tensor = torch.tensor(labels_train, dtype=torch.float32).view(-1, 1)\n",
      "/tmp/ipykernel_7566/1722485521.py:5: UserWarning: To copy construct from a tensor, it is recommended to use sourceTensor.detach().clone() or sourceTensor.detach().clone().requires_grad_(True), rather than torch.tensor(sourceTensor).\n",
      "  labels_val_tensor = torch.tensor(labels_val, dtype=torch.float32).view(-1, 1)\n"
     ]
    }
   ],
   "source": [
    "# Change to tensor\n",
    "images_train_tensor = torch.tensor(images_train, dtype=torch.float32)\n",
    "images_val_tensor = torch.tensor(images_val, dtype=torch.float32)\n",
    "labels_train_tensor = torch.tensor(labels_train, dtype=torch.float32).view(-1, 1)\n",
    "labels_val_tensor = torch.tensor(labels_val, dtype=torch.float32).view(-1, 1)\n",
    "print(f\"Shape of `images_train_tensor`: {images_train_tensor.shape}\")\n",
    "print(f\"Shape of `labels_train_tensor`: {labels_train_tensor.shape}\")\n",
    "print(f\"Shape of `images_val_tensor`: {images_val_tensor.shape}\")\n",
    "print(f\"Shape of `labels_val_tensor`: {labels_val_tensor.shape}\")\n",
    "\n",
    "# Tensor's dataset\n",
    "train_dataset = TensorDataset(images_train_tensor, labels_train_tensor)\n",
    "val_dataset = TensorDataset(images_val_tensor, labels_val_tensor)\n",
    "\n",
    "# DataLoader\n",
    "train_loader = DataLoader(train_dataset, batch_size=BATCH_SIZE_TRAIN, shuffle=True)\n",
    "val_loader = DataLoader(val_dataset, batch_size=BATCH_SIZE_VAL)"
   ]
  },
  {
   "cell_type": "markdown",
   "id": "ce4ea102",
   "metadata": {},
   "source": [
    "## Step 3 - Train"
   ]
  },
  {
   "cell_type": "markdown",
   "id": "534bdeac",
   "metadata": {},
   "source": [
    "Start training for `epoch` loops, record the training losses and validation losses."
   ]
  },
  {
   "cell_type": "code",
   "execution_count": 8,
   "id": "c0161423",
   "metadata": {
    "execution": {
     "iopub.execute_input": "2025-06-23T06:09:59.940399Z",
     "iopub.status.busy": "2025-06-23T06:09:59.940119Z",
     "iopub.status.idle": "2025-06-23T06:54:42.590259Z",
     "shell.execute_reply": "2025-06-23T06:54:42.589772Z"
    }
   },
   "outputs": [
    {
     "name": "stdout",
     "output_type": "stream",
     "text": [
      "[Epoch 1 / 100] [Train Loss 33.430484 (MSE)] [Valid Loss 0.098753 (MSE)] [Learning Rate: 0.001]\n",
      "[Epoch 2 / 100] [Train Loss 0.096425 (MSE)] [Valid Loss 0.048417 (MSE)] [Learning Rate: 0.001]\n",
      "[Epoch 3 / 100] [Train Loss 0.083973 (MSE)] [Valid Loss 0.040930 (MSE)] [Learning Rate: 0.001]\n",
      "[Epoch 4 / 100] [Train Loss 0.076414 (MSE)] [Valid Loss 0.034437 (MSE)] [Learning Rate: 0.001]\n",
      "[Epoch 5 / 100] [Train Loss 0.078462 (MSE)] [Valid Loss 0.050466 (MSE)] [Learning Rate: 0.001]\n",
      "[Epoch 6 / 100] [Train Loss 0.101149 (MSE)] [Valid Loss 0.044234 (MSE)] [Learning Rate: 0.001]\n",
      "[Epoch 7 / 100] [Train Loss 0.079752 (MSE)] [Valid Loss 0.025797 (MSE)] [Learning Rate: 0.001]\n",
      "[Epoch 8 / 100] [Train Loss 0.078352 (MSE)] [Valid Loss 0.024720 (MSE)] [Learning Rate: 0.001]\n",
      "[Epoch 9 / 100] [Train Loss 0.073109 (MSE)] [Valid Loss 0.021991 (MSE)] [Learning Rate: 0.001]\n",
      "[Epoch 10 / 100] [Train Loss 0.077690 (MSE)] [Valid Loss 0.021148 (MSE)] [Learning Rate: 0.001]\n",
      "[Epoch 11 / 100] [Train Loss 0.079964 (MSE)] [Valid Loss 0.022178 (MSE)] [Learning Rate: 0.001]\n",
      "[Epoch 12 / 100] [Train Loss 0.094834 (MSE)] [Valid Loss 0.044435 (MSE)] [Learning Rate: 0.001]\n",
      "[Epoch 13 / 100] [Train Loss 0.087730 (MSE)] [Valid Loss 0.054693 (MSE)] [Learning Rate: 0.001]\n",
      "[Epoch 14 / 100] [Train Loss 0.073035 (MSE)] [Valid Loss 0.020174 (MSE)] [Learning Rate: 0.001]\n",
      "[Epoch 15 / 100] [Train Loss 0.087955 (MSE)] [Valid Loss 0.083297 (MSE)] [Learning Rate: 0.001]\n",
      "[Epoch 16 / 100] [Train Loss 0.083293 (MSE)] [Valid Loss 0.043107 (MSE)] [Learning Rate: 0.001]\n",
      "[Epoch 17 / 100] [Train Loss 0.071912 (MSE)] [Valid Loss 0.033217 (MSE)] [Learning Rate: 0.001]\n",
      "[Epoch 18 / 100] [Train Loss 0.071754 (MSE)] [Valid Loss 0.026004 (MSE)] [Learning Rate: 0.001]\n",
      "[Epoch 19 / 100] [Train Loss 0.127407 (MSE)] [Valid Loss 0.169847 (MSE)] [Learning Rate: 0.001]\n",
      "[Epoch 20 / 100] [Train Loss 0.133333 (MSE)] [Valid Loss 0.122771 (MSE)] [Learning Rate: 0.001]\n",
      "[Epoch 21 / 100] [Train Loss 0.096322 (MSE)] [Valid Loss 0.065761 (MSE)] [Learning Rate: 0.0005]\n",
      "[Epoch 22 / 100] [Train Loss 0.084523 (MSE)] [Valid Loss 0.039757 (MSE)] [Learning Rate: 0.0005]\n",
      "[Epoch 23 / 100] [Train Loss 0.078451 (MSE)] [Valid Loss 0.049440 (MSE)] [Learning Rate: 0.0005]\n",
      "[Epoch 24 / 100] [Train Loss 0.076078 (MSE)] [Valid Loss 0.026213 (MSE)] [Learning Rate: 0.0005]\n",
      "[Epoch 25 / 100] [Train Loss 0.072186 (MSE)] [Valid Loss 0.020671 (MSE)] [Learning Rate: 0.0005]\n",
      "[Epoch 26 / 100] [Train Loss 0.071434 (MSE)] [Valid Loss 0.033979 (MSE)] [Learning Rate: 0.0005]\n",
      "[Epoch 27 / 100] [Train Loss 0.070147 (MSE)] [Valid Loss 0.018051 (MSE)] [Learning Rate: 0.00025]\n",
      "[Epoch 28 / 100] [Train Loss 0.068653 (MSE)] [Valid Loss 0.022922 (MSE)] [Learning Rate: 0.00025]\n",
      "[Epoch 29 / 100] [Train Loss 0.067236 (MSE)] [Valid Loss 0.016558 (MSE)] [Learning Rate: 0.00025]\n",
      "[Epoch 30 / 100] [Train Loss 0.067368 (MSE)] [Valid Loss 0.015786 (MSE)] [Learning Rate: 0.00025]\n",
      "[Epoch 31 / 100] [Train Loss 0.066482 (MSE)] [Valid Loss 0.021854 (MSE)] [Learning Rate: 0.00025]\n",
      "[Epoch 32 / 100] [Train Loss 0.066469 (MSE)] [Valid Loss 0.014523 (MSE)] [Learning Rate: 0.00025]\n",
      "[Epoch 33 / 100] [Train Loss 0.064626 (MSE)] [Valid Loss 0.013360 (MSE)] [Learning Rate: 0.00025]\n",
      "[Epoch 34 / 100] [Train Loss 0.064598 (MSE)] [Valid Loss 0.020290 (MSE)] [Learning Rate: 0.00025]\n",
      "[Epoch 35 / 100] [Train Loss 0.063139 (MSE)] [Valid Loss 0.014326 (MSE)] [Learning Rate: 0.00025]\n",
      "[Epoch 36 / 100] [Train Loss 0.063307 (MSE)] [Valid Loss 0.012654 (MSE)] [Learning Rate: 0.00025]\n",
      "[Epoch 37 / 100] [Train Loss 0.062469 (MSE)] [Valid Loss 0.020653 (MSE)] [Learning Rate: 0.00025]\n",
      "[Epoch 38 / 100] [Train Loss 0.061199 (MSE)] [Valid Loss 0.011423 (MSE)] [Learning Rate: 0.00025]\n",
      "[Epoch 39 / 100] [Train Loss 0.061567 (MSE)] [Valid Loss 0.015012 (MSE)] [Learning Rate: 0.00025]\n",
      "[Epoch 40 / 100] [Train Loss 0.062091 (MSE)] [Valid Loss 0.011407 (MSE)] [Learning Rate: 0.00025]\n",
      "[Epoch 41 / 100] [Train Loss 0.061084 (MSE)] [Valid Loss 0.018351 (MSE)] [Learning Rate: 0.00025]\n",
      "[Epoch 42 / 100] [Train Loss 0.060437 (MSE)] [Valid Loss 0.010234 (MSE)] [Learning Rate: 0.00025]\n",
      "[Epoch 43 / 100] [Train Loss 0.060382 (MSE)] [Valid Loss 0.010486 (MSE)] [Learning Rate: 0.00025]\n",
      "[Epoch 44 / 100] [Train Loss 0.061152 (MSE)] [Valid Loss 0.012318 (MSE)] [Learning Rate: 0.00025]\n",
      "[Epoch 45 / 100] [Train Loss 0.061011 (MSE)] [Valid Loss 0.016003 (MSE)] [Learning Rate: 0.00025]\n",
      "[Epoch 46 / 100] [Train Loss 0.060317 (MSE)] [Valid Loss 0.009719 (MSE)] [Learning Rate: 0.00025]\n",
      "[Epoch 47 / 100] [Train Loss 0.060380 (MSE)] [Valid Loss 0.010071 (MSE)] [Learning Rate: 0.00025]\n",
      "[Epoch 48 / 100] [Train Loss 0.059861 (MSE)] [Valid Loss 0.011749 (MSE)] [Learning Rate: 0.00025]\n",
      "[Epoch 49 / 100] [Train Loss 0.059432 (MSE)] [Valid Loss 0.013721 (MSE)] [Learning Rate: 0.00025]\n",
      "[Epoch 50 / 100] [Train Loss 0.061763 (MSE)] [Valid Loss 0.011432 (MSE)] [Learning Rate: 0.00025]\n",
      "[Epoch 51 / 100] [Train Loss 0.059912 (MSE)] [Valid Loss 0.009261 (MSE)] [Learning Rate: 0.00025]\n",
      "[Epoch 52 / 100] [Train Loss 0.058451 (MSE)] [Valid Loss 0.008840 (MSE)] [Learning Rate: 0.00025]\n",
      "[Epoch 53 / 100] [Train Loss 0.058590 (MSE)] [Valid Loss 0.011363 (MSE)] [Learning Rate: 0.00025]\n",
      "[Epoch 54 / 100] [Train Loss 0.057953 (MSE)] [Valid Loss 0.009190 (MSE)] [Learning Rate: 0.00025]\n",
      "[Epoch 55 / 100] [Train Loss 0.059966 (MSE)] [Valid Loss 0.008431 (MSE)] [Learning Rate: 0.00025]\n",
      "[Epoch 56 / 100] [Train Loss 0.058435 (MSE)] [Valid Loss 0.008680 (MSE)] [Learning Rate: 0.00025]\n",
      "[Epoch 57 / 100] [Train Loss 0.058159 (MSE)] [Valid Loss 0.007805 (MSE)] [Learning Rate: 0.00025]\n",
      "[Epoch 58 / 100] [Train Loss 0.058612 (MSE)] [Valid Loss 0.009168 (MSE)] [Learning Rate: 0.00025]\n",
      "[Epoch 59 / 100] [Train Loss 0.058925 (MSE)] [Valid Loss 0.009018 (MSE)] [Learning Rate: 0.00025]\n",
      "[Epoch 60 / 100] [Train Loss 0.058297 (MSE)] [Valid Loss 0.007823 (MSE)] [Learning Rate: 0.00025]\n",
      "[Epoch 61 / 100] [Train Loss 0.057726 (MSE)] [Valid Loss 0.014218 (MSE)] [Learning Rate: 0.00025]\n",
      "[Epoch 62 / 100] [Train Loss 0.059300 (MSE)] [Valid Loss 0.009008 (MSE)] [Learning Rate: 0.00025]\n",
      "[Epoch 63 / 100] [Train Loss 0.057259 (MSE)] [Valid Loss 0.007588 (MSE)] [Learning Rate: 0.00025]\n",
      "[Epoch 64 / 100] [Train Loss 0.057267 (MSE)] [Valid Loss 0.010816 (MSE)] [Learning Rate: 0.00025]\n",
      "[Epoch 65 / 100] [Train Loss 0.058494 (MSE)] [Valid Loss 0.007401 (MSE)] [Learning Rate: 0.00025]\n",
      "[Epoch 66 / 100] [Train Loss 0.057204 (MSE)] [Valid Loss 0.009057 (MSE)] [Learning Rate: 0.00025]\n",
      "[Epoch 67 / 100] [Train Loss 0.057547 (MSE)] [Valid Loss 0.007266 (MSE)] [Learning Rate: 0.00025]\n",
      "[Epoch 68 / 100] [Train Loss 0.057602 (MSE)] [Valid Loss 0.007643 (MSE)] [Learning Rate: 0.00025]\n",
      "[Epoch 69 / 100] [Train Loss 0.057582 (MSE)] [Valid Loss 0.007496 (MSE)] [Learning Rate: 0.00025]\n",
      "[Epoch 70 / 100] [Train Loss 0.057284 (MSE)] [Valid Loss 0.008912 (MSE)] [Learning Rate: 0.00025]\n",
      "[Epoch 71 / 100] [Train Loss 0.058265 (MSE)] [Valid Loss 0.008407 (MSE)] [Learning Rate: 0.00025]\n",
      "[Epoch 72 / 100] [Train Loss 0.057137 (MSE)] [Valid Loss 0.007004 (MSE)] [Learning Rate: 0.00025]\n",
      "[Epoch 73 / 100] [Train Loss 0.057342 (MSE)] [Valid Loss 0.008257 (MSE)] [Learning Rate: 0.00025]\n",
      "[Epoch 74 / 100] [Train Loss 0.057080 (MSE)] [Valid Loss 0.007295 (MSE)] [Learning Rate: 0.00025]\n",
      "[Epoch 75 / 100] [Train Loss 0.057613 (MSE)] [Valid Loss 0.007429 (MSE)] [Learning Rate: 0.00025]\n",
      "[Epoch 76 / 100] [Train Loss 0.056643 (MSE)] [Valid Loss 0.011191 (MSE)] [Learning Rate: 0.00025]\n",
      "[Epoch 77 / 100] [Train Loss 0.057112 (MSE)] [Valid Loss 0.006983 (MSE)] [Learning Rate: 0.00025]\n",
      "[Epoch 78 / 100] [Train Loss 0.057195 (MSE)] [Valid Loss 0.012437 (MSE)] [Learning Rate: 0.00025]\n",
      "[Epoch 79 / 100] [Train Loss 0.056788 (MSE)] [Valid Loss 0.007627 (MSE)] [Learning Rate: 0.00025]\n",
      "[Epoch 80 / 100] [Train Loss 0.057103 (MSE)] [Valid Loss 0.007456 (MSE)] [Learning Rate: 0.00025]\n",
      "[Epoch 81 / 100] [Train Loss 0.056900 (MSE)] [Valid Loss 0.006637 (MSE)] [Learning Rate: 0.00025]\n",
      "[Epoch 82 / 100] [Train Loss 0.057842 (MSE)] [Valid Loss 0.013181 (MSE)] [Learning Rate: 0.00025]\n",
      "[Epoch 83 / 100] [Train Loss 0.056363 (MSE)] [Valid Loss 0.006438 (MSE)] [Learning Rate: 0.00025]\n",
      "[Epoch 84 / 100] [Train Loss 0.056504 (MSE)] [Valid Loss 0.006446 (MSE)] [Learning Rate: 0.00025]\n",
      "[Epoch 85 / 100] [Train Loss 0.056079 (MSE)] [Valid Loss 0.008070 (MSE)] [Learning Rate: 0.00025]\n",
      "[Epoch 86 / 100] [Train Loss 0.056002 (MSE)] [Valid Loss 0.006393 (MSE)] [Learning Rate: 0.00025]\n",
      "[Epoch 87 / 100] [Train Loss 0.056473 (MSE)] [Valid Loss 0.006312 (MSE)] [Learning Rate: 0.00025]\n",
      "[Epoch 88 / 100] [Train Loss 0.056170 (MSE)] [Valid Loss 0.007680 (MSE)] [Learning Rate: 0.00025]\n",
      "[Epoch 89 / 100] [Train Loss 0.057180 (MSE)] [Valid Loss 0.009419 (MSE)] [Learning Rate: 0.00025]\n",
      "[Epoch 90 / 100] [Train Loss 0.056173 (MSE)] [Valid Loss 0.008013 (MSE)] [Learning Rate: 0.00025]\n",
      "[Epoch 91 / 100] [Train Loss 0.055505 (MSE)] [Valid Loss 0.011188 (MSE)] [Learning Rate: 0.00025]\n",
      "[Epoch 92 / 100] [Train Loss 0.055840 (MSE)] [Valid Loss 0.005760 (MSE)] [Learning Rate: 0.00025]\n",
      "[Epoch 93 / 100] [Train Loss 0.055721 (MSE)] [Valid Loss 0.008320 (MSE)] [Learning Rate: 0.00025]\n",
      "[Epoch 94 / 100] [Train Loss 0.056111 (MSE)] [Valid Loss 0.012992 (MSE)] [Learning Rate: 0.00025]\n",
      "[Epoch 95 / 100] [Train Loss 0.056177 (MSE)] [Valid Loss 0.007067 (MSE)] [Learning Rate: 0.00025]\n",
      "[Epoch 96 / 100] [Train Loss 0.056851 (MSE)] [Valid Loss 0.006516 (MSE)] [Learning Rate: 0.00025]\n",
      "[Epoch 97 / 100] [Train Loss 0.055855 (MSE)] [Valid Loss 0.007371 (MSE)] [Learning Rate: 0.00025]\n",
      "[Epoch 98 / 100] [Train Loss 0.055877 (MSE)] [Valid Loss 0.005812 (MSE)] [Learning Rate: 0.00025]\n",
      "[Epoch 99 / 100] [Train Loss 0.055529 (MSE)] [Valid Loss 0.007457 (MSE)] [Learning Rate: 0.000125]\n",
      "[Epoch 100 / 100] [Train Loss 0.055498 (MSE)] [Valid Loss 0.006048 (MSE)] [Learning Rate: 0.000125]\n"
     ]
    }
   ],
   "source": [
    "# Criterion and optimizer\n",
    "criterion = nn.MSELoss()\n",
    "optimizer = optim.Adam(\n",
    "    vgg16.classifier.parameters(), lr=LR, weight_decay=LR_WEIGHT_DECAY\n",
    ")\n",
    "scheduler = torch.optim.lr_scheduler.ReduceLROnPlateau(\n",
    "    optimizer, mode=\"min\", factor=0.5, patience=5\n",
    ")\n",
    "\n",
    "# Record the loss values\n",
    "train_loss_list = []\n",
    "val_loss_list = []\n",
    "\n",
    "# Loop by epoch\n",
    "for epoch in range(NUM_EPOCHS):\n",
    "\n",
    "    # Train\n",
    "    vgg16.train()\n",
    "    train_loss = 0.0\n",
    "    train_size = 0\n",
    "    for batch_images, batch_labels in train_loader:\n",
    "        # Load data\n",
    "        batch_images = batch_images.to(device)\n",
    "        batch_labels = batch_labels.to(device)\n",
    "        # Pass loss value\n",
    "        outputs = vgg16(batch_images)\n",
    "        loss = criterion(outputs, batch_labels)\n",
    "        # Back propagation\n",
    "        optimizer.zero_grad()\n",
    "        loss.backward()\n",
    "        optimizer.step()\n",
    "        # Add to the total loss\n",
    "        batch_size = batch_images.size(0)\n",
    "        train_loss += loss.item() * batch_size\n",
    "        train_size += batch_size\n",
    "\n",
    "    train_loss = train_loss / train_size\n",
    "    train_loss_list.append(train_loss)\n",
    "\n",
    "    # Validate\n",
    "    vgg16.eval()\n",
    "    val_loss = 0\n",
    "    val_samples = 0\n",
    "    with torch.no_grad():\n",
    "        for batch_images, batch_labels in val_loader:\n",
    "            # Load data\n",
    "            batch_images = batch_images.to(device)\n",
    "            batch_labels = batch_labels.to(device)\n",
    "            # Output\n",
    "            outputs = vgg16(batch_images)\n",
    "            # Calculate loss\n",
    "            loss = criterion(outputs, batch_labels)\n",
    "            # Add to total loss\n",
    "            batch_size = batch_images.size(0)\n",
    "            val_loss += loss.item() * batch_size\n",
    "            val_samples += batch_size\n",
    "    val_loss /= val_samples\n",
    "    val_loss_list.append(val_loss)\n",
    "\n",
    "    # Print\n",
    "    print(\n",
    "        f\"[Epoch {(epoch+1):d} / {(NUM_EPOCHS):d}] [Train Loss {train_loss:f} (MSE)] [Valid Loss {val_loss:f} (MSE)] [Learning Rate: {optimizer.param_groups[0]['lr']}]\"\n",
    "    )\n",
    "\n",
    "    # Scheduler\n",
    "    scheduler.step(val_loss)"
   ]
  },
  {
   "cell_type": "markdown",
   "id": "7cf24633",
   "metadata": {},
   "source": [
    "Then we plot the graphs of `train_loss_list` and `val_loss_lost`."
   ]
  },
  {
   "cell_type": "code",
   "execution_count": 9,
   "id": "f06a4e35",
   "metadata": {
    "execution": {
     "iopub.execute_input": "2025-06-23T06:54:42.592283Z",
     "iopub.status.busy": "2025-06-23T06:54:42.592099Z",
     "iopub.status.idle": "2025-06-23T06:54:42.704504Z",
     "shell.execute_reply": "2025-06-23T06:54:42.703908Z"
    }
   },
   "outputs": [
    {
     "data": {
      "image/png": "[encoded data removed]",
      "text/plain": [
       "<Figure size 640x480 with 1 Axes>"
      ]
     },
     "metadata": {},
     "output_type": "display_data"
    }
   ],
   "source": [
    "x = list(range(NUM_EPOCHS))\n",
    "plt.plot(x, train_loss_list, label=\"Train Loss\", marker=\".\")\n",
    "plt.plot(x, val_loss_list, label=\"Val Loss\", marker=\".\")\n",
    "plt.xlabel(\"Epoch\")\n",
    "plt.ylabel(\"Loss\")\n",
    "plt.title(\"Training and Validation Loss\")\n",
    "plt.legend()\n",
    "plt.show()"
   ]
  },
  {
   "cell_type": "markdown",
   "id": "bedc2858",
   "metadata": {},
   "source": [
    "## Step 4 - Save / load the model\n",
    "\n",
    "After training, we need to save the models."
   ]
  },
  {
   "cell_type": "code",
   "execution_count": 10,
   "id": "75c4022d",
   "metadata": {
    "execution": {
     "iopub.execute_input": "2025-06-23T06:54:42.706856Z",
     "iopub.status.busy": "2025-06-23T06:54:42.706397Z",
     "iopub.status.idle": "2025-06-23T06:54:43.636240Z",
     "shell.execute_reply": "2025-06-23T06:54:43.635637Z"
    }
   },
   "outputs": [
    {
     "name": "stdout",
     "output_type": "stream",
     "text": [
      "Model saved to ./models/VGG16_epoch_100_batch_size_1024_lr_1e-03_seed_42.pth\n"
     ]
    }
   ],
   "source": [
    "# Save the trained model to disk\n",
    "torch.save(vgg16.state_dict(), MODEL_PATH)\n",
    "print(f\"Model saved to {MODEL_PATH}\")"
   ]
  },
  {
   "cell_type": "markdown",
   "id": "814f9e3d",
   "metadata": {},
   "source": [
    "To read the saved data, we can run the following codes:"
   ]
  },
  {
   "cell_type": "code",
   "execution_count": 11,
   "id": "1b045a1c",
   "metadata": {
    "execution": {
     "iopub.execute_input": "2025-06-23T06:54:43.638483Z",
     "iopub.status.busy": "2025-06-23T06:54:43.638296Z",
     "iopub.status.idle": "2025-06-23T06:54:43.640981Z",
     "shell.execute_reply": "2025-06-23T06:54:43.640419Z"
    }
   },
   "outputs": [],
   "source": [
    "# # Load the trained model weights\n",
    "# vgg16.load_state_dict(torch.load(MODEL_PATH, map_location=device))\n",
    "# vgg16.eval()\n",
    "# print(\"Model loaded from\", MODEL_PATH)"
   ]
  },
  {
   "cell_type": "markdown",
   "id": "f3159f06",
   "metadata": {},
   "source": [
    "## Exceptional test\n",
    "\n",
    "Let's see if the model works well."
   ]
  },
  {
   "cell_type": "code",
   "execution_count": 12,
   "id": "5178524e",
   "metadata": {
    "execution": {
     "iopub.execute_input": "2025-06-23T06:54:43.643068Z",
     "iopub.status.busy": "2025-06-23T06:54:43.642662Z",
     "iopub.status.idle": "2025-06-23T06:54:45.801294Z",
     "shell.execute_reply": "2025-06-23T06:54:45.800769Z"
    }
   },
   "outputs": [
    {
     "name": "stdout",
     "output_type": "stream",
     "text": [
      "Model loaded from ./models/VGG16_epoch_100_batch_size_1024_lr_1e-03_seed_42.pth\n",
      "      Real Labels  Predicted Labels      Diff      MAPE\n",
      "0           1.746          1.934027  0.188027  0.892310\n",
      "1           2.695          2.693900 -0.001100  0.999592\n",
      "2           1.816          1.856027  0.040027  0.977958\n",
      "3           2.354          2.046776 -0.307224  0.869489\n",
      "4           3.901          3.914850  0.013850  0.996450\n",
      "...           ...               ...       ...       ...\n",
      "1834        2.051          1.920623 -0.130377  0.936433\n",
      "1835        1.757          1.672566 -0.084434  0.951944\n",
      "1836        2.593          3.138235  0.545235  0.789728\n",
      "1837        4.092          3.826633 -0.265367  0.935150\n",
      "1838        2.040          1.599756 -0.440244  0.784194\n",
      "\n",
      "[1839 rows x 4 columns]\n",
      "MAPE: 0.9126678677956699\n"
     ]
    },
    {
     "data": {
      "image/png": "[encoded data removed]",
      "text/plain": [
       "<Figure size 640x480 with 1 Axes>"
      ]
     },
     "metadata": {},
     "output_type": "display_data"
    },
    {
     "data": {
      "image/png": "[encoded data removed]",
      "text/plain": [
       "<Figure size 640x480 with 1 Axes>"
      ]
     },
     "metadata": {},
     "output_type": "display_data"
    }
   ],
   "source": [
    "# Load the trained model weights\n",
    "vgg16.load_state_dict(torch.load(MODEL_PATH, map_location=device))\n",
    "vgg16.eval()\n",
    "print(\"Model loaded from\", MODEL_PATH)\n",
    "\n",
    "# Turn to `numpy.array`\n",
    "labels_val_real = labels_val.numpy()\n",
    "labels_val_predicted = vgg16(images_val_tensor.to(device)).cpu().detach().numpy()\n",
    "\n",
    "# Unnormalize labels\n",
    "labels_val_real = labels_val_real * (MAX_LABEL - MIN_LABEL) + MIN_LABEL\n",
    "labels_val_predicted = labels_val_predicted * (MAX_LABEL - MIN_LABEL) + MIN_LABEL\n",
    "\n",
    "# Turn to `pandas.Series`\n",
    "labels_val_real = pd.Series(labels_val_real)\n",
    "labels_val_predicted = pd.Series(labels_val_predicted.flatten())\n",
    "labels_val_diff = labels_val_predicted - labels_val_real\n",
    "\n",
    "# Make `pandas.DataFrame`\n",
    "df = pd.DataFrame(\n",
    "    {\n",
    "        \"Real Labels\": labels_val_real,\n",
    "        \"Predicted Labels\": labels_val_predicted,\n",
    "        \"Diff\": labels_val_diff,\n",
    "        \"MAPE\": 1 - np.abs(labels_val_diff) / labels_val_real\n",
    "    }\n",
    ")\n",
    "df.to_csv(OUTPUT_PATH, index = False)\n",
    "print(df)\n",
    "print(f\"MAPE: {df[\"MAPE\"].mean()}\")\n",
    "\n",
    "# Boxplot of the differences\n",
    "plt.boxplot(labels_val_diff)\n",
    "plt.ylabel(\"Prediction Error (Predicted - Real)\")\n",
    "plt.title(\"Boxplot of Prediction Errors\")\n",
    "plt.show()\n",
    "\n",
    "# Plot the differences by the real labels.\n",
    "plt.scatter(labels_val_real, labels_val_diff, s=10)\n",
    "plt.xlabel(\"Real Labels\")\n",
    "plt.ylabel(\"Prediction Error (Predicted - Real)\")\n",
    "plt.title(\"Prediction Error vs Real Labels\")\n",
    "plt.axhline(0, color=\"red\", linestyle=\"--\", linewidth=1)\n",
    "plt.show()"
   ]
  }
 ],
 "metadata": {
  "kernelspec": {
   "display_name": "pytorch",
   "language": "python",
   "name": "python3"
  },
  "language_info": {
   "codemirror_mode": {
    "name": "ipython",
    "version": 3
   },
   "file_extension": ".py",
   "mimetype": "text/x-python",
   "name": "python",
   "nbconvert_exporter": "python",
   "pygments_lexer": "ipython3",
   "version": "3.12.10"
  }
 },
 "nbformat": 4,
 "nbformat_minor": 5
}
