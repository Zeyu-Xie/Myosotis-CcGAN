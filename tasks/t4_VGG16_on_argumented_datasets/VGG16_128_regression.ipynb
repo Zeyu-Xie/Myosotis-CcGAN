{
 "cells": [
  {
   "cell_type": "markdown",
   "id": "05bee791",
   "metadata": {},
   "source": [
    "# VGG\n",
    "\n",
    "This notebook uses model \"VGG16\" to conduct regression of images."
   ]
  },
  {
   "cell_type": "code",
   "execution_count": 1,
   "id": "9c623ed7",
   "metadata": {
    "execution": {
     "iopub.execute_input": "2025-06-18T09:18:18.036677Z",
     "iopub.status.busy": "2025-06-18T09:18:18.036474Z",
     "iopub.status.idle": "2025-06-18T09:18:21.400255Z",
     "shell.execute_reply": "2025-06-18T09:18:21.399726Z"
    }
   },
   "outputs": [],
   "source": [
    "import h5py\n",
    "from matplotlib import pyplot as plt\n",
    "import numpy as np\n",
    "import os\n",
    "import pandas as pd\n",
    "from sklearn.model_selection import train_test_split\n",
    "import torch\n",
    "import torch.nn as nn\n",
    "import torch.optim as optim\n",
    "from torch.utils.data import TensorDataset, DataLoader\n",
    "from torchvision import models"
   ]
  },
  {
   "cell_type": "markdown",
   "id": "28904883",
   "metadata": {},
   "source": [
    "## Step 1 - Config\n",
    "\n",
    "First set the hyperparameters and other configurations."
   ]
  },
  {
   "cell_type": "code",
   "execution_count": null,
   "id": "33cb27b0",
   "metadata": {
    "execution": {
     "iopub.execute_input": "2025-06-18T09:18:21.402839Z",
     "iopub.status.busy": "2025-06-18T09:18:21.402414Z",
     "iopub.status.idle": "2025-06-18T09:18:21.535576Z",
     "shell.execute_reply": "2025-06-18T09:18:21.535065Z"
    }
   },
   "outputs": [
    {
     "name": "stdout",
     "output_type": "stream",
     "text": [
      "Device: cuda\n"
     ]
    }
   ],
   "source": [
    "# Dataset and model path\n",
    "DATASET_PATH = \"./datasets/Ra_128_indexed.h5\"\n",
    "DATASET_FAKE_PATH = \"./datasets/CcGAN_SAGAN_dim_128_128_batchSizeG_64_batchSizeD_64_lrG_1e-04_lrD_1e-04_nIters_30000_nDsteps_4_soft_0.047_108.739_loss_hinge_seed_42_in_generate.h5\"\n",
    "MODEL_DIR = \"./models\"\n",
    "OUTPUT_DIR = \"./outputs\"\n",
    "# Env\n",
    "SEED = 42\n",
    "# Dataset\n",
    "MIN_LABEL = 1.3\n",
    "MAX_LABEL = 5.2\n",
    "# Hyperparameters\n",
    "NUM_EPOCHS = 3\n",
    "LR = 1e-3\n",
    "LR_WEIGHT_DECAY = 1e-4\n",
    "TEST_SIZE = 0.2\n",
    "BATCH_SIZE_TRAIN = 256\n",
    "BATCH_SIZE_VAL = 10\n",
    "\n",
    "# Device\n",
    "device = torch.device(\"cuda\" if torch.cuda.is_available() else \"cpu\")\n",
    "print(f\"Device: {device}\")\n",
    "\n",
    "# Path\n",
    "if not os.path.exists(MODEL_DIR):\n",
    "    os.makedirs(MODEL_DIR, exist_ok=True)\n",
    "    print(f\"Make new directory {MODEL_DIR}\")\n",
    "if not os.path.exists(OUTPUT_DIR):\n",
    "    os.makedirs(OUTPUT_DIR, exist_ok=True)\n",
    "    print(f\"Make new directory {OUTPUT_DIR}\")\n",
    "MODEL_PATH = f\"{MODEL_DIR}/VGG16_epoch_{NUM_EPOCHS}_batch_size_{BATCH_SIZE_TRAIN}_lr_{LR:.0e}_seed_{SEED}.pth\"\n",
    "OUTPUT_PATH = f\"{OUTPUT_DIR}/VGG16_epoch_{NUM_EPOCHS}_batch_size_{BATCH_SIZE_TRAIN}_lr_{LR:.0e}_seed_{SEED}.csv\""
   ]
  },
  {
   "cell_type": "markdown",
   "id": "6d7ff1c7",
   "metadata": {},
   "source": [
    "Then load the pretrained model from `torchvision`."
   ]
  },
  {
   "cell_type": "code",
   "execution_count": 3,
   "id": "b8b13a96",
   "metadata": {
    "execution": {
     "iopub.execute_input": "2025-06-18T09:18:21.537788Z",
     "iopub.status.busy": "2025-06-18T09:18:21.537499Z",
     "iopub.status.idle": "2025-06-18T09:18:23.044638Z",
     "shell.execute_reply": "2025-06-18T09:18:23.044123Z"
    }
   },
   "outputs": [
    {
     "name": "stderr",
     "output_type": "stream",
     "text": [
      "/opt/pytorch/lib/python3.12/site-packages/torchvision/models/_utils.py:208: UserWarning: The parameter 'pretrained' is deprecated since 0.13 and may be removed in the future, please use 'weights' instead.\n",
      "  warnings.warn(\n",
      "/opt/pytorch/lib/python3.12/site-packages/torchvision/models/_utils.py:223: UserWarning: Arguments other than a weight enum or `None` for 'weights' are deprecated since 0.13 and may be removed in the future. The current behavior is equivalent to passing `weights=VGG16_Weights.IMAGENET1K_V1`. You can also use `weights=VGG16_Weights.DEFAULT` to get the most up-to-date weights.\n",
      "  warnings.warn(msg)\n"
     ]
    }
   ],
   "source": [
    "# Pretrained VGG16 model\n",
    "vgg16 = models.vgg16(pretrained=True)\n",
    "\n",
    "# Change the last layer to fit the regression task\n",
    "vgg16.classifier[-1] = nn.Linear(in_features=4096, out_features=1)\n",
    "\n",
    "# Choose to freeze the layers or not\n",
    "for param in vgg16.features.parameters():\n",
    "    param.requires_grad = False\n",
    "\n",
    "# Move to the appropriate device\n",
    "vgg16 = vgg16.to(device)"
   ]
  },
  {
   "cell_type": "markdown",
   "id": "4b3b175c",
   "metadata": {},
   "source": [
    "## Step 2 - Load data\n",
    "\n",
    "In this step we load the images and process them, the goal is to get `train_loader` and `val_loader` for training. After this step we will get:\n",
    "\n",
    "1. `images_train` and `images_val` (4 dim tensor)\n",
    "2. `labels_train` and `labels_val` (1 dim tensor)\n",
    "3. `train_dataset` and `val_dataset` (dataset)\n",
    "4. `train_loader` and `val_loader` (dataloader)\n",
    "\n",
    "First we load the images (`images`) and labels (`labels`)."
   ]
  },
  {
   "cell_type": "code",
   "execution_count": null,
   "id": "bc9be499",
   "metadata": {
    "execution": {
     "iopub.execute_input": "2025-06-18T09:18:23.047037Z",
     "iopub.status.busy": "2025-06-18T09:18:23.046754Z",
     "iopub.status.idle": "2025-06-18T09:18:24.288886Z",
     "shell.execute_reply": "2025-06-18T09:18:24.288341Z"
    }
   },
   "outputs": [
    {
     "name": "stdout",
     "output_type": "stream",
     "text": [
      "Images and labels loaded.\n",
      "Images Shape: (9192, 128, 128, 3)\n",
      "Labels Shape: (9192,)\n",
      "\n"
     ]
    },
    {
     "name": "stdout",
     "output_type": "stream",
     "text": [
      "Select indexes by MIN_LABEL = 1.3 and MAX_LABEL = 5.2\n",
      "Images Shape: (9192, 128, 128, 3)\n",
      "Labels Shape: (9192,)\n",
      "\n",
      "Transform `images` and `labels` to tensors.\n",
      "Images Shape: torch.Size([9192, 3, 128, 128])\n",
      "Labels Shape: torch.Size([9192])\n"
     ]
    }
   ],
   "source": [
    "# Load datasets\n",
    "with h5py.File(DATASET_PATH, \"r\") as f:\n",
    "    images = f[\"images\"][:].astype(float)\n",
    "    labels = f[\"labels\"][:].astype(float)\n",
    "N_all = len(images)\n",
    "print(\"Images and labels loaded.\")\n",
    "print(f\"Images Shape: {images.shape}\")\n",
    "print(f\"Labels Shape: {labels.shape}\")\n",
    "print(\"\")\n",
    "\n",
    "# Load fake datasets\n",
    "with h5py.File(DATASET_FAKE_PATH, \"r\") as f:\n",
    "    images_fake = f[\"images\"][:].astype(float)\n",
    "    labels_fake = f[\"labels\"][:].astype(float)\n",
    "N_fake_all = len(images_fake)\n",
    "print(\"Fake images and labels loaded.\")\n",
    "print(f\"Fake Images Shape: {images_fake.shape}\")\n",
    "print(f\"Fake Labels Shape: {labels_fake.shape}\")\n",
    "\n",
    "# Selection\n",
    "indx = np.where((labels >= MIN_LABEL) * (labels < MAX_LABEL) == True)[0]\n",
    "labels = labels[indx]\n",
    "images = images[indx]\n",
    "print(f\"Select indexes by MIN_LABEL = {MIN_LABEL} and MAX_LABEL = {MAX_LABEL}\")\n",
    "print(f\"Images Shape: {images.shape}\")\n",
    "print(f\"Labels Shape: {labels.shape}\")\n",
    "print(\"\")\n",
    "\n",
    "# Selection fake\n",
    "indx_fake = np.where((labels_fake >= MIN_LABEL) * (labels_fake < MAX_LABEL) == True)[0]\n",
    "labels_fake = labels_fake[indx_fake]\n",
    "images_fake = images_fake[indx_fake]\n",
    "print(f\"Select fake indexes by MIN_LABEL = {MIN_LABEL} and MAX_LABEL = {MAX_LABEL}\")\n",
    "print(f\"Fake Images Shape: {images_fake.shape}\")\n",
    "print(f\"Fake Labels Shape: {labels_fake.shape}\")\n",
    "print(\"\")\n",
    "\n",
    "# To tensor\n",
    "images = torch.from_numpy(images).permute(0, 3, 1, 2)\n",
    "labels = torch.from_numpy(labels)\n",
    "print(\"Transform `images` and `labels` to tensors.\")\n",
    "print(f\"Images Shape: {images.shape}\")\n",
    "print(f\"Labels Shape: {labels.shape}\")\n",
    "\n",
    "# Fake to tensor\n",
    "images_fake = torch.from_numpy(images_fake).permute(0, 3, 1, 2)\n",
    "labels_fake = torch.from_numpy(labels_fake)\n",
    "print(\"Transform `images_fake` and `labels_fake` to tensors.\")\n",
    "print(f\"Fake Images Shape: {images_fake.shape}\")\n",
    "print(f\"Fake Labels Shape: {labels_fake.shape}\")"
   ]
  },
  {
   "cell_type": "markdown",
   "id": "2127b3c6",
   "metadata": {},
   "source": [
    "Then use `train_test_split` function to get data for training and validation, and add all fake images and labels to the training set."
   ]
  },
  {
   "cell_type": "code",
   "execution_count": null,
   "id": "2f7d1dd9",
   "metadata": {
    "execution": {
     "iopub.execute_input": "2025-06-18T09:18:24.291038Z",
     "iopub.status.busy": "2025-06-18T09:18:24.290773Z",
     "iopub.status.idle": "2025-06-18T09:18:24.819061Z",
     "shell.execute_reply": "2025-06-18T09:18:24.818460Z"
    }
   },
   "outputs": [],
   "source": [
    "# Train-test split\n",
    "images_train, images_val, labels_train, labels_val = train_test_split(\n",
    "    images, labels, test_size=TEST_SIZE, random_state=SEED\n",
    ")\n",
    "\n",
    "# Add fake images and labels\n",
    "images_train = torch.cat((images_train, images_fake), dim=0)\n",
    "labels_train = torch.cat((labels_train, labels_fake), dim=0)"
   ]
  },
  {
   "cell_type": "markdown",
   "id": "479b686b",
   "metadata": {},
   "source": [
    "Implement images standardization and labels normalization."
   ]
  },
  {
   "cell_type": "code",
   "execution_count": 6,
   "id": "1ec75f9b",
   "metadata": {
    "execution": {
     "iopub.execute_input": "2025-06-18T09:18:24.821412Z",
     "iopub.status.busy": "2025-06-18T09:18:24.821229Z",
     "iopub.status.idle": "2025-06-18T09:18:27.811288Z",
     "shell.execute_reply": "2025-06-18T09:18:27.810718Z"
    }
   },
   "outputs": [
    {
     "name": "stdout",
     "output_type": "stream",
     "text": [
      "Mean of `images_train`: tensor([[[[ 13.5371]],\n",
      "\n",
      "         [[ 17.8462]],\n",
      "\n",
      "         [[112.1119]]]], dtype=torch.float64)\n",
      "Std of `images_train`: tensor([[[[18.5847]],\n",
      "\n",
      "         [[20.2589]],\n",
      "\n",
      "         [[41.6000]]]], dtype=torch.float64)\n"
     ]
    },
    {
     "name": "stdout",
     "output_type": "stream",
     "text": [
      "Train test split with test size 0.2.\n",
      "Images (train) Shape: torch.Size([7353, 3, 128, 128])\n",
      "Images (val) Shape: torch.Size([1839, 3, 128, 128])\n",
      "Labels (train) Shape: torch.Size([7353])\n",
      "Labels (val) Shape: torch.Size([1839])\n"
     ]
    }
   ],
   "source": [
    "# Image standardization\n",
    "mean = images_train.mean(dim=[0, 2, 3], keepdim=True)\n",
    "std = images_train.std(dim=[0, 2, 3], keepdim=True)\n",
    "print(f\"Mean of `images_train`: {mean}\")\n",
    "print(f\"Std of `images_train`: {std}\")\n",
    "images_train = (images_train - mean) / std\n",
    "images_val = (images_val - mean) / std\n",
    "\n",
    "# Label normalization\n",
    "labels_train = (labels_train - MIN_LABEL) / (MAX_LABEL - MIN_LABEL)\n",
    "labels_val = (labels_val - MIN_LABEL) / (MAX_LABEL - MIN_LABEL)\n",
    "\n",
    "print(f\"Train test split with test size {TEST_SIZE}.\")\n",
    "print(f\"Images (train) Shape: {images_train.shape}\")\n",
    "print(f\"Images (val) Shape: {images_val.shape}\")\n",
    "print(f\"Labels (train) Shape: {labels_train.shape}\")\n",
    "print(f\"Labels (val) Shape: {labels_val.shape}\")"
   ]
  },
  {
   "cell_type": "markdown",
   "id": "e5f55f94",
   "metadata": {},
   "source": [
    "Next, we should transform the data to tensors, combine `images` and `labels` to datasets and get dataloaders according to `BATCH_SIZE`."
   ]
  },
  {
   "cell_type": "code",
   "execution_count": 7,
   "id": "51549a4b",
   "metadata": {
    "execution": {
     "iopub.execute_input": "2025-06-18T09:18:27.813481Z",
     "iopub.status.busy": "2025-06-18T09:18:27.813042Z",
     "iopub.status.idle": "2025-06-18T09:18:28.097214Z",
     "shell.execute_reply": "2025-06-18T09:18:28.096636Z"
    }
   },
   "outputs": [
    {
     "name": "stderr",
     "output_type": "stream",
     "text": [
      "/tmp/ipykernel_141443/1722485521.py:2: UserWarning: To copy construct from a tensor, it is recommended to use sourceTensor.detach().clone() or sourceTensor.detach().clone().requires_grad_(True), rather than torch.tensor(sourceTensor).\n",
      "  images_train_tensor = torch.tensor(images_train, dtype=torch.float32)\n"
     ]
    },
    {
     "name": "stdout",
     "output_type": "stream",
     "text": [
      "Shape of `images_train_tensor`: torch.Size([7353, 3, 128, 128])\n",
      "Shape of `labels_train_tensor`: torch.Size([7353, 1])\n",
      "Shape of `images_val_tensor`: torch.Size([1839, 3, 128, 128])\n",
      "Shape of `labels_val_tensor`: torch.Size([1839, 1])\n"
     ]
    },
    {
     "name": "stderr",
     "output_type": "stream",
     "text": [
      "/tmp/ipykernel_141443/1722485521.py:3: UserWarning: To copy construct from a tensor, it is recommended to use sourceTensor.detach().clone() or sourceTensor.detach().clone().requires_grad_(True), rather than torch.tensor(sourceTensor).\n",
      "  images_val_tensor = torch.tensor(images_val, dtype=torch.float32)\n",
      "/tmp/ipykernel_141443/1722485521.py:4: UserWarning: To copy construct from a tensor, it is recommended to use sourceTensor.detach().clone() or sourceTensor.detach().clone().requires_grad_(True), rather than torch.tensor(sourceTensor).\n",
      "  labels_train_tensor = torch.tensor(labels_train, dtype=torch.float32).view(-1, 1)\n",
      "/tmp/ipykernel_141443/1722485521.py:5: UserWarning: To copy construct from a tensor, it is recommended to use sourceTensor.detach().clone() or sourceTensor.detach().clone().requires_grad_(True), rather than torch.tensor(sourceTensor).\n",
      "  labels_val_tensor = torch.tensor(labels_val, dtype=torch.float32).view(-1, 1)\n"
     ]
    }
   ],
   "source": [
    "# Change to tensor\n",
    "images_train_tensor = torch.tensor(images_train, dtype=torch.float32)\n",
    "images_val_tensor = torch.tensor(images_val, dtype=torch.float32)\n",
    "labels_train_tensor = torch.tensor(labels_train, dtype=torch.float32).view(-1, 1)\n",
    "labels_val_tensor = torch.tensor(labels_val, dtype=torch.float32).view(-1, 1)\n",
    "print(f\"Shape of `images_train_tensor`: {images_train_tensor.shape}\")\n",
    "print(f\"Shape of `labels_train_tensor`: {labels_train_tensor.shape}\")\n",
    "print(f\"Shape of `images_val_tensor`: {images_val_tensor.shape}\")\n",
    "print(f\"Shape of `labels_val_tensor`: {labels_val_tensor.shape}\")\n",
    "\n",
    "# Tensor's dataset\n",
    "train_dataset = TensorDataset(images_train_tensor, labels_train_tensor)\n",
    "val_dataset = TensorDataset(images_val_tensor, labels_val_tensor)\n",
    "\n",
    "# DataLoader\n",
    "train_loader = DataLoader(train_dataset, batch_size=BATCH_SIZE_TRAIN, shuffle=True)\n",
    "val_loader = DataLoader(val_dataset, batch_size=BATCH_SIZE_VAL)"
   ]
  },
  {
   "cell_type": "markdown",
   "id": "ce4ea102",
   "metadata": {},
   "source": [
    "## Step 3 - Train"
   ]
  },
  {
   "cell_type": "markdown",
   "id": "534bdeac",
   "metadata": {},
   "source": [
    "Start training for `epoch` loops, record the training losses and validation losses."
   ]
  },
  {
   "cell_type": "code",
   "execution_count": 8,
   "id": "c0161423",
   "metadata": {
    "execution": {
     "iopub.execute_input": "2025-06-18T09:18:28.099588Z",
     "iopub.status.busy": "2025-06-18T09:18:28.099121Z",
     "iopub.status.idle": "2025-06-18T09:54:10.995163Z",
     "shell.execute_reply": "2025-06-18T09:54:10.994623Z"
    }
   },
   "outputs": [
    {
     "name": "stdout",
     "output_type": "stream",
     "text": [
      "[Epoch 1 / 300] [Train Loss 34.531381 (MSE)] [Valid Loss 0.065636 (MSE)] [Learning Rate: 0.001]\n"
     ]
    },
    {
     "name": "stdout",
     "output_type": "stream",
     "text": [
      "[Epoch 2 / 300] [Train Loss 0.067195 (MSE)] [Valid Loss 0.052241 (MSE)] [Learning Rate: 0.001]\n"
     ]
    },
    {
     "name": "stdout",
     "output_type": "stream",
     "text": [
      "[Epoch 3 / 300] [Train Loss 0.050826 (MSE)] [Valid Loss 0.032881 (MSE)] [Learning Rate: 0.001]\n"
     ]
    },
    {
     "name": "stdout",
     "output_type": "stream",
     "text": [
      "[Epoch 4 / 300] [Train Loss 0.040398 (MSE)] [Valid Loss 0.020532 (MSE)] [Learning Rate: 0.001]\n"
     ]
    },
    {
     "name": "stdout",
     "output_type": "stream",
     "text": [
      "[Epoch 5 / 300] [Train Loss 0.047614 (MSE)] [Valid Loss 0.016616 (MSE)] [Learning Rate: 0.001]\n"
     ]
    },
    {
     "name": "stdout",
     "output_type": "stream",
     "text": [
      "[Epoch 6 / 300] [Train Loss 0.043020 (MSE)] [Valid Loss 0.015448 (MSE)] [Learning Rate: 0.001]\n"
     ]
    },
    {
     "name": "stdout",
     "output_type": "stream",
     "text": [
      "[Epoch 7 / 300] [Train Loss 0.033038 (MSE)] [Valid Loss 0.013684 (MSE)] [Learning Rate: 0.001]\n"
     ]
    },
    {
     "name": "stdout",
     "output_type": "stream",
     "text": [
      "[Epoch 8 / 300] [Train Loss 0.040823 (MSE)] [Valid Loss 0.023006 (MSE)] [Learning Rate: 0.001]\n"
     ]
    },
    {
     "name": "stdout",
     "output_type": "stream",
     "text": [
      "[Epoch 9 / 300] [Train Loss 0.034055 (MSE)] [Valid Loss 0.016286 (MSE)] [Learning Rate: 0.001]\n"
     ]
    },
    {
     "name": "stdout",
     "output_type": "stream",
     "text": [
      "[Epoch 10 / 300] [Train Loss 0.032876 (MSE)] [Valid Loss 0.035476 (MSE)] [Learning Rate: 0.001]\n"
     ]
    },
    {
     "name": "stdout",
     "output_type": "stream",
     "text": [
      "[Epoch 11 / 300] [Train Loss 0.050173 (MSE)] [Valid Loss 0.021468 (MSE)] [Learning Rate: 0.001]\n"
     ]
    },
    {
     "name": "stdout",
     "output_type": "stream",
     "text": [
      "[Epoch 12 / 300] [Train Loss 0.056739 (MSE)] [Valid Loss 0.020437 (MSE)] [Learning Rate: 0.001]\n"
     ]
    },
    {
     "name": "stdout",
     "output_type": "stream",
     "text": [
      "[Epoch 13 / 300] [Train Loss 0.056793 (MSE)] [Valid Loss 0.011877 (MSE)] [Learning Rate: 0.001]\n"
     ]
    },
    {
     "name": "stdout",
     "output_type": "stream",
     "text": [
      "[Epoch 14 / 300] [Train Loss 0.034476 (MSE)] [Valid Loss 0.020505 (MSE)] [Learning Rate: 0.001]\n"
     ]
    },
    {
     "name": "stdout",
     "output_type": "stream",
     "text": [
      "[Epoch 15 / 300] [Train Loss 0.037035 (MSE)] [Valid Loss 0.010105 (MSE)] [Learning Rate: 0.001]\n"
     ]
    },
    {
     "name": "stdout",
     "output_type": "stream",
     "text": [
      "[Epoch 16 / 300] [Train Loss 0.049739 (MSE)] [Valid Loss 0.025112 (MSE)] [Learning Rate: 0.001]\n"
     ]
    },
    {
     "name": "stdout",
     "output_type": "stream",
     "text": [
      "[Epoch 17 / 300] [Train Loss 0.043377 (MSE)] [Valid Loss 0.040505 (MSE)] [Learning Rate: 0.001]\n"
     ]
    },
    {
     "name": "stdout",
     "output_type": "stream",
     "text": [
      "[Epoch 18 / 300] [Train Loss 0.042922 (MSE)] [Valid Loss 0.010650 (MSE)] [Learning Rate: 0.001]\n"
     ]
    },
    {
     "name": "stdout",
     "output_type": "stream",
     "text": [
      "[Epoch 19 / 300] [Train Loss 0.058509 (MSE)] [Valid Loss 0.605394 (MSE)] [Learning Rate: 0.001]\n"
     ]
    },
    {
     "name": "stdout",
     "output_type": "stream",
     "text": [
      "[Epoch 20 / 300] [Train Loss 0.156639 (MSE)] [Valid Loss 0.096366 (MSE)] [Learning Rate: 0.001]\n"
     ]
    },
    {
     "name": "stdout",
     "output_type": "stream",
     "text": [
      "[Epoch 21 / 300] [Train Loss 0.077925 (MSE)] [Valid Loss 0.026153 (MSE)] [Learning Rate: 0.001]\n"
     ]
    },
    {
     "name": "stdout",
     "output_type": "stream",
     "text": [
      "[Epoch 22 / 300] [Train Loss 0.059201 (MSE)] [Valid Loss 0.023713 (MSE)] [Learning Rate: 0.0005]\n"
     ]
    },
    {
     "name": "stdout",
     "output_type": "stream",
     "text": [
      "[Epoch 23 / 300] [Train Loss 0.051076 (MSE)] [Valid Loss 0.013999 (MSE)] [Learning Rate: 0.0005]\n"
     ]
    },
    {
     "name": "stdout",
     "output_type": "stream",
     "text": [
      "[Epoch 24 / 300] [Train Loss 0.045945 (MSE)] [Valid Loss 0.020410 (MSE)] [Learning Rate: 0.0005]\n"
     ]
    },
    {
     "name": "stdout",
     "output_type": "stream",
     "text": [
      "[Epoch 25 / 300] [Train Loss 0.040024 (MSE)] [Valid Loss 0.012134 (MSE)] [Learning Rate: 0.0005]\n"
     ]
    },
    {
     "name": "stdout",
     "output_type": "stream",
     "text": [
      "[Epoch 26 / 300] [Train Loss 0.042332 (MSE)] [Valid Loss 0.014601 (MSE)] [Learning Rate: 0.0005]\n"
     ]
    },
    {
     "name": "stdout",
     "output_type": "stream",
     "text": [
      "[Epoch 27 / 300] [Train Loss 0.036360 (MSE)] [Valid Loss 0.012233 (MSE)] [Learning Rate: 0.0005]\n"
     ]
    },
    {
     "name": "stdout",
     "output_type": "stream",
     "text": [
      "[Epoch 28 / 300] [Train Loss 0.030597 (MSE)] [Valid Loss 0.017353 (MSE)] [Learning Rate: 0.00025]\n"
     ]
    },
    {
     "name": "stdout",
     "output_type": "stream",
     "text": [
      "[Epoch 29 / 300] [Train Loss 0.030186 (MSE)] [Valid Loss 0.016716 (MSE)] [Learning Rate: 0.00025]\n"
     ]
    },
    {
     "name": "stdout",
     "output_type": "stream",
     "text": [
      "[Epoch 30 / 300] [Train Loss 0.027768 (MSE)] [Valid Loss 0.012178 (MSE)] [Learning Rate: 0.00025]\n"
     ]
    },
    {
     "name": "stdout",
     "output_type": "stream",
     "text": [
      "[Epoch 31 / 300] [Train Loss 0.025135 (MSE)] [Valid Loss 0.009582 (MSE)] [Learning Rate: 0.00025]\n"
     ]
    },
    {
     "name": "stdout",
     "output_type": "stream",
     "text": [
      "[Epoch 32 / 300] [Train Loss 0.025582 (MSE)] [Valid Loss 0.014635 (MSE)] [Learning Rate: 0.00025]\n"
     ]
    },
    {
     "name": "stdout",
     "output_type": "stream",
     "text": [
      "[Epoch 33 / 300] [Train Loss 0.024760 (MSE)] [Valid Loss 0.008682 (MSE)] [Learning Rate: 0.00025]\n"
     ]
    },
    {
     "name": "stdout",
     "output_type": "stream",
     "text": [
      "[Epoch 34 / 300] [Train Loss 0.024376 (MSE)] [Valid Loss 0.014250 (MSE)] [Learning Rate: 0.00025]\n"
     ]
    },
    {
     "name": "stdout",
     "output_type": "stream",
     "text": [
      "[Epoch 35 / 300] [Train Loss 0.023637 (MSE)] [Valid Loss 0.017777 (MSE)] [Learning Rate: 0.00025]\n"
     ]
    },
    {
     "name": "stdout",
     "output_type": "stream",
     "text": [
      "[Epoch 36 / 300] [Train Loss 0.023051 (MSE)] [Valid Loss 0.011553 (MSE)] [Learning Rate: 0.00025]\n"
     ]
    },
    {
     "name": "stdout",
     "output_type": "stream",
     "text": [
      "[Epoch 37 / 300] [Train Loss 0.021986 (MSE)] [Valid Loss 0.010458 (MSE)] [Learning Rate: 0.00025]\n"
     ]
    },
    {
     "name": "stdout",
     "output_type": "stream",
     "text": [
      "[Epoch 38 / 300] [Train Loss 0.022957 (MSE)] [Valid Loss 0.007951 (MSE)] [Learning Rate: 0.00025]\n"
     ]
    },
    {
     "name": "stdout",
     "output_type": "stream",
     "text": [
      "[Epoch 39 / 300] [Train Loss 0.022235 (MSE)] [Valid Loss 0.012143 (MSE)] [Learning Rate: 0.00025]\n"
     ]
    },
    {
     "name": "stdout",
     "output_type": "stream",
     "text": [
      "[Epoch 40 / 300] [Train Loss 0.021883 (MSE)] [Valid Loss 0.008509 (MSE)] [Learning Rate: 0.00025]\n"
     ]
    },
    {
     "name": "stdout",
     "output_type": "stream",
     "text": [
      "[Epoch 41 / 300] [Train Loss 0.020149 (MSE)] [Valid Loss 0.008295 (MSE)] [Learning Rate: 0.00025]\n"
     ]
    },
    {
     "name": "stdout",
     "output_type": "stream",
     "text": [
      "[Epoch 42 / 300] [Train Loss 0.019976 (MSE)] [Valid Loss 0.007787 (MSE)] [Learning Rate: 0.00025]\n"
     ]
    },
    {
     "name": "stdout",
     "output_type": "stream",
     "text": [
      "[Epoch 43 / 300] [Train Loss 0.019636 (MSE)] [Valid Loss 0.007173 (MSE)] [Learning Rate: 0.00025]\n"
     ]
    },
    {
     "name": "stdout",
     "output_type": "stream",
     "text": [
      "[Epoch 44 / 300] [Train Loss 0.019947 (MSE)] [Valid Loss 0.010630 (MSE)] [Learning Rate: 0.00025]\n"
     ]
    },
    {
     "name": "stdout",
     "output_type": "stream",
     "text": [
      "[Epoch 45 / 300] [Train Loss 0.019066 (MSE)] [Valid Loss 0.006824 (MSE)] [Learning Rate: 0.00025]\n"
     ]
    },
    {
     "name": "stdout",
     "output_type": "stream",
     "text": [
      "[Epoch 46 / 300] [Train Loss 0.019376 (MSE)] [Valid Loss 0.008203 (MSE)] [Learning Rate: 0.00025]\n"
     ]
    },
    {
     "name": "stdout",
     "output_type": "stream",
     "text": [
      "[Epoch 47 / 300] [Train Loss 0.019683 (MSE)] [Valid Loss 0.006656 (MSE)] [Learning Rate: 0.00025]\n"
     ]
    },
    {
     "name": "stdout",
     "output_type": "stream",
     "text": [
      "[Epoch 48 / 300] [Train Loss 0.020705 (MSE)] [Valid Loss 0.006435 (MSE)] [Learning Rate: 0.00025]\n"
     ]
    },
    {
     "name": "stdout",
     "output_type": "stream",
     "text": [
      "[Epoch 49 / 300] [Train Loss 0.018629 (MSE)] [Valid Loss 0.008212 (MSE)] [Learning Rate: 0.00025]\n"
     ]
    },
    {
     "name": "stdout",
     "output_type": "stream",
     "text": [
      "[Epoch 50 / 300] [Train Loss 0.018499 (MSE)] [Valid Loss 0.006413 (MSE)] [Learning Rate: 0.00025]\n"
     ]
    },
    {
     "name": "stdout",
     "output_type": "stream",
     "text": [
      "[Epoch 51 / 300] [Train Loss 0.018701 (MSE)] [Valid Loss 0.006683 (MSE)] [Learning Rate: 0.00025]\n"
     ]
    },
    {
     "name": "stdout",
     "output_type": "stream",
     "text": [
      "[Epoch 52 / 300] [Train Loss 0.018972 (MSE)] [Valid Loss 0.007951 (MSE)] [Learning Rate: 0.00025]\n"
     ]
    },
    {
     "name": "stdout",
     "output_type": "stream",
     "text": [
      "[Epoch 53 / 300] [Train Loss 0.020118 (MSE)] [Valid Loss 0.007135 (MSE)] [Learning Rate: 0.00025]\n"
     ]
    },
    {
     "name": "stdout",
     "output_type": "stream",
     "text": [
      "[Epoch 54 / 300] [Train Loss 0.018347 (MSE)] [Valid Loss 0.006683 (MSE)] [Learning Rate: 0.00025]\n"
     ]
    },
    {
     "name": "stdout",
     "output_type": "stream",
     "text": [
      "[Epoch 55 / 300] [Train Loss 0.017909 (MSE)] [Valid Loss 0.006758 (MSE)] [Learning Rate: 0.00025]\n"
     ]
    },
    {
     "name": "stdout",
     "output_type": "stream",
     "text": [
      "[Epoch 56 / 300] [Train Loss 0.017643 (MSE)] [Valid Loss 0.007397 (MSE)] [Learning Rate: 0.00025]\n"
     ]
    },
    {
     "name": "stdout",
     "output_type": "stream",
     "text": [
      "[Epoch 57 / 300] [Train Loss 0.016657 (MSE)] [Valid Loss 0.008421 (MSE)] [Learning Rate: 0.000125]\n"
     ]
    },
    {
     "name": "stdout",
     "output_type": "stream",
     "text": [
      "[Epoch 58 / 300] [Train Loss 0.015358 (MSE)] [Valid Loss 0.012275 (MSE)] [Learning Rate: 0.000125]\n"
     ]
    },
    {
     "name": "stdout",
     "output_type": "stream",
     "text": [
      "[Epoch 59 / 300] [Train Loss 0.015713 (MSE)] [Valid Loss 0.005749 (MSE)] [Learning Rate: 0.000125]\n"
     ]
    },
    {
     "name": "stdout",
     "output_type": "stream",
     "text": [
      "[Epoch 60 / 300] [Train Loss 0.015397 (MSE)] [Valid Loss 0.005417 (MSE)] [Learning Rate: 0.000125]\n"
     ]
    },
    {
     "name": "stdout",
     "output_type": "stream",
     "text": [
      "[Epoch 61 / 300] [Train Loss 0.014805 (MSE)] [Valid Loss 0.006383 (MSE)] [Learning Rate: 0.000125]\n"
     ]
    },
    {
     "name": "stdout",
     "output_type": "stream",
     "text": [
      "[Epoch 62 / 300] [Train Loss 0.014689 (MSE)] [Valid Loss 0.006082 (MSE)] [Learning Rate: 0.000125]\n"
     ]
    },
    {
     "name": "stdout",
     "output_type": "stream",
     "text": [
      "[Epoch 63 / 300] [Train Loss 0.013841 (MSE)] [Valid Loss 0.005072 (MSE)] [Learning Rate: 0.000125]\n"
     ]
    },
    {
     "name": "stdout",
     "output_type": "stream",
     "text": [
      "[Epoch 64 / 300] [Train Loss 0.014590 (MSE)] [Valid Loss 0.007317 (MSE)] [Learning Rate: 0.000125]\n"
     ]
    },
    {
     "name": "stdout",
     "output_type": "stream",
     "text": [
      "[Epoch 65 / 300] [Train Loss 0.013979 (MSE)] [Valid Loss 0.005585 (MSE)] [Learning Rate: 0.000125]\n"
     ]
    },
    {
     "name": "stdout",
     "output_type": "stream",
     "text": [
      "[Epoch 66 / 300] [Train Loss 0.013789 (MSE)] [Valid Loss 0.005468 (MSE)] [Learning Rate: 0.000125]\n"
     ]
    },
    {
     "name": "stdout",
     "output_type": "stream",
     "text": [
      "[Epoch 67 / 300] [Train Loss 0.013715 (MSE)] [Valid Loss 0.006942 (MSE)] [Learning Rate: 0.000125]\n"
     ]
    },
    {
     "name": "stdout",
     "output_type": "stream",
     "text": [
      "[Epoch 68 / 300] [Train Loss 0.013154 (MSE)] [Valid Loss 0.005090 (MSE)] [Learning Rate: 0.000125]\n"
     ]
    },
    {
     "name": "stdout",
     "output_type": "stream",
     "text": [
      "[Epoch 69 / 300] [Train Loss 0.014278 (MSE)] [Valid Loss 0.005462 (MSE)] [Learning Rate: 0.000125]\n"
     ]
    },
    {
     "name": "stdout",
     "output_type": "stream",
     "text": [
      "[Epoch 70 / 300] [Train Loss 0.013374 (MSE)] [Valid Loss 0.005601 (MSE)] [Learning Rate: 6.25e-05]\n"
     ]
    },
    {
     "name": "stdout",
     "output_type": "stream",
     "text": [
      "[Epoch 71 / 300] [Train Loss 0.012707 (MSE)] [Valid Loss 0.005453 (MSE)] [Learning Rate: 6.25e-05]\n"
     ]
    },
    {
     "name": "stdout",
     "output_type": "stream",
     "text": [
      "[Epoch 72 / 300] [Train Loss 0.012460 (MSE)] [Valid Loss 0.005416 (MSE)] [Learning Rate: 6.25e-05]\n"
     ]
    },
    {
     "name": "stdout",
     "output_type": "stream",
     "text": [
      "[Epoch 73 / 300] [Train Loss 0.012795 (MSE)] [Valid Loss 0.005535 (MSE)] [Learning Rate: 6.25e-05]\n"
     ]
    },
    {
     "name": "stdout",
     "output_type": "stream",
     "text": [
      "[Epoch 74 / 300] [Train Loss 0.011390 (MSE)] [Valid Loss 0.004698 (MSE)] [Learning Rate: 6.25e-05]\n"
     ]
    },
    {
     "name": "stdout",
     "output_type": "stream",
     "text": [
      "[Epoch 75 / 300] [Train Loss 0.011953 (MSE)] [Valid Loss 0.006012 (MSE)] [Learning Rate: 6.25e-05]\n"
     ]
    },
    {
     "name": "stdout",
     "output_type": "stream",
     "text": [
      "[Epoch 76 / 300] [Train Loss 0.011732 (MSE)] [Valid Loss 0.004582 (MSE)] [Learning Rate: 6.25e-05]\n"
     ]
    },
    {
     "name": "stdout",
     "output_type": "stream",
     "text": [
      "[Epoch 77 / 300] [Train Loss 0.011810 (MSE)] [Valid Loss 0.005794 (MSE)] [Learning Rate: 6.25e-05]\n"
     ]
    },
    {
     "name": "stdout",
     "output_type": "stream",
     "text": [
      "[Epoch 78 / 300] [Train Loss 0.011744 (MSE)] [Valid Loss 0.004496 (MSE)] [Learning Rate: 6.25e-05]\n"
     ]
    },
    {
     "name": "stdout",
     "output_type": "stream",
     "text": [
      "[Epoch 79 / 300] [Train Loss 0.011788 (MSE)] [Valid Loss 0.006981 (MSE)] [Learning Rate: 6.25e-05]\n"
     ]
    },
    {
     "name": "stdout",
     "output_type": "stream",
     "text": [
      "[Epoch 80 / 300] [Train Loss 0.011530 (MSE)] [Valid Loss 0.005051 (MSE)] [Learning Rate: 6.25e-05]\n"
     ]
    },
    {
     "name": "stdout",
     "output_type": "stream",
     "text": [
      "[Epoch 81 / 300] [Train Loss 0.011263 (MSE)] [Valid Loss 0.005150 (MSE)] [Learning Rate: 6.25e-05]\n"
     ]
    },
    {
     "name": "stdout",
     "output_type": "stream",
     "text": [
      "[Epoch 82 / 300] [Train Loss 0.011844 (MSE)] [Valid Loss 0.005622 (MSE)] [Learning Rate: 6.25e-05]\n"
     ]
    },
    {
     "name": "stdout",
     "output_type": "stream",
     "text": [
      "[Epoch 83 / 300] [Train Loss 0.011085 (MSE)] [Valid Loss 0.004723 (MSE)] [Learning Rate: 6.25e-05]\n"
     ]
    },
    {
     "name": "stdout",
     "output_type": "stream",
     "text": [
      "[Epoch 84 / 300] [Train Loss 0.010551 (MSE)] [Valid Loss 0.004277 (MSE)] [Learning Rate: 6.25e-05]\n"
     ]
    },
    {
     "name": "stdout",
     "output_type": "stream",
     "text": [
      "[Epoch 85 / 300] [Train Loss 0.011093 (MSE)] [Valid Loss 0.004245 (MSE)] [Learning Rate: 6.25e-05]\n"
     ]
    },
    {
     "name": "stdout",
     "output_type": "stream",
     "text": [
      "[Epoch 86 / 300] [Train Loss 0.010730 (MSE)] [Valid Loss 0.004566 (MSE)] [Learning Rate: 6.25e-05]\n"
     ]
    },
    {
     "name": "stdout",
     "output_type": "stream",
     "text": [
      "[Epoch 87 / 300] [Train Loss 0.010285 (MSE)] [Valid Loss 0.004329 (MSE)] [Learning Rate: 6.25e-05]\n"
     ]
    },
    {
     "name": "stdout",
     "output_type": "stream",
     "text": [
      "[Epoch 88 / 300] [Train Loss 0.010445 (MSE)] [Valid Loss 0.004306 (MSE)] [Learning Rate: 6.25e-05]\n"
     ]
    },
    {
     "name": "stdout",
     "output_type": "stream",
     "text": [
      "[Epoch 89 / 300] [Train Loss 0.010271 (MSE)] [Valid Loss 0.004939 (MSE)] [Learning Rate: 6.25e-05]\n"
     ]
    },
    {
     "name": "stdout",
     "output_type": "stream",
     "text": [
      "[Epoch 90 / 300] [Train Loss 0.010401 (MSE)] [Valid Loss 0.005400 (MSE)] [Learning Rate: 6.25e-05]\n"
     ]
    },
    {
     "name": "stdout",
     "output_type": "stream",
     "text": [
      "[Epoch 91 / 300] [Train Loss 0.010059 (MSE)] [Valid Loss 0.005143 (MSE)] [Learning Rate: 6.25e-05]\n"
     ]
    },
    {
     "name": "stdout",
     "output_type": "stream",
     "text": [
      "[Epoch 92 / 300] [Train Loss 0.010161 (MSE)] [Valid Loss 0.004844 (MSE)] [Learning Rate: 3.125e-05]\n"
     ]
    },
    {
     "name": "stdout",
     "output_type": "stream",
     "text": [
      "[Epoch 93 / 300] [Train Loss 0.010313 (MSE)] [Valid Loss 0.005187 (MSE)] [Learning Rate: 3.125e-05]\n"
     ]
    },
    {
     "name": "stdout",
     "output_type": "stream",
     "text": [
      "[Epoch 94 / 300] [Train Loss 0.010030 (MSE)] [Valid Loss 0.004608 (MSE)] [Learning Rate: 3.125e-05]\n"
     ]
    },
    {
     "name": "stdout",
     "output_type": "stream",
     "text": [
      "[Epoch 95 / 300] [Train Loss 0.009892 (MSE)] [Valid Loss 0.003941 (MSE)] [Learning Rate: 3.125e-05]\n"
     ]
    },
    {
     "name": "stdout",
     "output_type": "stream",
     "text": [
      "[Epoch 96 / 300] [Train Loss 0.009941 (MSE)] [Valid Loss 0.004059 (MSE)] [Learning Rate: 3.125e-05]\n"
     ]
    },
    {
     "name": "stdout",
     "output_type": "stream",
     "text": [
      "[Epoch 97 / 300] [Train Loss 0.009759 (MSE)] [Valid Loss 0.004305 (MSE)] [Learning Rate: 3.125e-05]\n"
     ]
    },
    {
     "name": "stdout",
     "output_type": "stream",
     "text": [
      "[Epoch 98 / 300] [Train Loss 0.009620 (MSE)] [Valid Loss 0.004061 (MSE)] [Learning Rate: 3.125e-05]\n"
     ]
    },
    {
     "name": "stdout",
     "output_type": "stream",
     "text": [
      "[Epoch 99 / 300] [Train Loss 0.009407 (MSE)] [Valid Loss 0.003820 (MSE)] [Learning Rate: 3.125e-05]\n"
     ]
    },
    {
     "name": "stdout",
     "output_type": "stream",
     "text": [
      "[Epoch 100 / 300] [Train Loss 0.009100 (MSE)] [Valid Loss 0.004056 (MSE)] [Learning Rate: 3.125e-05]\n"
     ]
    },
    {
     "name": "stdout",
     "output_type": "stream",
     "text": [
      "[Epoch 101 / 300] [Train Loss 0.009154 (MSE)] [Valid Loss 0.004741 (MSE)] [Learning Rate: 3.125e-05]\n"
     ]
    },
    {
     "name": "stdout",
     "output_type": "stream",
     "text": [
      "[Epoch 102 / 300] [Train Loss 0.009157 (MSE)] [Valid Loss 0.004066 (MSE)] [Learning Rate: 3.125e-05]\n"
     ]
    },
    {
     "name": "stdout",
     "output_type": "stream",
     "text": [
      "[Epoch 103 / 300] [Train Loss 0.009503 (MSE)] [Valid Loss 0.004082 (MSE)] [Learning Rate: 3.125e-05]\n"
     ]
    },
    {
     "name": "stdout",
     "output_type": "stream",
     "text": [
      "[Epoch 104 / 300] [Train Loss 0.009349 (MSE)] [Valid Loss 0.004592 (MSE)] [Learning Rate: 3.125e-05]\n"
     ]
    },
    {
     "name": "stdout",
     "output_type": "stream",
     "text": [
      "[Epoch 105 / 300] [Train Loss 0.009246 (MSE)] [Valid Loss 0.004291 (MSE)] [Learning Rate: 3.125e-05]\n"
     ]
    },
    {
     "name": "stdout",
     "output_type": "stream",
     "text": [
      "[Epoch 106 / 300] [Train Loss 0.009432 (MSE)] [Valid Loss 0.003769 (MSE)] [Learning Rate: 1.5625e-05]\n"
     ]
    },
    {
     "name": "stdout",
     "output_type": "stream",
     "text": [
      "[Epoch 107 / 300] [Train Loss 0.008868 (MSE)] [Valid Loss 0.004205 (MSE)] [Learning Rate: 1.5625e-05]\n"
     ]
    },
    {
     "name": "stdout",
     "output_type": "stream",
     "text": [
      "[Epoch 108 / 300] [Train Loss 0.009308 (MSE)] [Valid Loss 0.004574 (MSE)] [Learning Rate: 1.5625e-05]\n"
     ]
    },
    {
     "name": "stdout",
     "output_type": "stream",
     "text": [
      "[Epoch 109 / 300] [Train Loss 0.008681 (MSE)] [Valid Loss 0.004415 (MSE)] [Learning Rate: 1.5625e-05]\n"
     ]
    },
    {
     "name": "stdout",
     "output_type": "stream",
     "text": [
      "[Epoch 110 / 300] [Train Loss 0.008573 (MSE)] [Valid Loss 0.004315 (MSE)] [Learning Rate: 1.5625e-05]\n"
     ]
    },
    {
     "name": "stdout",
     "output_type": "stream",
     "text": [
      "[Epoch 111 / 300] [Train Loss 0.008652 (MSE)] [Valid Loss 0.004251 (MSE)] [Learning Rate: 1.5625e-05]\n"
     ]
    },
    {
     "name": "stdout",
     "output_type": "stream",
     "text": [
      "[Epoch 112 / 300] [Train Loss 0.008738 (MSE)] [Valid Loss 0.004270 (MSE)] [Learning Rate: 1.5625e-05]\n"
     ]
    },
    {
     "name": "stdout",
     "output_type": "stream",
     "text": [
      "[Epoch 113 / 300] [Train Loss 0.008383 (MSE)] [Valid Loss 0.004324 (MSE)] [Learning Rate: 7.8125e-06]\n"
     ]
    },
    {
     "name": "stdout",
     "output_type": "stream",
     "text": [
      "[Epoch 114 / 300] [Train Loss 0.008697 (MSE)] [Valid Loss 0.004205 (MSE)] [Learning Rate: 7.8125e-06]\n"
     ]
    },
    {
     "name": "stdout",
     "output_type": "stream",
     "text": [
      "[Epoch 115 / 300] [Train Loss 0.008850 (MSE)] [Valid Loss 0.003767 (MSE)] [Learning Rate: 7.8125e-06]\n"
     ]
    },
    {
     "name": "stdout",
     "output_type": "stream",
     "text": [
      "[Epoch 116 / 300] [Train Loss 0.008487 (MSE)] [Valid Loss 0.004009 (MSE)] [Learning Rate: 7.8125e-06]\n"
     ]
    },
    {
     "name": "stdout",
     "output_type": "stream",
     "text": [
      "[Epoch 117 / 300] [Train Loss 0.008469 (MSE)] [Valid Loss 0.003892 (MSE)] [Learning Rate: 7.8125e-06]\n"
     ]
    },
    {
     "name": "stdout",
     "output_type": "stream",
     "text": [
      "[Epoch 118 / 300] [Train Loss 0.008348 (MSE)] [Valid Loss 0.004190 (MSE)] [Learning Rate: 7.8125e-06]\n"
     ]
    },
    {
     "name": "stdout",
     "output_type": "stream",
     "text": [
      "[Epoch 119 / 300] [Train Loss 0.008560 (MSE)] [Valid Loss 0.004146 (MSE)] [Learning Rate: 7.8125e-06]\n"
     ]
    },
    {
     "name": "stdout",
     "output_type": "stream",
     "text": [
      "[Epoch 120 / 300] [Train Loss 0.008196 (MSE)] [Valid Loss 0.004043 (MSE)] [Learning Rate: 7.8125e-06]\n"
     ]
    },
    {
     "name": "stdout",
     "output_type": "stream",
     "text": [
      "[Epoch 121 / 300] [Train Loss 0.008181 (MSE)] [Valid Loss 0.004310 (MSE)] [Learning Rate: 7.8125e-06]\n"
     ]
    },
    {
     "name": "stdout",
     "output_type": "stream",
     "text": [
      "[Epoch 122 / 300] [Train Loss 0.008189 (MSE)] [Valid Loss 0.004216 (MSE)] [Learning Rate: 3.90625e-06]\n"
     ]
    },
    {
     "name": "stdout",
     "output_type": "stream",
     "text": [
      "[Epoch 123 / 300] [Train Loss 0.008030 (MSE)] [Valid Loss 0.004411 (MSE)] [Learning Rate: 3.90625e-06]\n"
     ]
    },
    {
     "name": "stdout",
     "output_type": "stream",
     "text": [
      "[Epoch 124 / 300] [Train Loss 0.008466 (MSE)] [Valid Loss 0.003861 (MSE)] [Learning Rate: 3.90625e-06]\n"
     ]
    },
    {
     "name": "stdout",
     "output_type": "stream",
     "text": [
      "[Epoch 125 / 300] [Train Loss 0.008231 (MSE)] [Valid Loss 0.003960 (MSE)] [Learning Rate: 3.90625e-06]\n"
     ]
    },
    {
     "name": "stdout",
     "output_type": "stream",
     "text": [
      "[Epoch 126 / 300] [Train Loss 0.008485 (MSE)] [Valid Loss 0.004015 (MSE)] [Learning Rate: 3.90625e-06]\n"
     ]
    },
    {
     "name": "stdout",
     "output_type": "stream",
     "text": [
      "[Epoch 127 / 300] [Train Loss 0.008503 (MSE)] [Valid Loss 0.003968 (MSE)] [Learning Rate: 3.90625e-06]\n"
     ]
    },
    {
     "name": "stdout",
     "output_type": "stream",
     "text": [
      "[Epoch 128 / 300] [Train Loss 0.008130 (MSE)] [Valid Loss 0.003888 (MSE)] [Learning Rate: 1.953125e-06]\n"
     ]
    },
    {
     "name": "stdout",
     "output_type": "stream",
     "text": [
      "[Epoch 129 / 300] [Train Loss 0.008170 (MSE)] [Valid Loss 0.004095 (MSE)] [Learning Rate: 1.953125e-06]\n"
     ]
    },
    {
     "name": "stdout",
     "output_type": "stream",
     "text": [
      "[Epoch 130 / 300] [Train Loss 0.008037 (MSE)] [Valid Loss 0.003946 (MSE)] [Learning Rate: 1.953125e-06]\n"
     ]
    },
    {
     "name": "stdout",
     "output_type": "stream",
     "text": [
      "[Epoch 131 / 300] [Train Loss 0.008342 (MSE)] [Valid Loss 0.004023 (MSE)] [Learning Rate: 1.953125e-06]\n"
     ]
    },
    {
     "name": "stdout",
     "output_type": "stream",
     "text": [
      "[Epoch 132 / 300] [Train Loss 0.008269 (MSE)] [Valid Loss 0.004016 (MSE)] [Learning Rate: 1.953125e-06]\n"
     ]
    },
    {
     "name": "stdout",
     "output_type": "stream",
     "text": [
      "[Epoch 133 / 300] [Train Loss 0.008507 (MSE)] [Valid Loss 0.004058 (MSE)] [Learning Rate: 1.953125e-06]\n"
     ]
    },
    {
     "name": "stdout",
     "output_type": "stream",
     "text": [
      "[Epoch 134 / 300] [Train Loss 0.008400 (MSE)] [Valid Loss 0.003945 (MSE)] [Learning Rate: 9.765625e-07]\n"
     ]
    },
    {
     "name": "stdout",
     "output_type": "stream",
     "text": [
      "[Epoch 135 / 300] [Train Loss 0.008460 (MSE)] [Valid Loss 0.004013 (MSE)] [Learning Rate: 9.765625e-07]\n"
     ]
    },
    {
     "name": "stdout",
     "output_type": "stream",
     "text": [
      "[Epoch 136 / 300] [Train Loss 0.007840 (MSE)] [Valid Loss 0.004090 (MSE)] [Learning Rate: 9.765625e-07]\n"
     ]
    },
    {
     "name": "stdout",
     "output_type": "stream",
     "text": [
      "[Epoch 137 / 300] [Train Loss 0.008196 (MSE)] [Valid Loss 0.004015 (MSE)] [Learning Rate: 9.765625e-07]\n"
     ]
    },
    {
     "name": "stdout",
     "output_type": "stream",
     "text": [
      "[Epoch 138 / 300] [Train Loss 0.008314 (MSE)] [Valid Loss 0.004004 (MSE)] [Learning Rate: 9.765625e-07]\n"
     ]
    },
    {
     "name": "stdout",
     "output_type": "stream",
     "text": [
      "[Epoch 139 / 300] [Train Loss 0.007901 (MSE)] [Valid Loss 0.004025 (MSE)] [Learning Rate: 9.765625e-07]\n"
     ]
    },
    {
     "name": "stdout",
     "output_type": "stream",
     "text": [
      "[Epoch 140 / 300] [Train Loss 0.008044 (MSE)] [Valid Loss 0.003941 (MSE)] [Learning Rate: 4.8828125e-07]\n"
     ]
    },
    {
     "name": "stdout",
     "output_type": "stream",
     "text": [
      "[Epoch 141 / 300] [Train Loss 0.008220 (MSE)] [Valid Loss 0.004038 (MSE)] [Learning Rate: 4.8828125e-07]\n"
     ]
    },
    {
     "name": "stdout",
     "output_type": "stream",
     "text": [
      "[Epoch 142 / 300] [Train Loss 0.008218 (MSE)] [Valid Loss 0.003992 (MSE)] [Learning Rate: 4.8828125e-07]\n"
     ]
    },
    {
     "name": "stdout",
     "output_type": "stream",
     "text": [
      "[Epoch 143 / 300] [Train Loss 0.008068 (MSE)] [Valid Loss 0.004007 (MSE)] [Learning Rate: 4.8828125e-07]\n"
     ]
    },
    {
     "name": "stdout",
     "output_type": "stream",
     "text": [
      "[Epoch 144 / 300] [Train Loss 0.008225 (MSE)] [Valid Loss 0.004068 (MSE)] [Learning Rate: 4.8828125e-07]\n"
     ]
    },
    {
     "name": "stdout",
     "output_type": "stream",
     "text": [
      "[Epoch 145 / 300] [Train Loss 0.008484 (MSE)] [Valid Loss 0.004020 (MSE)] [Learning Rate: 4.8828125e-07]\n"
     ]
    },
    {
     "name": "stdout",
     "output_type": "stream",
     "text": [
      "[Epoch 146 / 300] [Train Loss 0.008241 (MSE)] [Valid Loss 0.003977 (MSE)] [Learning Rate: 2.44140625e-07]\n"
     ]
    },
    {
     "name": "stdout",
     "output_type": "stream",
     "text": [
      "[Epoch 147 / 300] [Train Loss 0.008177 (MSE)] [Valid Loss 0.003945 (MSE)] [Learning Rate: 2.44140625e-07]\n"
     ]
    },
    {
     "name": "stdout",
     "output_type": "stream",
     "text": [
      "[Epoch 148 / 300] [Train Loss 0.008046 (MSE)] [Valid Loss 0.003934 (MSE)] [Learning Rate: 2.44140625e-07]\n"
     ]
    },
    {
     "name": "stdout",
     "output_type": "stream",
     "text": [
      "[Epoch 149 / 300] [Train Loss 0.007976 (MSE)] [Valid Loss 0.003936 (MSE)] [Learning Rate: 2.44140625e-07]\n"
     ]
    },
    {
     "name": "stdout",
     "output_type": "stream",
     "text": [
      "[Epoch 150 / 300] [Train Loss 0.008312 (MSE)] [Valid Loss 0.003983 (MSE)] [Learning Rate: 2.44140625e-07]\n"
     ]
    },
    {
     "name": "stdout",
     "output_type": "stream",
     "text": [
      "[Epoch 151 / 300] [Train Loss 0.007788 (MSE)] [Valid Loss 0.004021 (MSE)] [Learning Rate: 2.44140625e-07]\n"
     ]
    },
    {
     "name": "stdout",
     "output_type": "stream",
     "text": [
      "[Epoch 152 / 300] [Train Loss 0.008213 (MSE)] [Valid Loss 0.004023 (MSE)] [Learning Rate: 1.220703125e-07]\n"
     ]
    },
    {
     "name": "stdout",
     "output_type": "stream",
     "text": [
      "[Epoch 153 / 300] [Train Loss 0.008062 (MSE)] [Valid Loss 0.004027 (MSE)] [Learning Rate: 1.220703125e-07]\n"
     ]
    },
    {
     "name": "stdout",
     "output_type": "stream",
     "text": [
      "[Epoch 154 / 300] [Train Loss 0.008181 (MSE)] [Valid Loss 0.004009 (MSE)] [Learning Rate: 1.220703125e-07]\n"
     ]
    },
    {
     "name": "stdout",
     "output_type": "stream",
     "text": [
      "[Epoch 155 / 300] [Train Loss 0.008044 (MSE)] [Valid Loss 0.004032 (MSE)] [Learning Rate: 1.220703125e-07]\n"
     ]
    },
    {
     "name": "stdout",
     "output_type": "stream",
     "text": [
      "[Epoch 156 / 300] [Train Loss 0.007910 (MSE)] [Valid Loss 0.004027 (MSE)] [Learning Rate: 1.220703125e-07]\n"
     ]
    },
    {
     "name": "stdout",
     "output_type": "stream",
     "text": [
      "[Epoch 157 / 300] [Train Loss 0.008016 (MSE)] [Valid Loss 0.004006 (MSE)] [Learning Rate: 1.220703125e-07]\n"
     ]
    },
    {
     "name": "stdout",
     "output_type": "stream",
     "text": [
      "[Epoch 158 / 300] [Train Loss 0.008128 (MSE)] [Valid Loss 0.004002 (MSE)] [Learning Rate: 6.103515625e-08]\n"
     ]
    },
    {
     "name": "stdout",
     "output_type": "stream",
     "text": [
      "[Epoch 159 / 300] [Train Loss 0.007858 (MSE)] [Valid Loss 0.004004 (MSE)] [Learning Rate: 6.103515625e-08]\n"
     ]
    },
    {
     "name": "stdout",
     "output_type": "stream",
     "text": [
      "[Epoch 160 / 300] [Train Loss 0.007829 (MSE)] [Valid Loss 0.003995 (MSE)] [Learning Rate: 6.103515625e-08]\n"
     ]
    },
    {
     "name": "stdout",
     "output_type": "stream",
     "text": [
      "[Epoch 161 / 300] [Train Loss 0.008031 (MSE)] [Valid Loss 0.003997 (MSE)] [Learning Rate: 6.103515625e-08]\n"
     ]
    },
    {
     "name": "stdout",
     "output_type": "stream",
     "text": [
      "[Epoch 162 / 300] [Train Loss 0.008206 (MSE)] [Valid Loss 0.003992 (MSE)] [Learning Rate: 6.103515625e-08]\n"
     ]
    },
    {
     "name": "stdout",
     "output_type": "stream",
     "text": [
      "[Epoch 163 / 300] [Train Loss 0.008047 (MSE)] [Valid Loss 0.003981 (MSE)] [Learning Rate: 6.103515625e-08]\n"
     ]
    },
    {
     "name": "stdout",
     "output_type": "stream",
     "text": [
      "[Epoch 164 / 300] [Train Loss 0.008127 (MSE)] [Valid Loss 0.003978 (MSE)] [Learning Rate: 3.0517578125e-08]\n"
     ]
    },
    {
     "name": "stdout",
     "output_type": "stream",
     "text": [
      "[Epoch 165 / 300] [Train Loss 0.008365 (MSE)] [Valid Loss 0.003976 (MSE)] [Learning Rate: 3.0517578125e-08]\n"
     ]
    },
    {
     "name": "stdout",
     "output_type": "stream",
     "text": [
      "[Epoch 166 / 300] [Train Loss 0.008078 (MSE)] [Valid Loss 0.003977 (MSE)] [Learning Rate: 3.0517578125e-08]\n"
     ]
    },
    {
     "name": "stdout",
     "output_type": "stream",
     "text": [
      "[Epoch 167 / 300] [Train Loss 0.008243 (MSE)] [Valid Loss 0.003984 (MSE)] [Learning Rate: 3.0517578125e-08]\n"
     ]
    },
    {
     "name": "stdout",
     "output_type": "stream",
     "text": [
      "[Epoch 168 / 300] [Train Loss 0.008350 (MSE)] [Valid Loss 0.003986 (MSE)] [Learning Rate: 3.0517578125e-08]\n"
     ]
    },
    {
     "name": "stdout",
     "output_type": "stream",
     "text": [
      "[Epoch 169 / 300] [Train Loss 0.008110 (MSE)] [Valid Loss 0.003990 (MSE)] [Learning Rate: 3.0517578125e-08]\n"
     ]
    },
    {
     "name": "stdout",
     "output_type": "stream",
     "text": [
      "[Epoch 170 / 300] [Train Loss 0.008014 (MSE)] [Valid Loss 0.003991 (MSE)] [Learning Rate: 1.52587890625e-08]\n"
     ]
    },
    {
     "name": "stdout",
     "output_type": "stream",
     "text": [
      "[Epoch 171 / 300] [Train Loss 0.008075 (MSE)] [Valid Loss 0.003995 (MSE)] [Learning Rate: 1.52587890625e-08]\n"
     ]
    },
    {
     "name": "stdout",
     "output_type": "stream",
     "text": [
      "[Epoch 172 / 300] [Train Loss 0.007965 (MSE)] [Valid Loss 0.003998 (MSE)] [Learning Rate: 1.52587890625e-08]\n"
     ]
    },
    {
     "name": "stdout",
     "output_type": "stream",
     "text": [
      "[Epoch 173 / 300] [Train Loss 0.007976 (MSE)] [Valid Loss 0.004000 (MSE)] [Learning Rate: 1.52587890625e-08]\n"
     ]
    },
    {
     "name": "stdout",
     "output_type": "stream",
     "text": [
      "[Epoch 174 / 300] [Train Loss 0.008227 (MSE)] [Valid Loss 0.003999 (MSE)] [Learning Rate: 1.52587890625e-08]\n"
     ]
    },
    {
     "name": "stdout",
     "output_type": "stream",
     "text": [
      "[Epoch 175 / 300] [Train Loss 0.008018 (MSE)] [Valid Loss 0.003998 (MSE)] [Learning Rate: 1.52587890625e-08]\n"
     ]
    },
    {
     "name": "stdout",
     "output_type": "stream",
     "text": [
      "[Epoch 176 / 300] [Train Loss 0.008328 (MSE)] [Valid Loss 0.003999 (MSE)] [Learning Rate: 1.52587890625e-08]\n"
     ]
    },
    {
     "name": "stdout",
     "output_type": "stream",
     "text": [
      "[Epoch 177 / 300] [Train Loss 0.008269 (MSE)] [Valid Loss 0.003998 (MSE)] [Learning Rate: 1.52587890625e-08]\n"
     ]
    },
    {
     "name": "stdout",
     "output_type": "stream",
     "text": [
      "[Epoch 178 / 300] [Train Loss 0.008288 (MSE)] [Valid Loss 0.004000 (MSE)] [Learning Rate: 1.52587890625e-08]\n"
     ]
    },
    {
     "name": "stdout",
     "output_type": "stream",
     "text": [
      "[Epoch 179 / 300] [Train Loss 0.008031 (MSE)] [Valid Loss 0.004001 (MSE)] [Learning Rate: 1.52587890625e-08]\n"
     ]
    },
    {
     "name": "stdout",
     "output_type": "stream",
     "text": [
      "[Epoch 180 / 300] [Train Loss 0.008041 (MSE)] [Valid Loss 0.004000 (MSE)] [Learning Rate: 1.52587890625e-08]\n"
     ]
    },
    {
     "name": "stdout",
     "output_type": "stream",
     "text": [
      "[Epoch 181 / 300] [Train Loss 0.008051 (MSE)] [Valid Loss 0.003999 (MSE)] [Learning Rate: 1.52587890625e-08]\n"
     ]
    },
    {
     "name": "stdout",
     "output_type": "stream",
     "text": [
      "[Epoch 182 / 300] [Train Loss 0.008075 (MSE)] [Valid Loss 0.003998 (MSE)] [Learning Rate: 1.52587890625e-08]\n"
     ]
    },
    {
     "name": "stdout",
     "output_type": "stream",
     "text": [
      "[Epoch 183 / 300] [Train Loss 0.008237 (MSE)] [Valid Loss 0.003996 (MSE)] [Learning Rate: 1.52587890625e-08]\n"
     ]
    },
    {
     "name": "stdout",
     "output_type": "stream",
     "text": [
      "[Epoch 184 / 300] [Train Loss 0.008214 (MSE)] [Valid Loss 0.003998 (MSE)] [Learning Rate: 1.52587890625e-08]\n"
     ]
    },
    {
     "name": "stdout",
     "output_type": "stream",
     "text": [
      "[Epoch 185 / 300] [Train Loss 0.008316 (MSE)] [Valid Loss 0.003996 (MSE)] [Learning Rate: 1.52587890625e-08]\n"
     ]
    },
    {
     "name": "stdout",
     "output_type": "stream",
     "text": [
      "[Epoch 186 / 300] [Train Loss 0.008257 (MSE)] [Valid Loss 0.003992 (MSE)] [Learning Rate: 1.52587890625e-08]\n"
     ]
    },
    {
     "name": "stdout",
     "output_type": "stream",
     "text": [
      "[Epoch 187 / 300] [Train Loss 0.008215 (MSE)] [Valid Loss 0.003991 (MSE)] [Learning Rate: 1.52587890625e-08]\n"
     ]
    },
    {
     "name": "stdout",
     "output_type": "stream",
     "text": [
      "[Epoch 188 / 300] [Train Loss 0.008257 (MSE)] [Valid Loss 0.003991 (MSE)] [Learning Rate: 1.52587890625e-08]\n"
     ]
    },
    {
     "name": "stdout",
     "output_type": "stream",
     "text": [
      "[Epoch 189 / 300] [Train Loss 0.008000 (MSE)] [Valid Loss 0.003987 (MSE)] [Learning Rate: 1.52587890625e-08]\n"
     ]
    },
    {
     "name": "stdout",
     "output_type": "stream",
     "text": [
      "[Epoch 190 / 300] [Train Loss 0.007841 (MSE)] [Valid Loss 0.003982 (MSE)] [Learning Rate: 1.52587890625e-08]\n"
     ]
    },
    {
     "name": "stdout",
     "output_type": "stream",
     "text": [
      "[Epoch 191 / 300] [Train Loss 0.008311 (MSE)] [Valid Loss 0.003981 (MSE)] [Learning Rate: 1.52587890625e-08]\n"
     ]
    },
    {
     "name": "stdout",
     "output_type": "stream",
     "text": [
      "[Epoch 192 / 300] [Train Loss 0.008170 (MSE)] [Valid Loss 0.003981 (MSE)] [Learning Rate: 1.52587890625e-08]\n"
     ]
    },
    {
     "name": "stdout",
     "output_type": "stream",
     "text": [
      "[Epoch 193 / 300] [Train Loss 0.007986 (MSE)] [Valid Loss 0.003978 (MSE)] [Learning Rate: 1.52587890625e-08]\n"
     ]
    },
    {
     "name": "stdout",
     "output_type": "stream",
     "text": [
      "[Epoch 194 / 300] [Train Loss 0.008106 (MSE)] [Valid Loss 0.003979 (MSE)] [Learning Rate: 1.52587890625e-08]\n"
     ]
    },
    {
     "name": "stdout",
     "output_type": "stream",
     "text": [
      "[Epoch 195 / 300] [Train Loss 0.008314 (MSE)] [Valid Loss 0.003983 (MSE)] [Learning Rate: 1.52587890625e-08]\n"
     ]
    },
    {
     "name": "stdout",
     "output_type": "stream",
     "text": [
      "[Epoch 196 / 300] [Train Loss 0.008385 (MSE)] [Valid Loss 0.003982 (MSE)] [Learning Rate: 1.52587890625e-08]\n"
     ]
    },
    {
     "name": "stdout",
     "output_type": "stream",
     "text": [
      "[Epoch 197 / 300] [Train Loss 0.007881 (MSE)] [Valid Loss 0.003981 (MSE)] [Learning Rate: 1.52587890625e-08]\n"
     ]
    },
    {
     "name": "stdout",
     "output_type": "stream",
     "text": [
      "[Epoch 198 / 300] [Train Loss 0.008147 (MSE)] [Valid Loss 0.003986 (MSE)] [Learning Rate: 1.52587890625e-08]\n"
     ]
    },
    {
     "name": "stdout",
     "output_type": "stream",
     "text": [
      "[Epoch 199 / 300] [Train Loss 0.008209 (MSE)] [Valid Loss 0.003991 (MSE)] [Learning Rate: 1.52587890625e-08]\n"
     ]
    },
    {
     "name": "stdout",
     "output_type": "stream",
     "text": [
      "[Epoch 200 / 300] [Train Loss 0.008367 (MSE)] [Valid Loss 0.003996 (MSE)] [Learning Rate: 1.52587890625e-08]\n"
     ]
    },
    {
     "name": "stdout",
     "output_type": "stream",
     "text": [
      "[Epoch 201 / 300] [Train Loss 0.008279 (MSE)] [Valid Loss 0.003994 (MSE)] [Learning Rate: 1.52587890625e-08]\n"
     ]
    },
    {
     "name": "stdout",
     "output_type": "stream",
     "text": [
      "[Epoch 202 / 300] [Train Loss 0.008419 (MSE)] [Valid Loss 0.003993 (MSE)] [Learning Rate: 1.52587890625e-08]\n"
     ]
    },
    {
     "name": "stdout",
     "output_type": "stream",
     "text": [
      "[Epoch 203 / 300] [Train Loss 0.008079 (MSE)] [Valid Loss 0.003994 (MSE)] [Learning Rate: 1.52587890625e-08]\n"
     ]
    },
    {
     "name": "stdout",
     "output_type": "stream",
     "text": [
      "[Epoch 204 / 300] [Train Loss 0.008419 (MSE)] [Valid Loss 0.003993 (MSE)] [Learning Rate: 1.52587890625e-08]\n"
     ]
    },
    {
     "name": "stdout",
     "output_type": "stream",
     "text": [
      "[Epoch 205 / 300] [Train Loss 0.008099 (MSE)] [Valid Loss 0.003990 (MSE)] [Learning Rate: 1.52587890625e-08]\n"
     ]
    },
    {
     "name": "stdout",
     "output_type": "stream",
     "text": [
      "[Epoch 206 / 300] [Train Loss 0.008310 (MSE)] [Valid Loss 0.003987 (MSE)] [Learning Rate: 1.52587890625e-08]\n"
     ]
    },
    {
     "name": "stdout",
     "output_type": "stream",
     "text": [
      "[Epoch 207 / 300] [Train Loss 0.008194 (MSE)] [Valid Loss 0.003986 (MSE)] [Learning Rate: 1.52587890625e-08]\n"
     ]
    },
    {
     "name": "stdout",
     "output_type": "stream",
     "text": [
      "[Epoch 208 / 300] [Train Loss 0.008029 (MSE)] [Valid Loss 0.003984 (MSE)] [Learning Rate: 1.52587890625e-08]\n"
     ]
    },
    {
     "name": "stdout",
     "output_type": "stream",
     "text": [
      "[Epoch 209 / 300] [Train Loss 0.008182 (MSE)] [Valid Loss 0.003981 (MSE)] [Learning Rate: 1.52587890625e-08]\n"
     ]
    },
    {
     "name": "stdout",
     "output_type": "stream",
     "text": [
      "[Epoch 210 / 300] [Train Loss 0.008169 (MSE)] [Valid Loss 0.003982 (MSE)] [Learning Rate: 1.52587890625e-08]\n"
     ]
    },
    {
     "name": "stdout",
     "output_type": "stream",
     "text": [
      "[Epoch 211 / 300] [Train Loss 0.008244 (MSE)] [Valid Loss 0.003980 (MSE)] [Learning Rate: 1.52587890625e-08]\n"
     ]
    },
    {
     "name": "stdout",
     "output_type": "stream",
     "text": [
      "[Epoch 212 / 300] [Train Loss 0.007979 (MSE)] [Valid Loss 0.003982 (MSE)] [Learning Rate: 1.52587890625e-08]\n"
     ]
    },
    {
     "name": "stdout",
     "output_type": "stream",
     "text": [
      "[Epoch 213 / 300] [Train Loss 0.008162 (MSE)] [Valid Loss 0.003979 (MSE)] [Learning Rate: 1.52587890625e-08]\n"
     ]
    },
    {
     "name": "stdout",
     "output_type": "stream",
     "text": [
      "[Epoch 214 / 300] [Train Loss 0.008342 (MSE)] [Valid Loss 0.003976 (MSE)] [Learning Rate: 1.52587890625e-08]\n"
     ]
    },
    {
     "name": "stdout",
     "output_type": "stream",
     "text": [
      "[Epoch 215 / 300] [Train Loss 0.008131 (MSE)] [Valid Loss 0.003974 (MSE)] [Learning Rate: 1.52587890625e-08]\n"
     ]
    },
    {
     "name": "stdout",
     "output_type": "stream",
     "text": [
      "[Epoch 216 / 300] [Train Loss 0.008108 (MSE)] [Valid Loss 0.003978 (MSE)] [Learning Rate: 1.52587890625e-08]\n"
     ]
    },
    {
     "name": "stdout",
     "output_type": "stream",
     "text": [
      "[Epoch 217 / 300] [Train Loss 0.008219 (MSE)] [Valid Loss 0.003979 (MSE)] [Learning Rate: 1.52587890625e-08]\n"
     ]
    },
    {
     "name": "stdout",
     "output_type": "stream",
     "text": [
      "[Epoch 218 / 300] [Train Loss 0.008340 (MSE)] [Valid Loss 0.003975 (MSE)] [Learning Rate: 1.52587890625e-08]\n"
     ]
    },
    {
     "name": "stdout",
     "output_type": "stream",
     "text": [
      "[Epoch 219 / 300] [Train Loss 0.008168 (MSE)] [Valid Loss 0.003979 (MSE)] [Learning Rate: 1.52587890625e-08]\n"
     ]
    },
    {
     "name": "stdout",
     "output_type": "stream",
     "text": [
      "[Epoch 220 / 300] [Train Loss 0.008125 (MSE)] [Valid Loss 0.003981 (MSE)] [Learning Rate: 1.52587890625e-08]\n"
     ]
    },
    {
     "name": "stdout",
     "output_type": "stream",
     "text": [
      "[Epoch 221 / 300] [Train Loss 0.008488 (MSE)] [Valid Loss 0.003983 (MSE)] [Learning Rate: 1.52587890625e-08]\n"
     ]
    },
    {
     "name": "stdout",
     "output_type": "stream",
     "text": [
      "[Epoch 222 / 300] [Train Loss 0.008174 (MSE)] [Valid Loss 0.003981 (MSE)] [Learning Rate: 1.52587890625e-08]\n"
     ]
    },
    {
     "name": "stdout",
     "output_type": "stream",
     "text": [
      "[Epoch 223 / 300] [Train Loss 0.007811 (MSE)] [Valid Loss 0.003980 (MSE)] [Learning Rate: 1.52587890625e-08]\n"
     ]
    },
    {
     "name": "stdout",
     "output_type": "stream",
     "text": [
      "[Epoch 224 / 300] [Train Loss 0.007998 (MSE)] [Valid Loss 0.003979 (MSE)] [Learning Rate: 1.52587890625e-08]\n"
     ]
    },
    {
     "name": "stdout",
     "output_type": "stream",
     "text": [
      "[Epoch 225 / 300] [Train Loss 0.008210 (MSE)] [Valid Loss 0.003980 (MSE)] [Learning Rate: 1.52587890625e-08]\n"
     ]
    },
    {
     "name": "stdout",
     "output_type": "stream",
     "text": [
      "[Epoch 226 / 300] [Train Loss 0.008433 (MSE)] [Valid Loss 0.003980 (MSE)] [Learning Rate: 1.52587890625e-08]\n"
     ]
    },
    {
     "name": "stdout",
     "output_type": "stream",
     "text": [
      "[Epoch 227 / 300] [Train Loss 0.008286 (MSE)] [Valid Loss 0.003982 (MSE)] [Learning Rate: 1.52587890625e-08]\n"
     ]
    },
    {
     "name": "stdout",
     "output_type": "stream",
     "text": [
      "[Epoch 228 / 300] [Train Loss 0.008457 (MSE)] [Valid Loss 0.003978 (MSE)] [Learning Rate: 1.52587890625e-08]\n"
     ]
    },
    {
     "name": "stdout",
     "output_type": "stream",
     "text": [
      "[Epoch 229 / 300] [Train Loss 0.008399 (MSE)] [Valid Loss 0.003973 (MSE)] [Learning Rate: 1.52587890625e-08]\n"
     ]
    },
    {
     "name": "stdout",
     "output_type": "stream",
     "text": [
      "[Epoch 230 / 300] [Train Loss 0.008110 (MSE)] [Valid Loss 0.003976 (MSE)] [Learning Rate: 1.52587890625e-08]\n"
     ]
    },
    {
     "name": "stdout",
     "output_type": "stream",
     "text": [
      "[Epoch 231 / 300] [Train Loss 0.008325 (MSE)] [Valid Loss 0.003977 (MSE)] [Learning Rate: 1.52587890625e-08]\n"
     ]
    },
    {
     "name": "stdout",
     "output_type": "stream",
     "text": [
      "[Epoch 232 / 300] [Train Loss 0.008149 (MSE)] [Valid Loss 0.003982 (MSE)] [Learning Rate: 1.52587890625e-08]\n"
     ]
    },
    {
     "name": "stdout",
     "output_type": "stream",
     "text": [
      "[Epoch 233 / 300] [Train Loss 0.008083 (MSE)] [Valid Loss 0.003982 (MSE)] [Learning Rate: 1.52587890625e-08]\n"
     ]
    },
    {
     "name": "stdout",
     "output_type": "stream",
     "text": [
      "[Epoch 234 / 300] [Train Loss 0.008588 (MSE)] [Valid Loss 0.003981 (MSE)] [Learning Rate: 1.52587890625e-08]\n"
     ]
    },
    {
     "name": "stdout",
     "output_type": "stream",
     "text": [
      "[Epoch 235 / 300] [Train Loss 0.008195 (MSE)] [Valid Loss 0.003980 (MSE)] [Learning Rate: 1.52587890625e-08]\n"
     ]
    },
    {
     "name": "stdout",
     "output_type": "stream",
     "text": [
      "[Epoch 236 / 300] [Train Loss 0.008032 (MSE)] [Valid Loss 0.003975 (MSE)] [Learning Rate: 1.52587890625e-08]\n"
     ]
    },
    {
     "name": "stdout",
     "output_type": "stream",
     "text": [
      "[Epoch 237 / 300] [Train Loss 0.007916 (MSE)] [Valid Loss 0.003973 (MSE)] [Learning Rate: 1.52587890625e-08]\n"
     ]
    },
    {
     "name": "stdout",
     "output_type": "stream",
     "text": [
      "[Epoch 238 / 300] [Train Loss 0.008349 (MSE)] [Valid Loss 0.003975 (MSE)] [Learning Rate: 1.52587890625e-08]\n"
     ]
    },
    {
     "name": "stdout",
     "output_type": "stream",
     "text": [
      "[Epoch 239 / 300] [Train Loss 0.008030 (MSE)] [Valid Loss 0.003972 (MSE)] [Learning Rate: 1.52587890625e-08]\n"
     ]
    },
    {
     "name": "stdout",
     "output_type": "stream",
     "text": [
      "[Epoch 240 / 300] [Train Loss 0.007901 (MSE)] [Valid Loss 0.003972 (MSE)] [Learning Rate: 1.52587890625e-08]\n"
     ]
    },
    {
     "name": "stdout",
     "output_type": "stream",
     "text": [
      "[Epoch 241 / 300] [Train Loss 0.008196 (MSE)] [Valid Loss 0.003972 (MSE)] [Learning Rate: 1.52587890625e-08]\n"
     ]
    },
    {
     "name": "stdout",
     "output_type": "stream",
     "text": [
      "[Epoch 242 / 300] [Train Loss 0.008222 (MSE)] [Valid Loss 0.003975 (MSE)] [Learning Rate: 1.52587890625e-08]\n"
     ]
    },
    {
     "name": "stdout",
     "output_type": "stream",
     "text": [
      "[Epoch 243 / 300] [Train Loss 0.008483 (MSE)] [Valid Loss 0.003975 (MSE)] [Learning Rate: 1.52587890625e-08]\n"
     ]
    },
    {
     "name": "stdout",
     "output_type": "stream",
     "text": [
      "[Epoch 244 / 300] [Train Loss 0.008140 (MSE)] [Valid Loss 0.003973 (MSE)] [Learning Rate: 1.52587890625e-08]\n"
     ]
    },
    {
     "name": "stdout",
     "output_type": "stream",
     "text": [
      "[Epoch 245 / 300] [Train Loss 0.008245 (MSE)] [Valid Loss 0.003971 (MSE)] [Learning Rate: 1.52587890625e-08]\n"
     ]
    },
    {
     "name": "stdout",
     "output_type": "stream",
     "text": [
      "[Epoch 246 / 300] [Train Loss 0.008377 (MSE)] [Valid Loss 0.003974 (MSE)] [Learning Rate: 1.52587890625e-08]\n"
     ]
    },
    {
     "name": "stdout",
     "output_type": "stream",
     "text": [
      "[Epoch 247 / 300] [Train Loss 0.008185 (MSE)] [Valid Loss 0.003972 (MSE)] [Learning Rate: 1.52587890625e-08]\n"
     ]
    },
    {
     "name": "stdout",
     "output_type": "stream",
     "text": [
      "[Epoch 248 / 300] [Train Loss 0.008325 (MSE)] [Valid Loss 0.003972 (MSE)] [Learning Rate: 1.52587890625e-08]\n"
     ]
    },
    {
     "name": "stdout",
     "output_type": "stream",
     "text": [
      "[Epoch 249 / 300] [Train Loss 0.008407 (MSE)] [Valid Loss 0.003973 (MSE)] [Learning Rate: 1.52587890625e-08]\n"
     ]
    },
    {
     "name": "stdout",
     "output_type": "stream",
     "text": [
      "[Epoch 250 / 300] [Train Loss 0.008244 (MSE)] [Valid Loss 0.003971 (MSE)] [Learning Rate: 1.52587890625e-08]\n"
     ]
    },
    {
     "name": "stdout",
     "output_type": "stream",
     "text": [
      "[Epoch 251 / 300] [Train Loss 0.008334 (MSE)] [Valid Loss 0.003967 (MSE)] [Learning Rate: 1.52587890625e-08]\n"
     ]
    },
    {
     "name": "stdout",
     "output_type": "stream",
     "text": [
      "[Epoch 252 / 300] [Train Loss 0.008180 (MSE)] [Valid Loss 0.003967 (MSE)] [Learning Rate: 1.52587890625e-08]\n"
     ]
    },
    {
     "name": "stdout",
     "output_type": "stream",
     "text": [
      "[Epoch 253 / 300] [Train Loss 0.008302 (MSE)] [Valid Loss 0.003965 (MSE)] [Learning Rate: 1.52587890625e-08]\n"
     ]
    },
    {
     "name": "stdout",
     "output_type": "stream",
     "text": [
      "[Epoch 254 / 300] [Train Loss 0.008001 (MSE)] [Valid Loss 0.003964 (MSE)] [Learning Rate: 1.52587890625e-08]\n"
     ]
    },
    {
     "name": "stdout",
     "output_type": "stream",
     "text": [
      "[Epoch 255 / 300] [Train Loss 0.008041 (MSE)] [Valid Loss 0.003965 (MSE)] [Learning Rate: 1.52587890625e-08]\n"
     ]
    },
    {
     "name": "stdout",
     "output_type": "stream",
     "text": [
      "[Epoch 256 / 300] [Train Loss 0.008293 (MSE)] [Valid Loss 0.003963 (MSE)] [Learning Rate: 1.52587890625e-08]\n"
     ]
    },
    {
     "name": "stdout",
     "output_type": "stream",
     "text": [
      "[Epoch 257 / 300] [Train Loss 0.007892 (MSE)] [Valid Loss 0.003965 (MSE)] [Learning Rate: 1.52587890625e-08]\n"
     ]
    },
    {
     "name": "stdout",
     "output_type": "stream",
     "text": [
      "[Epoch 258 / 300] [Train Loss 0.008395 (MSE)] [Valid Loss 0.003964 (MSE)] [Learning Rate: 1.52587890625e-08]\n"
     ]
    },
    {
     "name": "stdout",
     "output_type": "stream",
     "text": [
      "[Epoch 259 / 300] [Train Loss 0.008277 (MSE)] [Valid Loss 0.003967 (MSE)] [Learning Rate: 1.52587890625e-08]\n"
     ]
    },
    {
     "name": "stdout",
     "output_type": "stream",
     "text": [
      "[Epoch 260 / 300] [Train Loss 0.008055 (MSE)] [Valid Loss 0.003967 (MSE)] [Learning Rate: 1.52587890625e-08]\n"
     ]
    },
    {
     "name": "stdout",
     "output_type": "stream",
     "text": [
      "[Epoch 261 / 300] [Train Loss 0.008054 (MSE)] [Valid Loss 0.003965 (MSE)] [Learning Rate: 1.52587890625e-08]\n"
     ]
    },
    {
     "name": "stdout",
     "output_type": "stream",
     "text": [
      "[Epoch 262 / 300] [Train Loss 0.007824 (MSE)] [Valid Loss 0.003964 (MSE)] [Learning Rate: 1.52587890625e-08]\n"
     ]
    },
    {
     "name": "stdout",
     "output_type": "stream",
     "text": [
      "[Epoch 263 / 300] [Train Loss 0.008051 (MSE)] [Valid Loss 0.003966 (MSE)] [Learning Rate: 1.52587890625e-08]\n"
     ]
    },
    {
     "name": "stdout",
     "output_type": "stream",
     "text": [
      "[Epoch 264 / 300] [Train Loss 0.008207 (MSE)] [Valid Loss 0.003970 (MSE)] [Learning Rate: 1.52587890625e-08]\n"
     ]
    },
    {
     "name": "stdout",
     "output_type": "stream",
     "text": [
      "[Epoch 265 / 300] [Train Loss 0.008187 (MSE)] [Valid Loss 0.003975 (MSE)] [Learning Rate: 1.52587890625e-08]\n"
     ]
    },
    {
     "name": "stdout",
     "output_type": "stream",
     "text": [
      "[Epoch 266 / 300] [Train Loss 0.008088 (MSE)] [Valid Loss 0.003975 (MSE)] [Learning Rate: 1.52587890625e-08]\n"
     ]
    },
    {
     "name": "stdout",
     "output_type": "stream",
     "text": [
      "[Epoch 267 / 300] [Train Loss 0.008272 (MSE)] [Valid Loss 0.003973 (MSE)] [Learning Rate: 1.52587890625e-08]\n"
     ]
    },
    {
     "name": "stdout",
     "output_type": "stream",
     "text": [
      "[Epoch 268 / 300] [Train Loss 0.007951 (MSE)] [Valid Loss 0.003968 (MSE)] [Learning Rate: 1.52587890625e-08]\n"
     ]
    },
    {
     "name": "stdout",
     "output_type": "stream",
     "text": [
      "[Epoch 269 / 300] [Train Loss 0.008154 (MSE)] [Valid Loss 0.003968 (MSE)] [Learning Rate: 1.52587890625e-08]\n"
     ]
    },
    {
     "name": "stdout",
     "output_type": "stream",
     "text": [
      "[Epoch 270 / 300] [Train Loss 0.008169 (MSE)] [Valid Loss 0.003971 (MSE)] [Learning Rate: 1.52587890625e-08]\n"
     ]
    },
    {
     "name": "stdout",
     "output_type": "stream",
     "text": [
      "[Epoch 271 / 300] [Train Loss 0.007835 (MSE)] [Valid Loss 0.003972 (MSE)] [Learning Rate: 1.52587890625e-08]\n"
     ]
    },
    {
     "name": "stdout",
     "output_type": "stream",
     "text": [
      "[Epoch 272 / 300] [Train Loss 0.007901 (MSE)] [Valid Loss 0.003973 (MSE)] [Learning Rate: 1.52587890625e-08]\n"
     ]
    },
    {
     "name": "stdout",
     "output_type": "stream",
     "text": [
      "[Epoch 273 / 300] [Train Loss 0.008114 (MSE)] [Valid Loss 0.003979 (MSE)] [Learning Rate: 1.52587890625e-08]\n"
     ]
    },
    {
     "name": "stdout",
     "output_type": "stream",
     "text": [
      "[Epoch 274 / 300] [Train Loss 0.008167 (MSE)] [Valid Loss 0.003979 (MSE)] [Learning Rate: 1.52587890625e-08]\n"
     ]
    },
    {
     "name": "stdout",
     "output_type": "stream",
     "text": [
      "[Epoch 275 / 300] [Train Loss 0.008277 (MSE)] [Valid Loss 0.003981 (MSE)] [Learning Rate: 1.52587890625e-08]\n"
     ]
    },
    {
     "name": "stdout",
     "output_type": "stream",
     "text": [
      "[Epoch 276 / 300] [Train Loss 0.008113 (MSE)] [Valid Loss 0.003983 (MSE)] [Learning Rate: 1.52587890625e-08]\n"
     ]
    },
    {
     "name": "stdout",
     "output_type": "stream",
     "text": [
      "[Epoch 277 / 300] [Train Loss 0.008369 (MSE)] [Valid Loss 0.003981 (MSE)] [Learning Rate: 1.52587890625e-08]\n"
     ]
    },
    {
     "name": "stdout",
     "output_type": "stream",
     "text": [
      "[Epoch 278 / 300] [Train Loss 0.007768 (MSE)] [Valid Loss 0.003976 (MSE)] [Learning Rate: 1.52587890625e-08]\n"
     ]
    },
    {
     "name": "stdout",
     "output_type": "stream",
     "text": [
      "[Epoch 279 / 300] [Train Loss 0.007853 (MSE)] [Valid Loss 0.003978 (MSE)] [Learning Rate: 1.52587890625e-08]\n"
     ]
    },
    {
     "name": "stdout",
     "output_type": "stream",
     "text": [
      "[Epoch 280 / 300] [Train Loss 0.007995 (MSE)] [Valid Loss 0.003980 (MSE)] [Learning Rate: 1.52587890625e-08]\n"
     ]
    },
    {
     "name": "stdout",
     "output_type": "stream",
     "text": [
      "[Epoch 281 / 300] [Train Loss 0.008018 (MSE)] [Valid Loss 0.003979 (MSE)] [Learning Rate: 1.52587890625e-08]\n"
     ]
    },
    {
     "name": "stdout",
     "output_type": "stream",
     "text": [
      "[Epoch 282 / 300] [Train Loss 0.008408 (MSE)] [Valid Loss 0.003984 (MSE)] [Learning Rate: 1.52587890625e-08]\n"
     ]
    },
    {
     "name": "stdout",
     "output_type": "stream",
     "text": [
      "[Epoch 283 / 300] [Train Loss 0.008334 (MSE)] [Valid Loss 0.003987 (MSE)] [Learning Rate: 1.52587890625e-08]\n"
     ]
    },
    {
     "name": "stdout",
     "output_type": "stream",
     "text": [
      "[Epoch 284 / 300] [Train Loss 0.008082 (MSE)] [Valid Loss 0.003983 (MSE)] [Learning Rate: 1.52587890625e-08]\n"
     ]
    },
    {
     "name": "stdout",
     "output_type": "stream",
     "text": [
      "[Epoch 285 / 300] [Train Loss 0.008027 (MSE)] [Valid Loss 0.003981 (MSE)] [Learning Rate: 1.52587890625e-08]\n"
     ]
    },
    {
     "name": "stdout",
     "output_type": "stream",
     "text": [
      "[Epoch 286 / 300] [Train Loss 0.008315 (MSE)] [Valid Loss 0.003983 (MSE)] [Learning Rate: 1.52587890625e-08]\n"
     ]
    },
    {
     "name": "stdout",
     "output_type": "stream",
     "text": [
      "[Epoch 287 / 300] [Train Loss 0.008291 (MSE)] [Valid Loss 0.003985 (MSE)] [Learning Rate: 1.52587890625e-08]\n"
     ]
    },
    {
     "name": "stdout",
     "output_type": "stream",
     "text": [
      "[Epoch 288 / 300] [Train Loss 0.008218 (MSE)] [Valid Loss 0.003987 (MSE)] [Learning Rate: 1.52587890625e-08]\n"
     ]
    },
    {
     "name": "stdout",
     "output_type": "stream",
     "text": [
      "[Epoch 289 / 300] [Train Loss 0.007996 (MSE)] [Valid Loss 0.003984 (MSE)] [Learning Rate: 1.52587890625e-08]\n"
     ]
    },
    {
     "name": "stdout",
     "output_type": "stream",
     "text": [
      "[Epoch 290 / 300] [Train Loss 0.008414 (MSE)] [Valid Loss 0.003984 (MSE)] [Learning Rate: 1.52587890625e-08]\n"
     ]
    },
    {
     "name": "stdout",
     "output_type": "stream",
     "text": [
      "[Epoch 291 / 300] [Train Loss 0.008265 (MSE)] [Valid Loss 0.003984 (MSE)] [Learning Rate: 1.52587890625e-08]\n"
     ]
    },
    {
     "name": "stdout",
     "output_type": "stream",
     "text": [
      "[Epoch 292 / 300] [Train Loss 0.008440 (MSE)] [Valid Loss 0.003981 (MSE)] [Learning Rate: 1.52587890625e-08]\n"
     ]
    },
    {
     "name": "stdout",
     "output_type": "stream",
     "text": [
      "[Epoch 293 / 300] [Train Loss 0.008213 (MSE)] [Valid Loss 0.003984 (MSE)] [Learning Rate: 1.52587890625e-08]\n"
     ]
    },
    {
     "name": "stdout",
     "output_type": "stream",
     "text": [
      "[Epoch 294 / 300] [Train Loss 0.008201 (MSE)] [Valid Loss 0.003987 (MSE)] [Learning Rate: 1.52587890625e-08]\n"
     ]
    },
    {
     "name": "stdout",
     "output_type": "stream",
     "text": [
      "[Epoch 295 / 300] [Train Loss 0.008107 (MSE)] [Valid Loss 0.003988 (MSE)] [Learning Rate: 1.52587890625e-08]\n"
     ]
    },
    {
     "name": "stdout",
     "output_type": "stream",
     "text": [
      "[Epoch 296 / 300] [Train Loss 0.008462 (MSE)] [Valid Loss 0.003988 (MSE)] [Learning Rate: 1.52587890625e-08]\n"
     ]
    },
    {
     "name": "stdout",
     "output_type": "stream",
     "text": [
      "[Epoch 297 / 300] [Train Loss 0.007981 (MSE)] [Valid Loss 0.003983 (MSE)] [Learning Rate: 1.52587890625e-08]\n"
     ]
    },
    {
     "name": "stdout",
     "output_type": "stream",
     "text": [
      "[Epoch 298 / 300] [Train Loss 0.008179 (MSE)] [Valid Loss 0.003980 (MSE)] [Learning Rate: 1.52587890625e-08]\n"
     ]
    },
    {
     "name": "stdout",
     "output_type": "stream",
     "text": [
      "[Epoch 299 / 300] [Train Loss 0.008067 (MSE)] [Valid Loss 0.003981 (MSE)] [Learning Rate: 1.52587890625e-08]\n"
     ]
    },
    {
     "name": "stdout",
     "output_type": "stream",
     "text": [
      "[Epoch 300 / 300] [Train Loss 0.007931 (MSE)] [Valid Loss 0.003978 (MSE)] [Learning Rate: 1.52587890625e-08]\n"
     ]
    }
   ],
   "source": [
    "# Criterion and optimizer\n",
    "criterion = nn.MSELoss()\n",
    "optimizer = optim.Adam(\n",
    "    vgg16.classifier.parameters(), lr=LR, weight_decay=LR_WEIGHT_DECAY\n",
    ")\n",
    "scheduler = torch.optim.lr_scheduler.ReduceLROnPlateau(\n",
    "    optimizer, mode=\"min\", factor=0.5, patience=5\n",
    ")\n",
    "\n",
    "# Record the loss values\n",
    "train_loss_list = []\n",
    "val_loss_list = []\n",
    "\n",
    "# Loop by epoch\n",
    "for epoch in range(NUM_EPOCHS):\n",
    "\n",
    "    # Train\n",
    "    vgg16.train()\n",
    "    train_loss = 0.0\n",
    "    train_size = 0\n",
    "    for batch_images, batch_labels in train_loader:\n",
    "        # Load data\n",
    "        batch_images = batch_images.to(device)\n",
    "        batch_labels = batch_labels.to(device)\n",
    "        # Pass loss value\n",
    "        outputs = vgg16(batch_images)\n",
    "        loss = criterion(outputs, batch_labels)\n",
    "        # Back propagation\n",
    "        optimizer.zero_grad()\n",
    "        loss.backward()\n",
    "        optimizer.step()\n",
    "        # Add to the total loss\n",
    "        batch_size = batch_images.size(0)\n",
    "        train_loss += loss.item() * batch_size\n",
    "        train_size += batch_size\n",
    "\n",
    "    train_loss = train_loss / train_size\n",
    "    train_loss_list.append(train_loss)\n",
    "\n",
    "    # Validate\n",
    "    vgg16.eval()\n",
    "    val_loss = 0\n",
    "    val_samples = 0\n",
    "    with torch.no_grad():\n",
    "        for batch_images, batch_labels in val_loader:\n",
    "            # Load data\n",
    "            batch_images = batch_images.to(device)\n",
    "            batch_labels = batch_labels.to(device)\n",
    "            # Output\n",
    "            outputs = vgg16(batch_images)\n",
    "            # Calculate loss\n",
    "            loss = criterion(outputs, batch_labels)\n",
    "            # Add to total loss\n",
    "            batch_size = batch_images.size(0)\n",
    "            val_loss += loss.item() * batch_size\n",
    "            val_samples += batch_size\n",
    "    val_loss /= val_samples\n",
    "    val_loss_list.append(val_loss)\n",
    "\n",
    "    # Print\n",
    "    print(\n",
    "        f\"[Epoch {(epoch+1):d} / {(NUM_EPOCHS):d}] [Train Loss {train_loss:f} (MSE)] [Valid Loss {val_loss:f} (MSE)] [Learning Rate: {optimizer.param_groups[0]['lr']}]\"\n",
    "    )\n",
    "\n",
    "    # Scheduler\n",
    "    scheduler.step(val_loss)"
   ]
  },
  {
   "cell_type": "markdown",
   "id": "7cf24633",
   "metadata": {},
   "source": [
    "Then we plot the graphs of `train_loss_list` and `val_loss_lost`."
   ]
  },
  {
   "cell_type": "code",
   "execution_count": 9,
   "id": "f06a4e35",
   "metadata": {
    "execution": {
     "iopub.execute_input": "2025-06-18T09:54:10.997075Z",
     "iopub.status.busy": "2025-06-18T09:54:10.996901Z",
     "iopub.status.idle": "2025-06-18T09:54:11.109292Z",
     "shell.execute_reply": "2025-06-18T09:54:11.108776Z"
    }
   },
   "outputs": [
    {
     "data": {
      "image/png": "[encoded data removed]",
      "text/plain": [
       "<Figure size 640x480 with 1 Axes>"
      ]
     },
     "metadata": {},
     "output_type": "display_data"
    }
   ],
   "source": [
    "x = list(range(NUM_EPOCHS))\n",
    "plt.plot(x, train_loss_list, label=\"Train Loss\", marker=\".\")\n",
    "plt.plot(x, val_loss_list, label=\"Val Loss\", marker=\".\")\n",
    "plt.xlabel(\"Epoch\")\n",
    "plt.ylabel(\"Loss\")\n",
    "plt.title(\"Training and Validation Loss\")\n",
    "plt.legend()\n",
    "plt.show()"
   ]
  },
  {
   "cell_type": "markdown",
   "id": "bedc2858",
   "metadata": {},
   "source": [
    "## Step 4 - Save / load the model\n",
    "\n",
    "After training, we need to save the models."
   ]
  },
  {
   "cell_type": "code",
   "execution_count": 10,
   "id": "75c4022d",
   "metadata": {
    "execution": {
     "iopub.execute_input": "2025-06-18T09:54:11.111277Z",
     "iopub.status.busy": "2025-06-18T09:54:11.111081Z",
     "iopub.status.idle": "2025-06-18T09:54:15.326129Z",
     "shell.execute_reply": "2025-06-18T09:54:15.325615Z"
    }
   },
   "outputs": [
    {
     "name": "stdout",
     "output_type": "stream",
     "text": [
      "Model saved to ./models/VGG16_epoch_300_batch_size_256_lr_1e-03_seed_42.pth\n"
     ]
    }
   ],
   "source": [
    "# Save the trained model to disk\n",
    "torch.save(vgg16.state_dict(), MODEL_PATH)\n",
    "print(f\"Model saved to {MODEL_PATH}\")"
   ]
  },
  {
   "cell_type": "markdown",
   "id": "814f9e3d",
   "metadata": {},
   "source": [
    "To read the saved data, we can run the following codes:"
   ]
  },
  {
   "cell_type": "code",
   "execution_count": 11,
   "id": "1b045a1c",
   "metadata": {
    "execution": {
     "iopub.execute_input": "2025-06-18T09:54:15.334877Z",
     "iopub.status.busy": "2025-06-18T09:54:15.334581Z",
     "iopub.status.idle": "2025-06-18T09:54:15.337227Z",
     "shell.execute_reply": "2025-06-18T09:54:15.336752Z"
    }
   },
   "outputs": [],
   "source": [
    "# # Load the trained model weights\n",
    "# vgg16.load_state_dict(torch.load(MODEL_PATH, map_location=device))\n",
    "# vgg16.eval()\n",
    "# print(\"Model loaded from\", MODEL_PATH)"
   ]
  },
  {
   "cell_type": "markdown",
   "id": "f3159f06",
   "metadata": {},
   "source": [
    "## Exceptional test\n",
    "\n",
    "Let's see if the model works well."
   ]
  },
  {
   "cell_type": "code",
   "execution_count": 12,
   "id": "5178524e",
   "metadata": {
    "execution": {
     "iopub.execute_input": "2025-06-18T09:54:15.339085Z",
     "iopub.status.busy": "2025-06-18T09:54:15.338828Z",
     "iopub.status.idle": "2025-06-18T09:54:17.564062Z",
     "shell.execute_reply": "2025-06-18T09:54:17.563571Z"
    }
   },
   "outputs": [
    {
     "name": "stdout",
     "output_type": "stream",
     "text": [
      "Model loaded from ./models/VGG16_epoch_300_batch_size_256_lr_1e-03_seed_42.pth\n"
     ]
    },
    {
     "name": "stdout",
     "output_type": "stream",
     "text": [
      "      Real Labels  Predicted Labels      Diff      MAPE\n",
      "0           1.746          1.791037  0.045037  0.974206\n",
      "1           2.695          2.851461  0.156461  0.941944\n",
      "2           1.816          2.132442  0.316442  0.825748\n",
      "3           2.354          2.513246  0.159246  0.932351\n",
      "4           3.901          3.755784 -0.145216  0.962775\n",
      "...           ...               ...       ...       ...\n",
      "1834        2.051          1.749637 -0.301363  0.853065\n",
      "1835        1.757          1.622897 -0.134103  0.923675\n",
      "1836        2.593          2.962396  0.369396  0.857541\n",
      "1837        4.092          3.886216 -0.205784  0.949711\n",
      "1838        2.040          1.682422 -0.357578  0.824716\n",
      "\n",
      "[1839 rows x 4 columns]\n",
      "MAPE: 0.9310271954956364\n"
     ]
    },
    {
     "data": {
      "image/png": "[encoded data removed]",
      "text/plain": [
       "<Figure size 640x480 with 1 Axes>"
      ]
     },
     "metadata": {},
     "output_type": "display_data"
    },
    {
     "data": {
      "image/png": "[encoded data removed]",
      "text/plain": [
       "<Figure size 640x480 with 1 Axes>"
      ]
     },
     "metadata": {},
     "output_type": "display_data"
    }
   ],
   "source": [
    "# Load the trained model weights\n",
    "vgg16.load_state_dict(torch.load(MODEL_PATH, map_location=device))\n",
    "vgg16.eval()\n",
    "print(\"Model loaded from\", MODEL_PATH)\n",
    "\n",
    "# Turn to `numpy.array`\n",
    "labels_val_real = labels_val.numpy()\n",
    "labels_val_predicted = vgg16(images_val_tensor.to(device)).cpu().detach().numpy()\n",
    "\n",
    "# Unnormalize labels\n",
    "labels_val_real = labels_val_real * (MAX_LABEL - MIN_LABEL) + MIN_LABEL\n",
    "labels_val_predicted = labels_val_predicted * (MAX_LABEL - MIN_LABEL) + MIN_LABEL\n",
    "\n",
    "# Turn to `pandas.Series`\n",
    "labels_val_real = pd.Series(labels_val_real)\n",
    "labels_val_predicted = pd.Series(labels_val_predicted.flatten())\n",
    "labels_val_diff = labels_val_predicted - labels_val_real\n",
    "\n",
    "# Make `pandas.DataFrame`\n",
    "df = pd.DataFrame(\n",
    "    {\n",
    "        \"Real Labels\": labels_val_real,\n",
    "        \"Predicted Labels\": labels_val_predicted,\n",
    "        \"Diff\": labels_val_diff,\n",
    "        \"MAPE\": 1 - np.abs(labels_val_diff) / labels_val_real\n",
    "    }\n",
    ")\n",
    "df.to_csv(OUTPUT_PATH, index = False)\n",
    "print(df)\n",
    "print(f\"MAPE: {df[\"MAPE\"].mean()}\")\n",
    "\n",
    "# Boxplot of the differences\n",
    "plt.boxplot(labels_val_diff)\n",
    "plt.ylabel(\"Prediction Error (Predicted - Real)\")\n",
    "plt.title(\"Boxplot of Prediction Errors\")\n",
    "plt.show()\n",
    "\n",
    "# Plot the differences by the real labels.\n",
    "plt.scatter(labels_val_real, labels_val_diff, s=10)\n",
    "plt.xlabel(\"Real Labels\")\n",
    "plt.ylabel(\"Prediction Error (Predicted - Real)\")\n",
    "plt.title(\"Prediction Error vs Real Labels\")\n",
    "plt.axhline(0, color=\"red\", linestyle=\"--\", linewidth=1)\n",
    "plt.show()"
   ]
  }
 ],
 "metadata": {
  "kernelspec": {
   "display_name": "pytorch",
   "language": "python",
   "name": "python3"
  },
  "language_info": {
   "codemirror_mode": {
    "name": "ipython",
    "version": 3
   },
   "file_extension": ".py",
   "mimetype": "text/x-python",
   "name": "python",
   "nbconvert_exporter": "python",
   "pygments_lexer": "ipython3",
   "version": "3.12.10"
  }
 },
 "nbformat": 4,
 "nbformat_minor": 5
}
