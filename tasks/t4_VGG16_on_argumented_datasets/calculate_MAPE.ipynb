{
 "cells": [
  {
   "cell_type": "markdown",
   "id": "08a8add2",
   "metadata": {},
   "source": [
    "# Calculate Accuracy\n",
    "\n",
    "This notebook calculates the accuracy of all the outputs."
   ]
  },
  {
   "cell_type": "code",
   "execution_count": 1,
   "id": "a85139d1",
   "metadata": {},
   "outputs": [],
   "source": [
    "import os\n",
    "import pandas as pd"
   ]
  },
  {
   "cell_type": "markdown",
   "id": "e56171d4",
   "metadata": {},
   "source": [
    "Set arguments."
   ]
  },
  {
   "cell_type": "code",
   "execution_count": 2,
   "id": "7614588e",
   "metadata": {},
   "outputs": [],
   "source": [
    "OUTPUT_DIR = \"./outputs\""
   ]
  },
  {
   "cell_type": "markdown",
   "id": "0e323828",
   "metadata": {},
   "source": [
    "Create a data frame to record the mean MAPE values."
   ]
  },
  {
   "cell_type": "code",
   "execution_count": 3,
   "id": "b75e9995",
   "metadata": {},
   "outputs": [],
   "source": [
    "mape_df = pd.DataFrame(columns=[\"Filename\", \"MAPE\"])\n",
    "mape_df = mape_df.astype({\"Filename\": \"str\", \"MAPE\": \"float64\"})"
   ]
  },
  {
   "cell_type": "markdown",
   "id": "7feffded",
   "metadata": {},
   "source": [
    "Loop"
   ]
  },
  {
   "cell_type": "code",
   "execution_count": 4,
   "id": "799a017b",
   "metadata": {},
   "outputs": [
    {
     "name": "stdout",
     "output_type": "stream",
     "text": [
      "                                            Filename      MAPE\n",
      "0  VGG16_test_size_0.2_epoch_3_batch_size_256_lr_...  0.825101\n",
      "1  VGG16_test_size_0.5_epoch_10_batch_size_256_lr...  0.813311\n",
      "2  VGG16_test_size_0.2_epoch_200_batch_size_512_l...  0.932197\n",
      "3  VGG16_test_size_0.2_epoch_200_batch_size_256_l...  0.922420\n",
      "4  VGG16_test_size_0.2_epoch_100_batch_size_1024_...  0.901653\n",
      "5  VGG16_test_size_0.2_epoch_200_batch_size_1024_...  0.919994\n"
     ]
    }
   ],
   "source": [
    "for output in os.listdir(OUTPUT_DIR):\n",
    "\n",
    "    if output == \"MAPE.csv\":\n",
    "        continue\n",
    "\n",
    "    output_path = os.path.join(OUTPUT_DIR, output)\n",
    "    output_df = pd.read_csv(output_path)\n",
    "    mape = output_df[\"MAPE\"].mean()\n",
    "    mape_df.loc[len(mape_df)] = [output, mape]\n",
    "print(mape_df)"
   ]
  },
  {
   "cell_type": "markdown",
   "id": "61a5a8ee",
   "metadata": {},
   "source": [
    "Save result."
   ]
  },
  {
   "cell_type": "code",
   "execution_count": 5,
   "id": "9ccc2056",
   "metadata": {},
   "outputs": [],
   "source": [
    "mape_df.to_csv(os.path.join(OUTPUT_DIR, \"MAPE.csv\"), index=False)"
   ]
  }
 ],
 "metadata": {
  "kernelspec": {
   "display_name": "2025-04-23_macOS",
   "language": "python",
   "name": "python3"
  },
  "language_info": {
   "codemirror_mode": {
    "name": "ipython",
    "version": 3
   },
   "file_extension": ".py",
   "mimetype": "text/x-python",
   "name": "python",
   "nbconvert_exporter": "python",
   "pygments_lexer": "ipython3",
   "version": "3.12.9"
  }
 },
 "nbformat": 4,
 "nbformat_minor": 5
}
