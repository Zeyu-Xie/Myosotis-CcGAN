{
 "cells": [
  {
   "cell_type": "markdown",
   "id": "51d870a3",
   "metadata": {},
   "source": [
    "This notebook helps us to view a `.h5` dataset."
   ]
  },
  {
   "cell_type": "code",
   "execution_count": 20,
   "id": "98c42089",
   "metadata": {},
   "outputs": [],
   "source": [
    "import h5py\n",
    "import os\n",
    "from PIL import Image"
   ]
  },
  {
   "cell_type": "markdown",
   "id": "da62ed1d",
   "metadata": {},
   "source": [
    "## Define function `view_dataset`"
   ]
  },
  {
   "cell_type": "code",
   "execution_count": 21,
   "id": "5991258a",
   "metadata": {},
   "outputs": [],
   "source": [
    "def _print_hdf5(name, obj):\n",
    "    indent = \"  \" * name.count(\"/\")\n",
    "    if isinstance(obj, h5py.Dataset):\n",
    "        print(f\"{indent}[Dataset] {name} shape={obj.shape} dtype={obj.dtype}\")\n",
    "    elif isinstance(obj, h5py.Group):\n",
    "        print(f\"{indent}[Group]   {name}\")\n",
    "\n",
    "def view_dataset(dataset_path):\n",
    "    with h5py.File(dataset_path, \"r\") as f:\n",
    "        f.visititems(_print_hdf5)"
   ]
  },
  {
   "cell_type": "markdown",
   "id": "386ad0c1",
   "metadata": {},
   "source": [
    "## Set parameters and load the dataset"
   ]
  },
  {
   "cell_type": "code",
   "execution_count": 22,
   "id": "e3c23e4e",
   "metadata": {},
   "outputs": [
    {
     "name": "stdout",
     "output_type": "stream",
     "text": [
      "[Dataset] images shape=(300, 128, 128, 3) dtype=uint8\n",
      "[Dataset] index_train shape=(0,) dtype=int64\n",
      "[Dataset] index_valid shape=(0,) dtype=int64\n",
      "[Dataset] labels shape=(300,) dtype=float64\n",
      "[Dataset] types shape=(300,) dtype=int32\n"
     ]
    }
   ],
   "source": [
    "# Path\n",
    "dataset_path = \"/Users/zeyuxie/Desktop/Ra/datasets/Ra_128_fake_indexed_binned.h5\"\n",
    "\n",
    "# View dataset\n",
    "view_dataset(dataset_path)\n",
    "\n",
    "# Load dataset\n",
    "with h5py.File(dataset_path, \"r\") as f:\n",
    "    images = f[\"images\"][:]\n",
    "    labels = f[\"labels\"][:]\n",
    "    types = f[\"types\"][:]\n",
    "    index_train = f[\"index_train\"][:]\n",
    "    index_valid = f[\"index_valid\"][:]"
   ]
  }
 ],
 "metadata": {
  "kernelspec": {
   "display_name": "2025-04-23_macOS",
   "language": "python",
   "name": "python3"
  },
  "language_info": {
   "codemirror_mode": {
    "name": "ipython",
    "version": 3
   },
   "file_extension": ".py",
   "mimetype": "text/x-python",
   "name": "python",
   "nbconvert_exporter": "python",
   "pygments_lexer": "ipython3",
   "version": "3.12.9"
  }
 },
 "nbformat": 4,
 "nbformat_minor": 5
}
