{
 "cells": [
  {
   "cell_type": "markdown",
   "id": "872296bf",
   "metadata": {},
   "source": [
    "# Images Transpose\n",
    "\n",
    "Some early `images` sub-datasets are in shape `(N, 3, H, W)`, while we want them to be `(N, H, W, 3)`.\n",
    "\n",
    "That's why I wrote this notebook."
   ]
  },
  {
   "cell_type": "code",
   "execution_count": 65,
   "id": "6feb5009",
   "metadata": {},
   "outputs": [],
   "source": [
    "import h5py"
   ]
  },
  {
   "cell_type": "markdown",
   "id": "44aefff0",
   "metadata": {},
   "source": [
    "## Define the `view_dataset` function"
   ]
  },
  {
   "cell_type": "code",
   "execution_count": 66,
   "id": "1d2d490a",
   "metadata": {},
   "outputs": [],
   "source": [
    "def _print_hdf5(name, obj):\n",
    "    indent = \"  \" * name.count(\"/\")\n",
    "    if isinstance(obj, h5py.Dataset):\n",
    "        print(f\"{indent}[Dataset] {name} shape={obj.shape} dtype={obj.dtype}\")\n",
    "    elif isinstance(obj, h5py.Group):\n",
    "        print(f\"{indent}[Group]   {name}\")\n",
    "\n",
    "def view_dataset(dataset_path):\n",
    "    with h5py.File(dataset_path, \"r\") as f:\n",
    "        f.visititems(_print_hdf5)"
   ]
  },
  {
   "cell_type": "markdown",
   "id": "f513bacd",
   "metadata": {},
   "source": [
    "## Set parameters and load the dataset"
   ]
  },
  {
   "cell_type": "code",
   "execution_count": 67,
   "id": "a8d83a69",
   "metadata": {},
   "outputs": [
    {
     "name": "stdout",
     "output_type": "stream",
     "text": [
      "[Dataset] images shape=(300, 3, 128, 128) dtype=uint8\n",
      "[Dataset] index_train shape=(150,) dtype=int64\n",
      "[Dataset] index_valid shape=(150,) dtype=int64\n",
      "[Dataset] labels shape=(300,) dtype=float64\n",
      "[Dataset] types shape=(300,) dtype=int32\n"
     ]
    }
   ],
   "source": [
    "# Path\n",
    "dataset_path = \"/Users/zeyuxie/Desktop/Ra/datasets/Ra_128_indexed_binned.h5\"\n",
    "\n",
    "# Load dataset\n",
    "with h5py.File(dataset_path, \"r\") as f:\n",
    "    images = f[\"images\"][:]\n",
    "view_dataset(dataset_path)"
   ]
  },
  {
   "cell_type": "markdown",
   "id": "53c511ad",
   "metadata": {},
   "source": [
    "## Transpose the `images` sub-dataset and edit the dataset"
   ]
  },
  {
   "cell_type": "code",
   "execution_count": 68,
   "id": "699fbb38",
   "metadata": {},
   "outputs": [
    {
     "name": "stdout",
     "output_type": "stream",
     "text": [
      "[Dataset] images shape=(300, 128, 128, 3) dtype=uint8\n",
      "[Dataset] index_train shape=(150,) dtype=int64\n",
      "[Dataset] index_valid shape=(150,) dtype=int64\n",
      "[Dataset] labels shape=(300,) dtype=float64\n",
      "[Dataset] types shape=(300,) dtype=int32\n"
     ]
    }
   ],
   "source": [
    "images = images.transpose(0, 2, 3, 1)\n",
    "\n",
    "# Edit dataset\n",
    "with h5py.File(dataset_path, \"r+\") as f:\n",
    "    del f[\"images\"]\n",
    "    f.create_dataset(\"images\", data=images)\n",
    "view_dataset(dataset_path)"
   ]
  }
 ],
 "metadata": {
  "kernelspec": {
   "display_name": "2025-04-23_macOS",
   "language": "python",
   "name": "python3"
  },
  "language_info": {
   "codemirror_mode": {
    "name": "ipython",
    "version": 3
   },
   "file_extension": ".py",
   "mimetype": "text/x-python",
   "name": "python",
   "nbconvert_exporter": "python",
   "pygments_lexer": "ipython3",
   "version": "3.12.9"
  }
 },
 "nbformat": 4,
 "nbformat_minor": 5
}
