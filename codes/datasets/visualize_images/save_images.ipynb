{
 "cells": [
  {
   "cell_type": "markdown",
   "id": "51d870a3",
   "metadata": {},
   "source": [
    "This notebook helps us to save certain images from a certain dataset."
   ]
  },
  {
   "cell_type": "code",
   "execution_count": 73,
   "id": "98c42089",
   "metadata": {},
   "outputs": [],
   "source": [
    "import h5py\n",
    "import os\n",
    "from PIL import Image"
   ]
  },
  {
   "cell_type": "markdown",
   "id": "1b9f4d6c",
   "metadata": {
    "vscode": {
     "languageId": "plaintext"
    }
   },
   "source": [
    "## Load images from a dataset\n",
    "\n",
    "Load the dataset and get the `numpy` arrays of all images."
   ]
  },
  {
   "cell_type": "code",
   "execution_count": null,
   "id": "06d67512",
   "metadata": {},
   "outputs": [
    {
     "name": "stdout",
     "output_type": "stream",
     "text": [
      "All images shape: (300, 128, 128, 3)\n"
     ]
    }
   ],
   "source": [
    "# Path\n",
    "dataset_path = \"/home/ubuntu/Desktop/Ra/datasets/Ra_128_fake_indexed_binned.h5\"\n",
    "images_dir = \"/home/ubuntu/Desktop/saved_images\"\n",
    "\n",
    "# Indexes\n",
    "indexes = [100, 200, 250]\n",
    "\n",
    "# Create dir\n",
    "if not os.path.exists(images_dir):\n",
    "    os.makedirs(images_dir, exist_ok=True)\n",
    "\n",
    "# Load `numpy` array\n",
    "with h5py.File(dataset_path, \"r\") as f:\n",
    "    images = f[\"images\"][:]\n",
    "print(f\"All images shape: {images.shape}\")"
   ]
  },
  {
   "cell_type": "markdown",
   "id": "43a0bd70",
   "metadata": {},
   "source": [
    "## Loop through `indexes` and save them\n",
    "\n",
    "For each `index` in `indexes`:\n",
    "\n",
    "1. Set image name\n",
    "2. Get `Image` object\n",
    "3. Save image to folder `images_dir`"
   ]
  },
  {
   "cell_type": "code",
   "execution_count": 75,
   "id": "00334bf6",
   "metadata": {},
   "outputs": [],
   "source": [
    "# Loop through `indexes`\n",
    "for index in indexes:\n",
    "\n",
    "    # Set image name\n",
    "    name = f\"{str(index)}.png\"\n",
    "\n",
    "    # Get `Image` obj\n",
    "    image = images[index]\n",
    "    image_obj = Image.fromarray(image)\n",
    "    \n",
    "    # Save image\n",
    "    image_obj.save(os.path.join(images_dir, name))"
   ]
  }
 ],
 "metadata": {
  "kernelspec": {
   "display_name": "2025-04-23_macOS",
   "language": "python",
   "name": "python3"
  },
  "language_info": {
   "codemirror_mode": {
    "name": "ipython",
    "version": 3
   },
   "file_extension": ".py",
   "mimetype": "text/x-python",
   "name": "python",
   "nbconvert_exporter": "python",
   "pygments_lexer": "ipython3",
   "version": "3.12.9"
  }
 },
 "nbformat": 4,
 "nbformat_minor": 5
}
