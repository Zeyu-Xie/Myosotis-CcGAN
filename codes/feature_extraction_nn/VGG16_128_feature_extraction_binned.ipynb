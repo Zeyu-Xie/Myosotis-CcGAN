{
 "cells": [
  {
   "cell_type": "markdown",
   "id": "05bee791",
   "metadata": {},
   "source": [
    "# VGG\n",
    "\n",
    "This notebook uses model \"VGG16\" to conduct regression of images."
   ]
  },
  {
   "cell_type": "code",
   "execution_count": 1,
   "id": "9c623ed7",
   "metadata": {
    "execution": {
     "iopub.execute_input": "2025-05-29T22:40:54.406756Z",
     "iopub.status.busy": "2025-05-29T22:40:54.406399Z",
     "iopub.status.idle": "2025-05-29T22:40:57.684867Z",
     "shell.execute_reply": "2025-05-29T22:40:57.684352Z"
    }
   },
   "outputs": [],
   "source": [
    "import h5py\n",
    "from matplotlib import pyplot as plt\n",
    "import numpy as np\n",
    "import os\n",
    "import pandas as pd\n",
    "from sklearn.manifold import TSNE\n",
    "from sklearn.model_selection import train_test_split\n",
    "import torch\n",
    "import torch.nn as nn\n",
    "import torch.optim as optim\n",
    "from torch.utils.data import TensorDataset, DataLoader\n",
    "from torchvision import models"
   ]
  },
  {
   "cell_type": "markdown",
   "id": "28904883",
   "metadata": {},
   "source": [
    "## Step 1 - Config\n",
    "\n",
    "First set the hyperparameters and other configurations."
   ]
  },
  {
   "cell_type": "code",
   "execution_count": 2,
   "id": "33cb27b0",
   "metadata": {
    "execution": {
     "iopub.execute_input": "2025-05-29T22:40:57.687467Z",
     "iopub.status.busy": "2025-05-29T22:40:57.687174Z",
     "iopub.status.idle": "2025-05-29T22:40:57.822458Z",
     "shell.execute_reply": "2025-05-29T22:40:57.822002Z"
    }
   },
   "outputs": [
    {
     "name": "stdout",
     "output_type": "stream",
     "text": [
      "Device: cuda\n"
     ]
    }
   ],
   "source": [
    "# Dataset and model path\n",
    "DATASET_PATH = \"/home/ubuntu/Desktop/Ra/datasets/Ra_128_indexed_binned.h5\"\n",
    "MODEL_PATH = \"/home/ubuntu/Desktop/Ra/models/VGG16_128_regression_binned.pth\"\n",
    "OUTPUT_PATH = \"/home/ubuntu/Desktop/Ra/outputs/VGG16_128_regression_binned.csv\"\n",
    "# Env\n",
    "SEED = 42\n",
    "# Dataset\n",
    "MIN_LABEL = 1.3\n",
    "MAX_LABEL = 5.2\n",
    "# Hyperparameters\n",
    "NUM_EPOCHS = 200\n",
    "LR = 1e-3\n",
    "LR_WEIGHT_DECAY = 1e-4\n",
    "TEST_SIZE = 0.2\n",
    "BATCH_SIZE_TRAIN = 64\n",
    "BATCH_SIZE_VAL = 10\n",
    "\n",
    "# Device\n",
    "device = \"cuda\" if torch.cuda.is_available() else \"cpu\"\n",
    "print(f\"Device: {device}\")\n",
    "\n",
    "# Path\n",
    "if not os.path.exists(os.path.dirname(MODEL_PATH)):\n",
    "    os.makedirs(os.path.dirname(MODEL_PATH), exist_ok=True)\n",
    "    print(f\"Make new directory {os.path.dirname(MODEL_PATH)}\")"
   ]
  },
  {
   "cell_type": "markdown",
   "id": "6d7ff1c7",
   "metadata": {},
   "source": [
    "Then load the pretrained model from `torchvision`."
   ]
  },
  {
   "cell_type": "code",
   "execution_count": 3,
   "id": "b8b13a96",
   "metadata": {
    "execution": {
     "iopub.execute_input": "2025-05-29T22:40:57.824481Z",
     "iopub.status.busy": "2025-05-29T22:40:57.824210Z",
     "iopub.status.idle": "2025-05-29T22:40:59.329245Z",
     "shell.execute_reply": "2025-05-29T22:40:59.328708Z"
    }
   },
   "outputs": [
    {
     "name": "stderr",
     "output_type": "stream",
     "text": [
      "/opt/pytorch/lib/python3.12/site-packages/torchvision/models/_utils.py:208: UserWarning: The parameter 'pretrained' is deprecated since 0.13 and may be removed in the future, please use 'weights' instead.\n",
      "  warnings.warn(\n",
      "/opt/pytorch/lib/python3.12/site-packages/torchvision/models/_utils.py:223: UserWarning: Arguments other than a weight enum or `None` for 'weights' are deprecated since 0.13 and may be removed in the future. The current behavior is equivalent to passing `weights=VGG16_Weights.IMAGENET1K_V1`. You can also use `weights=VGG16_Weights.DEFAULT` to get the most up-to-date weights.\n",
      "  warnings.warn(msg)\n"
     ]
    }
   ],
   "source": [
    "# Pretrained VGG16 model\n",
    "vgg16 = models.vgg16(pretrained=True)\n",
    "\n",
    "# Change the last layer to fit the regression task\n",
    "vgg16.classifier[-1] = nn.Linear(in_features=4096, out_features=1)\n",
    "\n",
    "# Choose to freeze the layers or not\n",
    "for param in vgg16.features.parameters():\n",
    "    param.requires_grad = False\n",
    "\n",
    "# Move to the appropriate device\n",
    "vgg16 = vgg16.to(device)"
   ]
  },
  {
   "cell_type": "markdown",
   "id": "4b3b175c",
   "metadata": {},
   "source": [
    "## Step 2 - Load data\n",
    "\n",
    "In this step we load the images and process them, the goal is to get `train_loader` and `val_loader` for training. After this step we will get:\n",
    "\n",
    "1. `images_train` and `images_val` (4 dim tensor)\n",
    "2. `labels_train` and `labels_val` (1 dim tensor)\n",
    "3. `train_dataset` and `val_dataset` (dataset)\n",
    "4. `train_loader` and `val_loader` (dataloader)\n",
    "\n",
    "First we load the images, and normalize the pixel values."
   ]
  },
  {
   "cell_type": "code",
   "execution_count": 4,
   "id": "bc9be499",
   "metadata": {
    "execution": {
     "iopub.execute_input": "2025-05-29T22:40:59.331634Z",
     "iopub.status.busy": "2025-05-29T22:40:59.331349Z",
     "iopub.status.idle": "2025-05-29T22:41:03.617056Z",
     "shell.execute_reply": "2025-05-29T22:41:03.616488Z"
    }
   },
   "outputs": [
    {
     "name": "stdout",
     "output_type": "stream",
     "text": [
      "Images and labels loaded.\n",
      "Images Shape: (300, 128, 128, 3)\n",
      "Labels Shape: (300,)\n",
      "\n",
      "Select indexes by MIN_LABEL = 1.3 and MAX_LABEL = 5.2\n",
      "Images Shape: (300, 128, 128, 3)\n",
      "Labels Shape: (300,)\n",
      "\n",
      "Transform `images` and `labels` to tensors.\n",
      "Images Shape: torch.Size([300, 3, 128, 128])\n",
      "Labels Shape: torch.Size([300])\n"
     ]
    }
   ],
   "source": [
    "# Load datasets\n",
    "with h5py.File(DATASET_PATH, \"r\") as f:\n",
    "    images = f[\"images\"][:].astype(float)\n",
    "    labels = f[\"labels\"][:].astype(float)\n",
    "N_all = len(images)\n",
    "print(\"Images and labels loaded.\")\n",
    "print(f\"Images Shape: {images.shape}\")\n",
    "print(f\"Labels Shape: {labels.shape}\")\n",
    "print(\"\")\n",
    "\n",
    "# Selection\n",
    "indx = np.where((labels >= MIN_LABEL) * (labels < MAX_LABEL) == True)[0]\n",
    "labels = labels[indx]\n",
    "images = images[indx]\n",
    "print(f\"Select indexes by MIN_LABEL = {MIN_LABEL} and MAX_LABEL = {MAX_LABEL}\")\n",
    "print(f\"Images Shape: {images.shape}\")\n",
    "print(f\"Labels Shape: {labels.shape}\")\n",
    "print(\"\")\n",
    "\n",
    "# To tensor\n",
    "images = torch.from_numpy(images).permute(0, 3, 1, 2)\n",
    "labels = torch.from_numpy(labels)\n",
    "print(\"Transform `images` and `labels` to tensors.\")\n",
    "print(f\"Images Shape: {images.shape}\")\n",
    "print(f\"Labels Shape: {labels.shape}\")\n",
    "\n",
    "# Image standardization\n",
    "mean = images.mean(dim=[0, 2, 3], keepdim=True)\n",
    "std = images.std(dim=[0, 2, 3], keepdim=True)\n",
    "images = (images - mean) / std\n",
    "\n",
    "# Label normalization\n",
    "labels = (labels - MIN_LABEL) / (MAX_LABEL - MIN_LABEL)"
   ]
  },
  {
   "cell_type": "markdown",
   "id": "2127b3c6",
   "metadata": {},
   "source": [
    "Then use `train_test_split` function to get data for training and validation."
   ]
  },
  {
   "cell_type": "code",
   "execution_count": 5,
   "id": "2f7d1dd9",
   "metadata": {
    "execution": {
     "iopub.execute_input": "2025-05-29T22:41:03.619772Z",
     "iopub.status.busy": "2025-05-29T22:41:03.619297Z",
     "iopub.status.idle": "2025-05-29T22:41:04.146806Z",
     "shell.execute_reply": "2025-05-29T22:41:04.146206Z"
    }
   },
   "outputs": [
    {
     "name": "stdout",
     "output_type": "stream",
     "text": [
      "Train test split with test size 0.2.\n",
      "Images (train) Shape: torch.Size([240, 3, 128, 128])\n",
      "Images (val) Shape: torch.Size([60, 3, 128, 128])\n",
      "Labels (train) Shape: torch.Size([240])\n",
      "Labels (val) Shape: torch.Size([60])\n"
     ]
    }
   ],
   "source": [
    "# Train-test split\n",
    "images_train, images_val, labels_train, labels_val = train_test_split(\n",
    "    images, labels, test_size=TEST_SIZE, random_state=SEED\n",
    ")\n",
    "print(f\"Train test split with test size {TEST_SIZE}.\")\n",
    "print(f\"Images (train) Shape: {images_train.shape}\")\n",
    "print(f\"Images (val) Shape: {images_val.shape}\")\n",
    "print(f\"Labels (train) Shape: {labels_train.shape}\")\n",
    "print(f\"Labels (val) Shape: {labels_val.shape}\")"
   ]
  },
  {
   "cell_type": "markdown",
   "id": "e5f55f94",
   "metadata": {},
   "source": [
    "Next, we should transform the data to tensors, combine `images` and `labels` to datasets and get dataloaders according to `BATCH_SIZE`."
   ]
  },
  {
   "cell_type": "code",
   "execution_count": 6,
   "id": "51549a4b",
   "metadata": {
    "execution": {
     "iopub.execute_input": "2025-05-29T22:41:04.149042Z",
     "iopub.status.busy": "2025-05-29T22:41:04.148828Z",
     "iopub.status.idle": "2025-05-29T22:41:04.436755Z",
     "shell.execute_reply": "2025-05-29T22:41:04.436267Z"
    }
   },
   "outputs": [
    {
     "name": "stdout",
     "output_type": "stream",
     "text": [
      "Shape of `images_train_tensor`: torch.Size([240, 3, 128, 128])\n",
      "Shape of `labels_train_tensor`: torch.Size([240, 1])\n",
      "Shape of `images_val_tensor`: torch.Size([60, 3, 128, 128])\n",
      "Shape of `labels_val_tensor`: torch.Size([60, 1])\n"
     ]
    },
    {
     "name": "stderr",
     "output_type": "stream",
     "text": [
      "/tmp/ipykernel_10387/1722485521.py:2: UserWarning: To copy construct from a tensor, it is recommended to use sourceTensor.detach().clone() or sourceTensor.detach().clone().requires_grad_(True), rather than torch.tensor(sourceTensor).\n",
      "  images_train_tensor = torch.tensor(images_train, dtype=torch.float32)\n",
      "/tmp/ipykernel_10387/1722485521.py:3: UserWarning: To copy construct from a tensor, it is recommended to use sourceTensor.detach().clone() or sourceTensor.detach().clone().requires_grad_(True), rather than torch.tensor(sourceTensor).\n",
      "  images_val_tensor = torch.tensor(images_val, dtype=torch.float32)\n",
      "/tmp/ipykernel_10387/1722485521.py:4: UserWarning: To copy construct from a tensor, it is recommended to use sourceTensor.detach().clone() or sourceTensor.detach().clone().requires_grad_(True), rather than torch.tensor(sourceTensor).\n",
      "  labels_train_tensor = torch.tensor(labels_train, dtype=torch.float32).view(-1, 1)\n",
      "/tmp/ipykernel_10387/1722485521.py:5: UserWarning: To copy construct from a tensor, it is recommended to use sourceTensor.detach().clone() or sourceTensor.detach().clone().requires_grad_(True), rather than torch.tensor(sourceTensor).\n",
      "  labels_val_tensor = torch.tensor(labels_val, dtype=torch.float32).view(-1, 1)\n"
     ]
    }
   ],
   "source": [
    "# Change to tensor\n",
    "images_train_tensor = torch.tensor(images_train, dtype=torch.float32)\n",
    "images_val_tensor = torch.tensor(images_val, dtype=torch.float32)\n",
    "labels_train_tensor = torch.tensor(labels_train, dtype=torch.float32).view(-1, 1)\n",
    "labels_val_tensor = torch.tensor(labels_val, dtype=torch.float32).view(-1, 1)\n",
    "print(f\"Shape of `images_train_tensor`: {images_train_tensor.shape}\")\n",
    "print(f\"Shape of `labels_train_tensor`: {labels_train_tensor.shape}\")\n",
    "print(f\"Shape of `images_val_tensor`: {images_val_tensor.shape}\")\n",
    "print(f\"Shape of `labels_val_tensor`: {labels_val_tensor.shape}\")\n",
    "\n",
    "# Tensor's dataset\n",
    "train_dataset = TensorDataset(images_train_tensor, labels_train_tensor)\n",
    "val_dataset = TensorDataset(images_val_tensor, labels_val_tensor)\n",
    "\n",
    "# DataLoader\n",
    "train_loader = DataLoader(train_dataset, batch_size=BATCH_SIZE_TRAIN, shuffle=True)\n",
    "val_loader = DataLoader(val_dataset, batch_size=BATCH_SIZE_VAL)"
   ]
  },
  {
   "cell_type": "markdown",
   "id": "ce4ea102",
   "metadata": {},
   "source": [
    "## Step 3 - Train"
   ]
  },
  {
   "cell_type": "markdown",
   "id": "534bdeac",
   "metadata": {},
   "source": [
    "Start training for `epoch` loops, record the training losses and validation losses."
   ]
  },
  {
   "cell_type": "code",
   "execution_count": 7,
   "id": "c0161423",
   "metadata": {
    "execution": {
     "iopub.execute_input": "2025-05-29T22:41:04.439004Z",
     "iopub.status.busy": "2025-05-29T22:41:04.438813Z",
     "iopub.status.idle": "2025-05-29T23:04:53.312242Z",
     "shell.execute_reply": "2025-05-29T23:04:53.311740Z"
    }
   },
   "outputs": [],
   "source": [
    "# Criterion and optimizer\n",
    "criterion = nn.MSELoss()\n",
    "optimizer = optim.Adam(\n",
    "    vgg16.classifier.parameters(), lr=LR, weight_decay=LR_WEIGHT_DECAY\n",
    ")\n",
    "scheduler = torch.optim.lr_scheduler.ReduceLROnPlateau(\n",
    "    optimizer, mode=\"min\", factor=0.5, patience=5\n",
    ")\n",
    "\n",
    "# Record the loss values\n",
    "train_loss_list = []\n",
    "val_loss_list = []\n",
    "\n",
    "# # Loop by epoch\n",
    "# for epoch in range(NUM_EPOCHS):\n",
    "\n",
    "#     # Train\n",
    "#     vgg16.train()\n",
    "#     train_loss = 0.0\n",
    "#     train_size = 0\n",
    "#     for batch_images, batch_labels in train_loader:\n",
    "#         # Load data\n",
    "#         batch_images = batch_images.to(device)\n",
    "#         batch_labels = batch_labels.to(device)\n",
    "#         # Pass loss value\n",
    "#         outputs = vgg16(batch_images)\n",
    "#         loss = criterion(outputs, batch_labels)\n",
    "#         # Back propagation\n",
    "#         optimizer.zero_grad()\n",
    "#         loss.backward()\n",
    "#         optimizer.step()\n",
    "#         # Add to the total loss\n",
    "#         batch_size = batch_images.size(0)\n",
    "#         train_loss += loss.item() * batch_size\n",
    "#         train_size += batch_size\n",
    "\n",
    "#     train_loss = train_loss / train_size\n",
    "#     train_loss_list.append(train_loss)\n",
    "\n",
    "#     # Validate\n",
    "#     vgg16.eval()\n",
    "#     val_loss = 0\n",
    "#     val_samples = 0\n",
    "#     with torch.no_grad():\n",
    "#         for batch_images, batch_labels in val_loader:\n",
    "#             # Load data\n",
    "#             batch_images = batch_images.to(device)\n",
    "#             batch_labels = batch_labels.to(device)\n",
    "#             # Output\n",
    "#             outputs = vgg16(batch_images)\n",
    "#             # Calculate loss\n",
    "#             loss = criterion(outputs, batch_labels)\n",
    "#             # Add to total loss\n",
    "#             batch_size = batch_images.size(0)\n",
    "#             val_loss += loss.item() * batch_size\n",
    "#             val_samples += batch_size\n",
    "#     val_loss /= val_samples\n",
    "#     val_loss_list.append(val_loss)\n",
    "\n",
    "#     # Print\n",
    "#     print(\n",
    "#         f\"[Epoch {(epoch+1):d} / {(NUM_EPOCHS):d}] [Train Loss {train_loss:f} (MSE)] [Valid Loss {val_loss:f} (MSE)] [Learning Rate: {optimizer.param_groups[0]['lr']}]\"\n",
    "#     )\n",
    "\n",
    "#     # Scheduler\n",
    "#     scheduler.step(val_loss)"
   ]
  },
  {
   "cell_type": "markdown",
   "id": "7cf24633",
   "metadata": {},
   "source": [
    "Then we plot the graphs of `train_loss_list` and `val_loss_lost`."
   ]
  },
  {
   "cell_type": "code",
   "execution_count": 8,
   "id": "f06a4e35",
   "metadata": {
    "execution": {
     "iopub.execute_input": "2025-05-29T23:04:53.314343Z",
     "iopub.status.busy": "2025-05-29T23:04:53.314047Z",
     "iopub.status.idle": "2025-05-29T23:04:53.428756Z",
     "shell.execute_reply": "2025-05-29T23:04:53.428296Z"
    }
   },
   "outputs": [],
   "source": [
    "# x = list(range(NUM_EPOCHS))\n",
    "# plt.plot(x, train_loss_list, label=\"Train Loss\", marker=\".\")\n",
    "# plt.plot(x, val_loss_list, label=\"Val Loss\", marker=\".\")\n",
    "# plt.xlabel(\"Epoch\")\n",
    "# plt.ylabel(\"Loss\")\n",
    "# plt.title(\"Training and Validation Loss\")\n",
    "# plt.legend()\n",
    "# plt.show()"
   ]
  },
  {
   "cell_type": "markdown",
   "id": "bedc2858",
   "metadata": {},
   "source": [
    "## Step 4 - Save / load the model\n",
    "\n",
    "After training, we need to save the models."
   ]
  },
  {
   "cell_type": "code",
   "execution_count": 9,
   "id": "75c4022d",
   "metadata": {
    "execution": {
     "iopub.execute_input": "2025-05-29T23:04:53.430831Z",
     "iopub.status.busy": "2025-05-29T23:04:53.430546Z",
     "iopub.status.idle": "2025-05-29T23:04:57.618614Z",
     "shell.execute_reply": "2025-05-29T23:04:57.618136Z"
    }
   },
   "outputs": [],
   "source": [
    "# # Save the trained model to disk\n",
    "# torch.save(vgg16.state_dict(), MODEL_PATH)\n",
    "# print(f\"Model saved to {MODEL_PATH}\")"
   ]
  },
  {
   "cell_type": "markdown",
   "id": "814f9e3d",
   "metadata": {},
   "source": [
    "To read the saved data, we can run the following codes:"
   ]
  },
  {
   "cell_type": "code",
   "execution_count": 10,
   "id": "1b045a1c",
   "metadata": {
    "execution": {
     "iopub.execute_input": "2025-05-29T23:04:57.620616Z",
     "iopub.status.busy": "2025-05-29T23:04:57.620330Z",
     "iopub.status.idle": "2025-05-29T23:04:57.622700Z",
     "shell.execute_reply": "2025-05-29T23:04:57.622284Z"
    }
   },
   "outputs": [
    {
     "name": "stdout",
     "output_type": "stream",
     "text": [
      "Model loaded from /home/ubuntu/Desktop/Ra/models/VGG16_128_regression_binned.pth\n"
     ]
    }
   ],
   "source": [
    "# Load the trained model weights\n",
    "vgg16.load_state_dict(torch.load(MODEL_PATH, map_location=device))\n",
    "vgg16.eval()\n",
    "print(\"Model loaded from\", MODEL_PATH)"
   ]
  },
  {
   "cell_type": "markdown",
   "id": "555622cd",
   "metadata": {},
   "source": [
    "## Step 5 - Extract features"
   ]
  },
  {
   "cell_type": "markdown",
   "id": "0a0f4d97",
   "metadata": {},
   "source": [
    "We extract the images' features from the second-to-last layer of the trained VGG16 net."
   ]
  },
  {
   "cell_type": "code",
   "execution_count": 11,
   "id": "96b8e85d",
   "metadata": {},
   "outputs": [
    {
     "name": "stdout",
     "output_type": "stream",
     "text": [
      "Shape of features of the images for validation: (60, 4096)\n"
     ]
    }
   ],
   "source": [
    "# Get features\n",
    "def get_fc2_features(model, batch_images):\n",
    "    features = []\n",
    "    def hook_fn(module, input, output):\n",
    "        features.append(output)\n",
    "    handle = model.classifier[3].register_forward_hook(hook_fn)\n",
    "    vgg16.eval()\n",
    "    with torch.no_grad():\n",
    "        _ = model(batch_images)\n",
    "    handle.remove()\n",
    "    return features[0]\n",
    "\n",
    "# Get features\n",
    "features_val = get_fc2_features(vgg16, images_val_tensor.to(device)).cpu().detach().numpy()\n",
    "print(f\"Shape of features of the images for validation: {features_val.shape}\")"
   ]
  },
  {
   "cell_type": "markdown",
   "id": "b4fde114",
   "metadata": {},
   "source": [
    "We use t-SNE algorithm to decrease the features' dimemsion to 2, and plot the 2-dimensional features with gradual colors."
   ]
  },
  {
   "cell_type": "code",
   "execution_count": 12,
   "id": "6e13e8bd",
   "metadata": {},
   "outputs": [
    {
     "name": "stdout",
     "output_type": "stream",
     "text": [
      "[[-2.4341836  11.462461  ]\n",
      " [-0.91501206  8.574312  ]\n",
      " [-3.0989983  11.5963955 ]\n",
      " [-4.632937   14.58829   ]\n",
      " [-0.94999194  8.324093  ]\n",
      " [-0.5901395   9.083742  ]\n",
      " [-2.8519058  11.616861  ]\n",
      " [-2.1754024  10.104352  ]\n",
      " [-3.85592    13.112839  ]\n",
      " [-2.0049522  10.074148  ]\n",
      " [-0.5239783   8.306609  ]\n",
      " [-2.7391405  11.196987  ]\n",
      " [-2.4024591  10.755466  ]\n",
      " [-4.579657   14.463318  ]\n",
      " [-2.0124528  10.422176  ]\n",
      " [-0.71565276  9.024037  ]\n",
      " [-0.47320166  7.9696856 ]\n",
      " [-1.1230375   8.707861  ]\n",
      " [-2.8584957  11.815418  ]\n",
      " [-2.383067   11.157114  ]\n",
      " [-4.3466654  13.6304035 ]\n",
      " [-3.2544875  12.427091  ]\n",
      " [-1.4038213   8.432926  ]\n",
      " [-0.94744647  8.933696  ]\n",
      " [-3.841822   13.268339  ]\n",
      " [-4.615594   14.507202  ]\n",
      " [-0.75417924  9.187626  ]\n",
      " [-0.75423175  8.060648  ]\n",
      " [-1.9551392  10.323662  ]\n",
      " [-1.1342204   8.869092  ]\n",
      " [-3.3619542  12.449657  ]\n",
      " [-2.7576292  11.174824  ]\n",
      " [-4.1258073  14.110574  ]\n",
      " [-4.43398    13.500144  ]\n",
      " [-0.6418078   8.431841  ]\n",
      " [-4.2937055  13.727448  ]\n",
      " [-4.537429   14.035987  ]\n",
      " [-4.0187097  13.466866  ]\n",
      " [-4.5411816  14.204598  ]\n",
      " [-2.6229434  11.359527  ]\n",
      " [-2.24448    10.697422  ]\n",
      " [-4.356712   14.274104  ]\n",
      " [-1.3576974  10.046141  ]\n",
      " [-2.9151862  11.988049  ]\n",
      " [-2.524903   10.841401  ]\n",
      " [-2.601584   11.6411    ]\n",
      " [-0.4171303   8.142459  ]\n",
      " [-0.49431086  8.757274  ]\n",
      " [-3.2669165  12.195108  ]\n",
      " [-1.8511063   9.696871  ]\n",
      " [-1.3843788   9.233281  ]\n",
      " [-3.2587214  11.883157  ]\n",
      " [-2.1341434  10.42052   ]\n",
      " [-3.999379   13.714926  ]\n",
      " [-0.5828973   8.818263  ]\n",
      " [-0.65719527  7.5414467 ]\n",
      " [-4.0438714  13.176188  ]\n",
      " [-3.8079093  13.399881  ]\n",
      " [-3.7667224  12.954787  ]\n",
      " [-3.5840988  12.657842  ]]\n"
     ]
    },
    {
     "data": {
      "image/png": "[encoded data removed]",
      "text/plain": [
       "<Figure size 800x600 with 2 Axes>"
      ]
     },
     "metadata": {},
     "output_type": "display_data"
    }
   ],
   "source": [
    "# Turn to `numpy.array`\n",
    "labels_val_real = labels_val.numpy()\n",
    "labels_val_predicted = vgg16(images_val_tensor.to(device)).cpu().detach().numpy()\n",
    "\n",
    "# Unnormalize labels\n",
    "labels_val_real = labels_val_real * (MAX_LABEL - MIN_LABEL) + MIN_LABEL\n",
    "labels_val_predicted = labels_val_predicted * (MAX_LABEL - MIN_LABEL) + MIN_LABEL\n",
    "\n",
    "# t-SNE\n",
    "tsne = TSNE(n_components=2, random_state=SEED)\n",
    "reduced_tsne = tsne.fit_transform(features_val)\n",
    "print(reduced_tsne)\n",
    "\n",
    "# Plot 2-dim features\n",
    "plt.figure(figsize=(8, 6))\n",
    "plt.scatter(reduced_tsne[:, 0], reduced_tsne[:, 1], c=labels_val_real, cmap='viridis', s=10)\n",
    "plt.colorbar(label='Real Label')\n",
    "plt.title('t-SNE of VGG16 FC2 Features (Validation Set)')\n",
    "plt.xlabel('t-SNE 1')\n",
    "plt.ylabel('t-SNE 2')\n",
    "plt.show()"
   ]
  },
  {
   "cell_type": "markdown",
   "id": "f3159f06",
   "metadata": {},
   "source": [
    "## Exceptional test\n",
    "\n",
    "Let's see if the model works well."
   ]
  },
  {
   "cell_type": "code",
   "execution_count": 13,
   "id": "5178524e",
   "metadata": {
    "execution": {
     "iopub.execute_input": "2025-05-29T23:04:57.624557Z",
     "iopub.status.busy": "2025-05-29T23:04:57.624291Z",
     "iopub.status.idle": "2025-05-29T23:04:59.854656Z",
     "shell.execute_reply": "2025-05-29T23:04:59.854195Z"
    }
   },
   "outputs": [
    {
     "name": "stdout",
     "output_type": "stream",
     "text": [
      "    Real Labels  Predicted Labels      Diff      MAPE\n",
      "0         3.549          3.190166 -0.358834  0.898892\n",
      "1         4.550          4.064200 -0.485800  0.893231\n",
      "2         3.336          3.060239 -0.275761  0.917338\n",
      "3         1.599          1.709992  0.110992  0.930586\n",
      "4         4.075          4.134416  0.059416  0.985419\n",
      "5         3.905          3.867103 -0.037897  0.990295\n",
      "6         3.801          3.088771 -0.712229  0.812621\n",
      "7         2.836          3.522975  0.686975  0.757766\n",
      "8         1.578          2.570972  0.992972  0.370740\n",
      "9         3.302          3.541622  0.239622  0.927431\n",
      "10        3.995          4.207779  0.212779  0.946739\n",
      "11        2.123          3.200664  1.077664  0.492386\n",
      "12        3.902          3.324715 -0.577285  0.852054\n",
      "13        2.036          1.818962 -0.217038  0.893400\n",
      "14        3.819          3.469175 -0.349825  0.908399\n",
      "15        3.957          3.898547 -0.058453  0.985228\n",
      "16        4.597          4.415355 -0.181645  0.960486\n",
      "17        3.961          3.990244  0.029244  0.992617\n",
      "18        3.193          3.056964 -0.136036  0.957396\n",
      "19        3.399          3.242285 -0.156715  0.953894\n",
      "20        2.377          2.308307 -0.068693  0.971101\n",
      "21        2.680          2.869426  0.189426  0.929319\n",
      "22        4.338          4.094005 -0.243995  0.943754\n",
      "23        4.477          3.934155 -0.542845  0.878748\n",
      "24        2.641          2.552928 -0.088072  0.966652\n",
      "25        1.947          1.803472 -0.143528  0.926283\n",
      "26        4.577          3.816995 -0.760005  0.833951\n",
      "27        4.711          4.317759 -0.393241  0.916527\n",
      "28        3.414          3.483466  0.069466  0.979653\n",
      "29        4.057          3.928127 -0.128873  0.968234\n",
      "30        1.621          2.851770  1.230770  0.240734\n",
      "31        3.323          3.198483 -0.124517  0.962529\n",
      "32        2.147          2.178655  0.031655  0.985256\n",
      "33        1.649          2.357409  0.708409  0.570401\n",
      "34        3.935          4.116881  0.181881  0.953779\n",
      "35        2.656          2.283157 -0.372843  0.859622\n",
      "36        1.590          2.088595  0.498595  0.686418\n",
      "37        2.655          2.426665 -0.228335  0.913998\n",
      "38        2.076          1.982536 -0.093464  0.954979\n",
      "39        2.413          3.177896  0.764896  0.683011\n",
      "40        2.836          3.361171  0.525171  0.814820\n",
      "41        2.331          2.017097 -0.313903  0.865335\n",
      "42        4.740          3.541182 -1.198818  0.747085\n",
      "43        2.422          3.032088  0.610088  0.748106\n",
      "44        2.444          3.282398  0.838398  0.656957\n",
      "45        2.492          3.125013  0.633013  0.745982\n",
      "46        3.957          4.323338  0.366338  0.907420\n",
      "47        3.905          4.007478  0.102478  0.973757\n",
      "48        2.619          2.900529  0.281529  0.892505\n",
      "49        3.927          3.673071 -0.253929  0.935338\n",
      "50        3.819          3.825139  0.006139  0.998392\n",
      "51        3.119          2.973992 -0.145008  0.953508\n",
      "52        3.917          3.438779 -0.478221  0.877912\n",
      "53        2.453          2.364161 -0.088839  0.963783\n",
      "54        4.565          3.964487 -0.600513  0.868453\n",
      "55        4.597          4.842000  0.245000  0.946704\n",
      "56        2.691          2.542212 -0.148788  0.944709\n",
      "57        2.657          2.496010 -0.160990  0.939409\n",
      "58        3.725          2.642161 -1.082839  0.709305\n",
      "59        1.618          2.763014  1.145014  0.292328\n",
      "MAPE: 0.8555612467101862\n"
     ]
    },
    {
     "data": {
      "image/png": "[encoded data removed]",
      "text/plain": [
       "<Figure size 640x480 with 1 Axes>"
      ]
     },
     "metadata": {},
     "output_type": "display_data"
    },
    {
     "data": {
      "image/png": "[encoded data removed]",
      "text/plain": [
       "<Figure size 640x480 with 1 Axes>"
      ]
     },
     "metadata": {},
     "output_type": "display_data"
    }
   ],
   "source": [
    "# Turn to `pandas.Series`\n",
    "labels_val_real = pd.Series(labels_val_real)\n",
    "labels_val_predicted = pd.Series(labels_val_predicted.flatten())\n",
    "labels_val_diff = labels_val_predicted - labels_val_real\n",
    "\n",
    "# Make `pandas.DataFrame`\n",
    "df = pd.DataFrame(\n",
    "    {\n",
    "        \"Real Labels\": labels_val_real,\n",
    "        \"Predicted Labels\": labels_val_predicted,\n",
    "        \"Diff\": labels_val_diff,\n",
    "        \"MAPE\": 1 - np.abs(labels_val_diff) / labels_val_real\n",
    "    }\n",
    ")\n",
    "df.to_csv(OUTPUT_PATH, index = False)\n",
    "print(df)\n",
    "print(f\"MAPE: {df[\"MAPE\"].mean()}\")\n",
    "\n",
    "# Boxplot of the differences\n",
    "plt.boxplot(labels_val_diff)\n",
    "plt.ylabel(\"Prediction Error (Predicted - Real)\")\n",
    "plt.title(\"Boxplot of Prediction Errors\")\n",
    "plt.show()\n",
    "\n",
    "# Plot the differences by the real labels.\n",
    "plt.scatter(labels_val_real, labels_val_diff, s=10)\n",
    "plt.xlabel(\"Real Labels\")\n",
    "plt.ylabel(\"Prediction Error (Predicted - Real)\")\n",
    "plt.title(\"Prediction Error vs Real Labels\")\n",
    "plt.axhline(0, color=\"red\", linestyle=\"--\", linewidth=1)\n",
    "plt.show()"
   ]
  }
 ],
 "metadata": {
  "kernelspec": {
   "display_name": "pytorch",
   "language": "python",
   "name": "python3"
  },
  "language_info": {
   "codemirror_mode": {
    "name": "ipython",
    "version": 3
   },
   "file_extension": ".py",
   "mimetype": "text/x-python",
   "name": "python",
   "nbconvert_exporter": "python",
   "pygments_lexer": "ipython3",
   "version": "3.12.10"
  }
 },
 "nbformat": 4,
 "nbformat_minor": 5
}
