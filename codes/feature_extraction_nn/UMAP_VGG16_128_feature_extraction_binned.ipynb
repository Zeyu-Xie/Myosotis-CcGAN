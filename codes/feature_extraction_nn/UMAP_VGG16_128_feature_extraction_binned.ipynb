{
 "cells": [
  {
   "cell_type": "markdown",
   "id": "05bee791",
   "metadata": {},
   "source": [
    "# VGG\n",
    "\n",
    "This notebook uses model \"VGG16\" to conduct regression of images."
   ]
  },
  {
   "cell_type": "code",
   "execution_count": 1,
   "id": "9c623ed7",
   "metadata": {
    "execution": {
     "iopub.execute_input": "2025-05-29T22:40:54.406756Z",
     "iopub.status.busy": "2025-05-29T22:40:54.406399Z",
     "iopub.status.idle": "2025-05-29T22:40:57.684867Z",
     "shell.execute_reply": "2025-05-29T22:40:57.684352Z"
    }
   },
   "outputs": [],
   "source": [
    "import h5py\n",
    "from matplotlib import pyplot as plt\n",
    "import numpy as np\n",
    "import os\n",
    "import pandas as pd\n",
    "from sklearn.manifold import TSNE\n",
    "from sklearn.model_selection import train_test_split\n",
    "import torch\n",
    "import torch.nn as nn\n",
    "import torch.optim as optim\n",
    "from torch.utils.data import TensorDataset, DataLoader\n",
    "from torchvision import models\n",
    "from umap import UMAP"
   ]
  },
  {
   "cell_type": "markdown",
   "id": "28904883",
   "metadata": {},
   "source": [
    "## Step 1 - Config\n",
    "\n",
    "First set the hyperparameters and other configurations."
   ]
  },
  {
   "cell_type": "code",
   "execution_count": 2,
   "id": "33cb27b0",
   "metadata": {
    "execution": {
     "iopub.execute_input": "2025-05-29T22:40:57.687467Z",
     "iopub.status.busy": "2025-05-29T22:40:57.687174Z",
     "iopub.status.idle": "2025-05-29T22:40:57.822458Z",
     "shell.execute_reply": "2025-05-29T22:40:57.822002Z"
    }
   },
   "outputs": [
    {
     "name": "stdout",
     "output_type": "stream",
     "text": [
      "Device: cuda\n"
     ]
    }
   ],
   "source": [
    "# Dataset and model path\n",
    "DATASET_PATH = \"/home/ubuntu/Desktop/Ra/Ra_128_fake_indexed_binned.h5\"\n",
    "MODEL_PATH = \"/home/ubuntu/Desktop/Ra/VGG16_128_fake_regression.pth\"\n",
    "OUTPUT_PATH = \"/home/ubuntu/Desktop/Ra/outputs/VGG16_128_regression_binned.csv\"\n",
    "# Env\n",
    "SEED = 42\n",
    "# Dataset\n",
    "MIN_LABEL = 1.3\n",
    "MAX_LABEL = 5.2\n",
    "# Hyperparameters\n",
    "NUM_EPOCHS = 200\n",
    "LR = 1e-3\n",
    "LR_WEIGHT_DECAY = 1e-4\n",
    "TEST_SIZE = 0.2\n",
    "BATCH_SIZE_TRAIN = 64\n",
    "BATCH_SIZE_VAL = 10\n",
    "\n",
    "# Device\n",
    "device = \"cuda\" if torch.cuda.is_available() else \"cpu\"\n",
    "print(f\"Device: {device}\")\n",
    "\n",
    "# Path\n",
    "if not os.path.exists(os.path.dirname(MODEL_PATH)):\n",
    "    os.makedirs(os.path.dirname(MODEL_PATH), exist_ok=True)\n",
    "    print(f\"Make new directory {os.path.dirname(MODEL_PATH)}\")\n",
    "if not os.path.exists(os.path.dirname(OUTPUT_PATH)):\n",
    "    os.makedirs(os.path.dirname(OUTPUT_PATH), exist_ok=True)\n",
    "    print(f\"Make new directory {os.path.dirname(OUTPUT_PATH)}\")"
   ]
  },
  {
   "cell_type": "markdown",
   "id": "6d7ff1c7",
   "metadata": {},
   "source": [
    "Then load the pretrained model from `torchvision`."
   ]
  },
  {
   "cell_type": "code",
   "execution_count": 3,
   "id": "b8b13a96",
   "metadata": {
    "execution": {
     "iopub.execute_input": "2025-05-29T22:40:57.824481Z",
     "iopub.status.busy": "2025-05-29T22:40:57.824210Z",
     "iopub.status.idle": "2025-05-29T22:40:59.329245Z",
     "shell.execute_reply": "2025-05-29T22:40:59.328708Z"
    }
   },
   "outputs": [
    {
     "name": "stderr",
     "output_type": "stream",
     "text": [
      "/opt/pytorch/lib/python3.12/site-packages/torchvision/models/_utils.py:208: UserWarning: The parameter 'pretrained' is deprecated since 0.13 and may be removed in the future, please use 'weights' instead.\n",
      "  warnings.warn(\n",
      "/opt/pytorch/lib/python3.12/site-packages/torchvision/models/_utils.py:223: UserWarning: Arguments other than a weight enum or `None` for 'weights' are deprecated since 0.13 and may be removed in the future. The current behavior is equivalent to passing `weights=VGG16_Weights.IMAGENET1K_V1`. You can also use `weights=VGG16_Weights.DEFAULT` to get the most up-to-date weights.\n",
      "  warnings.warn(msg)\n"
     ]
    }
   ],
   "source": [
    "# Pretrained VGG16 model\n",
    "vgg16 = models.vgg16(pretrained=True)\n",
    "\n",
    "# Change the last layer to fit the regression task\n",
    "vgg16.classifier[-1] = nn.Linear(in_features=4096, out_features=1)\n",
    "\n",
    "# Choose to freeze the layers or not\n",
    "for param in vgg16.features.parameters():\n",
    "    param.requires_grad = False\n",
    "\n",
    "# Move to the appropriate device\n",
    "vgg16 = vgg16.to(device)"
   ]
  },
  {
   "cell_type": "markdown",
   "id": "4b3b175c",
   "metadata": {},
   "source": [
    "## Step 2 - Load data\n",
    "\n",
    "In this step we load the images and process them, the goal is to get `train_loader` and `val_loader` for training. After this step we will get:\n",
    "\n",
    "1. `images_train` and `images_val` (4 dim tensor)\n",
    "2. `labels_train` and `labels_val` (1 dim tensor)\n",
    "3. `train_dataset` and `val_dataset` (dataset)\n",
    "4. `train_loader` and `val_loader` (dataloader)\n",
    "\n",
    "First we load the images, and normalize the pixel values."
   ]
  },
  {
   "cell_type": "code",
   "execution_count": 4,
   "id": "bc9be499",
   "metadata": {
    "execution": {
     "iopub.execute_input": "2025-05-29T22:40:59.331634Z",
     "iopub.status.busy": "2025-05-29T22:40:59.331349Z",
     "iopub.status.idle": "2025-05-29T22:41:03.617056Z",
     "shell.execute_reply": "2025-05-29T22:41:03.616488Z"
    }
   },
   "outputs": [
    {
     "name": "stdout",
     "output_type": "stream",
     "text": [
      "Images and labels loaded.\n",
      "Images Shape: (300, 128, 128, 3)\n",
      "Labels Shape: (300,)\n",
      "\n",
      "Select indexes by MIN_LABEL = 1.3 and MAX_LABEL = 5.2\n",
      "Images Shape: (300, 128, 128, 3)\n",
      "Labels Shape: (300,)\n",
      "\n",
      "Transform `images` and `labels` to tensors.\n",
      "Images Shape: torch.Size([300, 3, 128, 128])\n",
      "Labels Shape: torch.Size([300])\n"
     ]
    }
   ],
   "source": [
    "# Load datasets\n",
    "with h5py.File(DATASET_PATH, \"r\") as f:\n",
    "    images = f[\"images\"][:].astype(float)\n",
    "    labels = f[\"labels\"][:].astype(float)\n",
    "N_all = len(images)\n",
    "print(\"Images and labels loaded.\")\n",
    "print(f\"Images Shape: {images.shape}\")\n",
    "print(f\"Labels Shape: {labels.shape}\")\n",
    "print(\"\")\n",
    "\n",
    "# Selection\n",
    "indx = np.where((labels >= MIN_LABEL) * (labels < MAX_LABEL) == True)[0]\n",
    "labels = labels[indx]\n",
    "images = images[indx]\n",
    "print(f\"Select indexes by MIN_LABEL = {MIN_LABEL} and MAX_LABEL = {MAX_LABEL}\")\n",
    "print(f\"Images Shape: {images.shape}\")\n",
    "print(f\"Labels Shape: {labels.shape}\")\n",
    "print(\"\")\n",
    "\n",
    "# To tensor\n",
    "images = torch.from_numpy(images).permute(0, 3, 1, 2)\n",
    "labels = torch.from_numpy(labels)\n",
    "print(\"Transform `images` and `labels` to tensors.\")\n",
    "print(f\"Images Shape: {images.shape}\")\n",
    "print(f\"Labels Shape: {labels.shape}\")\n",
    "\n",
    "# Image standardization\n",
    "mean = images.mean(dim=[0, 2, 3], keepdim=True)\n",
    "std = images.std(dim=[0, 2, 3], keepdim=True)\n",
    "images = (images - mean) / std\n",
    "\n",
    "# Label normalization\n",
    "labels = (labels - MIN_LABEL) / (MAX_LABEL - MIN_LABEL)"
   ]
  },
  {
   "cell_type": "markdown",
   "id": "2127b3c6",
   "metadata": {},
   "source": [
    "Then use `train_test_split` function to get data for training and validation."
   ]
  },
  {
   "cell_type": "code",
   "execution_count": 5,
   "id": "2f7d1dd9",
   "metadata": {
    "execution": {
     "iopub.execute_input": "2025-05-29T22:41:03.619772Z",
     "iopub.status.busy": "2025-05-29T22:41:03.619297Z",
     "iopub.status.idle": "2025-05-29T22:41:04.146806Z",
     "shell.execute_reply": "2025-05-29T22:41:04.146206Z"
    }
   },
   "outputs": [
    {
     "name": "stdout",
     "output_type": "stream",
     "text": [
      "Train test split with test size 0.2.\n",
      "Images (train) Shape: torch.Size([240, 3, 128, 128])\n",
      "Images (val) Shape: torch.Size([60, 3, 128, 128])\n",
      "Labels (train) Shape: torch.Size([240])\n",
      "Labels (val) Shape: torch.Size([60])\n"
     ]
    }
   ],
   "source": [
    "# Train-test split\n",
    "images_train, images_val, labels_train, labels_val = train_test_split(\n",
    "    images, labels, test_size=TEST_SIZE, random_state=SEED\n",
    ")\n",
    "print(f\"Train test split with test size {TEST_SIZE}.\")\n",
    "print(f\"Images (train) Shape: {images_train.shape}\")\n",
    "print(f\"Images (val) Shape: {images_val.shape}\")\n",
    "print(f\"Labels (train) Shape: {labels_train.shape}\")\n",
    "print(f\"Labels (val) Shape: {labels_val.shape}\")"
   ]
  },
  {
   "cell_type": "markdown",
   "id": "e5f55f94",
   "metadata": {},
   "source": [
    "Next, we should transform the data to tensors, combine `images` and `labels` to datasets and get dataloaders according to `BATCH_SIZE`."
   ]
  },
  {
   "cell_type": "code",
   "execution_count": 6,
   "id": "51549a4b",
   "metadata": {
    "execution": {
     "iopub.execute_input": "2025-05-29T22:41:04.149042Z",
     "iopub.status.busy": "2025-05-29T22:41:04.148828Z",
     "iopub.status.idle": "2025-05-29T22:41:04.436755Z",
     "shell.execute_reply": "2025-05-29T22:41:04.436267Z"
    }
   },
   "outputs": [
    {
     "name": "stdout",
     "output_type": "stream",
     "text": [
      "Shape of `images_train_tensor`: torch.Size([240, 3, 128, 128])\n",
      "Shape of `labels_train_tensor`: torch.Size([240, 1])\n",
      "Shape of `images_val_tensor`: torch.Size([60, 3, 128, 128])\n",
      "Shape of `labels_val_tensor`: torch.Size([60, 1])\n"
     ]
    },
    {
     "name": "stderr",
     "output_type": "stream",
     "text": [
      "/tmp/ipykernel_72254/1722485521.py:2: UserWarning: To copy construct from a tensor, it is recommended to use sourceTensor.detach().clone() or sourceTensor.detach().clone().requires_grad_(True), rather than torch.tensor(sourceTensor).\n",
      "  images_train_tensor = torch.tensor(images_train, dtype=torch.float32)\n",
      "/tmp/ipykernel_72254/1722485521.py:3: UserWarning: To copy construct from a tensor, it is recommended to use sourceTensor.detach().clone() or sourceTensor.detach().clone().requires_grad_(True), rather than torch.tensor(sourceTensor).\n",
      "  images_val_tensor = torch.tensor(images_val, dtype=torch.float32)\n",
      "/tmp/ipykernel_72254/1722485521.py:4: UserWarning: To copy construct from a tensor, it is recommended to use sourceTensor.detach().clone() or sourceTensor.detach().clone().requires_grad_(True), rather than torch.tensor(sourceTensor).\n",
      "  labels_train_tensor = torch.tensor(labels_train, dtype=torch.float32).view(-1, 1)\n",
      "/tmp/ipykernel_72254/1722485521.py:5: UserWarning: To copy construct from a tensor, it is recommended to use sourceTensor.detach().clone() or sourceTensor.detach().clone().requires_grad_(True), rather than torch.tensor(sourceTensor).\n",
      "  labels_val_tensor = torch.tensor(labels_val, dtype=torch.float32).view(-1, 1)\n"
     ]
    }
   ],
   "source": [
    "# Change to tensor\n",
    "images_train_tensor = torch.tensor(images_train, dtype=torch.float32)\n",
    "images_val_tensor = torch.tensor(images_val, dtype=torch.float32)\n",
    "labels_train_tensor = torch.tensor(labels_train, dtype=torch.float32).view(-1, 1)\n",
    "labels_val_tensor = torch.tensor(labels_val, dtype=torch.float32).view(-1, 1)\n",
    "print(f\"Shape of `images_train_tensor`: {images_train_tensor.shape}\")\n",
    "print(f\"Shape of `labels_train_tensor`: {labels_train_tensor.shape}\")\n",
    "print(f\"Shape of `images_val_tensor`: {images_val_tensor.shape}\")\n",
    "print(f\"Shape of `labels_val_tensor`: {labels_val_tensor.shape}\")\n",
    "\n",
    "# Tensor's dataset\n",
    "train_dataset = TensorDataset(images_train_tensor, labels_train_tensor)\n",
    "val_dataset = TensorDataset(images_val_tensor, labels_val_tensor)\n",
    "\n",
    "# DataLoader\n",
    "train_loader = DataLoader(train_dataset, batch_size=BATCH_SIZE_TRAIN, shuffle=True)\n",
    "val_loader = DataLoader(val_dataset, batch_size=BATCH_SIZE_VAL)"
   ]
  },
  {
   "cell_type": "markdown",
   "id": "ce4ea102",
   "metadata": {},
   "source": [
    "## Step 3 - Train"
   ]
  },
  {
   "cell_type": "markdown",
   "id": "534bdeac",
   "metadata": {},
   "source": [
    "Start training for `epoch` loops, record the training losses and validation losses."
   ]
  },
  {
   "cell_type": "code",
   "execution_count": 7,
   "id": "c0161423",
   "metadata": {
    "execution": {
     "iopub.execute_input": "2025-05-29T22:41:04.439004Z",
     "iopub.status.busy": "2025-05-29T22:41:04.438813Z",
     "iopub.status.idle": "2025-05-29T23:04:53.312242Z",
     "shell.execute_reply": "2025-05-29T23:04:53.311740Z"
    }
   },
   "outputs": [],
   "source": [
    "# Criterion and optimizer\n",
    "criterion = nn.MSELoss()\n",
    "optimizer = optim.Adam(\n",
    "    vgg16.classifier.parameters(), lr=LR, weight_decay=LR_WEIGHT_DECAY\n",
    ")\n",
    "scheduler = torch.optim.lr_scheduler.ReduceLROnPlateau(\n",
    "    optimizer, mode=\"min\", factor=0.5, patience=5\n",
    ")\n",
    "\n",
    "# Record the loss values\n",
    "train_loss_list = []\n",
    "val_loss_list = []\n",
    "\n",
    "# # Loop by epoch\n",
    "# for epoch in range(NUM_EPOCHS):\n",
    "\n",
    "#     # Train\n",
    "#     vgg16.train()\n",
    "#     train_loss = 0.0\n",
    "#     train_size = 0\n",
    "#     for batch_images, batch_labels in train_loader:\n",
    "#         # Load data\n",
    "#         batch_images = batch_images.to(device)\n",
    "#         batch_labels = batch_labels.to(device)\n",
    "#         # Pass loss value\n",
    "#         outputs = vgg16(batch_images)\n",
    "#         loss = criterion(outputs, batch_labels)\n",
    "#         # Back propagation\n",
    "#         optimizer.zero_grad()\n",
    "#         loss.backward()\n",
    "#         optimizer.step()\n",
    "#         # Add to the total loss\n",
    "#         batch_size = batch_images.size(0)\n",
    "#         train_loss += loss.item() * batch_size\n",
    "#         train_size += batch_size\n",
    "\n",
    "#     train_loss = train_loss / train_size\n",
    "#     train_loss_list.append(train_loss)\n",
    "\n",
    "#     # Validate\n",
    "#     vgg16.eval()\n",
    "#     val_loss = 0\n",
    "#     val_samples = 0\n",
    "#     with torch.no_grad():\n",
    "#         for batch_images, batch_labels in val_loader:\n",
    "#             # Load data\n",
    "#             batch_images = batch_images.to(device)\n",
    "#             batch_labels = batch_labels.to(device)\n",
    "#             # Output\n",
    "#             outputs = vgg16(batch_images)\n",
    "#             # Calculate loss\n",
    "#             loss = criterion(outputs, batch_labels)\n",
    "#             # Add to total loss\n",
    "#             batch_size = batch_images.size(0)\n",
    "#             val_loss += loss.item() * batch_size\n",
    "#             val_samples += batch_size\n",
    "#     val_loss /= val_samples\n",
    "#     val_loss_list.append(val_loss)\n",
    "\n",
    "#     # Print\n",
    "#     print(\n",
    "#         f\"[Epoch {(epoch+1):d} / {(NUM_EPOCHS):d}] [Train Loss {train_loss:f} (MSE)] [Valid Loss {val_loss:f} (MSE)] [Learning Rate: {optimizer.param_groups[0]['lr']}]\"\n",
    "#     )\n",
    "\n",
    "#     # Scheduler\n",
    "#     scheduler.step(val_loss)"
   ]
  },
  {
   "cell_type": "markdown",
   "id": "7cf24633",
   "metadata": {},
   "source": [
    "Then we plot the graphs of `train_loss_list` and `val_loss_lost`."
   ]
  },
  {
   "cell_type": "code",
   "execution_count": 8,
   "id": "f06a4e35",
   "metadata": {
    "execution": {
     "iopub.execute_input": "2025-05-29T23:04:53.314343Z",
     "iopub.status.busy": "2025-05-29T23:04:53.314047Z",
     "iopub.status.idle": "2025-05-29T23:04:53.428756Z",
     "shell.execute_reply": "2025-05-29T23:04:53.428296Z"
    }
   },
   "outputs": [],
   "source": [
    "# x = list(range(NUM_EPOCHS))\n",
    "# plt.plot(x, train_loss_list, label=\"Train Loss\", marker=\".\")\n",
    "# plt.plot(x, val_loss_list, label=\"Val Loss\", marker=\".\")\n",
    "# plt.xlabel(\"Epoch\")\n",
    "# plt.ylabel(\"Loss\")\n",
    "# plt.title(\"Training and Validation Loss\")\n",
    "# plt.legend()\n",
    "# plt.show()"
   ]
  },
  {
   "cell_type": "markdown",
   "id": "bedc2858",
   "metadata": {},
   "source": [
    "## Step 4 - Save / load the model\n",
    "\n",
    "After training, we need to save the models."
   ]
  },
  {
   "cell_type": "code",
   "execution_count": 9,
   "id": "75c4022d",
   "metadata": {
    "execution": {
     "iopub.execute_input": "2025-05-29T23:04:53.430831Z",
     "iopub.status.busy": "2025-05-29T23:04:53.430546Z",
     "iopub.status.idle": "2025-05-29T23:04:57.618614Z",
     "shell.execute_reply": "2025-05-29T23:04:57.618136Z"
    }
   },
   "outputs": [],
   "source": [
    "# # Save the trained model to disk\n",
    "# torch.save(vgg16.state_dict(), MODEL_PATH)\n",
    "# print(f\"Model saved to {MODEL_PATH}\")"
   ]
  },
  {
   "cell_type": "markdown",
   "id": "814f9e3d",
   "metadata": {},
   "source": [
    "To read the saved data, we can run the following codes:"
   ]
  },
  {
   "cell_type": "code",
   "execution_count": 10,
   "id": "1b045a1c",
   "metadata": {
    "execution": {
     "iopub.execute_input": "2025-05-29T23:04:57.620616Z",
     "iopub.status.busy": "2025-05-29T23:04:57.620330Z",
     "iopub.status.idle": "2025-05-29T23:04:57.622700Z",
     "shell.execute_reply": "2025-05-29T23:04:57.622284Z"
    }
   },
   "outputs": [
    {
     "name": "stdout",
     "output_type": "stream",
     "text": [
      "Model loaded from /home/ubuntu/Desktop/Ra/VGG16_128_fake_regression.pth\n"
     ]
    }
   ],
   "source": [
    "# Load the trained model weights\n",
    "vgg16.load_state_dict(torch.load(MODEL_PATH, map_location=device))\n",
    "vgg16.eval()\n",
    "print(\"Model loaded from\", MODEL_PATH)"
   ]
  },
  {
   "cell_type": "markdown",
   "id": "555622cd",
   "metadata": {},
   "source": [
    "## Step 5 - Extract features"
   ]
  },
  {
   "cell_type": "markdown",
   "id": "0a0f4d97",
   "metadata": {},
   "source": [
    "We extract the images' features from the second-to-last layer of the trained VGG16 net."
   ]
  },
  {
   "cell_type": "code",
   "execution_count": 11,
   "id": "96b8e85d",
   "metadata": {},
   "outputs": [
    {
     "name": "stdout",
     "output_type": "stream",
     "text": [
      "Shape of features of the images for validation: (60, 4096)\n"
     ]
    }
   ],
   "source": [
    "# Get features\n",
    "def get_fc2_features(model, batch_images):\n",
    "    features = []\n",
    "    def hook_fn(module, input, output):\n",
    "        features.append(output)\n",
    "    handle = model.classifier[3].register_forward_hook(hook_fn)\n",
    "    vgg16.eval()\n",
    "    with torch.no_grad():\n",
    "        _ = model(batch_images)\n",
    "    handle.remove()\n",
    "    return features[0]\n",
    "\n",
    "# Get features\n",
    "features_val = get_fc2_features(vgg16, images_val_tensor.to(device)).cpu().detach().numpy()\n",
    "print(f\"Shape of features of the images for validation: {features_val.shape}\")"
   ]
  },
  {
   "cell_type": "markdown",
   "id": "b4fde114",
   "metadata": {},
   "source": [
    "We use t-SNE algorithm to decrease the features' dimemsion to 2, and plot the 2-dimensional features with gradual colors."
   ]
  },
  {
   "cell_type": "code",
   "execution_count": 12,
   "id": "6e13e8bd",
   "metadata": {},
   "outputs": [
    {
     "name": "stderr",
     "output_type": "stream",
     "text": [
      "/opt/pytorch/lib/python3.12/site-packages/sklearn/utils/deprecation.py:151: FutureWarning: 'force_all_finite' was renamed to 'ensure_all_finite' in 1.6 and will be removed in 1.8.\n",
      "  warnings.warn(\n",
      "/opt/pytorch/lib/python3.12/site-packages/umap/umap_.py:1952: UserWarning: n_jobs value 1 overridden to 1 by setting random_state. Use no seed for parallelism.\n",
      "  warn(\n"
     ]
    },
    {
     "name": "stdout",
     "output_type": "stream",
     "text": [
      "[[-2.419625   -1.7206289 ]\n",
      " [-2.4917583  -6.3545246 ]\n",
      " [11.770727    2.0513859 ]\n",
      " [15.246701    2.8450615 ]\n",
      " [-2.183401   -1.3981291 ]\n",
      " [-2.6746645  -2.160045  ]\n",
      " [-3.000137   -3.0600216 ]\n",
      " [11.64806     2.208991  ]\n",
      " [16.213526    2.1132154 ]\n",
      " [-2.2697682  -0.9784751 ]\n",
      " [-2.251543   -1.182328  ]\n",
      " [16.655905    2.278794  ]\n",
      " [-2.9218779  -3.0204694 ]\n",
      " [16.035156    2.7898445 ]\n",
      " [-2.3642817  -0.29425275]\n",
      " [-2.9506812  -2.4983668 ]\n",
      " [-2.4606109  -6.0343904 ]\n",
      " [-2.4997177  -0.78072953]\n",
      " [11.955123    2.3699646 ]\n",
      " [-2.0878065  -0.04972398]\n",
      " [14.193967    2.9547744 ]\n",
      " [12.102414    2.526377  ]\n",
      " [-2.2985916  -6.2455044 ]\n",
      " [-2.3680415  -2.4888995 ]\n",
      " [12.761553    2.7573273 ]\n",
      " [15.996369    2.1264365 ]\n",
      " [-2.6364758  -6.204632  ]\n",
      " [-2.2543304  -6.516866  ]\n",
      " [-2.2438872  -0.22414356]\n",
      " [-2.8272936  -2.6935005 ]\n",
      " [16.043142    1.9907812 ]\n",
      " [-2.1245503  -0.5436112 ]\n",
      " [15.84523     2.661242  ]\n",
      " [16.401169    1.9994422 ]\n",
      " [-3.0688734  -3.1175926 ]\n",
      " [12.250506    2.3237746 ]\n",
      " [14.859124    2.9601173 ]\n",
      " [13.277709    3.1539264 ]\n",
      " [16.41014     2.6696937 ]\n",
      " [13.538245    3.3369017 ]\n",
      " [13.779796    3.0739512 ]\n",
      " [15.129888    2.9759953 ]\n",
      " [-2.2729344  -5.56996   ]\n",
      " [14.6571665   3.1862738 ]\n",
      " [14.088032    3.3869755 ]\n",
      " [14.631215    2.9632766 ]\n",
      " [-2.0414128  -1.6186191 ]\n",
      " [-1.9989085  -0.3624108 ]\n",
      " [12.397959    2.1962082 ]\n",
      " [-2.240322   -2.0922253 ]\n",
      " [-2.507048   -1.4173619 ]\n",
      " [12.3598385   2.56117   ]\n",
      " [-2.3974173  -2.961837  ]\n",
      " [15.041747    2.468286  ]\n",
      " [-2.0497308  -5.804811  ]\n",
      " [-2.2068837  -6.1746044 ]\n",
      " [13.6115      2.8155277 ]\n",
      " [13.917125    3.2221024 ]\n",
      " [-2.247738   -2.3323476 ]\n",
      " [16.373589    2.4936924 ]]\n"
     ]
    },
    {
     "data": {
      "image/png": "[encoded data removed]",
      "text/plain": [
       "<Figure size 800x600 with 2 Axes>"
      ]
     },
     "metadata": {},
     "output_type": "display_data"
    }
   ],
   "source": [
    "# Turn to `numpy.array`\n",
    "labels_val_real = labels_val.numpy()\n",
    "labels_val_predicted = vgg16(images_val_tensor.to(device)).cpu().detach().numpy()\n",
    "\n",
    "# Unnormalize labels\n",
    "labels_val_real = labels_val_real * (MAX_LABEL - MIN_LABEL) + MIN_LABEL\n",
    "labels_val_predicted = labels_val_predicted * (MAX_LABEL - MIN_LABEL) + MIN_LABEL\n",
    "\n",
    "# UMAP\n",
    "umap_model = UMAP(n_components=2, random_state=SEED)\n",
    "reduced_umap = umap_model.fit_transform(features_val)\n",
    "print(reduced_umap)\n",
    "\n",
    "# Plot 2-dim features\n",
    "plt.figure(figsize=(8, 6))\n",
    "plt.scatter(reduced_umap[:, 0], reduced_umap[:, 1], c=labels_val_real, cmap='viridis', s=10)\n",
    "plt.colorbar(label='Real Label')\n",
    "plt.title('t-SNE of VGG16 FC2 Features (Validation Set)')\n",
    "plt.xlabel('t-SNE 1')\n",
    "plt.ylabel('t-SNE 2')\n",
    "plt.show()"
   ]
  },
  {
   "cell_type": "markdown",
   "id": "f3159f06",
   "metadata": {},
   "source": [
    "## Exceptional test\n",
    "\n",
    "Let's see if the model works well."
   ]
  },
  {
   "cell_type": "code",
   "execution_count": 13,
   "id": "5178524e",
   "metadata": {
    "execution": {
     "iopub.execute_input": "2025-05-29T23:04:57.624557Z",
     "iopub.status.busy": "2025-05-29T23:04:57.624291Z",
     "iopub.status.idle": "2025-05-29T23:04:59.854656Z",
     "shell.execute_reply": "2025-05-29T23:04:59.854195Z"
    }
   },
   "outputs": [
    {
     "name": "stdout",
     "output_type": "stream",
     "text": [
      "    Real Labels  Predicted Labels      Diff      MAPE\n",
      "0         3.930          3.657859 -0.272141  0.930753\n",
      "1         4.747          4.528402 -0.218598  0.953950\n",
      "2         3.269          2.900423 -0.368577  0.887251\n",
      "3         1.417          1.888170  0.471170  0.667488\n",
      "4         4.319          3.596652 -0.722348  0.832751\n",
      "5         4.228          3.707544 -0.520456  0.876903\n",
      "6         3.840          3.957273  0.117273  0.969460\n",
      "7         2.712          2.918968  0.206968  0.923684\n",
      "8         1.365          1.639843  0.274843  0.798650\n",
      "9         3.567          3.497611 -0.069389  0.980547\n",
      "10        4.371          3.539299 -0.831701  0.809723\n",
      "11        2.039          1.706844 -0.332156  0.837099\n",
      "12        4.125          3.830519 -0.294481  0.928611\n",
      "13        1.883          1.775485 -0.107515  0.942902\n",
      "14        3.658          3.389371 -0.268629  0.926564\n",
      "15        4.163          3.778943 -0.384057  0.907745\n",
      "16        5.045          4.587986 -0.457014  0.909413\n",
      "17        4.034          3.514161 -0.519839  0.871136\n",
      "18        3.218          2.730942 -0.487058  0.848646\n",
      "19        3.438          3.293112 -0.144888  0.957857\n",
      "20        2.311          2.050000 -0.261000  0.887062\n",
      "21        2.764          2.670468 -0.093532  0.966161\n",
      "22        4.526          4.477859 -0.048141  0.989363\n",
      "23        4.539          3.733127 -0.805873  0.822456\n",
      "24        2.648          2.440779 -0.207221  0.921744\n",
      "25        1.844          1.627335 -0.216665  0.882503\n",
      "26        4.941          4.645944 -0.295056  0.940284\n",
      "27        5.122          4.726444 -0.395556  0.922773\n",
      "28        3.334          3.279124 -0.054876  0.983541\n",
      "29        4.384          3.823982 -0.560018  0.872259\n",
      "30        1.520          1.618406  0.098406  0.935259\n",
      "31        3.425          3.361022 -0.063978  0.981320\n",
      "32        1.728          1.769957  0.041957  0.975719\n",
      "33        1.611          1.676552  0.065552  0.959310\n",
      "34        4.086          3.820019 -0.265981  0.934904\n",
      "35        2.842          2.610173 -0.231827  0.918428\n",
      "36        1.391          1.919161  0.528161  0.620301\n",
      "37        2.466          2.245955 -0.220045  0.910769\n",
      "38        1.896          1.720330 -0.175670  0.907347\n",
      "39        2.246          2.240277 -0.005723  0.997452\n",
      "40        2.505          2.084693 -0.420307  0.832213\n",
      "41        2.285          1.953344 -0.331656  0.854855\n",
      "42        5.006          4.190455 -0.815545  0.837087\n",
      "43        2.077          1.931736 -0.145264  0.930060\n",
      "44        2.298          2.055824 -0.242176  0.894614\n",
      "45        2.116          1.942065 -0.173935  0.917800\n",
      "46        4.332          3.642167 -0.689833  0.840759\n",
      "47        4.267          3.359454 -0.907546  0.787311\n",
      "48        2.738          2.542822 -0.195178  0.928715\n",
      "49        4.293          3.690473 -0.602527  0.859649\n",
      "50        3.632          3.553561 -0.078439  0.978403\n",
      "51        3.166          2.549028 -0.616972  0.805126\n",
      "52        4.397          3.844551 -0.552449  0.874358\n",
      "53        2.272          1.908541 -0.363459  0.840027\n",
      "54        5.148          4.266177 -0.881823  0.828706\n",
      "55        4.902          4.453188 -0.448812  0.908443\n",
      "56        2.557          2.188200 -0.368800  0.855768\n",
      "57        2.492          2.060163 -0.431837  0.826711\n",
      "58        3.788          3.700659 -0.087341  0.976943\n",
      "59        1.624          1.680526  0.056526  0.965193\n",
      "MAPE: 0.893880461051479\n"
     ]
    },
    {
     "data": {
      "image/png": "[encoded data removed]",
      "text/plain": [
       "<Figure size 640x480 with 1 Axes>"
      ]
     },
     "metadata": {},
     "output_type": "display_data"
    },
    {
     "data": {
      "image/png": "[encoded data removed]",
      "text/plain": [
       "<Figure size 640x480 with 1 Axes>"
      ]
     },
     "metadata": {},
     "output_type": "display_data"
    }
   ],
   "source": [
    "# Turn to `pandas.Series`\n",
    "labels_val_real = pd.Series(labels_val_real)\n",
    "labels_val_predicted = pd.Series(labels_val_predicted.flatten())\n",
    "labels_val_diff = labels_val_predicted - labels_val_real\n",
    "\n",
    "# Make `pandas.DataFrame`\n",
    "df = pd.DataFrame(\n",
    "    {\n",
    "        \"Real Labels\": labels_val_real,\n",
    "        \"Predicted Labels\": labels_val_predicted,\n",
    "        \"Diff\": labels_val_diff,\n",
    "        \"MAPE\": 1 - np.abs(labels_val_diff) / labels_val_real\n",
    "    }\n",
    ")\n",
    "df.to_csv(OUTPUT_PATH, index = False)\n",
    "print(df)\n",
    "print(f\"MAPE: {df[\"MAPE\"].mean()}\")\n",
    "\n",
    "# Boxplot of the differences\n",
    "plt.boxplot(labels_val_diff)\n",
    "plt.ylabel(\"Prediction Error (Predicted - Real)\")\n",
    "plt.title(\"Boxplot of Prediction Errors\")\n",
    "plt.show()\n",
    "\n",
    "# Plot the differences by the real labels.\n",
    "plt.scatter(labels_val_real, labels_val_diff, s=10)\n",
    "plt.xlabel(\"Real Labels\")\n",
    "plt.ylabel(\"Prediction Error (Predicted - Real)\")\n",
    "plt.title(\"Prediction Error vs Real Labels\")\n",
    "plt.axhline(0, color=\"red\", linestyle=\"--\", linewidth=1)\n",
    "plt.show()"
   ]
  }
 ],
 "metadata": {
  "kernelspec": {
   "display_name": "pytorch",
   "language": "python",
   "name": "python3"
  },
  "language_info": {
   "codemirror_mode": {
    "name": "ipython",
    "version": 3
   },
   "file_extension": ".py",
   "mimetype": "text/x-python",
   "name": "python",
   "nbconvert_exporter": "python",
   "pygments_lexer": "ipython3",
   "version": "3.12.10"
  }
 },
 "nbformat": 4,
 "nbformat_minor": 5
}
