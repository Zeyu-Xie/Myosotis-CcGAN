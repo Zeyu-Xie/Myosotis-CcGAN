{
 "cells": [
  {
   "cell_type": "markdown",
   "id": "05bee791",
   "metadata": {},
   "source": [
    "# VGG\n",
    "\n",
    "This notebook uses model \"VGG16\" to conduct regression of images."
   ]
  },
  {
   "cell_type": "code",
   "execution_count": 1,
   "id": "9c623ed7",
   "metadata": {
    "execution": {
     "iopub.execute_input": "2025-06-06T15:02:47.279299Z",
     "iopub.status.busy": "2025-06-06T15:02:47.279050Z",
     "iopub.status.idle": "2025-06-06T15:02:50.795799Z",
     "shell.execute_reply": "2025-06-06T15:02:50.795300Z"
    }
   },
   "outputs": [],
   "source": [
    "import h5py\n",
    "from matplotlib import pyplot as plt\n",
    "import numpy as np\n",
    "import os\n",
    "import pandas as pd\n",
    "from sklearn.model_selection import train_test_split\n",
    "import torch\n",
    "import torch.nn as nn\n",
    "import torch.optim as optim\n",
    "from torch.utils.data import TensorDataset, DataLoader\n",
    "from torchvision import models"
   ]
  },
  {
   "cell_type": "markdown",
   "id": "28904883",
   "metadata": {},
   "source": [
    "## Step 1 - Config\n",
    "\n",
    "First set the hyperparameters and other configurations."
   ]
  },
  {
   "cell_type": "code",
   "execution_count": null,
   "id": "33cb27b0",
   "metadata": {
    "execution": {
     "iopub.execute_input": "2025-06-06T15:02:50.798355Z",
     "iopub.status.busy": "2025-06-06T15:02:50.797932Z",
     "iopub.status.idle": "2025-06-06T15:02:50.935035Z",
     "shell.execute_reply": "2025-06-06T15:02:50.934544Z"
    }
   },
   "outputs": [
    {
     "name": "stdout",
     "output_type": "stream",
     "text": [
      "Device: cuda\n"
     ]
    }
   ],
   "source": [
    "# Dataset and model path\n",
    "DATASET_PATH = \"/home/ubuntu/Desktop/Ra/datasets/Ra_128_indexed_decimal_2.h5\"\n",
    "MODEL_PATH = \"/home/ubuntu/Desktop/Ra/models/VGG16_128_regression_decimal_2.pth\"\n",
    "OUTPUT_PATH = \"/home/ubuntu/Desktop/Ra/outputs/VGG16_128_regression_decimal_2.csv\"\n",
    "# Env\n",
    "SEED = 42\n",
    "# Dataset\n",
    "MIN_LABEL = 1.3\n",
    "MAX_LABEL = 5.2\n",
    "# Hyperparameters\n",
    "NUM_EPOCHS = 200\n",
    "LR = 1e-4\n",
    "LR_WEIGHT_DECAY = 1e-4\n",
    "TEST_SIZE = 0.2\n",
    "BATCH_SIZE_TRAIN = 64\n",
    "BATCH_SIZE_VAL = 10\n",
    "\n",
    "# Device\n",
    "device = \"cuda\" if torch.cuda.is_available() else \"cpu\"\n",
    "print(f\"Device: {device}\")\n",
    "\n",
    "# Path\n",
    "if not os.path.exists(os.path.dirname(MODEL_PATH)):\n",
    "    os.makedirs(os.path.dirname(MODEL_PATH), exist_ok=True)\n",
    "    print(f\"Make new directory {os.path.dirname(MODEL_PATH)}\")"
   ]
  },
  {
   "cell_type": "markdown",
   "id": "6d7ff1c7",
   "metadata": {},
   "source": [
    "Then load the pretrained model from `torchvision`."
   ]
  },
  {
   "cell_type": "code",
   "execution_count": 3,
   "id": "b8b13a96",
   "metadata": {
    "execution": {
     "iopub.execute_input": "2025-06-06T15:02:50.937011Z",
     "iopub.status.busy": "2025-06-06T15:02:50.936705Z",
     "iopub.status.idle": "2025-06-06T15:02:52.419728Z",
     "shell.execute_reply": "2025-06-06T15:02:52.419219Z"
    }
   },
   "outputs": [
    {
     "name": "stderr",
     "output_type": "stream",
     "text": [
      "/opt/pytorch/lib/python3.12/site-packages/torchvision/models/_utils.py:208: UserWarning: The parameter 'pretrained' is deprecated since 0.13 and may be removed in the future, please use 'weights' instead.\n",
      "  warnings.warn(\n",
      "/opt/pytorch/lib/python3.12/site-packages/torchvision/models/_utils.py:223: UserWarning: Arguments other than a weight enum or `None` for 'weights' are deprecated since 0.13 and may be removed in the future. The current behavior is equivalent to passing `weights=VGG16_Weights.IMAGENET1K_V1`. You can also use `weights=VGG16_Weights.DEFAULT` to get the most up-to-date weights.\n",
      "  warnings.warn(msg)\n"
     ]
    }
   ],
   "source": [
    "# Pretrained VGG16 model\n",
    "vgg16 = models.vgg16(pretrained=True)\n",
    "\n",
    "# Change the last layer to fit the regression task\n",
    "vgg16.classifier[-1] = nn.Linear(in_features=4096, out_features=1)\n",
    "\n",
    "# Choose to freeze the layers or not\n",
    "for param in vgg16.features.parameters():\n",
    "    param.requires_grad = False\n",
    "\n",
    "# Move to the appropriate device\n",
    "vgg16 = vgg16.to(device)"
   ]
  },
  {
   "cell_type": "markdown",
   "id": "4b3b175c",
   "metadata": {},
   "source": [
    "## Step 2 - Load data\n",
    "\n",
    "In this step we load the images and process them, the goal is to get `train_loader` and `val_loader` for training. After this step we will get:\n",
    "\n",
    "1. `images_train` and `images_val` (4 dim tensor)\n",
    "2. `labels_train` and `labels_val` (1 dim tensor)\n",
    "3. `train_dataset` and `val_dataset` (dataset)\n",
    "4. `train_loader` and `val_loader` (dataloader)\n",
    "\n",
    "First we load the images, and normalize the pixel values."
   ]
  },
  {
   "cell_type": "code",
   "execution_count": 4,
   "id": "bc9be499",
   "metadata": {
    "execution": {
     "iopub.execute_input": "2025-06-06T15:02:52.422129Z",
     "iopub.status.busy": "2025-06-06T15:02:52.421953Z",
     "iopub.status.idle": "2025-06-06T15:03:29.083557Z",
     "shell.execute_reply": "2025-06-06T15:03:29.083057Z"
    }
   },
   "outputs": [
    {
     "name": "stdout",
     "output_type": "stream",
     "text": [
      "Images and labels loaded.\n",
      "Images Shape: (9192, 128, 128, 3)\n",
      "Labels Shape: (9192,)\n",
      "\n"
     ]
    },
    {
     "name": "stdout",
     "output_type": "stream",
     "text": [
      "Select indexes by MIN_LABEL = 1.3 and MAX_LABEL = 5.2\n",
      "Images Shape: (9192, 128, 128, 3)\n",
      "Labels Shape: (9192,)\n",
      "\n",
      "Transform `images` and `labels` to tensors.\n",
      "Images Shape: torch.Size([9192, 3, 128, 128])\n",
      "Labels Shape: torch.Size([9192])\n"
     ]
    }
   ],
   "source": [
    "# Load datasets\n",
    "with h5py.File(DATASET_PATH, \"r\") as f:\n",
    "    images = f[\"images\"][:].astype(float)\n",
    "    labels = f[\"labels\"][:].astype(float)\n",
    "N_all = len(images)\n",
    "print(\"Images and labels loaded.\")\n",
    "print(f\"Images Shape: {images.shape}\")\n",
    "print(f\"Labels Shape: {labels.shape}\")\n",
    "print(\"\")\n",
    "\n",
    "# Selection\n",
    "indx = np.where((labels >= MIN_LABEL) * (labels < MAX_LABEL) == True)[0]\n",
    "labels = labels[indx]\n",
    "images = images[indx]\n",
    "print(f\"Select indexes by MIN_LABEL = {MIN_LABEL} and MAX_LABEL = {MAX_LABEL}\")\n",
    "print(f\"Images Shape: {images.shape}\")\n",
    "print(f\"Labels Shape: {labels.shape}\")\n",
    "print(\"\")\n",
    "\n",
    "# To tensor\n",
    "images = torch.from_numpy(images).permute(0, 3, 1, 2)\n",
    "labels = torch.from_numpy(labels)\n",
    "print(\"Transform `images` and `labels` to tensors.\")\n",
    "print(f\"Images Shape: {images.shape}\")\n",
    "print(f\"Labels Shape: {labels.shape}\")\n",
    "\n",
    "# Image standardization\n",
    "mean = images.mean(dim=[0, 2, 3], keepdim=True)\n",
    "std = images.std(dim=[0, 2, 3], keepdim=True)\n",
    "images = (images - mean) / std\n",
    "\n",
    "# Label normalization\n",
    "labels = (labels - MIN_LABEL) / (MAX_LABEL - MIN_LABEL)"
   ]
  },
  {
   "cell_type": "markdown",
   "id": "2127b3c6",
   "metadata": {},
   "source": [
    "Then use `train_test_split` function to get data for training and validation."
   ]
  },
  {
   "cell_type": "code",
   "execution_count": 5,
   "id": "2f7d1dd9",
   "metadata": {
    "execution": {
     "iopub.execute_input": "2025-06-06T15:03:29.086004Z",
     "iopub.status.busy": "2025-06-06T15:03:29.085698Z",
     "iopub.status.idle": "2025-06-06T15:03:29.614573Z",
     "shell.execute_reply": "2025-06-06T15:03:29.614068Z"
    }
   },
   "outputs": [
    {
     "name": "stdout",
     "output_type": "stream",
     "text": [
      "Train test split with test size 0.2.\n",
      "Images (train) Shape: torch.Size([7353, 3, 128, 128])\n",
      "Images (val) Shape: torch.Size([1839, 3, 128, 128])\n",
      "Labels (train) Shape: torch.Size([7353])\n",
      "Labels (val) Shape: torch.Size([1839])\n"
     ]
    }
   ],
   "source": [
    "# Train-test split\n",
    "images_train, images_val, labels_train, labels_val = train_test_split(\n",
    "    images, labels, test_size=TEST_SIZE, random_state=SEED\n",
    ")\n",
    "print(f\"Train test split with test size {TEST_SIZE}.\")\n",
    "print(f\"Images (train) Shape: {images_train.shape}\")\n",
    "print(f\"Images (val) Shape: {images_val.shape}\")\n",
    "print(f\"Labels (train) Shape: {labels_train.shape}\")\n",
    "print(f\"Labels (val) Shape: {labels_val.shape}\")"
   ]
  },
  {
   "cell_type": "markdown",
   "id": "e5f55f94",
   "metadata": {},
   "source": [
    "Next, we should transform the data to tensors, combine `images` and `labels` to datasets and get dataloaders according to `BATCH_SIZE`."
   ]
  },
  {
   "cell_type": "code",
   "execution_count": 6,
   "id": "51549a4b",
   "metadata": {
    "execution": {
     "iopub.execute_input": "2025-06-06T15:03:29.616736Z",
     "iopub.status.busy": "2025-06-06T15:03:29.616405Z",
     "iopub.status.idle": "2025-06-06T15:03:29.892841Z",
     "shell.execute_reply": "2025-06-06T15:03:29.892308Z"
    }
   },
   "outputs": [
    {
     "name": "stderr",
     "output_type": "stream",
     "text": [
      "/tmp/ipykernel_3884/1722485521.py:2: UserWarning: To copy construct from a tensor, it is recommended to use sourceTensor.detach().clone() or sourceTensor.detach().clone().requires_grad_(True), rather than torch.tensor(sourceTensor).\n",
      "  images_train_tensor = torch.tensor(images_train, dtype=torch.float32)\n"
     ]
    },
    {
     "name": "stdout",
     "output_type": "stream",
     "text": [
      "Shape of `images_train_tensor`: torch.Size([7353, 3, 128, 128])\n",
      "Shape of `labels_train_tensor`: torch.Size([7353, 1])\n",
      "Shape of `images_val_tensor`: torch.Size([1839, 3, 128, 128])\n",
      "Shape of `labels_val_tensor`: torch.Size([1839, 1])\n"
     ]
    },
    {
     "name": "stderr",
     "output_type": "stream",
     "text": [
      "/tmp/ipykernel_3884/1722485521.py:3: UserWarning: To copy construct from a tensor, it is recommended to use sourceTensor.detach().clone() or sourceTensor.detach().clone().requires_grad_(True), rather than torch.tensor(sourceTensor).\n",
      "  images_val_tensor = torch.tensor(images_val, dtype=torch.float32)\n",
      "/tmp/ipykernel_3884/1722485521.py:4: UserWarning: To copy construct from a tensor, it is recommended to use sourceTensor.detach().clone() or sourceTensor.detach().clone().requires_grad_(True), rather than torch.tensor(sourceTensor).\n",
      "  labels_train_tensor = torch.tensor(labels_train, dtype=torch.float32).view(-1, 1)\n",
      "/tmp/ipykernel_3884/1722485521.py:5: UserWarning: To copy construct from a tensor, it is recommended to use sourceTensor.detach().clone() or sourceTensor.detach().clone().requires_grad_(True), rather than torch.tensor(sourceTensor).\n",
      "  labels_val_tensor = torch.tensor(labels_val, dtype=torch.float32).view(-1, 1)\n"
     ]
    }
   ],
   "source": [
    "# Change to tensor\n",
    "images_train_tensor = torch.tensor(images_train, dtype=torch.float32)\n",
    "images_val_tensor = torch.tensor(images_val, dtype=torch.float32)\n",
    "labels_train_tensor = torch.tensor(labels_train, dtype=torch.float32).view(-1, 1)\n",
    "labels_val_tensor = torch.tensor(labels_val, dtype=torch.float32).view(-1, 1)\n",
    "print(f\"Shape of `images_train_tensor`: {images_train_tensor.shape}\")\n",
    "print(f\"Shape of `labels_train_tensor`: {labels_train_tensor.shape}\")\n",
    "print(f\"Shape of `images_val_tensor`: {images_val_tensor.shape}\")\n",
    "print(f\"Shape of `labels_val_tensor`: {labels_val_tensor.shape}\")\n",
    "\n",
    "# Tensor's dataset\n",
    "train_dataset = TensorDataset(images_train_tensor, labels_train_tensor)\n",
    "val_dataset = TensorDataset(images_val_tensor, labels_val_tensor)\n",
    "\n",
    "# DataLoader\n",
    "train_loader = DataLoader(train_dataset, batch_size=BATCH_SIZE_TRAIN, shuffle=True)\n",
    "val_loader = DataLoader(val_dataset, batch_size=BATCH_SIZE_VAL)"
   ]
  },
  {
   "cell_type": "markdown",
   "id": "ce4ea102",
   "metadata": {},
   "source": [
    "## Step 3 - Train"
   ]
  },
  {
   "cell_type": "markdown",
   "id": "534bdeac",
   "metadata": {},
   "source": [
    "Start training for `epoch` loops, record the training losses and validation losses."
   ]
  },
  {
   "cell_type": "code",
   "execution_count": 7,
   "id": "c0161423",
   "metadata": {
    "execution": {
     "iopub.execute_input": "2025-06-06T15:03:29.895196Z",
     "iopub.status.busy": "2025-06-06T15:03:29.895027Z",
     "iopub.status.idle": "2025-06-06T15:32:46.751244Z",
     "shell.execute_reply": "2025-06-06T15:32:46.750758Z"
    }
   },
   "outputs": [
    {
     "name": "stdout",
     "output_type": "stream",
     "text": [
      "[Epoch 1 / 200] [Train Loss 0.088339 (MSE)] [Valid Loss 0.025434 (MSE)] [Learning Rate: 0.0001]\n"
     ]
    },
    {
     "name": "stdout",
     "output_type": "stream",
     "text": [
      "[Epoch 2 / 200] [Train Loss 0.022436 (MSE)] [Valid Loss 0.020930 (MSE)] [Learning Rate: 0.0001]\n"
     ]
    },
    {
     "name": "stdout",
     "output_type": "stream",
     "text": [
      "[Epoch 3 / 200] [Train Loss 0.015985 (MSE)] [Valid Loss 0.018493 (MSE)] [Learning Rate: 0.0001]\n"
     ]
    },
    {
     "name": "stdout",
     "output_type": "stream",
     "text": [
      "[Epoch 4 / 200] [Train Loss 0.012826 (MSE)] [Valid Loss 0.016965 (MSE)] [Learning Rate: 0.0001]\n"
     ]
    },
    {
     "name": "stdout",
     "output_type": "stream",
     "text": [
      "[Epoch 5 / 200] [Train Loss 0.010582 (MSE)] [Valid Loss 0.009637 (MSE)] [Learning Rate: 0.0001]\n"
     ]
    },
    {
     "name": "stdout",
     "output_type": "stream",
     "text": [
      "[Epoch 6 / 200] [Train Loss 0.009667 (MSE)] [Valid Loss 0.009394 (MSE)] [Learning Rate: 0.0001]\n"
     ]
    },
    {
     "name": "stdout",
     "output_type": "stream",
     "text": [
      "[Epoch 7 / 200] [Train Loss 0.008134 (MSE)] [Valid Loss 0.007945 (MSE)] [Learning Rate: 0.0001]\n"
     ]
    },
    {
     "name": "stdout",
     "output_type": "stream",
     "text": [
      "[Epoch 8 / 200] [Train Loss 0.007408 (MSE)] [Valid Loss 0.007738 (MSE)] [Learning Rate: 0.0001]\n"
     ]
    },
    {
     "name": "stdout",
     "output_type": "stream",
     "text": [
      "[Epoch 9 / 200] [Train Loss 0.006601 (MSE)] [Valid Loss 0.011665 (MSE)] [Learning Rate: 0.0001]\n"
     ]
    },
    {
     "name": "stdout",
     "output_type": "stream",
     "text": [
      "[Epoch 10 / 200] [Train Loss 0.006085 (MSE)] [Valid Loss 0.004448 (MSE)] [Learning Rate: 0.0001]\n"
     ]
    },
    {
     "name": "stdout",
     "output_type": "stream",
     "text": [
      "[Epoch 11 / 200] [Train Loss 0.006213 (MSE)] [Valid Loss 0.008710 (MSE)] [Learning Rate: 0.0001]\n"
     ]
    },
    {
     "name": "stdout",
     "output_type": "stream",
     "text": [
      "[Epoch 12 / 200] [Train Loss 0.005595 (MSE)] [Valid Loss 0.012725 (MSE)] [Learning Rate: 0.0001]\n"
     ]
    },
    {
     "name": "stdout",
     "output_type": "stream",
     "text": [
      "[Epoch 13 / 200] [Train Loss 0.005665 (MSE)] [Valid Loss 0.006762 (MSE)] [Learning Rate: 0.0001]\n"
     ]
    },
    {
     "name": "stdout",
     "output_type": "stream",
     "text": [
      "[Epoch 14 / 200] [Train Loss 0.005408 (MSE)] [Valid Loss 0.005240 (MSE)] [Learning Rate: 0.0001]\n"
     ]
    },
    {
     "name": "stdout",
     "output_type": "stream",
     "text": [
      "[Epoch 15 / 200] [Train Loss 0.004892 (MSE)] [Valid Loss 0.007065 (MSE)] [Learning Rate: 0.0001]\n"
     ]
    },
    {
     "name": "stdout",
     "output_type": "stream",
     "text": [
      "[Epoch 16 / 200] [Train Loss 0.004789 (MSE)] [Valid Loss 0.006816 (MSE)] [Learning Rate: 0.0001]\n"
     ]
    },
    {
     "name": "stdout",
     "output_type": "stream",
     "text": [
      "[Epoch 17 / 200] [Train Loss 0.003736 (MSE)] [Valid Loss 0.006080 (MSE)] [Learning Rate: 5e-05]\n"
     ]
    },
    {
     "name": "stdout",
     "output_type": "stream",
     "text": [
      "[Epoch 18 / 200] [Train Loss 0.003431 (MSE)] [Valid Loss 0.008885 (MSE)] [Learning Rate: 5e-05]\n"
     ]
    },
    {
     "name": "stdout",
     "output_type": "stream",
     "text": [
      "[Epoch 19 / 200] [Train Loss 0.003261 (MSE)] [Valid Loss 0.004856 (MSE)] [Learning Rate: 5e-05]\n"
     ]
    },
    {
     "name": "stdout",
     "output_type": "stream",
     "text": [
      "[Epoch 20 / 200] [Train Loss 0.003203 (MSE)] [Valid Loss 0.005986 (MSE)] [Learning Rate: 5e-05]\n"
     ]
    },
    {
     "name": "stdout",
     "output_type": "stream",
     "text": [
      "[Epoch 21 / 200] [Train Loss 0.003150 (MSE)] [Valid Loss 0.004681 (MSE)] [Learning Rate: 5e-05]\n"
     ]
    },
    {
     "name": "stdout",
     "output_type": "stream",
     "text": [
      "[Epoch 22 / 200] [Train Loss 0.002998 (MSE)] [Valid Loss 0.004930 (MSE)] [Learning Rate: 5e-05]\n"
     ]
    },
    {
     "name": "stdout",
     "output_type": "stream",
     "text": [
      "[Epoch 23 / 200] [Train Loss 0.002603 (MSE)] [Valid Loss 0.003796 (MSE)] [Learning Rate: 2.5e-05]\n"
     ]
    },
    {
     "name": "stdout",
     "output_type": "stream",
     "text": [
      "[Epoch 24 / 200] [Train Loss 0.002445 (MSE)] [Valid Loss 0.004857 (MSE)] [Learning Rate: 2.5e-05]\n"
     ]
    },
    {
     "name": "stdout",
     "output_type": "stream",
     "text": [
      "[Epoch 25 / 200] [Train Loss 0.002375 (MSE)] [Valid Loss 0.004582 (MSE)] [Learning Rate: 2.5e-05]\n"
     ]
    },
    {
     "name": "stdout",
     "output_type": "stream",
     "text": [
      "[Epoch 26 / 200] [Train Loss 0.002360 (MSE)] [Valid Loss 0.004389 (MSE)] [Learning Rate: 2.5e-05]\n"
     ]
    },
    {
     "name": "stdout",
     "output_type": "stream",
     "text": [
      "[Epoch 27 / 200] [Train Loss 0.002308 (MSE)] [Valid Loss 0.005527 (MSE)] [Learning Rate: 2.5e-05]\n"
     ]
    },
    {
     "name": "stdout",
     "output_type": "stream",
     "text": [
      "[Epoch 28 / 200] [Train Loss 0.002329 (MSE)] [Valid Loss 0.006249 (MSE)] [Learning Rate: 2.5e-05]\n"
     ]
    },
    {
     "name": "stdout",
     "output_type": "stream",
     "text": [
      "[Epoch 29 / 200] [Train Loss 0.002222 (MSE)] [Valid Loss 0.006703 (MSE)] [Learning Rate: 2.5e-05]\n"
     ]
    },
    {
     "name": "stdout",
     "output_type": "stream",
     "text": [
      "[Epoch 30 / 200] [Train Loss 0.002098 (MSE)] [Valid Loss 0.004628 (MSE)] [Learning Rate: 1.25e-05]\n"
     ]
    },
    {
     "name": "stdout",
     "output_type": "stream",
     "text": [
      "[Epoch 31 / 200] [Train Loss 0.001928 (MSE)] [Valid Loss 0.004853 (MSE)] [Learning Rate: 1.25e-05]\n"
     ]
    },
    {
     "name": "stdout",
     "output_type": "stream",
     "text": [
      "[Epoch 32 / 200] [Train Loss 0.001985 (MSE)] [Valid Loss 0.006662 (MSE)] [Learning Rate: 1.25e-05]\n"
     ]
    },
    {
     "name": "stdout",
     "output_type": "stream",
     "text": [
      "[Epoch 33 / 200] [Train Loss 0.001875 (MSE)] [Valid Loss 0.004991 (MSE)] [Learning Rate: 1.25e-05]\n"
     ]
    },
    {
     "name": "stdout",
     "output_type": "stream",
     "text": [
      "[Epoch 34 / 200] [Train Loss 0.001892 (MSE)] [Valid Loss 0.004668 (MSE)] [Learning Rate: 1.25e-05]\n"
     ]
    },
    {
     "name": "stdout",
     "output_type": "stream",
     "text": [
      "[Epoch 35 / 200] [Train Loss 0.001800 (MSE)] [Valid Loss 0.005088 (MSE)] [Learning Rate: 1.25e-05]\n"
     ]
    },
    {
     "name": "stdout",
     "output_type": "stream",
     "text": [
      "[Epoch 36 / 200] [Train Loss 0.001753 (MSE)] [Valid Loss 0.004515 (MSE)] [Learning Rate: 6.25e-06]\n"
     ]
    },
    {
     "name": "stdout",
     "output_type": "stream",
     "text": [
      "[Epoch 37 / 200] [Train Loss 0.001650 (MSE)] [Valid Loss 0.004848 (MSE)] [Learning Rate: 6.25e-06]\n"
     ]
    },
    {
     "name": "stdout",
     "output_type": "stream",
     "text": [
      "[Epoch 38 / 200] [Train Loss 0.001613 (MSE)] [Valid Loss 0.004878 (MSE)] [Learning Rate: 6.25e-06]\n"
     ]
    },
    {
     "name": "stdout",
     "output_type": "stream",
     "text": [
      "[Epoch 39 / 200] [Train Loss 0.001669 (MSE)] [Valid Loss 0.005521 (MSE)] [Learning Rate: 6.25e-06]\n"
     ]
    },
    {
     "name": "stdout",
     "output_type": "stream",
     "text": [
      "[Epoch 40 / 200] [Train Loss 0.001668 (MSE)] [Valid Loss 0.005417 (MSE)] [Learning Rate: 6.25e-06]\n"
     ]
    },
    {
     "name": "stdout",
     "output_type": "stream",
     "text": [
      "[Epoch 41 / 200] [Train Loss 0.001612 (MSE)] [Valid Loss 0.005342 (MSE)] [Learning Rate: 6.25e-06]\n"
     ]
    },
    {
     "name": "stdout",
     "output_type": "stream",
     "text": [
      "[Epoch 42 / 200] [Train Loss 0.001563 (MSE)] [Valid Loss 0.005493 (MSE)] [Learning Rate: 3.125e-06]\n"
     ]
    },
    {
     "name": "stdout",
     "output_type": "stream",
     "text": [
      "[Epoch 43 / 200] [Train Loss 0.001524 (MSE)] [Valid Loss 0.005669 (MSE)] [Learning Rate: 3.125e-06]\n"
     ]
    },
    {
     "name": "stdout",
     "output_type": "stream",
     "text": [
      "[Epoch 44 / 200] [Train Loss 0.001507 (MSE)] [Valid Loss 0.005488 (MSE)] [Learning Rate: 3.125e-06]\n"
     ]
    },
    {
     "name": "stdout",
     "output_type": "stream",
     "text": [
      "[Epoch 45 / 200] [Train Loss 0.001478 (MSE)] [Valid Loss 0.005429 (MSE)] [Learning Rate: 3.125e-06]\n"
     ]
    },
    {
     "name": "stdout",
     "output_type": "stream",
     "text": [
      "[Epoch 46 / 200] [Train Loss 0.001522 (MSE)] [Valid Loss 0.005249 (MSE)] [Learning Rate: 3.125e-06]\n"
     ]
    },
    {
     "name": "stdout",
     "output_type": "stream",
     "text": [
      "[Epoch 47 / 200] [Train Loss 0.001460 (MSE)] [Valid Loss 0.005667 (MSE)] [Learning Rate: 3.125e-06]\n"
     ]
    },
    {
     "name": "stdout",
     "output_type": "stream",
     "text": [
      "[Epoch 48 / 200] [Train Loss 0.001467 (MSE)] [Valid Loss 0.005041 (MSE)] [Learning Rate: 1.5625e-06]\n"
     ]
    },
    {
     "name": "stdout",
     "output_type": "stream",
     "text": [
      "[Epoch 49 / 200] [Train Loss 0.001418 (MSE)] [Valid Loss 0.005087 (MSE)] [Learning Rate: 1.5625e-06]\n"
     ]
    },
    {
     "name": "stdout",
     "output_type": "stream",
     "text": [
      "[Epoch 50 / 200] [Train Loss 0.001446 (MSE)] [Valid Loss 0.004995 (MSE)] [Learning Rate: 1.5625e-06]\n"
     ]
    },
    {
     "name": "stdout",
     "output_type": "stream",
     "text": [
      "[Epoch 51 / 200] [Train Loss 0.001447 (MSE)] [Valid Loss 0.005410 (MSE)] [Learning Rate: 1.5625e-06]\n"
     ]
    },
    {
     "name": "stdout",
     "output_type": "stream",
     "text": [
      "[Epoch 52 / 200] [Train Loss 0.001457 (MSE)] [Valid Loss 0.004974 (MSE)] [Learning Rate: 1.5625e-06]\n"
     ]
    },
    {
     "name": "stdout",
     "output_type": "stream",
     "text": [
      "[Epoch 53 / 200] [Train Loss 0.001404 (MSE)] [Valid Loss 0.005044 (MSE)] [Learning Rate: 1.5625e-06]\n"
     ]
    },
    {
     "name": "stdout",
     "output_type": "stream",
     "text": [
      "[Epoch 54 / 200] [Train Loss 0.001368 (MSE)] [Valid Loss 0.005101 (MSE)] [Learning Rate: 7.8125e-07]\n"
     ]
    },
    {
     "name": "stdout",
     "output_type": "stream",
     "text": [
      "[Epoch 55 / 200] [Train Loss 0.001394 (MSE)] [Valid Loss 0.005325 (MSE)] [Learning Rate: 7.8125e-07]\n"
     ]
    },
    {
     "name": "stdout",
     "output_type": "stream",
     "text": [
      "[Epoch 56 / 200] [Train Loss 0.001448 (MSE)] [Valid Loss 0.004885 (MSE)] [Learning Rate: 7.8125e-07]\n"
     ]
    },
    {
     "name": "stdout",
     "output_type": "stream",
     "text": [
      "[Epoch 57 / 200] [Train Loss 0.001402 (MSE)] [Valid Loss 0.005037 (MSE)] [Learning Rate: 7.8125e-07]\n"
     ]
    },
    {
     "name": "stdout",
     "output_type": "stream",
     "text": [
      "[Epoch 58 / 200] [Train Loss 0.001391 (MSE)] [Valid Loss 0.005304 (MSE)] [Learning Rate: 7.8125e-07]\n"
     ]
    },
    {
     "name": "stdout",
     "output_type": "stream",
     "text": [
      "[Epoch 59 / 200] [Train Loss 0.001392 (MSE)] [Valid Loss 0.005305 (MSE)] [Learning Rate: 7.8125e-07]\n"
     ]
    },
    {
     "name": "stdout",
     "output_type": "stream",
     "text": [
      "[Epoch 60 / 200] [Train Loss 0.001354 (MSE)] [Valid Loss 0.005037 (MSE)] [Learning Rate: 3.90625e-07]\n"
     ]
    },
    {
     "name": "stdout",
     "output_type": "stream",
     "text": [
      "[Epoch 61 / 200] [Train Loss 0.001325 (MSE)] [Valid Loss 0.004963 (MSE)] [Learning Rate: 3.90625e-07]\n"
     ]
    },
    {
     "name": "stdout",
     "output_type": "stream",
     "text": [
      "[Epoch 62 / 200] [Train Loss 0.001359 (MSE)] [Valid Loss 0.004964 (MSE)] [Learning Rate: 3.90625e-07]\n"
     ]
    },
    {
     "name": "stdout",
     "output_type": "stream",
     "text": [
      "[Epoch 63 / 200] [Train Loss 0.001349 (MSE)] [Valid Loss 0.005045 (MSE)] [Learning Rate: 3.90625e-07]\n"
     ]
    },
    {
     "name": "stdout",
     "output_type": "stream",
     "text": [
      "[Epoch 64 / 200] [Train Loss 0.001345 (MSE)] [Valid Loss 0.005076 (MSE)] [Learning Rate: 3.90625e-07]\n"
     ]
    },
    {
     "name": "stdout",
     "output_type": "stream",
     "text": [
      "[Epoch 65 / 200] [Train Loss 0.001383 (MSE)] [Valid Loss 0.005230 (MSE)] [Learning Rate: 3.90625e-07]\n"
     ]
    },
    {
     "name": "stdout",
     "output_type": "stream",
     "text": [
      "[Epoch 66 / 200] [Train Loss 0.001366 (MSE)] [Valid Loss 0.005299 (MSE)] [Learning Rate: 1.953125e-07]\n"
     ]
    },
    {
     "name": "stdout",
     "output_type": "stream",
     "text": [
      "[Epoch 67 / 200] [Train Loss 0.001394 (MSE)] [Valid Loss 0.005231 (MSE)] [Learning Rate: 1.953125e-07]\n"
     ]
    },
    {
     "name": "stdout",
     "output_type": "stream",
     "text": [
      "[Epoch 68 / 200] [Train Loss 0.001368 (MSE)] [Valid Loss 0.005004 (MSE)] [Learning Rate: 1.953125e-07]\n"
     ]
    },
    {
     "name": "stdout",
     "output_type": "stream",
     "text": [
      "[Epoch 69 / 200] [Train Loss 0.001336 (MSE)] [Valid Loss 0.005235 (MSE)] [Learning Rate: 1.953125e-07]\n"
     ]
    },
    {
     "name": "stdout",
     "output_type": "stream",
     "text": [
      "[Epoch 70 / 200] [Train Loss 0.001390 (MSE)] [Valid Loss 0.005107 (MSE)] [Learning Rate: 1.953125e-07]\n"
     ]
    },
    {
     "name": "stdout",
     "output_type": "stream",
     "text": [
      "[Epoch 71 / 200] [Train Loss 0.001359 (MSE)] [Valid Loss 0.005038 (MSE)] [Learning Rate: 1.953125e-07]\n"
     ]
    },
    {
     "name": "stdout",
     "output_type": "stream",
     "text": [
      "[Epoch 72 / 200] [Train Loss 0.001313 (MSE)] [Valid Loss 0.005015 (MSE)] [Learning Rate: 9.765625e-08]\n"
     ]
    },
    {
     "name": "stdout",
     "output_type": "stream",
     "text": [
      "[Epoch 73 / 200] [Train Loss 0.001350 (MSE)] [Valid Loss 0.004992 (MSE)] [Learning Rate: 9.765625e-08]\n"
     ]
    },
    {
     "name": "stdout",
     "output_type": "stream",
     "text": [
      "[Epoch 74 / 200] [Train Loss 0.001306 (MSE)] [Valid Loss 0.005055 (MSE)] [Learning Rate: 9.765625e-08]\n"
     ]
    },
    {
     "name": "stdout",
     "output_type": "stream",
     "text": [
      "[Epoch 75 / 200] [Train Loss 0.001283 (MSE)] [Valid Loss 0.005022 (MSE)] [Learning Rate: 9.765625e-08]\n"
     ]
    },
    {
     "name": "stdout",
     "output_type": "stream",
     "text": [
      "[Epoch 76 / 200] [Train Loss 0.001362 (MSE)] [Valid Loss 0.005221 (MSE)] [Learning Rate: 9.765625e-08]\n"
     ]
    },
    {
     "name": "stdout",
     "output_type": "stream",
     "text": [
      "[Epoch 77 / 200] [Train Loss 0.001374 (MSE)] [Valid Loss 0.005035 (MSE)] [Learning Rate: 9.765625e-08]\n"
     ]
    },
    {
     "name": "stdout",
     "output_type": "stream",
     "text": [
      "[Epoch 78 / 200] [Train Loss 0.001377 (MSE)] [Valid Loss 0.005056 (MSE)] [Learning Rate: 4.8828125e-08]\n"
     ]
    },
    {
     "name": "stdout",
     "output_type": "stream",
     "text": [
      "[Epoch 79 / 200] [Train Loss 0.001309 (MSE)] [Valid Loss 0.005093 (MSE)] [Learning Rate: 4.8828125e-08]\n"
     ]
    },
    {
     "name": "stdout",
     "output_type": "stream",
     "text": [
      "[Epoch 80 / 200] [Train Loss 0.001369 (MSE)] [Valid Loss 0.005060 (MSE)] [Learning Rate: 4.8828125e-08]\n"
     ]
    },
    {
     "name": "stdout",
     "output_type": "stream",
     "text": [
      "[Epoch 81 / 200] [Train Loss 0.001325 (MSE)] [Valid Loss 0.005080 (MSE)] [Learning Rate: 4.8828125e-08]\n"
     ]
    },
    {
     "name": "stdout",
     "output_type": "stream",
     "text": [
      "[Epoch 82 / 200] [Train Loss 0.001360 (MSE)] [Valid Loss 0.005107 (MSE)] [Learning Rate: 4.8828125e-08]\n"
     ]
    },
    {
     "name": "stdout",
     "output_type": "stream",
     "text": [
      "[Epoch 83 / 200] [Train Loss 0.001334 (MSE)] [Valid Loss 0.005112 (MSE)] [Learning Rate: 4.8828125e-08]\n"
     ]
    },
    {
     "name": "stdout",
     "output_type": "stream",
     "text": [
      "[Epoch 84 / 200] [Train Loss 0.001325 (MSE)] [Valid Loss 0.005108 (MSE)] [Learning Rate: 2.44140625e-08]\n"
     ]
    },
    {
     "name": "stdout",
     "output_type": "stream",
     "text": [
      "[Epoch 85 / 200] [Train Loss 0.001317 (MSE)] [Valid Loss 0.005102 (MSE)] [Learning Rate: 2.44140625e-08]\n"
     ]
    },
    {
     "name": "stdout",
     "output_type": "stream",
     "text": [
      "[Epoch 86 / 200] [Train Loss 0.001344 (MSE)] [Valid Loss 0.005113 (MSE)] [Learning Rate: 2.44140625e-08]\n"
     ]
    },
    {
     "name": "stdout",
     "output_type": "stream",
     "text": [
      "[Epoch 87 / 200] [Train Loss 0.001370 (MSE)] [Valid Loss 0.005124 (MSE)] [Learning Rate: 2.44140625e-08]\n"
     ]
    },
    {
     "name": "stdout",
     "output_type": "stream",
     "text": [
      "[Epoch 88 / 200] [Train Loss 0.001337 (MSE)] [Valid Loss 0.005158 (MSE)] [Learning Rate: 2.44140625e-08]\n"
     ]
    },
    {
     "name": "stdout",
     "output_type": "stream",
     "text": [
      "[Epoch 89 / 200] [Train Loss 0.001377 (MSE)] [Valid Loss 0.005124 (MSE)] [Learning Rate: 2.44140625e-08]\n"
     ]
    },
    {
     "name": "stdout",
     "output_type": "stream",
     "text": [
      "[Epoch 90 / 200] [Train Loss 0.001359 (MSE)] [Valid Loss 0.005121 (MSE)] [Learning Rate: 1.220703125e-08]\n"
     ]
    },
    {
     "name": "stdout",
     "output_type": "stream",
     "text": [
      "[Epoch 91 / 200] [Train Loss 0.001375 (MSE)] [Valid Loss 0.005131 (MSE)] [Learning Rate: 1.220703125e-08]\n"
     ]
    },
    {
     "name": "stdout",
     "output_type": "stream",
     "text": [
      "[Epoch 92 / 200] [Train Loss 0.001346 (MSE)] [Valid Loss 0.005141 (MSE)] [Learning Rate: 1.220703125e-08]\n"
     ]
    },
    {
     "name": "stdout",
     "output_type": "stream",
     "text": [
      "[Epoch 93 / 200] [Train Loss 0.001312 (MSE)] [Valid Loss 0.005127 (MSE)] [Learning Rate: 1.220703125e-08]\n"
     ]
    },
    {
     "name": "stdout",
     "output_type": "stream",
     "text": [
      "[Epoch 94 / 200] [Train Loss 0.001361 (MSE)] [Valid Loss 0.005124 (MSE)] [Learning Rate: 1.220703125e-08]\n"
     ]
    },
    {
     "name": "stdout",
     "output_type": "stream",
     "text": [
      "[Epoch 95 / 200] [Train Loss 0.001368 (MSE)] [Valid Loss 0.005122 (MSE)] [Learning Rate: 1.220703125e-08]\n"
     ]
    },
    {
     "name": "stdout",
     "output_type": "stream",
     "text": [
      "[Epoch 96 / 200] [Train Loss 0.001350 (MSE)] [Valid Loss 0.005130 (MSE)] [Learning Rate: 1.220703125e-08]\n"
     ]
    },
    {
     "name": "stdout",
     "output_type": "stream",
     "text": [
      "[Epoch 97 / 200] [Train Loss 0.001330 (MSE)] [Valid Loss 0.005137 (MSE)] [Learning Rate: 1.220703125e-08]\n"
     ]
    },
    {
     "name": "stdout",
     "output_type": "stream",
     "text": [
      "[Epoch 98 / 200] [Train Loss 0.001331 (MSE)] [Valid Loss 0.005133 (MSE)] [Learning Rate: 1.220703125e-08]\n"
     ]
    },
    {
     "name": "stdout",
     "output_type": "stream",
     "text": [
      "[Epoch 99 / 200] [Train Loss 0.001408 (MSE)] [Valid Loss 0.005133 (MSE)] [Learning Rate: 1.220703125e-08]\n"
     ]
    },
    {
     "name": "stdout",
     "output_type": "stream",
     "text": [
      "[Epoch 100 / 200] [Train Loss 0.001321 (MSE)] [Valid Loss 0.005112 (MSE)] [Learning Rate: 1.220703125e-08]\n"
     ]
    },
    {
     "name": "stdout",
     "output_type": "stream",
     "text": [
      "[Epoch 101 / 200] [Train Loss 0.001340 (MSE)] [Valid Loss 0.005102 (MSE)] [Learning Rate: 1.220703125e-08]\n"
     ]
    },
    {
     "name": "stdout",
     "output_type": "stream",
     "text": [
      "[Epoch 102 / 200] [Train Loss 0.001333 (MSE)] [Valid Loss 0.005094 (MSE)] [Learning Rate: 1.220703125e-08]\n"
     ]
    },
    {
     "name": "stdout",
     "output_type": "stream",
     "text": [
      "[Epoch 103 / 200] [Train Loss 0.001372 (MSE)] [Valid Loss 0.005101 (MSE)] [Learning Rate: 1.220703125e-08]\n"
     ]
    },
    {
     "name": "stdout",
     "output_type": "stream",
     "text": [
      "[Epoch 104 / 200] [Train Loss 0.001283 (MSE)] [Valid Loss 0.005068 (MSE)] [Learning Rate: 1.220703125e-08]\n"
     ]
    },
    {
     "name": "stdout",
     "output_type": "stream",
     "text": [
      "[Epoch 105 / 200] [Train Loss 0.001291 (MSE)] [Valid Loss 0.005073 (MSE)] [Learning Rate: 1.220703125e-08]\n"
     ]
    },
    {
     "name": "stdout",
     "output_type": "stream",
     "text": [
      "[Epoch 106 / 200] [Train Loss 0.001382 (MSE)] [Valid Loss 0.005080 (MSE)] [Learning Rate: 1.220703125e-08]\n"
     ]
    },
    {
     "name": "stdout",
     "output_type": "stream",
     "text": [
      "[Epoch 107 / 200] [Train Loss 0.001328 (MSE)] [Valid Loss 0.005070 (MSE)] [Learning Rate: 1.220703125e-08]\n"
     ]
    },
    {
     "name": "stdout",
     "output_type": "stream",
     "text": [
      "[Epoch 108 / 200] [Train Loss 0.001331 (MSE)] [Valid Loss 0.005076 (MSE)] [Learning Rate: 1.220703125e-08]\n"
     ]
    },
    {
     "name": "stdout",
     "output_type": "stream",
     "text": [
      "[Epoch 109 / 200] [Train Loss 0.001406 (MSE)] [Valid Loss 0.005078 (MSE)] [Learning Rate: 1.220703125e-08]\n"
     ]
    },
    {
     "name": "stdout",
     "output_type": "stream",
     "text": [
      "[Epoch 110 / 200] [Train Loss 0.001376 (MSE)] [Valid Loss 0.005084 (MSE)] [Learning Rate: 1.220703125e-08]\n"
     ]
    },
    {
     "name": "stdout",
     "output_type": "stream",
     "text": [
      "[Epoch 111 / 200] [Train Loss 0.001333 (MSE)] [Valid Loss 0.005083 (MSE)] [Learning Rate: 1.220703125e-08]\n"
     ]
    },
    {
     "name": "stdout",
     "output_type": "stream",
     "text": [
      "[Epoch 112 / 200] [Train Loss 0.001338 (MSE)] [Valid Loss 0.005091 (MSE)] [Learning Rate: 1.220703125e-08]\n"
     ]
    },
    {
     "name": "stdout",
     "output_type": "stream",
     "text": [
      "[Epoch 113 / 200] [Train Loss 0.001370 (MSE)] [Valid Loss 0.005092 (MSE)] [Learning Rate: 1.220703125e-08]\n"
     ]
    },
    {
     "name": "stdout",
     "output_type": "stream",
     "text": [
      "[Epoch 114 / 200] [Train Loss 0.001369 (MSE)] [Valid Loss 0.005097 (MSE)] [Learning Rate: 1.220703125e-08]\n"
     ]
    },
    {
     "name": "stdout",
     "output_type": "stream",
     "text": [
      "[Epoch 115 / 200] [Train Loss 0.001363 (MSE)] [Valid Loss 0.005096 (MSE)] [Learning Rate: 1.220703125e-08]\n"
     ]
    },
    {
     "name": "stdout",
     "output_type": "stream",
     "text": [
      "[Epoch 116 / 200] [Train Loss 0.001285 (MSE)] [Valid Loss 0.005073 (MSE)] [Learning Rate: 1.220703125e-08]\n"
     ]
    },
    {
     "name": "stdout",
     "output_type": "stream",
     "text": [
      "[Epoch 117 / 200] [Train Loss 0.001303 (MSE)] [Valid Loss 0.005076 (MSE)] [Learning Rate: 1.220703125e-08]\n"
     ]
    },
    {
     "name": "stdout",
     "output_type": "stream",
     "text": [
      "[Epoch 118 / 200] [Train Loss 0.001369 (MSE)] [Valid Loss 0.005103 (MSE)] [Learning Rate: 1.220703125e-08]\n"
     ]
    },
    {
     "name": "stdout",
     "output_type": "stream",
     "text": [
      "[Epoch 119 / 200] [Train Loss 0.001359 (MSE)] [Valid Loss 0.005111 (MSE)] [Learning Rate: 1.220703125e-08]\n"
     ]
    },
    {
     "name": "stdout",
     "output_type": "stream",
     "text": [
      "[Epoch 120 / 200] [Train Loss 0.001321 (MSE)] [Valid Loss 0.005108 (MSE)] [Learning Rate: 1.220703125e-08]\n"
     ]
    },
    {
     "name": "stdout",
     "output_type": "stream",
     "text": [
      "[Epoch 121 / 200] [Train Loss 0.001321 (MSE)] [Valid Loss 0.005106 (MSE)] [Learning Rate: 1.220703125e-08]\n"
     ]
    },
    {
     "name": "stdout",
     "output_type": "stream",
     "text": [
      "[Epoch 122 / 200] [Train Loss 0.001390 (MSE)] [Valid Loss 0.005096 (MSE)] [Learning Rate: 1.220703125e-08]\n"
     ]
    },
    {
     "name": "stdout",
     "output_type": "stream",
     "text": [
      "[Epoch 123 / 200] [Train Loss 0.001348 (MSE)] [Valid Loss 0.005095 (MSE)] [Learning Rate: 1.220703125e-08]\n"
     ]
    },
    {
     "name": "stdout",
     "output_type": "stream",
     "text": [
      "[Epoch 124 / 200] [Train Loss 0.001393 (MSE)] [Valid Loss 0.005111 (MSE)] [Learning Rate: 1.220703125e-08]\n"
     ]
    },
    {
     "name": "stdout",
     "output_type": "stream",
     "text": [
      "[Epoch 125 / 200] [Train Loss 0.001342 (MSE)] [Valid Loss 0.005103 (MSE)] [Learning Rate: 1.220703125e-08]\n"
     ]
    },
    {
     "name": "stdout",
     "output_type": "stream",
     "text": [
      "[Epoch 126 / 200] [Train Loss 0.001319 (MSE)] [Valid Loss 0.005112 (MSE)] [Learning Rate: 1.220703125e-08]\n"
     ]
    },
    {
     "name": "stdout",
     "output_type": "stream",
     "text": [
      "[Epoch 127 / 200] [Train Loss 0.001358 (MSE)] [Valid Loss 0.005116 (MSE)] [Learning Rate: 1.220703125e-08]\n"
     ]
    },
    {
     "name": "stdout",
     "output_type": "stream",
     "text": [
      "[Epoch 128 / 200] [Train Loss 0.001327 (MSE)] [Valid Loss 0.005119 (MSE)] [Learning Rate: 1.220703125e-08]\n"
     ]
    },
    {
     "name": "stdout",
     "output_type": "stream",
     "text": [
      "[Epoch 129 / 200] [Train Loss 0.001335 (MSE)] [Valid Loss 0.005117 (MSE)] [Learning Rate: 1.220703125e-08]\n"
     ]
    },
    {
     "name": "stdout",
     "output_type": "stream",
     "text": [
      "[Epoch 130 / 200] [Train Loss 0.001334 (MSE)] [Valid Loss 0.005084 (MSE)] [Learning Rate: 1.220703125e-08]\n"
     ]
    },
    {
     "name": "stdout",
     "output_type": "stream",
     "text": [
      "[Epoch 131 / 200] [Train Loss 0.001339 (MSE)] [Valid Loss 0.005085 (MSE)] [Learning Rate: 1.220703125e-08]\n"
     ]
    },
    {
     "name": "stdout",
     "output_type": "stream",
     "text": [
      "[Epoch 132 / 200] [Train Loss 0.001385 (MSE)] [Valid Loss 0.005092 (MSE)] [Learning Rate: 1.220703125e-08]\n"
     ]
    },
    {
     "name": "stdout",
     "output_type": "stream",
     "text": [
      "[Epoch 133 / 200] [Train Loss 0.001351 (MSE)] [Valid Loss 0.005099 (MSE)] [Learning Rate: 1.220703125e-08]\n"
     ]
    },
    {
     "name": "stdout",
     "output_type": "stream",
     "text": [
      "[Epoch 134 / 200] [Train Loss 0.001289 (MSE)] [Valid Loss 0.005098 (MSE)] [Learning Rate: 1.220703125e-08]\n"
     ]
    },
    {
     "name": "stdout",
     "output_type": "stream",
     "text": [
      "[Epoch 135 / 200] [Train Loss 0.001328 (MSE)] [Valid Loss 0.005120 (MSE)] [Learning Rate: 1.220703125e-08]\n"
     ]
    },
    {
     "name": "stdout",
     "output_type": "stream",
     "text": [
      "[Epoch 136 / 200] [Train Loss 0.001317 (MSE)] [Valid Loss 0.005091 (MSE)] [Learning Rate: 1.220703125e-08]\n"
     ]
    },
    {
     "name": "stdout",
     "output_type": "stream",
     "text": [
      "[Epoch 137 / 200] [Train Loss 0.001402 (MSE)] [Valid Loss 0.005090 (MSE)] [Learning Rate: 1.220703125e-08]\n"
     ]
    },
    {
     "name": "stdout",
     "output_type": "stream",
     "text": [
      "[Epoch 138 / 200] [Train Loss 0.001371 (MSE)] [Valid Loss 0.005105 (MSE)] [Learning Rate: 1.220703125e-08]\n"
     ]
    },
    {
     "name": "stdout",
     "output_type": "stream",
     "text": [
      "[Epoch 139 / 200] [Train Loss 0.001357 (MSE)] [Valid Loss 0.005104 (MSE)] [Learning Rate: 1.220703125e-08]\n"
     ]
    },
    {
     "name": "stdout",
     "output_type": "stream",
     "text": [
      "[Epoch 140 / 200] [Train Loss 0.001270 (MSE)] [Valid Loss 0.005098 (MSE)] [Learning Rate: 1.220703125e-08]\n"
     ]
    },
    {
     "name": "stdout",
     "output_type": "stream",
     "text": [
      "[Epoch 141 / 200] [Train Loss 0.001326 (MSE)] [Valid Loss 0.005098 (MSE)] [Learning Rate: 1.220703125e-08]\n"
     ]
    },
    {
     "name": "stdout",
     "output_type": "stream",
     "text": [
      "[Epoch 142 / 200] [Train Loss 0.001419 (MSE)] [Valid Loss 0.005112 (MSE)] [Learning Rate: 1.220703125e-08]\n"
     ]
    },
    {
     "name": "stdout",
     "output_type": "stream",
     "text": [
      "[Epoch 143 / 200] [Train Loss 0.001328 (MSE)] [Valid Loss 0.005132 (MSE)] [Learning Rate: 1.220703125e-08]\n"
     ]
    },
    {
     "name": "stdout",
     "output_type": "stream",
     "text": [
      "[Epoch 144 / 200] [Train Loss 0.001347 (MSE)] [Valid Loss 0.005124 (MSE)] [Learning Rate: 1.220703125e-08]\n"
     ]
    },
    {
     "name": "stdout",
     "output_type": "stream",
     "text": [
      "[Epoch 145 / 200] [Train Loss 0.001353 (MSE)] [Valid Loss 0.005116 (MSE)] [Learning Rate: 1.220703125e-08]\n"
     ]
    },
    {
     "name": "stdout",
     "output_type": "stream",
     "text": [
      "[Epoch 146 / 200] [Train Loss 0.001321 (MSE)] [Valid Loss 0.005114 (MSE)] [Learning Rate: 1.220703125e-08]\n"
     ]
    },
    {
     "name": "stdout",
     "output_type": "stream",
     "text": [
      "[Epoch 147 / 200] [Train Loss 0.001332 (MSE)] [Valid Loss 0.005111 (MSE)] [Learning Rate: 1.220703125e-08]\n"
     ]
    },
    {
     "name": "stdout",
     "output_type": "stream",
     "text": [
      "[Epoch 148 / 200] [Train Loss 0.001321 (MSE)] [Valid Loss 0.005099 (MSE)] [Learning Rate: 1.220703125e-08]\n"
     ]
    },
    {
     "name": "stdout",
     "output_type": "stream",
     "text": [
      "[Epoch 149 / 200] [Train Loss 0.001358 (MSE)] [Valid Loss 0.005097 (MSE)] [Learning Rate: 1.220703125e-08]\n"
     ]
    },
    {
     "name": "stdout",
     "output_type": "stream",
     "text": [
      "[Epoch 150 / 200] [Train Loss 0.001295 (MSE)] [Valid Loss 0.005076 (MSE)] [Learning Rate: 1.220703125e-08]\n"
     ]
    },
    {
     "name": "stdout",
     "output_type": "stream",
     "text": [
      "[Epoch 151 / 200] [Train Loss 0.001341 (MSE)] [Valid Loss 0.005059 (MSE)] [Learning Rate: 1.220703125e-08]\n"
     ]
    },
    {
     "name": "stdout",
     "output_type": "stream",
     "text": [
      "[Epoch 152 / 200] [Train Loss 0.001305 (MSE)] [Valid Loss 0.005077 (MSE)] [Learning Rate: 1.220703125e-08]\n"
     ]
    },
    {
     "name": "stdout",
     "output_type": "stream",
     "text": [
      "[Epoch 153 / 200] [Train Loss 0.001332 (MSE)] [Valid Loss 0.005069 (MSE)] [Learning Rate: 1.220703125e-08]\n"
     ]
    },
    {
     "name": "stdout",
     "output_type": "stream",
     "text": [
      "[Epoch 154 / 200] [Train Loss 0.001339 (MSE)] [Valid Loss 0.005053 (MSE)] [Learning Rate: 1.220703125e-08]\n"
     ]
    },
    {
     "name": "stdout",
     "output_type": "stream",
     "text": [
      "[Epoch 155 / 200] [Train Loss 0.001355 (MSE)] [Valid Loss 0.005072 (MSE)] [Learning Rate: 1.220703125e-08]\n"
     ]
    },
    {
     "name": "stdout",
     "output_type": "stream",
     "text": [
      "[Epoch 156 / 200] [Train Loss 0.001334 (MSE)] [Valid Loss 0.005075 (MSE)] [Learning Rate: 1.220703125e-08]\n"
     ]
    },
    {
     "name": "stdout",
     "output_type": "stream",
     "text": [
      "[Epoch 157 / 200] [Train Loss 0.001330 (MSE)] [Valid Loss 0.005083 (MSE)] [Learning Rate: 1.220703125e-08]\n"
     ]
    },
    {
     "name": "stdout",
     "output_type": "stream",
     "text": [
      "[Epoch 158 / 200] [Train Loss 0.001303 (MSE)] [Valid Loss 0.005083 (MSE)] [Learning Rate: 1.220703125e-08]\n"
     ]
    },
    {
     "name": "stdout",
     "output_type": "stream",
     "text": [
      "[Epoch 159 / 200] [Train Loss 0.001399 (MSE)] [Valid Loss 0.005083 (MSE)] [Learning Rate: 1.220703125e-08]\n"
     ]
    },
    {
     "name": "stdout",
     "output_type": "stream",
     "text": [
      "[Epoch 160 / 200] [Train Loss 0.001367 (MSE)] [Valid Loss 0.005088 (MSE)] [Learning Rate: 1.220703125e-08]\n"
     ]
    },
    {
     "name": "stdout",
     "output_type": "stream",
     "text": [
      "[Epoch 161 / 200] [Train Loss 0.001298 (MSE)] [Valid Loss 0.005096 (MSE)] [Learning Rate: 1.220703125e-08]\n"
     ]
    },
    {
     "name": "stdout",
     "output_type": "stream",
     "text": [
      "[Epoch 162 / 200] [Train Loss 0.001332 (MSE)] [Valid Loss 0.005101 (MSE)] [Learning Rate: 1.220703125e-08]\n"
     ]
    },
    {
     "name": "stdout",
     "output_type": "stream",
     "text": [
      "[Epoch 163 / 200] [Train Loss 0.001284 (MSE)] [Valid Loss 0.005082 (MSE)] [Learning Rate: 1.220703125e-08]\n"
     ]
    },
    {
     "name": "stdout",
     "output_type": "stream",
     "text": [
      "[Epoch 164 / 200] [Train Loss 0.001338 (MSE)] [Valid Loss 0.005104 (MSE)] [Learning Rate: 1.220703125e-08]\n"
     ]
    },
    {
     "name": "stdout",
     "output_type": "stream",
     "text": [
      "[Epoch 165 / 200] [Train Loss 0.001355 (MSE)] [Valid Loss 0.005096 (MSE)] [Learning Rate: 1.220703125e-08]\n"
     ]
    },
    {
     "name": "stdout",
     "output_type": "stream",
     "text": [
      "[Epoch 166 / 200] [Train Loss 0.001330 (MSE)] [Valid Loss 0.005095 (MSE)] [Learning Rate: 1.220703125e-08]\n"
     ]
    },
    {
     "name": "stdout",
     "output_type": "stream",
     "text": [
      "[Epoch 167 / 200] [Train Loss 0.001372 (MSE)] [Valid Loss 0.005082 (MSE)] [Learning Rate: 1.220703125e-08]\n"
     ]
    },
    {
     "name": "stdout",
     "output_type": "stream",
     "text": [
      "[Epoch 168 / 200] [Train Loss 0.001319 (MSE)] [Valid Loss 0.005073 (MSE)] [Learning Rate: 1.220703125e-08]\n"
     ]
    },
    {
     "name": "stdout",
     "output_type": "stream",
     "text": [
      "[Epoch 169 / 200] [Train Loss 0.001347 (MSE)] [Valid Loss 0.005077 (MSE)] [Learning Rate: 1.220703125e-08]\n"
     ]
    },
    {
     "name": "stdout",
     "output_type": "stream",
     "text": [
      "[Epoch 170 / 200] [Train Loss 0.001286 (MSE)] [Valid Loss 0.005068 (MSE)] [Learning Rate: 1.220703125e-08]\n"
     ]
    },
    {
     "name": "stdout",
     "output_type": "stream",
     "text": [
      "[Epoch 171 / 200] [Train Loss 0.001362 (MSE)] [Valid Loss 0.005086 (MSE)] [Learning Rate: 1.220703125e-08]\n"
     ]
    },
    {
     "name": "stdout",
     "output_type": "stream",
     "text": [
      "[Epoch 172 / 200] [Train Loss 0.001375 (MSE)] [Valid Loss 0.005096 (MSE)] [Learning Rate: 1.220703125e-08]\n"
     ]
    },
    {
     "name": "stdout",
     "output_type": "stream",
     "text": [
      "[Epoch 173 / 200] [Train Loss 0.001328 (MSE)] [Valid Loss 0.005097 (MSE)] [Learning Rate: 1.220703125e-08]\n"
     ]
    },
    {
     "name": "stdout",
     "output_type": "stream",
     "text": [
      "[Epoch 174 / 200] [Train Loss 0.001362 (MSE)] [Valid Loss 0.005118 (MSE)] [Learning Rate: 1.220703125e-08]\n"
     ]
    },
    {
     "name": "stdout",
     "output_type": "stream",
     "text": [
      "[Epoch 175 / 200] [Train Loss 0.001342 (MSE)] [Valid Loss 0.005130 (MSE)] [Learning Rate: 1.220703125e-08]\n"
     ]
    },
    {
     "name": "stdout",
     "output_type": "stream",
     "text": [
      "[Epoch 176 / 200] [Train Loss 0.001359 (MSE)] [Valid Loss 0.005143 (MSE)] [Learning Rate: 1.220703125e-08]\n"
     ]
    },
    {
     "name": "stdout",
     "output_type": "stream",
     "text": [
      "[Epoch 177 / 200] [Train Loss 0.001325 (MSE)] [Valid Loss 0.005118 (MSE)] [Learning Rate: 1.220703125e-08]\n"
     ]
    },
    {
     "name": "stdout",
     "output_type": "stream",
     "text": [
      "[Epoch 178 / 200] [Train Loss 0.001316 (MSE)] [Valid Loss 0.005097 (MSE)] [Learning Rate: 1.220703125e-08]\n"
     ]
    },
    {
     "name": "stdout",
     "output_type": "stream",
     "text": [
      "[Epoch 179 / 200] [Train Loss 0.001351 (MSE)] [Valid Loss 0.005092 (MSE)] [Learning Rate: 1.220703125e-08]\n"
     ]
    },
    {
     "name": "stdout",
     "output_type": "stream",
     "text": [
      "[Epoch 180 / 200] [Train Loss 0.001314 (MSE)] [Valid Loss 0.005087 (MSE)] [Learning Rate: 1.220703125e-08]\n"
     ]
    },
    {
     "name": "stdout",
     "output_type": "stream",
     "text": [
      "[Epoch 181 / 200] [Train Loss 0.001312 (MSE)] [Valid Loss 0.005079 (MSE)] [Learning Rate: 1.220703125e-08]\n"
     ]
    },
    {
     "name": "stdout",
     "output_type": "stream",
     "text": [
      "[Epoch 182 / 200] [Train Loss 0.001348 (MSE)] [Valid Loss 0.005085 (MSE)] [Learning Rate: 1.220703125e-08]\n"
     ]
    },
    {
     "name": "stdout",
     "output_type": "stream",
     "text": [
      "[Epoch 183 / 200] [Train Loss 0.001390 (MSE)] [Valid Loss 0.005072 (MSE)] [Learning Rate: 1.220703125e-08]\n"
     ]
    },
    {
     "name": "stdout",
     "output_type": "stream",
     "text": [
      "[Epoch 184 / 200] [Train Loss 0.001329 (MSE)] [Valid Loss 0.005083 (MSE)] [Learning Rate: 1.220703125e-08]\n"
     ]
    },
    {
     "name": "stdout",
     "output_type": "stream",
     "text": [
      "[Epoch 185 / 200] [Train Loss 0.001340 (MSE)] [Valid Loss 0.005078 (MSE)] [Learning Rate: 1.220703125e-08]\n"
     ]
    },
    {
     "name": "stdout",
     "output_type": "stream",
     "text": [
      "[Epoch 186 / 200] [Train Loss 0.001333 (MSE)] [Valid Loss 0.005102 (MSE)] [Learning Rate: 1.220703125e-08]\n"
     ]
    },
    {
     "name": "stdout",
     "output_type": "stream",
     "text": [
      "[Epoch 187 / 200] [Train Loss 0.001309 (MSE)] [Valid Loss 0.005102 (MSE)] [Learning Rate: 1.220703125e-08]\n"
     ]
    },
    {
     "name": "stdout",
     "output_type": "stream",
     "text": [
      "[Epoch 188 / 200] [Train Loss 0.001323 (MSE)] [Valid Loss 0.005104 (MSE)] [Learning Rate: 1.220703125e-08]\n"
     ]
    },
    {
     "name": "stdout",
     "output_type": "stream",
     "text": [
      "[Epoch 189 / 200] [Train Loss 0.001318 (MSE)] [Valid Loss 0.005108 (MSE)] [Learning Rate: 1.220703125e-08]\n"
     ]
    },
    {
     "name": "stdout",
     "output_type": "stream",
     "text": [
      "[Epoch 190 / 200] [Train Loss 0.001337 (MSE)] [Valid Loss 0.005102 (MSE)] [Learning Rate: 1.220703125e-08]\n"
     ]
    },
    {
     "name": "stdout",
     "output_type": "stream",
     "text": [
      "[Epoch 191 / 200] [Train Loss 0.001323 (MSE)] [Valid Loss 0.005104 (MSE)] [Learning Rate: 1.220703125e-08]\n"
     ]
    },
    {
     "name": "stdout",
     "output_type": "stream",
     "text": [
      "[Epoch 192 / 200] [Train Loss 0.001340 (MSE)] [Valid Loss 0.005103 (MSE)] [Learning Rate: 1.220703125e-08]\n"
     ]
    },
    {
     "name": "stdout",
     "output_type": "stream",
     "text": [
      "[Epoch 193 / 200] [Train Loss 0.001326 (MSE)] [Valid Loss 0.005080 (MSE)] [Learning Rate: 1.220703125e-08]\n"
     ]
    },
    {
     "name": "stdout",
     "output_type": "stream",
     "text": [
      "[Epoch 194 / 200] [Train Loss 0.001370 (MSE)] [Valid Loss 0.005082 (MSE)] [Learning Rate: 1.220703125e-08]\n"
     ]
    },
    {
     "name": "stdout",
     "output_type": "stream",
     "text": [
      "[Epoch 195 / 200] [Train Loss 0.001332 (MSE)] [Valid Loss 0.005065 (MSE)] [Learning Rate: 1.220703125e-08]\n"
     ]
    },
    {
     "name": "stdout",
     "output_type": "stream",
     "text": [
      "[Epoch 196 / 200] [Train Loss 0.001344 (MSE)] [Valid Loss 0.005064 (MSE)] [Learning Rate: 1.220703125e-08]\n"
     ]
    },
    {
     "name": "stdout",
     "output_type": "stream",
     "text": [
      "[Epoch 197 / 200] [Train Loss 0.001374 (MSE)] [Valid Loss 0.005075 (MSE)] [Learning Rate: 1.220703125e-08]\n"
     ]
    },
    {
     "name": "stdout",
     "output_type": "stream",
     "text": [
      "[Epoch 198 / 200] [Train Loss 0.001341 (MSE)] [Valid Loss 0.005061 (MSE)] [Learning Rate: 1.220703125e-08]\n"
     ]
    },
    {
     "name": "stdout",
     "output_type": "stream",
     "text": [
      "[Epoch 199 / 200] [Train Loss 0.001317 (MSE)] [Valid Loss 0.005049 (MSE)] [Learning Rate: 1.220703125e-08]\n"
     ]
    },
    {
     "name": "stdout",
     "output_type": "stream",
     "text": [
      "[Epoch 200 / 200] [Train Loss 0.001350 (MSE)] [Valid Loss 0.005088 (MSE)] [Learning Rate: 1.220703125e-08]\n"
     ]
    }
   ],
   "source": [
    "# Criterion and optimizer\n",
    "criterion = nn.MSELoss()\n",
    "optimizer = optim.Adam(\n",
    "    vgg16.classifier.parameters(), lr=LR, weight_decay=LR_WEIGHT_DECAY\n",
    ")\n",
    "scheduler = torch.optim.lr_scheduler.ReduceLROnPlateau(\n",
    "    optimizer, mode=\"min\", factor=0.5, patience=5\n",
    ")\n",
    "\n",
    "# Record the loss values\n",
    "train_loss_list = []\n",
    "val_loss_list = []\n",
    "\n",
    "# Loop by epoch\n",
    "for epoch in range(NUM_EPOCHS):\n",
    "\n",
    "    # Train\n",
    "    vgg16.train()\n",
    "    train_loss = 0.0\n",
    "    train_size = 0\n",
    "    for batch_images, batch_labels in train_loader:\n",
    "        # Load data\n",
    "        batch_images = batch_images.to(device)\n",
    "        batch_labels = batch_labels.to(device)\n",
    "        # Pass loss value\n",
    "        outputs = vgg16(batch_images)\n",
    "        loss = criterion(outputs, batch_labels)\n",
    "        # Back propagation\n",
    "        optimizer.zero_grad()\n",
    "        loss.backward()\n",
    "        optimizer.step()\n",
    "        # Add to the total loss\n",
    "        batch_size = batch_images.size(0)\n",
    "        train_loss += loss.item() * batch_size\n",
    "        train_size += batch_size\n",
    "\n",
    "    train_loss = train_loss / train_size\n",
    "    train_loss_list.append(train_loss)\n",
    "\n",
    "    # Validate\n",
    "    vgg16.eval()\n",
    "    val_loss = 0\n",
    "    val_samples = 0\n",
    "    with torch.no_grad():\n",
    "        for batch_images, batch_labels in val_loader:\n",
    "            # Load data\n",
    "            batch_images = batch_images.to(device)\n",
    "            batch_labels = batch_labels.to(device)\n",
    "            # Output\n",
    "            outputs = vgg16(batch_images)\n",
    "            # Calculate loss\n",
    "            loss = criterion(outputs, batch_labels)\n",
    "            # Add to total loss\n",
    "            batch_size = batch_images.size(0)\n",
    "            val_loss += loss.item() * batch_size\n",
    "            val_samples += batch_size\n",
    "    val_loss /= val_samples\n",
    "    val_loss_list.append(val_loss)\n",
    "\n",
    "    # Print\n",
    "    print(\n",
    "        f\"[Epoch {(epoch+1):d} / {(NUM_EPOCHS):d}] [Train Loss {train_loss:f} (MSE)] [Valid Loss {val_loss:f} (MSE)] [Learning Rate: {optimizer.param_groups[0]['lr']}]\"\n",
    "    )\n",
    "\n",
    "    # Scheduler\n",
    "    scheduler.step(val_loss)"
   ]
  },
  {
   "cell_type": "markdown",
   "id": "7cf24633",
   "metadata": {},
   "source": [
    "Then we plot the graphs of `train_loss_list` and `val_loss_lost`."
   ]
  },
  {
   "cell_type": "code",
   "execution_count": 8,
   "id": "f06a4e35",
   "metadata": {
    "execution": {
     "iopub.execute_input": "2025-06-06T15:32:46.753230Z",
     "iopub.status.busy": "2025-06-06T15:32:46.753054Z",
     "iopub.status.idle": "2025-06-06T15:32:46.863258Z",
     "shell.execute_reply": "2025-06-06T15:32:46.862665Z"
    }
   },
   "outputs": [
    {
     "data": {
      "image/png": "[encoded data removed]",
      "text/plain": [
       "<Figure size 640x480 with 1 Axes>"
      ]
     },
     "metadata": {},
     "output_type": "display_data"
    }
   ],
   "source": [
    "x = list(range(NUM_EPOCHS))\n",
    "plt.plot(x, train_loss_list, label=\"Train Loss\", marker=\".\")\n",
    "plt.plot(x, val_loss_list, label=\"Val Loss\", marker=\".\")\n",
    "plt.xlabel(\"Epoch\")\n",
    "plt.ylabel(\"Loss\")\n",
    "plt.title(\"Training and Validation Loss\")\n",
    "plt.legend()\n",
    "plt.show()"
   ]
  },
  {
   "cell_type": "markdown",
   "id": "bedc2858",
   "metadata": {},
   "source": [
    "## Step 4 - Save / load the model\n",
    "\n",
    "After training, we need to save the models."
   ]
  },
  {
   "cell_type": "code",
   "execution_count": 9,
   "id": "75c4022d",
   "metadata": {
    "execution": {
     "iopub.execute_input": "2025-06-06T15:32:46.865418Z",
     "iopub.status.busy": "2025-06-06T15:32:46.865133Z",
     "iopub.status.idle": "2025-06-06T15:32:47.785717Z",
     "shell.execute_reply": "2025-06-06T15:32:47.785198Z"
    }
   },
   "outputs": [
    {
     "name": "stdout",
     "output_type": "stream",
     "text": [
      "Model saved to /home/ubuntu/Desktop/Ra/models/VGG_128_regression_decimal_2.pth\n"
     ]
    }
   ],
   "source": [
    "# Save the trained model to disk\n",
    "torch.save(vgg16.state_dict(), MODEL_PATH)\n",
    "print(f\"Model saved to {MODEL_PATH}\")"
   ]
  },
  {
   "cell_type": "markdown",
   "id": "814f9e3d",
   "metadata": {},
   "source": [
    "To read the saved data, we can run the following codes:"
   ]
  },
  {
   "cell_type": "code",
   "execution_count": 10,
   "id": "1b045a1c",
   "metadata": {
    "execution": {
     "iopub.execute_input": "2025-06-06T15:32:47.787876Z",
     "iopub.status.busy": "2025-06-06T15:32:47.787566Z",
     "iopub.status.idle": "2025-06-06T15:32:47.789870Z",
     "shell.execute_reply": "2025-06-06T15:32:47.789395Z"
    }
   },
   "outputs": [],
   "source": [
    "# # Load the trained model weights\n",
    "# vgg16.load_state_dict(torch.load(MODEL_PATH, map_location=device))\n",
    "# vgg16.eval()\n",
    "# print(\"Model loaded from\", MODEL_PATH)"
   ]
  },
  {
   "cell_type": "markdown",
   "id": "f3159f06",
   "metadata": {},
   "source": [
    "## Exceptional test\n",
    "\n",
    "Let's see if the model works well."
   ]
  },
  {
   "cell_type": "code",
   "execution_count": 11,
   "id": "5178524e",
   "metadata": {
    "execution": {
     "iopub.execute_input": "2025-06-06T15:32:47.791776Z",
     "iopub.status.busy": "2025-06-06T15:32:47.791527Z",
     "iopub.status.idle": "2025-06-06T15:32:49.806959Z",
     "shell.execute_reply": "2025-06-06T15:32:49.806373Z"
    }
   },
   "outputs": [
    {
     "name": "stdout",
     "output_type": "stream",
     "text": [
      "Model loaded from /home/ubuntu/Desktop/Ra/models/VGG_128_regression_decimal_2.pth\n"
     ]
    },
    {
     "name": "stdout",
     "output_type": "stream",
     "text": [
      "      Real Labels  Predicted Labels      Diff      MAPE\n",
      "0            1.75          1.617722 -0.132278  0.924413\n",
      "1            2.70          2.687999 -0.012001  0.995555\n",
      "2            1.82          1.913208  0.093208  0.948787\n",
      "3            2.35          2.177352 -0.172648  0.926533\n",
      "4            3.90          3.485659 -0.414341  0.893759\n",
      "...           ...               ...       ...       ...\n",
      "1834         2.05          1.843706 -0.206294  0.899369\n",
      "1835         1.76          1.603919 -0.156081  0.911317\n",
      "1836         2.59          2.798304  0.208304  0.919574\n",
      "1837         4.09          3.790401 -0.299599  0.926748\n",
      "1838         2.04          1.746847 -0.293153  0.856298\n",
      "\n",
      "[1839 rows x 4 columns]\n",
      "MAPE: 0.9249420151213672\n"
     ]
    },
    {
     "data": {
      "image/png": "[encoded data removed]",
      "text/plain": [
       "<Figure size 640x480 with 1 Axes>"
      ]
     },
     "metadata": {},
     "output_type": "display_data"
    },
    {
     "data": {
      "image/png": "[encoded data removed]",
      "text/plain": [
       "<Figure size 640x480 with 1 Axes>"
      ]
     },
     "metadata": {},
     "output_type": "display_data"
    }
   ],
   "source": [
    "# Load the trained model weights\n",
    "vgg16.load_state_dict(torch.load(MODEL_PATH, map_location=device))\n",
    "vgg16.eval()\n",
    "print(\"Model loaded from\", MODEL_PATH)\n",
    "\n",
    "# Turn to `numpy.array`\n",
    "labels_val_real = labels_val.numpy()\n",
    "labels_val_predicted = vgg16(images_val_tensor.to(device)).cpu().detach().numpy()\n",
    "\n",
    "# Unnormalize labels\n",
    "labels_val_real = labels_val_real * (MAX_LABEL - MIN_LABEL) + MIN_LABEL\n",
    "labels_val_predicted = labels_val_predicted * (MAX_LABEL - MIN_LABEL) + MIN_LABEL\n",
    "\n",
    "# Turn to `pandas.Series`\n",
    "labels_val_real = pd.Series(labels_val_real)\n",
    "labels_val_predicted = pd.Series(labels_val_predicted.flatten())\n",
    "labels_val_diff = labels_val_predicted - labels_val_real\n",
    "\n",
    "# Make `pandas.DataFrame`\n",
    "df = pd.DataFrame(\n",
    "    {\n",
    "        \"Real Labels\": labels_val_real,\n",
    "        \"Predicted Labels\": labels_val_predicted,\n",
    "        \"Diff\": labels_val_diff,\n",
    "        \"MAPE\": 1 - np.abs(labels_val_diff) / labels_val_real\n",
    "    }\n",
    ")\n",
    "df.to_csv(OUTPUT_PATH, index = False)\n",
    "print(df)\n",
    "print(f\"MAPE: {df[\"MAPE\"].mean()}\")\n",
    "\n",
    "# Boxplot of the differences\n",
    "plt.boxplot(labels_val_diff)\n",
    "plt.ylabel(\"Prediction Error (Predicted - Real)\")\n",
    "plt.title(\"Boxplot of Prediction Errors\")\n",
    "plt.show()\n",
    "\n",
    "# Plot the differences by the real labels.\n",
    "plt.scatter(labels_val_real, labels_val_diff, s=10)\n",
    "plt.xlabel(\"Real Labels\")\n",
    "plt.ylabel(\"Prediction Error (Predicted - Real)\")\n",
    "plt.title(\"Prediction Error vs Real Labels\")\n",
    "plt.axhline(0, color=\"red\", linestyle=\"--\", linewidth=1)\n",
    "plt.show()"
   ]
  }
 ],
 "metadata": {
  "kernelspec": {
   "display_name": "pytorch",
   "language": "python",
   "name": "python3"
  },
  "language_info": {
   "codemirror_mode": {
    "name": "ipython",
    "version": 3
   },
   "file_extension": ".py",
   "mimetype": "text/x-python",
   "name": "python",
   "nbconvert_exporter": "python",
   "pygments_lexer": "ipython3",
   "version": "3.12.10"
  }
 },
 "nbformat": 4,
 "nbformat_minor": 5
}
