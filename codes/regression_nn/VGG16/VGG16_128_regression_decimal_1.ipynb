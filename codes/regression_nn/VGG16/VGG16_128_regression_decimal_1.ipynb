{
 "cells": [
  {
   "cell_type": "markdown",
   "id": "05bee791",
   "metadata": {},
   "source": [
    "# VGG\n",
    "\n",
    "This notebook uses model \"VGG16\" to conduct regression of images."
   ]
  },
  {
   "cell_type": "code",
   "execution_count": 1,
   "id": "9c623ed7",
   "metadata": {
    "execution": {
     "iopub.execute_input": "2025-06-06T14:18:24.125585Z",
     "iopub.status.busy": "2025-06-06T14:18:24.125417Z",
     "iopub.status.idle": "2025-06-06T14:18:27.425514Z",
     "shell.execute_reply": "2025-06-06T14:18:27.424994Z"
    }
   },
   "outputs": [],
   "source": [
    "import h5py\n",
    "from matplotlib import pyplot as plt\n",
    "import numpy as np\n",
    "import os\n",
    "import pandas as pd\n",
    "from sklearn.model_selection import train_test_split\n",
    "import torch\n",
    "import torch.nn as nn\n",
    "import torch.optim as optim\n",
    "from torch.utils.data import TensorDataset, DataLoader\n",
    "from torchvision import models"
   ]
  },
  {
   "cell_type": "markdown",
   "id": "28904883",
   "metadata": {},
   "source": [
    "## Step 1 - Config\n",
    "\n",
    "First set the hyperparameters and other configurations."
   ]
  },
  {
   "cell_type": "code",
   "execution_count": null,
   "id": "33cb27b0",
   "metadata": {
    "execution": {
     "iopub.execute_input": "2025-06-06T14:18:27.428193Z",
     "iopub.status.busy": "2025-06-06T14:18:27.427659Z",
     "iopub.status.idle": "2025-06-06T14:18:27.457795Z",
     "shell.execute_reply": "2025-06-06T14:18:27.457338Z"
    }
   },
   "outputs": [
    {
     "name": "stdout",
     "output_type": "stream",
     "text": [
      "Device: cuda\n"
     ]
    }
   ],
   "source": [
    "# Dataset and model path\n",
    "DATASET_PATH = \"/home/ubuntu/Desktop/Ra/datasets/Ra_128_indexed_decimal_1.h5\"\n",
    "MODEL_PATH = \"/home/ubuntu/Desktop/Ra/models/VGG16_128_regression_decimal_1.pth\"\n",
    "OUTPUT_PATH = \"/home/ubuntu/Desktop/Ra/outputs/VGG16_128_regression_decimal_1.csv\"\n",
    "# Env\n",
    "SEED = 42\n",
    "# Dataset\n",
    "MIN_LABEL = 1.3\n",
    "MAX_LABEL = 5.2\n",
    "# Hyperparameters\n",
    "NUM_EPOCHS = 200\n",
    "LR = 1e-4\n",
    "LR_WEIGHT_DECAY = 1e-4\n",
    "TEST_SIZE = 0.2\n",
    "BATCH_SIZE_TRAIN = 64\n",
    "BATCH_SIZE_VAL = 10\n",
    "\n",
    "# Device\n",
    "device = \"cuda\" if torch.cuda.is_available() else \"cpu\"\n",
    "print(f\"Device: {device}\")\n",
    "\n",
    "# Path\n",
    "if not os.path.exists(os.path.dirname(MODEL_PATH)):\n",
    "    os.makedirs(os.path.dirname(MODEL_PATH), exist_ok=True)\n",
    "    print(f\"Make new directory {os.path.dirname(MODEL_PATH)}\")"
   ]
  },
  {
   "cell_type": "markdown",
   "id": "6d7ff1c7",
   "metadata": {},
   "source": [
    "Then load the pretrained model from `torchvision`."
   ]
  },
  {
   "cell_type": "code",
   "execution_count": 3,
   "id": "b8b13a96",
   "metadata": {
    "execution": {
     "iopub.execute_input": "2025-06-06T14:18:27.459757Z",
     "iopub.status.busy": "2025-06-06T14:18:27.459484Z",
     "iopub.status.idle": "2025-06-06T14:18:28.924619Z",
     "shell.execute_reply": "2025-06-06T14:18:28.924108Z"
    }
   },
   "outputs": [
    {
     "name": "stderr",
     "output_type": "stream",
     "text": [
      "/opt/pytorch/lib/python3.12/site-packages/torchvision/models/_utils.py:208: UserWarning: The parameter 'pretrained' is deprecated since 0.13 and may be removed in the future, please use 'weights' instead.\n",
      "  warnings.warn(\n",
      "/opt/pytorch/lib/python3.12/site-packages/torchvision/models/_utils.py:223: UserWarning: Arguments other than a weight enum or `None` for 'weights' are deprecated since 0.13 and may be removed in the future. The current behavior is equivalent to passing `weights=VGG16_Weights.IMAGENET1K_V1`. You can also use `weights=VGG16_Weights.DEFAULT` to get the most up-to-date weights.\n",
      "  warnings.warn(msg)\n"
     ]
    }
   ],
   "source": [
    "# Pretrained VGG16 model\n",
    "vgg16 = models.vgg16(pretrained=True)\n",
    "\n",
    "# Change the last layer to fit the regression task\n",
    "vgg16.classifier[-1] = nn.Linear(in_features=4096, out_features=1)\n",
    "\n",
    "# Choose to freeze the layers or not\n",
    "for param in vgg16.features.parameters():\n",
    "    param.requires_grad = False\n",
    "\n",
    "# Move to the appropriate device\n",
    "vgg16 = vgg16.to(device)"
   ]
  },
  {
   "cell_type": "markdown",
   "id": "4b3b175c",
   "metadata": {},
   "source": [
    "## Step 2 - Load data\n",
    "\n",
    "In this step we load the images and process them, the goal is to get `train_loader` and `val_loader` for training. After this step we will get:\n",
    "\n",
    "1. `images_train` and `images_val` (4 dim tensor)\n",
    "2. `labels_train` and `labels_val` (1 dim tensor)\n",
    "3. `train_dataset` and `val_dataset` (dataset)\n",
    "4. `train_loader` and `val_loader` (dataloader)\n",
    "\n",
    "First we load the images, and normalize the pixel values."
   ]
  },
  {
   "cell_type": "code",
   "execution_count": 4,
   "id": "bc9be499",
   "metadata": {
    "execution": {
     "iopub.execute_input": "2025-06-06T14:18:28.926928Z",
     "iopub.status.busy": "2025-06-06T14:18:28.926638Z",
     "iopub.status.idle": "2025-06-06T14:18:33.032022Z",
     "shell.execute_reply": "2025-06-06T14:18:33.031454Z"
    }
   },
   "outputs": [
    {
     "name": "stdout",
     "output_type": "stream",
     "text": [
      "Images and labels loaded.\n",
      "Images Shape: (9192, 128, 128, 3)\n",
      "Labels Shape: (9192,)\n",
      "\n"
     ]
    },
    {
     "name": "stdout",
     "output_type": "stream",
     "text": [
      "Select indexes by MIN_LABEL = 1.3 and MAX_LABEL = 5.2\n",
      "Images Shape: (9182, 128, 128, 3)\n",
      "Labels Shape: (9182,)\n",
      "\n",
      "Transform `images` and `labels` to tensors.\n",
      "Images Shape: torch.Size([9182, 3, 128, 128])\n",
      "Labels Shape: torch.Size([9182])\n"
     ]
    }
   ],
   "source": [
    "# Load datasets\n",
    "with h5py.File(DATASET_PATH, \"r\") as f:\n",
    "    images = f[\"images\"][:].astype(float)\n",
    "    labels = f[\"labels\"][:].astype(float)\n",
    "N_all = len(images)\n",
    "print(\"Images and labels loaded.\")\n",
    "print(f\"Images Shape: {images.shape}\")\n",
    "print(f\"Labels Shape: {labels.shape}\")\n",
    "print(\"\")\n",
    "\n",
    "# Selection\n",
    "indx = np.where((labels >= MIN_LABEL) * (labels < MAX_LABEL) == True)[0]\n",
    "labels = labels[indx]\n",
    "images = images[indx]\n",
    "print(f\"Select indexes by MIN_LABEL = {MIN_LABEL} and MAX_LABEL = {MAX_LABEL}\")\n",
    "print(f\"Images Shape: {images.shape}\")\n",
    "print(f\"Labels Shape: {labels.shape}\")\n",
    "print(\"\")\n",
    "\n",
    "# To tensor\n",
    "images = torch.from_numpy(images).permute(0, 3, 1, 2)\n",
    "labels = torch.from_numpy(labels)\n",
    "print(\"Transform `images` and `labels` to tensors.\")\n",
    "print(f\"Images Shape: {images.shape}\")\n",
    "print(f\"Labels Shape: {labels.shape}\")\n",
    "\n",
    "# Image standardization\n",
    "mean = images.mean(dim=[0, 2, 3], keepdim=True)\n",
    "std = images.std(dim=[0, 2, 3], keepdim=True)\n",
    "images = (images - mean) / std\n",
    "\n",
    "# Label normalization\n",
    "labels = (labels - MIN_LABEL) / (MAX_LABEL - MIN_LABEL)"
   ]
  },
  {
   "cell_type": "markdown",
   "id": "2127b3c6",
   "metadata": {},
   "source": [
    "Then use `train_test_split` function to get data for training and validation."
   ]
  },
  {
   "cell_type": "code",
   "execution_count": 5,
   "id": "2f7d1dd9",
   "metadata": {
    "execution": {
     "iopub.execute_input": "2025-06-06T14:18:33.034429Z",
     "iopub.status.busy": "2025-06-06T14:18:33.034151Z",
     "iopub.status.idle": "2025-06-06T14:18:33.555328Z",
     "shell.execute_reply": "2025-06-06T14:18:33.554724Z"
    }
   },
   "outputs": [
    {
     "name": "stdout",
     "output_type": "stream",
     "text": [
      "Train test split with test size 0.2.\n",
      "Images (train) Shape: torch.Size([7345, 3, 128, 128])\n",
      "Images (val) Shape: torch.Size([1837, 3, 128, 128])\n",
      "Labels (train) Shape: torch.Size([7345])\n",
      "Labels (val) Shape: torch.Size([1837])\n"
     ]
    }
   ],
   "source": [
    "# Train-test split\n",
    "images_train, images_val, labels_train, labels_val = train_test_split(\n",
    "    images, labels, test_size=TEST_SIZE, random_state=SEED\n",
    ")\n",
    "print(f\"Train test split with test size {TEST_SIZE}.\")\n",
    "print(f\"Images (train) Shape: {images_train.shape}\")\n",
    "print(f\"Images (val) Shape: {images_val.shape}\")\n",
    "print(f\"Labels (train) Shape: {labels_train.shape}\")\n",
    "print(f\"Labels (val) Shape: {labels_val.shape}\")"
   ]
  },
  {
   "cell_type": "markdown",
   "id": "e5f55f94",
   "metadata": {},
   "source": [
    "Next, we should transform the data to tensors, combine `images` and `labels` to datasets and get dataloaders according to `BATCH_SIZE`."
   ]
  },
  {
   "cell_type": "code",
   "execution_count": 6,
   "id": "51549a4b",
   "metadata": {
    "execution": {
     "iopub.execute_input": "2025-06-06T14:18:33.557790Z",
     "iopub.status.busy": "2025-06-06T14:18:33.557309Z",
     "iopub.status.idle": "2025-06-06T14:18:33.832918Z",
     "shell.execute_reply": "2025-06-06T14:18:33.832337Z"
    }
   },
   "outputs": [
    {
     "name": "stderr",
     "output_type": "stream",
     "text": [
      "/tmp/ipykernel_2447/1722485521.py:2: UserWarning: To copy construct from a tensor, it is recommended to use sourceTensor.detach().clone() or sourceTensor.detach().clone().requires_grad_(True), rather than torch.tensor(sourceTensor).\n",
      "  images_train_tensor = torch.tensor(images_train, dtype=torch.float32)\n"
     ]
    },
    {
     "name": "stdout",
     "output_type": "stream",
     "text": [
      "Shape of `images_train_tensor`: torch.Size([7345, 3, 128, 128])\n",
      "Shape of `labels_train_tensor`: torch.Size([7345, 1])\n",
      "Shape of `images_val_tensor`: torch.Size([1837, 3, 128, 128])\n",
      "Shape of `labels_val_tensor`: torch.Size([1837, 1])\n"
     ]
    },
    {
     "name": "stderr",
     "output_type": "stream",
     "text": [
      "/tmp/ipykernel_2447/1722485521.py:3: UserWarning: To copy construct from a tensor, it is recommended to use sourceTensor.detach().clone() or sourceTensor.detach().clone().requires_grad_(True), rather than torch.tensor(sourceTensor).\n",
      "  images_val_tensor = torch.tensor(images_val, dtype=torch.float32)\n",
      "/tmp/ipykernel_2447/1722485521.py:4: UserWarning: To copy construct from a tensor, it is recommended to use sourceTensor.detach().clone() or sourceTensor.detach().clone().requires_grad_(True), rather than torch.tensor(sourceTensor).\n",
      "  labels_train_tensor = torch.tensor(labels_train, dtype=torch.float32).view(-1, 1)\n",
      "/tmp/ipykernel_2447/1722485521.py:5: UserWarning: To copy construct from a tensor, it is recommended to use sourceTensor.detach().clone() or sourceTensor.detach().clone().requires_grad_(True), rather than torch.tensor(sourceTensor).\n",
      "  labels_val_tensor = torch.tensor(labels_val, dtype=torch.float32).view(-1, 1)\n"
     ]
    }
   ],
   "source": [
    "# Change to tensor\n",
    "images_train_tensor = torch.tensor(images_train, dtype=torch.float32)\n",
    "images_val_tensor = torch.tensor(images_val, dtype=torch.float32)\n",
    "labels_train_tensor = torch.tensor(labels_train, dtype=torch.float32).view(-1, 1)\n",
    "labels_val_tensor = torch.tensor(labels_val, dtype=torch.float32).view(-1, 1)\n",
    "print(f\"Shape of `images_train_tensor`: {images_train_tensor.shape}\")\n",
    "print(f\"Shape of `labels_train_tensor`: {labels_train_tensor.shape}\")\n",
    "print(f\"Shape of `images_val_tensor`: {images_val_tensor.shape}\")\n",
    "print(f\"Shape of `labels_val_tensor`: {labels_val_tensor.shape}\")\n",
    "\n",
    "# Tensor's dataset\n",
    "train_dataset = TensorDataset(images_train_tensor, labels_train_tensor)\n",
    "val_dataset = TensorDataset(images_val_tensor, labels_val_tensor)\n",
    "\n",
    "# DataLoader\n",
    "train_loader = DataLoader(train_dataset, batch_size=BATCH_SIZE_TRAIN, shuffle=True)\n",
    "val_loader = DataLoader(val_dataset, batch_size=BATCH_SIZE_VAL)"
   ]
  },
  {
   "cell_type": "markdown",
   "id": "ce4ea102",
   "metadata": {},
   "source": [
    "## Step 3 - Train"
   ]
  },
  {
   "cell_type": "markdown",
   "id": "534bdeac",
   "metadata": {},
   "source": [
    "Start training for `epoch` loops, record the training losses and validation losses."
   ]
  },
  {
   "cell_type": "code",
   "execution_count": 7,
   "id": "c0161423",
   "metadata": {
    "execution": {
     "iopub.execute_input": "2025-06-06T14:18:33.835338Z",
     "iopub.status.busy": "2025-06-06T14:18:33.835164Z",
     "iopub.status.idle": "2025-06-06T14:47:58.801626Z",
     "shell.execute_reply": "2025-06-06T14:47:58.801149Z"
    }
   },
   "outputs": [
    {
     "name": "stdout",
     "output_type": "stream",
     "text": [
      "[Epoch 1 / 200] [Train Loss 0.085384 (MSE)] [Valid Loss 0.041888 (MSE)] [Learning Rate: 0.0001]\n"
     ]
    },
    {
     "name": "stdout",
     "output_type": "stream",
     "text": [
      "[Epoch 2 / 200] [Train Loss 0.023248 (MSE)] [Valid Loss 0.023120 (MSE)] [Learning Rate: 0.0001]\n"
     ]
    },
    {
     "name": "stdout",
     "output_type": "stream",
     "text": [
      "[Epoch 3 / 200] [Train Loss 0.016962 (MSE)] [Valid Loss 0.015897 (MSE)] [Learning Rate: 0.0001]\n"
     ]
    },
    {
     "name": "stdout",
     "output_type": "stream",
     "text": [
      "[Epoch 4 / 200] [Train Loss 0.013105 (MSE)] [Valid Loss 0.013504 (MSE)] [Learning Rate: 0.0001]\n"
     ]
    },
    {
     "name": "stdout",
     "output_type": "stream",
     "text": [
      "[Epoch 5 / 200] [Train Loss 0.011483 (MSE)] [Valid Loss 0.011453 (MSE)] [Learning Rate: 0.0001]\n"
     ]
    },
    {
     "name": "stdout",
     "output_type": "stream",
     "text": [
      "[Epoch 6 / 200] [Train Loss 0.009283 (MSE)] [Valid Loss 0.010821 (MSE)] [Learning Rate: 0.0001]\n"
     ]
    },
    {
     "name": "stdout",
     "output_type": "stream",
     "text": [
      "[Epoch 7 / 200] [Train Loss 0.008406 (MSE)] [Valid Loss 0.017813 (MSE)] [Learning Rate: 0.0001]\n"
     ]
    },
    {
     "name": "stdout",
     "output_type": "stream",
     "text": [
      "[Epoch 8 / 200] [Train Loss 0.007993 (MSE)] [Valid Loss 0.009798 (MSE)] [Learning Rate: 0.0001]\n"
     ]
    },
    {
     "name": "stdout",
     "output_type": "stream",
     "text": [
      "[Epoch 9 / 200] [Train Loss 0.007178 (MSE)] [Valid Loss 0.009401 (MSE)] [Learning Rate: 0.0001]\n"
     ]
    },
    {
     "name": "stdout",
     "output_type": "stream",
     "text": [
      "[Epoch 10 / 200] [Train Loss 0.006389 (MSE)] [Valid Loss 0.007557 (MSE)] [Learning Rate: 0.0001]\n"
     ]
    },
    {
     "name": "stdout",
     "output_type": "stream",
     "text": [
      "[Epoch 11 / 200] [Train Loss 0.005991 (MSE)] [Valid Loss 0.008582 (MSE)] [Learning Rate: 0.0001]\n"
     ]
    },
    {
     "name": "stdout",
     "output_type": "stream",
     "text": [
      "[Epoch 12 / 200] [Train Loss 0.005613 (MSE)] [Valid Loss 0.008079 (MSE)] [Learning Rate: 0.0001]\n"
     ]
    },
    {
     "name": "stdout",
     "output_type": "stream",
     "text": [
      "[Epoch 13 / 200] [Train Loss 0.005701 (MSE)] [Valid Loss 0.008368 (MSE)] [Learning Rate: 0.0001]\n"
     ]
    },
    {
     "name": "stdout",
     "output_type": "stream",
     "text": [
      "[Epoch 14 / 200] [Train Loss 0.005490 (MSE)] [Valid Loss 0.007458 (MSE)] [Learning Rate: 0.0001]\n"
     ]
    },
    {
     "name": "stdout",
     "output_type": "stream",
     "text": [
      "[Epoch 15 / 200] [Train Loss 0.005238 (MSE)] [Valid Loss 0.017827 (MSE)] [Learning Rate: 0.0001]\n"
     ]
    },
    {
     "name": "stdout",
     "output_type": "stream",
     "text": [
      "[Epoch 16 / 200] [Train Loss 0.005318 (MSE)] [Valid Loss 0.008743 (MSE)] [Learning Rate: 0.0001]\n"
     ]
    },
    {
     "name": "stdout",
     "output_type": "stream",
     "text": [
      "[Epoch 17 / 200] [Train Loss 0.004850 (MSE)] [Valid Loss 0.007959 (MSE)] [Learning Rate: 0.0001]\n"
     ]
    },
    {
     "name": "stdout",
     "output_type": "stream",
     "text": [
      "[Epoch 18 / 200] [Train Loss 0.004937 (MSE)] [Valid Loss 0.007090 (MSE)] [Learning Rate: 0.0001]\n"
     ]
    },
    {
     "name": "stdout",
     "output_type": "stream",
     "text": [
      "[Epoch 19 / 200] [Train Loss 0.004867 (MSE)] [Valid Loss 0.004483 (MSE)] [Learning Rate: 0.0001]\n"
     ]
    },
    {
     "name": "stdout",
     "output_type": "stream",
     "text": [
      "[Epoch 20 / 200] [Train Loss 0.004336 (MSE)] [Valid Loss 0.008421 (MSE)] [Learning Rate: 0.0001]\n"
     ]
    },
    {
     "name": "stdout",
     "output_type": "stream",
     "text": [
      "[Epoch 21 / 200] [Train Loss 0.004409 (MSE)] [Valid Loss 0.008239 (MSE)] [Learning Rate: 0.0001]\n"
     ]
    },
    {
     "name": "stdout",
     "output_type": "stream",
     "text": [
      "[Epoch 22 / 200] [Train Loss 0.004738 (MSE)] [Valid Loss 0.009413 (MSE)] [Learning Rate: 0.0001]\n"
     ]
    },
    {
     "name": "stdout",
     "output_type": "stream",
     "text": [
      "[Epoch 23 / 200] [Train Loss 0.004529 (MSE)] [Valid Loss 0.008784 (MSE)] [Learning Rate: 0.0001]\n"
     ]
    },
    {
     "name": "stdout",
     "output_type": "stream",
     "text": [
      "[Epoch 24 / 200] [Train Loss 0.004256 (MSE)] [Valid Loss 0.006138 (MSE)] [Learning Rate: 0.0001]\n"
     ]
    },
    {
     "name": "stdout",
     "output_type": "stream",
     "text": [
      "[Epoch 25 / 200] [Train Loss 0.004106 (MSE)] [Valid Loss 0.004799 (MSE)] [Learning Rate: 0.0001]\n"
     ]
    },
    {
     "name": "stdout",
     "output_type": "stream",
     "text": [
      "[Epoch 26 / 200] [Train Loss 0.003481 (MSE)] [Valid Loss 0.007634 (MSE)] [Learning Rate: 5e-05]\n"
     ]
    },
    {
     "name": "stdout",
     "output_type": "stream",
     "text": [
      "[Epoch 27 / 200] [Train Loss 0.003199 (MSE)] [Valid Loss 0.006476 (MSE)] [Learning Rate: 5e-05]\n"
     ]
    },
    {
     "name": "stdout",
     "output_type": "stream",
     "text": [
      "[Epoch 28 / 200] [Train Loss 0.002790 (MSE)] [Valid Loss 0.006966 (MSE)] [Learning Rate: 5e-05]\n"
     ]
    },
    {
     "name": "stdout",
     "output_type": "stream",
     "text": [
      "[Epoch 29 / 200] [Train Loss 0.002775 (MSE)] [Valid Loss 0.008604 (MSE)] [Learning Rate: 5e-05]\n"
     ]
    },
    {
     "name": "stdout",
     "output_type": "stream",
     "text": [
      "[Epoch 30 / 200] [Train Loss 0.002549 (MSE)] [Valid Loss 0.006949 (MSE)] [Learning Rate: 5e-05]\n"
     ]
    },
    {
     "name": "stdout",
     "output_type": "stream",
     "text": [
      "[Epoch 31 / 200] [Train Loss 0.002643 (MSE)] [Valid Loss 0.009408 (MSE)] [Learning Rate: 5e-05]\n"
     ]
    },
    {
     "name": "stdout",
     "output_type": "stream",
     "text": [
      "[Epoch 32 / 200] [Train Loss 0.002350 (MSE)] [Valid Loss 0.006595 (MSE)] [Learning Rate: 2.5e-05]\n"
     ]
    },
    {
     "name": "stdout",
     "output_type": "stream",
     "text": [
      "[Epoch 33 / 200] [Train Loss 0.002117 (MSE)] [Valid Loss 0.007737 (MSE)] [Learning Rate: 2.5e-05]\n"
     ]
    },
    {
     "name": "stdout",
     "output_type": "stream",
     "text": [
      "[Epoch 34 / 200] [Train Loss 0.002042 (MSE)] [Valid Loss 0.005988 (MSE)] [Learning Rate: 2.5e-05]\n"
     ]
    },
    {
     "name": "stdout",
     "output_type": "stream",
     "text": [
      "[Epoch 35 / 200] [Train Loss 0.002107 (MSE)] [Valid Loss 0.005914 (MSE)] [Learning Rate: 2.5e-05]\n"
     ]
    },
    {
     "name": "stdout",
     "output_type": "stream",
     "text": [
      "[Epoch 36 / 200] [Train Loss 0.001954 (MSE)] [Valid Loss 0.006214 (MSE)] [Learning Rate: 2.5e-05]\n"
     ]
    },
    {
     "name": "stdout",
     "output_type": "stream",
     "text": [
      "[Epoch 37 / 200] [Train Loss 0.001961 (MSE)] [Valid Loss 0.007182 (MSE)] [Learning Rate: 2.5e-05]\n"
     ]
    },
    {
     "name": "stdout",
     "output_type": "stream",
     "text": [
      "[Epoch 38 / 200] [Train Loss 0.001741 (MSE)] [Valid Loss 0.006573 (MSE)] [Learning Rate: 1.25e-05]\n"
     ]
    },
    {
     "name": "stdout",
     "output_type": "stream",
     "text": [
      "[Epoch 39 / 200] [Train Loss 0.001665 (MSE)] [Valid Loss 0.006311 (MSE)] [Learning Rate: 1.25e-05]\n"
     ]
    },
    {
     "name": "stdout",
     "output_type": "stream",
     "text": [
      "[Epoch 40 / 200] [Train Loss 0.001670 (MSE)] [Valid Loss 0.007486 (MSE)] [Learning Rate: 1.25e-05]\n"
     ]
    },
    {
     "name": "stdout",
     "output_type": "stream",
     "text": [
      "[Epoch 41 / 200] [Train Loss 0.001582 (MSE)] [Valid Loss 0.006646 (MSE)] [Learning Rate: 1.25e-05]\n"
     ]
    },
    {
     "name": "stdout",
     "output_type": "stream",
     "text": [
      "[Epoch 42 / 200] [Train Loss 0.001602 (MSE)] [Valid Loss 0.006283 (MSE)] [Learning Rate: 1.25e-05]\n"
     ]
    },
    {
     "name": "stdout",
     "output_type": "stream",
     "text": [
      "[Epoch 43 / 200] [Train Loss 0.001589 (MSE)] [Valid Loss 0.007516 (MSE)] [Learning Rate: 1.25e-05]\n"
     ]
    },
    {
     "name": "stdout",
     "output_type": "stream",
     "text": [
      "[Epoch 44 / 200] [Train Loss 0.001518 (MSE)] [Valid Loss 0.008192 (MSE)] [Learning Rate: 6.25e-06]\n"
     ]
    },
    {
     "name": "stdout",
     "output_type": "stream",
     "text": [
      "[Epoch 45 / 200] [Train Loss 0.001427 (MSE)] [Valid Loss 0.007537 (MSE)] [Learning Rate: 6.25e-06]\n"
     ]
    },
    {
     "name": "stdout",
     "output_type": "stream",
     "text": [
      "[Epoch 46 / 200] [Train Loss 0.001402 (MSE)] [Valid Loss 0.006956 (MSE)] [Learning Rate: 6.25e-06]\n"
     ]
    },
    {
     "name": "stdout",
     "output_type": "stream",
     "text": [
      "[Epoch 47 / 200] [Train Loss 0.001473 (MSE)] [Valid Loss 0.007504 (MSE)] [Learning Rate: 6.25e-06]\n"
     ]
    },
    {
     "name": "stdout",
     "output_type": "stream",
     "text": [
      "[Epoch 48 / 200] [Train Loss 0.001376 (MSE)] [Valid Loss 0.007035 (MSE)] [Learning Rate: 6.25e-06]\n"
     ]
    },
    {
     "name": "stdout",
     "output_type": "stream",
     "text": [
      "[Epoch 49 / 200] [Train Loss 0.001372 (MSE)] [Valid Loss 0.006841 (MSE)] [Learning Rate: 6.25e-06]\n"
     ]
    },
    {
     "name": "stdout",
     "output_type": "stream",
     "text": [
      "[Epoch 50 / 200] [Train Loss 0.001359 (MSE)] [Valid Loss 0.007069 (MSE)] [Learning Rate: 3.125e-06]\n"
     ]
    },
    {
     "name": "stdout",
     "output_type": "stream",
     "text": [
      "[Epoch 51 / 200] [Train Loss 0.001333 (MSE)] [Valid Loss 0.007617 (MSE)] [Learning Rate: 3.125e-06]\n"
     ]
    },
    {
     "name": "stdout",
     "output_type": "stream",
     "text": [
      "[Epoch 52 / 200] [Train Loss 0.001351 (MSE)] [Valid Loss 0.007598 (MSE)] [Learning Rate: 3.125e-06]\n"
     ]
    },
    {
     "name": "stdout",
     "output_type": "stream",
     "text": [
      "[Epoch 53 / 200] [Train Loss 0.001334 (MSE)] [Valid Loss 0.006877 (MSE)] [Learning Rate: 3.125e-06]\n"
     ]
    },
    {
     "name": "stdout",
     "output_type": "stream",
     "text": [
      "[Epoch 54 / 200] [Train Loss 0.001304 (MSE)] [Valid Loss 0.007131 (MSE)] [Learning Rate: 3.125e-06]\n"
     ]
    },
    {
     "name": "stdout",
     "output_type": "stream",
     "text": [
      "[Epoch 55 / 200] [Train Loss 0.001252 (MSE)] [Valid Loss 0.007132 (MSE)] [Learning Rate: 3.125e-06]\n"
     ]
    },
    {
     "name": "stdout",
     "output_type": "stream",
     "text": [
      "[Epoch 56 / 200] [Train Loss 0.001257 (MSE)] [Valid Loss 0.007677 (MSE)] [Learning Rate: 1.5625e-06]\n"
     ]
    },
    {
     "name": "stdout",
     "output_type": "stream",
     "text": [
      "[Epoch 57 / 200] [Train Loss 0.001243 (MSE)] [Valid Loss 0.006951 (MSE)] [Learning Rate: 1.5625e-06]\n"
     ]
    },
    {
     "name": "stdout",
     "output_type": "stream",
     "text": [
      "[Epoch 58 / 200] [Train Loss 0.001265 (MSE)] [Valid Loss 0.007454 (MSE)] [Learning Rate: 1.5625e-06]\n"
     ]
    },
    {
     "name": "stdout",
     "output_type": "stream",
     "text": [
      "[Epoch 59 / 200] [Train Loss 0.001255 (MSE)] [Valid Loss 0.007304 (MSE)] [Learning Rate: 1.5625e-06]\n"
     ]
    },
    {
     "name": "stdout",
     "output_type": "stream",
     "text": [
      "[Epoch 60 / 200] [Train Loss 0.001196 (MSE)] [Valid Loss 0.006847 (MSE)] [Learning Rate: 1.5625e-06]\n"
     ]
    },
    {
     "name": "stdout",
     "output_type": "stream",
     "text": [
      "[Epoch 61 / 200] [Train Loss 0.001211 (MSE)] [Valid Loss 0.007185 (MSE)] [Learning Rate: 1.5625e-06]\n"
     ]
    },
    {
     "name": "stdout",
     "output_type": "stream",
     "text": [
      "[Epoch 62 / 200] [Train Loss 0.001159 (MSE)] [Valid Loss 0.007307 (MSE)] [Learning Rate: 7.8125e-07]\n"
     ]
    },
    {
     "name": "stdout",
     "output_type": "stream",
     "text": [
      "[Epoch 63 / 200] [Train Loss 0.001198 (MSE)] [Valid Loss 0.007155 (MSE)] [Learning Rate: 7.8125e-07]\n"
     ]
    },
    {
     "name": "stdout",
     "output_type": "stream",
     "text": [
      "[Epoch 64 / 200] [Train Loss 0.001228 (MSE)] [Valid Loss 0.007114 (MSE)] [Learning Rate: 7.8125e-07]\n"
     ]
    },
    {
     "name": "stdout",
     "output_type": "stream",
     "text": [
      "[Epoch 65 / 200] [Train Loss 0.001212 (MSE)] [Valid Loss 0.007279 (MSE)] [Learning Rate: 7.8125e-07]\n"
     ]
    },
    {
     "name": "stdout",
     "output_type": "stream",
     "text": [
      "[Epoch 66 / 200] [Train Loss 0.001240 (MSE)] [Valid Loss 0.007309 (MSE)] [Learning Rate: 7.8125e-07]\n"
     ]
    },
    {
     "name": "stdout",
     "output_type": "stream",
     "text": [
      "[Epoch 67 / 200] [Train Loss 0.001216 (MSE)] [Valid Loss 0.007140 (MSE)] [Learning Rate: 7.8125e-07]\n"
     ]
    },
    {
     "name": "stdout",
     "output_type": "stream",
     "text": [
      "[Epoch 68 / 200] [Train Loss 0.001170 (MSE)] [Valid Loss 0.007329 (MSE)] [Learning Rate: 3.90625e-07]\n"
     ]
    },
    {
     "name": "stdout",
     "output_type": "stream",
     "text": [
      "[Epoch 69 / 200] [Train Loss 0.001184 (MSE)] [Valid Loss 0.007083 (MSE)] [Learning Rate: 3.90625e-07]\n"
     ]
    },
    {
     "name": "stdout",
     "output_type": "stream",
     "text": [
      "[Epoch 70 / 200] [Train Loss 0.001208 (MSE)] [Valid Loss 0.007120 (MSE)] [Learning Rate: 3.90625e-07]\n"
     ]
    },
    {
     "name": "stdout",
     "output_type": "stream",
     "text": [
      "[Epoch 71 / 200] [Train Loss 0.001155 (MSE)] [Valid Loss 0.007241 (MSE)] [Learning Rate: 3.90625e-07]\n"
     ]
    },
    {
     "name": "stdout",
     "output_type": "stream",
     "text": [
      "[Epoch 72 / 200] [Train Loss 0.001186 (MSE)] [Valid Loss 0.007271 (MSE)] [Learning Rate: 3.90625e-07]\n"
     ]
    },
    {
     "name": "stdout",
     "output_type": "stream",
     "text": [
      "[Epoch 73 / 200] [Train Loss 0.001183 (MSE)] [Valid Loss 0.007079 (MSE)] [Learning Rate: 3.90625e-07]\n"
     ]
    },
    {
     "name": "stdout",
     "output_type": "stream",
     "text": [
      "[Epoch 74 / 200] [Train Loss 0.001153 (MSE)] [Valid Loss 0.007152 (MSE)] [Learning Rate: 1.953125e-07]\n"
     ]
    },
    {
     "name": "stdout",
     "output_type": "stream",
     "text": [
      "[Epoch 75 / 200] [Train Loss 0.001153 (MSE)] [Valid Loss 0.007120 (MSE)] [Learning Rate: 1.953125e-07]\n"
     ]
    },
    {
     "name": "stdout",
     "output_type": "stream",
     "text": [
      "[Epoch 76 / 200] [Train Loss 0.001172 (MSE)] [Valid Loss 0.007124 (MSE)] [Learning Rate: 1.953125e-07]\n"
     ]
    },
    {
     "name": "stdout",
     "output_type": "stream",
     "text": [
      "[Epoch 77 / 200] [Train Loss 0.001132 (MSE)] [Valid Loss 0.007193 (MSE)] [Learning Rate: 1.953125e-07]\n"
     ]
    },
    {
     "name": "stdout",
     "output_type": "stream",
     "text": [
      "[Epoch 78 / 200] [Train Loss 0.001182 (MSE)] [Valid Loss 0.007330 (MSE)] [Learning Rate: 1.953125e-07]\n"
     ]
    },
    {
     "name": "stdout",
     "output_type": "stream",
     "text": [
      "[Epoch 79 / 200] [Train Loss 0.001148 (MSE)] [Valid Loss 0.007016 (MSE)] [Learning Rate: 1.953125e-07]\n"
     ]
    },
    {
     "name": "stdout",
     "output_type": "stream",
     "text": [
      "[Epoch 80 / 200] [Train Loss 0.001167 (MSE)] [Valid Loss 0.007202 (MSE)] [Learning Rate: 9.765625e-08]\n"
     ]
    },
    {
     "name": "stdout",
     "output_type": "stream",
     "text": [
      "[Epoch 81 / 200] [Train Loss 0.001195 (MSE)] [Valid Loss 0.007194 (MSE)] [Learning Rate: 9.765625e-08]\n"
     ]
    },
    {
     "name": "stdout",
     "output_type": "stream",
     "text": [
      "[Epoch 82 / 200] [Train Loss 0.001178 (MSE)] [Valid Loss 0.007243 (MSE)] [Learning Rate: 9.765625e-08]\n"
     ]
    },
    {
     "name": "stdout",
     "output_type": "stream",
     "text": [
      "[Epoch 83 / 200] [Train Loss 0.001176 (MSE)] [Valid Loss 0.007133 (MSE)] [Learning Rate: 9.765625e-08]\n"
     ]
    },
    {
     "name": "stdout",
     "output_type": "stream",
     "text": [
      "[Epoch 84 / 200] [Train Loss 0.001163 (MSE)] [Valid Loss 0.007306 (MSE)] [Learning Rate: 9.765625e-08]\n"
     ]
    },
    {
     "name": "stdout",
     "output_type": "stream",
     "text": [
      "[Epoch 85 / 200] [Train Loss 0.001167 (MSE)] [Valid Loss 0.007203 (MSE)] [Learning Rate: 9.765625e-08]\n"
     ]
    },
    {
     "name": "stdout",
     "output_type": "stream",
     "text": [
      "[Epoch 86 / 200] [Train Loss 0.001162 (MSE)] [Valid Loss 0.007216 (MSE)] [Learning Rate: 4.8828125e-08]\n"
     ]
    },
    {
     "name": "stdout",
     "output_type": "stream",
     "text": [
      "[Epoch 87 / 200] [Train Loss 0.001221 (MSE)] [Valid Loss 0.007215 (MSE)] [Learning Rate: 4.8828125e-08]\n"
     ]
    },
    {
     "name": "stdout",
     "output_type": "stream",
     "text": [
      "[Epoch 88 / 200] [Train Loss 0.001139 (MSE)] [Valid Loss 0.007188 (MSE)] [Learning Rate: 4.8828125e-08]\n"
     ]
    },
    {
     "name": "stdout",
     "output_type": "stream",
     "text": [
      "[Epoch 89 / 200] [Train Loss 0.001179 (MSE)] [Valid Loss 0.007169 (MSE)] [Learning Rate: 4.8828125e-08]\n"
     ]
    },
    {
     "name": "stdout",
     "output_type": "stream",
     "text": [
      "[Epoch 90 / 200] [Train Loss 0.001211 (MSE)] [Valid Loss 0.007233 (MSE)] [Learning Rate: 4.8828125e-08]\n"
     ]
    },
    {
     "name": "stdout",
     "output_type": "stream",
     "text": [
      "[Epoch 91 / 200] [Train Loss 0.001224 (MSE)] [Valid Loss 0.007224 (MSE)] [Learning Rate: 4.8828125e-08]\n"
     ]
    },
    {
     "name": "stdout",
     "output_type": "stream",
     "text": [
      "[Epoch 92 / 200] [Train Loss 0.001177 (MSE)] [Valid Loss 0.007206 (MSE)] [Learning Rate: 2.44140625e-08]\n"
     ]
    },
    {
     "name": "stdout",
     "output_type": "stream",
     "text": [
      "[Epoch 93 / 200] [Train Loss 0.001159 (MSE)] [Valid Loss 0.007209 (MSE)] [Learning Rate: 2.44140625e-08]\n"
     ]
    },
    {
     "name": "stdout",
     "output_type": "stream",
     "text": [
      "[Epoch 94 / 200] [Train Loss 0.001169 (MSE)] [Valid Loss 0.007201 (MSE)] [Learning Rate: 2.44140625e-08]\n"
     ]
    },
    {
     "name": "stdout",
     "output_type": "stream",
     "text": [
      "[Epoch 95 / 200] [Train Loss 0.001140 (MSE)] [Valid Loss 0.007182 (MSE)] [Learning Rate: 2.44140625e-08]\n"
     ]
    },
    {
     "name": "stdout",
     "output_type": "stream",
     "text": [
      "[Epoch 96 / 200] [Train Loss 0.001169 (MSE)] [Valid Loss 0.007203 (MSE)] [Learning Rate: 2.44140625e-08]\n"
     ]
    },
    {
     "name": "stdout",
     "output_type": "stream",
     "text": [
      "[Epoch 97 / 200] [Train Loss 0.001141 (MSE)] [Valid Loss 0.007214 (MSE)] [Learning Rate: 2.44140625e-08]\n"
     ]
    },
    {
     "name": "stdout",
     "output_type": "stream",
     "text": [
      "[Epoch 98 / 200] [Train Loss 0.001171 (MSE)] [Valid Loss 0.007211 (MSE)] [Learning Rate: 1.220703125e-08]\n"
     ]
    },
    {
     "name": "stdout",
     "output_type": "stream",
     "text": [
      "[Epoch 99 / 200] [Train Loss 0.001213 (MSE)] [Valid Loss 0.007198 (MSE)] [Learning Rate: 1.220703125e-08]\n"
     ]
    },
    {
     "name": "stdout",
     "output_type": "stream",
     "text": [
      "[Epoch 100 / 200] [Train Loss 0.001168 (MSE)] [Valid Loss 0.007216 (MSE)] [Learning Rate: 1.220703125e-08]\n"
     ]
    },
    {
     "name": "stdout",
     "output_type": "stream",
     "text": [
      "[Epoch 101 / 200] [Train Loss 0.001181 (MSE)] [Valid Loss 0.007225 (MSE)] [Learning Rate: 1.220703125e-08]\n"
     ]
    },
    {
     "name": "stdout",
     "output_type": "stream",
     "text": [
      "[Epoch 102 / 200] [Train Loss 0.001151 (MSE)] [Valid Loss 0.007239 (MSE)] [Learning Rate: 1.220703125e-08]\n"
     ]
    },
    {
     "name": "stdout",
     "output_type": "stream",
     "text": [
      "[Epoch 103 / 200] [Train Loss 0.001156 (MSE)] [Valid Loss 0.007229 (MSE)] [Learning Rate: 1.220703125e-08]\n"
     ]
    },
    {
     "name": "stdout",
     "output_type": "stream",
     "text": [
      "[Epoch 104 / 200] [Train Loss 0.001169 (MSE)] [Valid Loss 0.007230 (MSE)] [Learning Rate: 1.220703125e-08]\n"
     ]
    },
    {
     "name": "stdout",
     "output_type": "stream",
     "text": [
      "[Epoch 105 / 200] [Train Loss 0.001156 (MSE)] [Valid Loss 0.007212 (MSE)] [Learning Rate: 1.220703125e-08]\n"
     ]
    },
    {
     "name": "stdout",
     "output_type": "stream",
     "text": [
      "[Epoch 106 / 200] [Train Loss 0.001212 (MSE)] [Valid Loss 0.007208 (MSE)] [Learning Rate: 1.220703125e-08]\n"
     ]
    },
    {
     "name": "stdout",
     "output_type": "stream",
     "text": [
      "[Epoch 107 / 200] [Train Loss 0.001139 (MSE)] [Valid Loss 0.007211 (MSE)] [Learning Rate: 1.220703125e-08]\n"
     ]
    },
    {
     "name": "stdout",
     "output_type": "stream",
     "text": [
      "[Epoch 108 / 200] [Train Loss 0.001143 (MSE)] [Valid Loss 0.007209 (MSE)] [Learning Rate: 1.220703125e-08]\n"
     ]
    },
    {
     "name": "stdout",
     "output_type": "stream",
     "text": [
      "[Epoch 109 / 200] [Train Loss 0.001177 (MSE)] [Valid Loss 0.007200 (MSE)] [Learning Rate: 1.220703125e-08]\n"
     ]
    },
    {
     "name": "stdout",
     "output_type": "stream",
     "text": [
      "[Epoch 110 / 200] [Train Loss 0.001199 (MSE)] [Valid Loss 0.007184 (MSE)] [Learning Rate: 1.220703125e-08]\n"
     ]
    },
    {
     "name": "stdout",
     "output_type": "stream",
     "text": [
      "[Epoch 111 / 200] [Train Loss 0.001182 (MSE)] [Valid Loss 0.007201 (MSE)] [Learning Rate: 1.220703125e-08]\n"
     ]
    },
    {
     "name": "stdout",
     "output_type": "stream",
     "text": [
      "[Epoch 112 / 200] [Train Loss 0.001137 (MSE)] [Valid Loss 0.007192 (MSE)] [Learning Rate: 1.220703125e-08]\n"
     ]
    },
    {
     "name": "stdout",
     "output_type": "stream",
     "text": [
      "[Epoch 113 / 200] [Train Loss 0.001171 (MSE)] [Valid Loss 0.007202 (MSE)] [Learning Rate: 1.220703125e-08]\n"
     ]
    },
    {
     "name": "stdout",
     "output_type": "stream",
     "text": [
      "[Epoch 114 / 200] [Train Loss 0.001203 (MSE)] [Valid Loss 0.007197 (MSE)] [Learning Rate: 1.220703125e-08]\n"
     ]
    },
    {
     "name": "stdout",
     "output_type": "stream",
     "text": [
      "[Epoch 115 / 200] [Train Loss 0.001157 (MSE)] [Valid Loss 0.007200 (MSE)] [Learning Rate: 1.220703125e-08]\n"
     ]
    },
    {
     "name": "stdout",
     "output_type": "stream",
     "text": [
      "[Epoch 116 / 200] [Train Loss 0.001180 (MSE)] [Valid Loss 0.007186 (MSE)] [Learning Rate: 1.220703125e-08]\n"
     ]
    },
    {
     "name": "stdout",
     "output_type": "stream",
     "text": [
      "[Epoch 117 / 200] [Train Loss 0.001154 (MSE)] [Valid Loss 0.007203 (MSE)] [Learning Rate: 1.220703125e-08]\n"
     ]
    },
    {
     "name": "stdout",
     "output_type": "stream",
     "text": [
      "[Epoch 118 / 200] [Train Loss 0.001155 (MSE)] [Valid Loss 0.007228 (MSE)] [Learning Rate: 1.220703125e-08]\n"
     ]
    },
    {
     "name": "stdout",
     "output_type": "stream",
     "text": [
      "[Epoch 119 / 200] [Train Loss 0.001140 (MSE)] [Valid Loss 0.007205 (MSE)] [Learning Rate: 1.220703125e-08]\n"
     ]
    },
    {
     "name": "stdout",
     "output_type": "stream",
     "text": [
      "[Epoch 120 / 200] [Train Loss 0.001145 (MSE)] [Valid Loss 0.007205 (MSE)] [Learning Rate: 1.220703125e-08]\n"
     ]
    },
    {
     "name": "stdout",
     "output_type": "stream",
     "text": [
      "[Epoch 121 / 200] [Train Loss 0.001130 (MSE)] [Valid Loss 0.007193 (MSE)] [Learning Rate: 1.220703125e-08]\n"
     ]
    },
    {
     "name": "stdout",
     "output_type": "stream",
     "text": [
      "[Epoch 122 / 200] [Train Loss 0.001151 (MSE)] [Valid Loss 0.007195 (MSE)] [Learning Rate: 1.220703125e-08]\n"
     ]
    },
    {
     "name": "stdout",
     "output_type": "stream",
     "text": [
      "[Epoch 123 / 200] [Train Loss 0.001157 (MSE)] [Valid Loss 0.007204 (MSE)] [Learning Rate: 1.220703125e-08]\n"
     ]
    },
    {
     "name": "stdout",
     "output_type": "stream",
     "text": [
      "[Epoch 124 / 200] [Train Loss 0.001188 (MSE)] [Valid Loss 0.007197 (MSE)] [Learning Rate: 1.220703125e-08]\n"
     ]
    },
    {
     "name": "stdout",
     "output_type": "stream",
     "text": [
      "[Epoch 125 / 200] [Train Loss 0.001188 (MSE)] [Valid Loss 0.007194 (MSE)] [Learning Rate: 1.220703125e-08]\n"
     ]
    },
    {
     "name": "stdout",
     "output_type": "stream",
     "text": [
      "[Epoch 126 / 200] [Train Loss 0.001181 (MSE)] [Valid Loss 0.007198 (MSE)] [Learning Rate: 1.220703125e-08]\n"
     ]
    },
    {
     "name": "stdout",
     "output_type": "stream",
     "text": [
      "[Epoch 127 / 200] [Train Loss 0.001135 (MSE)] [Valid Loss 0.007198 (MSE)] [Learning Rate: 1.220703125e-08]\n"
     ]
    },
    {
     "name": "stdout",
     "output_type": "stream",
     "text": [
      "[Epoch 128 / 200] [Train Loss 0.001161 (MSE)] [Valid Loss 0.007225 (MSE)] [Learning Rate: 1.220703125e-08]\n"
     ]
    },
    {
     "name": "stdout",
     "output_type": "stream",
     "text": [
      "[Epoch 129 / 200] [Train Loss 0.001141 (MSE)] [Valid Loss 0.007210 (MSE)] [Learning Rate: 1.220703125e-08]\n"
     ]
    },
    {
     "name": "stdout",
     "output_type": "stream",
     "text": [
      "[Epoch 130 / 200] [Train Loss 0.001149 (MSE)] [Valid Loss 0.007218 (MSE)] [Learning Rate: 1.220703125e-08]\n"
     ]
    },
    {
     "name": "stdout",
     "output_type": "stream",
     "text": [
      "[Epoch 131 / 200] [Train Loss 0.001154 (MSE)] [Valid Loss 0.007205 (MSE)] [Learning Rate: 1.220703125e-08]\n"
     ]
    },
    {
     "name": "stdout",
     "output_type": "stream",
     "text": [
      "[Epoch 132 / 200] [Train Loss 0.001194 (MSE)] [Valid Loss 0.007223 (MSE)] [Learning Rate: 1.220703125e-08]\n"
     ]
    },
    {
     "name": "stdout",
     "output_type": "stream",
     "text": [
      "[Epoch 133 / 200] [Train Loss 0.001202 (MSE)] [Valid Loss 0.007216 (MSE)] [Learning Rate: 1.220703125e-08]\n"
     ]
    },
    {
     "name": "stdout",
     "output_type": "stream",
     "text": [
      "[Epoch 134 / 200] [Train Loss 0.001191 (MSE)] [Valid Loss 0.007206 (MSE)] [Learning Rate: 1.220703125e-08]\n"
     ]
    },
    {
     "name": "stdout",
     "output_type": "stream",
     "text": [
      "[Epoch 135 / 200] [Train Loss 0.001202 (MSE)] [Valid Loss 0.007185 (MSE)] [Learning Rate: 1.220703125e-08]\n"
     ]
    },
    {
     "name": "stdout",
     "output_type": "stream",
     "text": [
      "[Epoch 136 / 200] [Train Loss 0.001147 (MSE)] [Valid Loss 0.007196 (MSE)] [Learning Rate: 1.220703125e-08]\n"
     ]
    },
    {
     "name": "stdout",
     "output_type": "stream",
     "text": [
      "[Epoch 137 / 200] [Train Loss 0.001175 (MSE)] [Valid Loss 0.007192 (MSE)] [Learning Rate: 1.220703125e-08]\n"
     ]
    },
    {
     "name": "stdout",
     "output_type": "stream",
     "text": [
      "[Epoch 138 / 200] [Train Loss 0.001166 (MSE)] [Valid Loss 0.007197 (MSE)] [Learning Rate: 1.220703125e-08]\n"
     ]
    },
    {
     "name": "stdout",
     "output_type": "stream",
     "text": [
      "[Epoch 139 / 200] [Train Loss 0.001171 (MSE)] [Valid Loss 0.007201 (MSE)] [Learning Rate: 1.220703125e-08]\n"
     ]
    },
    {
     "name": "stdout",
     "output_type": "stream",
     "text": [
      "[Epoch 140 / 200] [Train Loss 0.001168 (MSE)] [Valid Loss 0.007196 (MSE)] [Learning Rate: 1.220703125e-08]\n"
     ]
    },
    {
     "name": "stdout",
     "output_type": "stream",
     "text": [
      "[Epoch 141 / 200] [Train Loss 0.001173 (MSE)] [Valid Loss 0.007209 (MSE)] [Learning Rate: 1.220703125e-08]\n"
     ]
    },
    {
     "name": "stdout",
     "output_type": "stream",
     "text": [
      "[Epoch 142 / 200] [Train Loss 0.001180 (MSE)] [Valid Loss 0.007222 (MSE)] [Learning Rate: 1.220703125e-08]\n"
     ]
    },
    {
     "name": "stdout",
     "output_type": "stream",
     "text": [
      "[Epoch 143 / 200] [Train Loss 0.001170 (MSE)] [Valid Loss 0.007221 (MSE)] [Learning Rate: 1.220703125e-08]\n"
     ]
    },
    {
     "name": "stdout",
     "output_type": "stream",
     "text": [
      "[Epoch 144 / 200] [Train Loss 0.001151 (MSE)] [Valid Loss 0.007223 (MSE)] [Learning Rate: 1.220703125e-08]\n"
     ]
    },
    {
     "name": "stdout",
     "output_type": "stream",
     "text": [
      "[Epoch 145 / 200] [Train Loss 0.001185 (MSE)] [Valid Loss 0.007202 (MSE)] [Learning Rate: 1.220703125e-08]\n"
     ]
    },
    {
     "name": "stdout",
     "output_type": "stream",
     "text": [
      "[Epoch 146 / 200] [Train Loss 0.001159 (MSE)] [Valid Loss 0.007195 (MSE)] [Learning Rate: 1.220703125e-08]\n"
     ]
    },
    {
     "name": "stdout",
     "output_type": "stream",
     "text": [
      "[Epoch 147 / 200] [Train Loss 0.001124 (MSE)] [Valid Loss 0.007189 (MSE)] [Learning Rate: 1.220703125e-08]\n"
     ]
    },
    {
     "name": "stdout",
     "output_type": "stream",
     "text": [
      "[Epoch 148 / 200] [Train Loss 0.001167 (MSE)] [Valid Loss 0.007209 (MSE)] [Learning Rate: 1.220703125e-08]\n"
     ]
    },
    {
     "name": "stdout",
     "output_type": "stream",
     "text": [
      "[Epoch 149 / 200] [Train Loss 0.001208 (MSE)] [Valid Loss 0.007207 (MSE)] [Learning Rate: 1.220703125e-08]\n"
     ]
    },
    {
     "name": "stdout",
     "output_type": "stream",
     "text": [
      "[Epoch 150 / 200] [Train Loss 0.001170 (MSE)] [Valid Loss 0.007209 (MSE)] [Learning Rate: 1.220703125e-08]\n"
     ]
    },
    {
     "name": "stdout",
     "output_type": "stream",
     "text": [
      "[Epoch 151 / 200] [Train Loss 0.001177 (MSE)] [Valid Loss 0.007210 (MSE)] [Learning Rate: 1.220703125e-08]\n"
     ]
    },
    {
     "name": "stdout",
     "output_type": "stream",
     "text": [
      "[Epoch 152 / 200] [Train Loss 0.001193 (MSE)] [Valid Loss 0.007202 (MSE)] [Learning Rate: 1.220703125e-08]\n"
     ]
    },
    {
     "name": "stdout",
     "output_type": "stream",
     "text": [
      "[Epoch 153 / 200] [Train Loss 0.001175 (MSE)] [Valid Loss 0.007217 (MSE)] [Learning Rate: 1.220703125e-08]\n"
     ]
    },
    {
     "name": "stdout",
     "output_type": "stream",
     "text": [
      "[Epoch 154 / 200] [Train Loss 0.001183 (MSE)] [Valid Loss 0.007203 (MSE)] [Learning Rate: 1.220703125e-08]\n"
     ]
    },
    {
     "name": "stdout",
     "output_type": "stream",
     "text": [
      "[Epoch 155 / 200] [Train Loss 0.001132 (MSE)] [Valid Loss 0.007202 (MSE)] [Learning Rate: 1.220703125e-08]\n"
     ]
    },
    {
     "name": "stdout",
     "output_type": "stream",
     "text": [
      "[Epoch 156 / 200] [Train Loss 0.001164 (MSE)] [Valid Loss 0.007191 (MSE)] [Learning Rate: 1.220703125e-08]\n"
     ]
    },
    {
     "name": "stdout",
     "output_type": "stream",
     "text": [
      "[Epoch 157 / 200] [Train Loss 0.001122 (MSE)] [Valid Loss 0.007217 (MSE)] [Learning Rate: 1.220703125e-08]\n"
     ]
    },
    {
     "name": "stdout",
     "output_type": "stream",
     "text": [
      "[Epoch 158 / 200] [Train Loss 0.001176 (MSE)] [Valid Loss 0.007219 (MSE)] [Learning Rate: 1.220703125e-08]\n"
     ]
    },
    {
     "name": "stdout",
     "output_type": "stream",
     "text": [
      "[Epoch 159 / 200] [Train Loss 0.001190 (MSE)] [Valid Loss 0.007201 (MSE)] [Learning Rate: 1.220703125e-08]\n"
     ]
    },
    {
     "name": "stdout",
     "output_type": "stream",
     "text": [
      "[Epoch 160 / 200] [Train Loss 0.001190 (MSE)] [Valid Loss 0.007200 (MSE)] [Learning Rate: 1.220703125e-08]\n"
     ]
    },
    {
     "name": "stdout",
     "output_type": "stream",
     "text": [
      "[Epoch 161 / 200] [Train Loss 0.001192 (MSE)] [Valid Loss 0.007187 (MSE)] [Learning Rate: 1.220703125e-08]\n"
     ]
    },
    {
     "name": "stdout",
     "output_type": "stream",
     "text": [
      "[Epoch 162 / 200] [Train Loss 0.001173 (MSE)] [Valid Loss 0.007203 (MSE)] [Learning Rate: 1.220703125e-08]\n"
     ]
    },
    {
     "name": "stdout",
     "output_type": "stream",
     "text": [
      "[Epoch 163 / 200] [Train Loss 0.001162 (MSE)] [Valid Loss 0.007219 (MSE)] [Learning Rate: 1.220703125e-08]\n"
     ]
    },
    {
     "name": "stdout",
     "output_type": "stream",
     "text": [
      "[Epoch 164 / 200] [Train Loss 0.001171 (MSE)] [Valid Loss 0.007234 (MSE)] [Learning Rate: 1.220703125e-08]\n"
     ]
    },
    {
     "name": "stdout",
     "output_type": "stream",
     "text": [
      "[Epoch 165 / 200] [Train Loss 0.001160 (MSE)] [Valid Loss 0.007261 (MSE)] [Learning Rate: 1.220703125e-08]\n"
     ]
    },
    {
     "name": "stdout",
     "output_type": "stream",
     "text": [
      "[Epoch 166 / 200] [Train Loss 0.001148 (MSE)] [Valid Loss 0.007270 (MSE)] [Learning Rate: 1.220703125e-08]\n"
     ]
    },
    {
     "name": "stdout",
     "output_type": "stream",
     "text": [
      "[Epoch 167 / 200] [Train Loss 0.001175 (MSE)] [Valid Loss 0.007282 (MSE)] [Learning Rate: 1.220703125e-08]\n"
     ]
    },
    {
     "name": "stdout",
     "output_type": "stream",
     "text": [
      "[Epoch 168 / 200] [Train Loss 0.001205 (MSE)] [Valid Loss 0.007261 (MSE)] [Learning Rate: 1.220703125e-08]\n"
     ]
    },
    {
     "name": "stdout",
     "output_type": "stream",
     "text": [
      "[Epoch 169 / 200] [Train Loss 0.001182 (MSE)] [Valid Loss 0.007242 (MSE)] [Learning Rate: 1.220703125e-08]\n"
     ]
    },
    {
     "name": "stdout",
     "output_type": "stream",
     "text": [
      "[Epoch 170 / 200] [Train Loss 0.001176 (MSE)] [Valid Loss 0.007243 (MSE)] [Learning Rate: 1.220703125e-08]\n"
     ]
    },
    {
     "name": "stdout",
     "output_type": "stream",
     "text": [
      "[Epoch 171 / 200] [Train Loss 0.001172 (MSE)] [Valid Loss 0.007231 (MSE)] [Learning Rate: 1.220703125e-08]\n"
     ]
    },
    {
     "name": "stdout",
     "output_type": "stream",
     "text": [
      "[Epoch 172 / 200] [Train Loss 0.001138 (MSE)] [Valid Loss 0.007205 (MSE)] [Learning Rate: 1.220703125e-08]\n"
     ]
    },
    {
     "name": "stdout",
     "output_type": "stream",
     "text": [
      "[Epoch 173 / 200] [Train Loss 0.001223 (MSE)] [Valid Loss 0.007180 (MSE)] [Learning Rate: 1.220703125e-08]\n"
     ]
    },
    {
     "name": "stdout",
     "output_type": "stream",
     "text": [
      "[Epoch 174 / 200] [Train Loss 0.001135 (MSE)] [Valid Loss 0.007180 (MSE)] [Learning Rate: 1.220703125e-08]\n"
     ]
    },
    {
     "name": "stdout",
     "output_type": "stream",
     "text": [
      "[Epoch 175 / 200] [Train Loss 0.001216 (MSE)] [Valid Loss 0.007188 (MSE)] [Learning Rate: 1.220703125e-08]\n"
     ]
    },
    {
     "name": "stdout",
     "output_type": "stream",
     "text": [
      "[Epoch 176 / 200] [Train Loss 0.001125 (MSE)] [Valid Loss 0.007173 (MSE)] [Learning Rate: 1.220703125e-08]\n"
     ]
    },
    {
     "name": "stdout",
     "output_type": "stream",
     "text": [
      "[Epoch 177 / 200] [Train Loss 0.001142 (MSE)] [Valid Loss 0.007195 (MSE)] [Learning Rate: 1.220703125e-08]\n"
     ]
    },
    {
     "name": "stdout",
     "output_type": "stream",
     "text": [
      "[Epoch 178 / 200] [Train Loss 0.001165 (MSE)] [Valid Loss 0.007203 (MSE)] [Learning Rate: 1.220703125e-08]\n"
     ]
    },
    {
     "name": "stdout",
     "output_type": "stream",
     "text": [
      "[Epoch 179 / 200] [Train Loss 0.001184 (MSE)] [Valid Loss 0.007181 (MSE)] [Learning Rate: 1.220703125e-08]\n"
     ]
    },
    {
     "name": "stdout",
     "output_type": "stream",
     "text": [
      "[Epoch 180 / 200] [Train Loss 0.001207 (MSE)] [Valid Loss 0.007187 (MSE)] [Learning Rate: 1.220703125e-08]\n"
     ]
    },
    {
     "name": "stdout",
     "output_type": "stream",
     "text": [
      "[Epoch 181 / 200] [Train Loss 0.001167 (MSE)] [Valid Loss 0.007190 (MSE)] [Learning Rate: 1.220703125e-08]\n"
     ]
    },
    {
     "name": "stdout",
     "output_type": "stream",
     "text": [
      "[Epoch 182 / 200] [Train Loss 0.001147 (MSE)] [Valid Loss 0.007176 (MSE)] [Learning Rate: 1.220703125e-08]\n"
     ]
    },
    {
     "name": "stdout",
     "output_type": "stream",
     "text": [
      "[Epoch 183 / 200] [Train Loss 0.001173 (MSE)] [Valid Loss 0.007159 (MSE)] [Learning Rate: 1.220703125e-08]\n"
     ]
    },
    {
     "name": "stdout",
     "output_type": "stream",
     "text": [
      "[Epoch 184 / 200] [Train Loss 0.001147 (MSE)] [Valid Loss 0.007163 (MSE)] [Learning Rate: 1.220703125e-08]\n"
     ]
    },
    {
     "name": "stdout",
     "output_type": "stream",
     "text": [
      "[Epoch 185 / 200] [Train Loss 0.001165 (MSE)] [Valid Loss 0.007159 (MSE)] [Learning Rate: 1.220703125e-08]\n"
     ]
    },
    {
     "name": "stdout",
     "output_type": "stream",
     "text": [
      "[Epoch 186 / 200] [Train Loss 0.001147 (MSE)] [Valid Loss 0.007155 (MSE)] [Learning Rate: 1.220703125e-08]\n"
     ]
    },
    {
     "name": "stdout",
     "output_type": "stream",
     "text": [
      "[Epoch 187 / 200] [Train Loss 0.001182 (MSE)] [Valid Loss 0.007163 (MSE)] [Learning Rate: 1.220703125e-08]\n"
     ]
    },
    {
     "name": "stdout",
     "output_type": "stream",
     "text": [
      "[Epoch 188 / 200] [Train Loss 0.001192 (MSE)] [Valid Loss 0.007195 (MSE)] [Learning Rate: 1.220703125e-08]\n"
     ]
    },
    {
     "name": "stdout",
     "output_type": "stream",
     "text": [
      "[Epoch 189 / 200] [Train Loss 0.001167 (MSE)] [Valid Loss 0.007212 (MSE)] [Learning Rate: 1.220703125e-08]\n"
     ]
    },
    {
     "name": "stdout",
     "output_type": "stream",
     "text": [
      "[Epoch 190 / 200] [Train Loss 0.001210 (MSE)] [Valid Loss 0.007215 (MSE)] [Learning Rate: 1.220703125e-08]\n"
     ]
    },
    {
     "name": "stdout",
     "output_type": "stream",
     "text": [
      "[Epoch 191 / 200] [Train Loss 0.001180 (MSE)] [Valid Loss 0.007217 (MSE)] [Learning Rate: 1.220703125e-08]\n"
     ]
    },
    {
     "name": "stdout",
     "output_type": "stream",
     "text": [
      "[Epoch 192 / 200] [Train Loss 0.001164 (MSE)] [Valid Loss 0.007238 (MSE)] [Learning Rate: 1.220703125e-08]\n"
     ]
    },
    {
     "name": "stdout",
     "output_type": "stream",
     "text": [
      "[Epoch 193 / 200] [Train Loss 0.001162 (MSE)] [Valid Loss 0.007239 (MSE)] [Learning Rate: 1.220703125e-08]\n"
     ]
    },
    {
     "name": "stdout",
     "output_type": "stream",
     "text": [
      "[Epoch 194 / 200] [Train Loss 0.001197 (MSE)] [Valid Loss 0.007226 (MSE)] [Learning Rate: 1.220703125e-08]\n"
     ]
    },
    {
     "name": "stdout",
     "output_type": "stream",
     "text": [
      "[Epoch 195 / 200] [Train Loss 0.001129 (MSE)] [Valid Loss 0.007224 (MSE)] [Learning Rate: 1.220703125e-08]\n"
     ]
    },
    {
     "name": "stdout",
     "output_type": "stream",
     "text": [
      "[Epoch 196 / 200] [Train Loss 0.001132 (MSE)] [Valid Loss 0.007211 (MSE)] [Learning Rate: 1.220703125e-08]\n"
     ]
    },
    {
     "name": "stdout",
     "output_type": "stream",
     "text": [
      "[Epoch 197 / 200] [Train Loss 0.001160 (MSE)] [Valid Loss 0.007203 (MSE)] [Learning Rate: 1.220703125e-08]\n"
     ]
    },
    {
     "name": "stdout",
     "output_type": "stream",
     "text": [
      "[Epoch 198 / 200] [Train Loss 0.001162 (MSE)] [Valid Loss 0.007180 (MSE)] [Learning Rate: 1.220703125e-08]\n"
     ]
    },
    {
     "name": "stdout",
     "output_type": "stream",
     "text": [
      "[Epoch 199 / 200] [Train Loss 0.001166 (MSE)] [Valid Loss 0.007167 (MSE)] [Learning Rate: 1.220703125e-08]\n"
     ]
    },
    {
     "name": "stdout",
     "output_type": "stream",
     "text": [
      "[Epoch 200 / 200] [Train Loss 0.001212 (MSE)] [Valid Loss 0.007185 (MSE)] [Learning Rate: 1.220703125e-08]\n"
     ]
    }
   ],
   "source": [
    "# Criterion and optimizer\n",
    "criterion = nn.MSELoss()\n",
    "optimizer = optim.Adam(\n",
    "    vgg16.classifier.parameters(), lr=LR, weight_decay=LR_WEIGHT_DECAY\n",
    ")\n",
    "scheduler = torch.optim.lr_scheduler.ReduceLROnPlateau(\n",
    "    optimizer, mode=\"min\", factor=0.5, patience=5\n",
    ")\n",
    "\n",
    "# Record the loss values\n",
    "train_loss_list = []\n",
    "val_loss_list = []\n",
    "\n",
    "# Loop by epoch\n",
    "for epoch in range(NUM_EPOCHS):\n",
    "\n",
    "    # Train\n",
    "    vgg16.train()\n",
    "    train_loss = 0.0\n",
    "    train_size = 0\n",
    "    for batch_images, batch_labels in train_loader:\n",
    "        # Load data\n",
    "        batch_images = batch_images.to(device)\n",
    "        batch_labels = batch_labels.to(device)\n",
    "        # Pass loss value\n",
    "        outputs = vgg16(batch_images)\n",
    "        loss = criterion(outputs, batch_labels)\n",
    "        # Back propagation\n",
    "        optimizer.zero_grad()\n",
    "        loss.backward()\n",
    "        optimizer.step()\n",
    "        # Add to the total loss\n",
    "        batch_size = batch_images.size(0)\n",
    "        train_loss += loss.item() * batch_size\n",
    "        train_size += batch_size\n",
    "\n",
    "    train_loss = train_loss / train_size\n",
    "    train_loss_list.append(train_loss)\n",
    "\n",
    "    # Validate\n",
    "    vgg16.eval()\n",
    "    val_loss = 0\n",
    "    val_samples = 0\n",
    "    with torch.no_grad():\n",
    "        for batch_images, batch_labels in val_loader:\n",
    "            # Load data\n",
    "            batch_images = batch_images.to(device)\n",
    "            batch_labels = batch_labels.to(device)\n",
    "            # Output\n",
    "            outputs = vgg16(batch_images)\n",
    "            # Calculate loss\n",
    "            loss = criterion(outputs, batch_labels)\n",
    "            # Add to total loss\n",
    "            batch_size = batch_images.size(0)\n",
    "            val_loss += loss.item() * batch_size\n",
    "            val_samples += batch_size\n",
    "    val_loss /= val_samples\n",
    "    val_loss_list.append(val_loss)\n",
    "\n",
    "    # Print\n",
    "    print(\n",
    "        f\"[Epoch {(epoch+1):d} / {(NUM_EPOCHS):d}] [Train Loss {train_loss:f} (MSE)] [Valid Loss {val_loss:f} (MSE)] [Learning Rate: {optimizer.param_groups[0]['lr']}]\"\n",
    "    )\n",
    "\n",
    "    # Scheduler\n",
    "    scheduler.step(val_loss)"
   ]
  },
  {
   "cell_type": "markdown",
   "id": "7cf24633",
   "metadata": {},
   "source": [
    "Then we plot the graphs of `train_loss_list` and `val_loss_lost`."
   ]
  },
  {
   "cell_type": "code",
   "execution_count": 8,
   "id": "f06a4e35",
   "metadata": {
    "execution": {
     "iopub.execute_input": "2025-06-06T14:47:58.803776Z",
     "iopub.status.busy": "2025-06-06T14:47:58.803366Z",
     "iopub.status.idle": "2025-06-06T14:47:58.935297Z",
     "shell.execute_reply": "2025-06-06T14:47:58.934839Z"
    }
   },
   "outputs": [
    {
     "data": {
      "image/png": "[encoded data removed]",
      "text/plain": [
       "<Figure size 640x480 with 1 Axes>"
      ]
     },
     "metadata": {},
     "output_type": "display_data"
    }
   ],
   "source": [
    "x = list(range(NUM_EPOCHS))\n",
    "plt.plot(x, train_loss_list, label=\"Train Loss\", marker=\".\")\n",
    "plt.plot(x, val_loss_list, label=\"Val Loss\", marker=\".\")\n",
    "plt.xlabel(\"Epoch\")\n",
    "plt.ylabel(\"Loss\")\n",
    "plt.title(\"Training and Validation Loss\")\n",
    "plt.legend()\n",
    "plt.show()"
   ]
  },
  {
   "cell_type": "markdown",
   "id": "bedc2858",
   "metadata": {},
   "source": [
    "## Step 4 - Save / load the model\n",
    "\n",
    "After training, we need to save the models."
   ]
  },
  {
   "cell_type": "code",
   "execution_count": 9,
   "id": "75c4022d",
   "metadata": {
    "execution": {
     "iopub.execute_input": "2025-06-06T14:47:58.937183Z",
     "iopub.status.busy": "2025-06-06T14:47:58.937006Z",
     "iopub.status.idle": "2025-06-06T14:47:59.863989Z",
     "shell.execute_reply": "2025-06-06T14:47:59.863510Z"
    }
   },
   "outputs": [
    {
     "name": "stdout",
     "output_type": "stream",
     "text": [
      "Model saved to /home/ubuntu/Desktop/Ra/models/VGG_128_regression_decimal_1.pth\n"
     ]
    }
   ],
   "source": [
    "# Save the trained model to disk\n",
    "torch.save(vgg16.state_dict(), MODEL_PATH)\n",
    "print(f\"Model saved to {MODEL_PATH}\")"
   ]
  },
  {
   "cell_type": "markdown",
   "id": "814f9e3d",
   "metadata": {},
   "source": [
    "To read the saved data, we can run the following codes:"
   ]
  },
  {
   "cell_type": "code",
   "execution_count": 10,
   "id": "1b045a1c",
   "metadata": {
    "execution": {
     "iopub.execute_input": "2025-06-06T14:47:59.865996Z",
     "iopub.status.busy": "2025-06-06T14:47:59.865692Z",
     "iopub.status.idle": "2025-06-06T14:47:59.868114Z",
     "shell.execute_reply": "2025-06-06T14:47:59.867687Z"
    }
   },
   "outputs": [],
   "source": [
    "# # Load the trained model weights\n",
    "# vgg16.load_state_dict(torch.load(MODEL_PATH, map_location=device))\n",
    "# vgg16.eval()\n",
    "# print(\"Model loaded from\", MODEL_PATH)"
   ]
  },
  {
   "cell_type": "markdown",
   "id": "f3159f06",
   "metadata": {},
   "source": [
    "## Exceptional test\n",
    "\n",
    "Let's see if the model works well."
   ]
  },
  {
   "cell_type": "code",
   "execution_count": 11,
   "id": "5178524e",
   "metadata": {
    "execution": {
     "iopub.execute_input": "2025-06-06T14:47:59.869976Z",
     "iopub.status.busy": "2025-06-06T14:47:59.869699Z",
     "iopub.status.idle": "2025-06-06T14:48:01.970349Z",
     "shell.execute_reply": "2025-06-06T14:48:01.969890Z"
    }
   },
   "outputs": [
    {
     "name": "stdout",
     "output_type": "stream",
     "text": [
      "Model loaded from /home/ubuntu/Desktop/Ra/models/VGG_128_regression_decimal_1.pth\n"
     ]
    },
    {
     "name": "stdout",
     "output_type": "stream",
     "text": [
      "      Real Labels  Predicted Labels      Diff      MAPE\n",
      "0             2.4          2.172997 -0.227003  0.905416\n",
      "1             2.7          2.336999 -0.363001  0.865555\n",
      "2             4.1          3.500892 -0.599108  0.853876\n",
      "3             3.7          3.239745 -0.460255  0.875607\n",
      "4             4.1          3.642683 -0.457317  0.888459\n",
      "...           ...               ...       ...       ...\n",
      "1832          3.9          3.287492 -0.612508  0.842947\n",
      "1833          1.6          1.520280 -0.079720  0.950175\n",
      "1834          2.8          2.559901 -0.240099  0.914251\n",
      "1835          2.6          2.445201 -0.154799  0.940462\n",
      "1836          4.7          4.327193 -0.372807  0.920679\n",
      "\n",
      "[1837 rows x 4 columns]\n",
      "MAPE: 0.9124708935149086\n"
     ]
    },
    {
     "data": {
      "image/png": "[encoded data removed]",
      "text/plain": [
       "<Figure size 640x480 with 1 Axes>"
      ]
     },
     "metadata": {},
     "output_type": "display_data"
    },
    {
     "data": {
      "image/png": "[encoded data removed]",
      "text/plain": [
       "<Figure size 640x480 with 1 Axes>"
      ]
     },
     "metadata": {},
     "output_type": "display_data"
    }
   ],
   "source": [
    "# Load the trained model weights\n",
    "vgg16.load_state_dict(torch.load(MODEL_PATH, map_location=device))\n",
    "vgg16.eval()\n",
    "print(\"Model loaded from\", MODEL_PATH)\n",
    "\n",
    "# Turn to `numpy.array`\n",
    "labels_val_real = labels_val.numpy()\n",
    "labels_val_predicted = vgg16(images_val_tensor.to(device)).cpu().detach().numpy()\n",
    "\n",
    "# Unnormalize labels\n",
    "labels_val_real = labels_val_real * (MAX_LABEL - MIN_LABEL) + MIN_LABEL\n",
    "labels_val_predicted = labels_val_predicted * (MAX_LABEL - MIN_LABEL) + MIN_LABEL\n",
    "\n",
    "# Turn to `pandas.Series`\n",
    "labels_val_real = pd.Series(labels_val_real)\n",
    "labels_val_predicted = pd.Series(labels_val_predicted.flatten())\n",
    "labels_val_diff = labels_val_predicted - labels_val_real\n",
    "\n",
    "# Make `pandas.DataFrame`\n",
    "df = pd.DataFrame(\n",
    "    {\n",
    "        \"Real Labels\": labels_val_real,\n",
    "        \"Predicted Labels\": labels_val_predicted,\n",
    "        \"Diff\": labels_val_diff,\n",
    "        \"MAPE\": 1 - np.abs(labels_val_diff) / labels_val_real\n",
    "    }\n",
    ")\n",
    "df.to_csv(OUTPUT_PATH, index = False)\n",
    "print(df)\n",
    "print(f\"MAPE: {df[\"MAPE\"].mean()}\")\n",
    "\n",
    "# Boxplot of the differences\n",
    "plt.boxplot(labels_val_diff)\n",
    "plt.ylabel(\"Prediction Error (Predicted - Real)\")\n",
    "plt.title(\"Boxplot of Prediction Errors\")\n",
    "plt.show()\n",
    "\n",
    "# Plot the differences by the real labels.\n",
    "plt.scatter(labels_val_real, labels_val_diff, s=10)\n",
    "plt.xlabel(\"Real Labels\")\n",
    "plt.ylabel(\"Prediction Error (Predicted - Real)\")\n",
    "plt.title(\"Prediction Error vs Real Labels\")\n",
    "plt.axhline(0, color=\"red\", linestyle=\"--\", linewidth=1)\n",
    "plt.show()"
   ]
  }
 ],
 "metadata": {
  "kernelspec": {
   "display_name": "pytorch",
   "language": "python",
   "name": "python3"
  },
  "language_info": {
   "codemirror_mode": {
    "name": "ipython",
    "version": 3
   },
   "file_extension": ".py",
   "mimetype": "text/x-python",
   "name": "python",
   "nbconvert_exporter": "python",
   "pygments_lexer": "ipython3",
   "version": "3.12.10"
  }
 },
 "nbformat": 4,
 "nbformat_minor": 5
}
