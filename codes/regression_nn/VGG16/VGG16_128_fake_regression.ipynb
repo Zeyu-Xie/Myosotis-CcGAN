{
 "cells": [
  {
   "cell_type": "markdown",
   "id": "05bee791",
   "metadata": {},
   "source": [
    "# VGG\n",
    "\n",
    "This notebook uses model \"VGG16\" to conduct regression of images."
   ]
  },
  {
   "cell_type": "code",
   "execution_count": 40,
   "id": "9c623ed7",
   "metadata": {
    "execution": {
     "iopub.execute_input": "2025-05-29T22:40:54.406756Z",
     "iopub.status.busy": "2025-05-29T22:40:54.406399Z",
     "iopub.status.idle": "2025-05-29T22:40:57.684867Z",
     "shell.execute_reply": "2025-05-29T22:40:57.684352Z"
    }
   },
   "outputs": [],
   "source": [
    "import h5py\n",
    "from matplotlib import pyplot as plt\n",
    "import numpy as np\n",
    "import os\n",
    "import pandas as pd\n",
    "from sklearn.model_selection import train_test_split\n",
    "import torch\n",
    "import torch.nn as nn\n",
    "import torch.optim as optim\n",
    "from torch.utils.data import TensorDataset, DataLoader\n",
    "from torchvision import models"
   ]
  },
  {
   "cell_type": "markdown",
   "id": "28904883",
   "metadata": {},
   "source": [
    "## Step 1 - Config\n",
    "\n",
    "First set the hyperparameters and other configurations."
   ]
  },
  {
   "cell_type": "code",
   "execution_count": null,
   "id": "33cb27b0",
   "metadata": {
    "execution": {
     "iopub.execute_input": "2025-05-29T22:40:57.687467Z",
     "iopub.status.busy": "2025-05-29T22:40:57.687174Z",
     "iopub.status.idle": "2025-05-29T22:40:57.822458Z",
     "shell.execute_reply": "2025-05-29T22:40:57.822002Z"
    }
   },
   "outputs": [
    {
     "name": "stdout",
     "output_type": "stream",
     "text": [
      "Device: cuda\n"
     ]
    }
   ],
   "source": [
    "# Dataset and model path\n",
    "DATASET_PATH = \"/home/ubuntu/Desktop/Ra/datasets/Ra_128_indexed_binned.h5\"\n",
    "DATASET_FAKE_PATH = \"/home/ubuntu/Desktop/Ra/datasets/Ra_128_fake_indexed_binned.h5\"\n",
    "MODEL_PATH = \"/home/ubuntu/Desktop/Ra/models/VGG16_128_fake_regression.pth\"\n",
    "OUTPUT_PATH = \"/home/ubuntu/Desktop/Ra/outputs/VGG16_128_fake_regression.csv\"\n",
    "# Env\n",
    "SEED = 42\n",
    "# Dataset\n",
    "MIN_LABEL = 1.3\n",
    "MAX_LABEL = 5.2\n",
    "# Hyperparameters\n",
    "NUM_EPOCHS = 200\n",
    "LR = 1e-3\n",
    "LR_WEIGHT_DECAY = 1e-4\n",
    "TEST_SIZE = 0.2\n",
    "BATCH_SIZE_TRAIN = 64\n",
    "BATCH_SIZE_VAL = 10\n",
    "\n",
    "# Device\n",
    "device = \"cuda\" if torch.cuda.is_available() else \"cpu\"\n",
    "print(f\"Device: {device}\")\n",
    "\n",
    "# Path\n",
    "if not os.path.exists(os.path.dirname(MODEL_PATH)):\n",
    "    os.makedirs(os.path.dirname(MODEL_PATH), exist_ok=True)\n",
    "    print(f\"Make new directory {os.path.dirname(MODEL_PATH)}\")"
   ]
  },
  {
   "cell_type": "markdown",
   "id": "6d7ff1c7",
   "metadata": {},
   "source": [
    "Then load the pretrained model from `torchvision`."
   ]
  },
  {
   "cell_type": "code",
   "execution_count": 42,
   "id": "b8b13a96",
   "metadata": {
    "execution": {
     "iopub.execute_input": "2025-05-29T22:40:57.824481Z",
     "iopub.status.busy": "2025-05-29T22:40:57.824210Z",
     "iopub.status.idle": "2025-05-29T22:40:59.329245Z",
     "shell.execute_reply": "2025-05-29T22:40:59.328708Z"
    }
   },
   "outputs": [
    {
     "name": "stderr",
     "output_type": "stream",
     "text": [
      "/opt/pytorch/lib/python3.12/site-packages/torchvision/models/_utils.py:208: UserWarning: The parameter 'pretrained' is deprecated since 0.13 and may be removed in the future, please use 'weights' instead.\n",
      "  warnings.warn(\n",
      "/opt/pytorch/lib/python3.12/site-packages/torchvision/models/_utils.py:223: UserWarning: Arguments other than a weight enum or `None` for 'weights' are deprecated since 0.13 and may be removed in the future. The current behavior is equivalent to passing `weights=VGG16_Weights.IMAGENET1K_V1`. You can also use `weights=VGG16_Weights.DEFAULT` to get the most up-to-date weights.\n",
      "  warnings.warn(msg)\n"
     ]
    }
   ],
   "source": [
    "# Pretrained VGG16 model\n",
    "vgg16 = models.vgg16(pretrained=True)\n",
    "\n",
    "# Change the last layer to fit the regression task\n",
    "vgg16.classifier[-1] = nn.Linear(in_features=4096, out_features=1)\n",
    "\n",
    "# Choose to freeze the layers or not\n",
    "for param in vgg16.features.parameters():\n",
    "    param.requires_grad = False\n",
    "\n",
    "# Move to the appropriate device\n",
    "vgg16 = vgg16.to(device)"
   ]
  },
  {
   "cell_type": "markdown",
   "id": "4b3b175c",
   "metadata": {},
   "source": [
    "## Step 2 - Load data\n",
    "\n",
    "In this step we load the images and process them, the goal is to get `train_loader` and `val_loader` for training. After this step we will get:\n",
    "\n",
    "1. `images_train` and `images_val` (4 dim tensor)\n",
    "2. `labels_train` and `labels_val` (1 dim tensor)\n",
    "3. `train_dataset` and `val_dataset` (dataset)\n",
    "4. `train_loader` and `val_loader` (dataloader)\n",
    "\n",
    "First we load the images, and normalize the pixel values."
   ]
  },
  {
   "cell_type": "code",
   "execution_count": 43,
   "id": "bc9be499",
   "metadata": {
    "execution": {
     "iopub.execute_input": "2025-05-29T22:40:59.331634Z",
     "iopub.status.busy": "2025-05-29T22:40:59.331349Z",
     "iopub.status.idle": "2025-05-29T22:41:03.617056Z",
     "shell.execute_reply": "2025-05-29T22:41:03.616488Z"
    }
   },
   "outputs": [
    {
     "name": "stdout",
     "output_type": "stream",
     "text": [
      "Images and labels loaded.\n",
      "Images Shape: (300, 128, 128, 3)\n",
      "Labels Shape: (300,)\n",
      "\n",
      "Select indexes by MIN_LABEL = 1.3 and MAX_LABEL = 5.2\n",
      "Images Shape: (300, 128, 128, 3)\n",
      "Labels Shape: (300,)\n",
      "\n",
      "Transform `images` and `labels` to tensors.\n",
      "Images Shape: torch.Size([300, 3, 128, 128])\n",
      "Labels Shape: torch.Size([300])\n",
      "\n",
      "Images (fake) and labels (fake) loaded.\n",
      "Images (fake) Shape: (300, 128, 128, 3)\n",
      "Labels (fake) Shape: (300,)\n",
      "\n",
      "Select indexes by MIN_LABEL = 1.3 and MAX_LABEL = 5.2\n",
      "Images (fake) Shape: (300, 128, 128, 3)\n",
      "Labels (fake) Shape: (300,)\n",
      "\n",
      "Transform `images_fake` and `labels_fake` to tensors.\n",
      "Images (fake) Shape: torch.Size([300, 3, 128, 128])\n",
      "Labels (fake) Shape: torch.Size([300])\n"
     ]
    }
   ],
   "source": [
    "# Load datasets - real\n",
    "with h5py.File(DATASET_PATH, \"r\") as f:\n",
    "    images = f[\"images\"][:].astype(float)\n",
    "    labels = f[\"labels\"][:].astype(float)\n",
    "N_all = len(images)\n",
    "print(\"Images and labels loaded.\")\n",
    "print(f\"Images Shape: {images.shape}\")\n",
    "print(f\"Labels Shape: {labels.shape}\")\n",
    "print(\"\")\n",
    "\n",
    "# Selection - real\n",
    "indx = np.where((labels >= MIN_LABEL) * (labels < MAX_LABEL) == True)[0]\n",
    "labels = labels[indx]\n",
    "images = images[indx]\n",
    "print(f\"Select indexes by MIN_LABEL = {MIN_LABEL} and MAX_LABEL = {MAX_LABEL}\")\n",
    "print(f\"Images Shape: {images.shape}\")\n",
    "print(f\"Labels Shape: {labels.shape}\")\n",
    "print(\"\")\n",
    "\n",
    "# To tensor - real\n",
    "images = torch.from_numpy(images).permute(0, 3, 1, 2)\n",
    "labels = torch.from_numpy(labels)\n",
    "print(\"Transform `images` and `labels` to tensors.\")\n",
    "print(f\"Images Shape: {images.shape}\")\n",
    "print(f\"Labels Shape: {labels.shape}\")\n",
    "print(\"\")\n",
    "\n",
    "# Load datasets - fake\n",
    "with h5py.File(DATASET_FAKE_PATH, \"r\") as f:\n",
    "    images_fake = f[\"images\"][:].astype(float)\n",
    "    labels_fake = f[\"labels\"][:].astype(float)\n",
    "N_all = len(images_fake)\n",
    "print(\"Images (fake) and labels (fake) loaded.\")\n",
    "print(f\"Images (fake) Shape: {images_fake.shape}\")\n",
    "print(f\"Labels (fake) Shape: {labels_fake.shape}\")\n",
    "print(\"\")\n",
    "\n",
    "# Selection - fake\n",
    "indx = np.where((labels >= MIN_LABEL) * (labels < MAX_LABEL) == True)[0]\n",
    "labels_fake = labels_fake[indx]\n",
    "images_fake = images_fake[indx]\n",
    "print(f\"Select indexes by MIN_LABEL = {MIN_LABEL} and MAX_LABEL = {MAX_LABEL}\")\n",
    "print(f\"Images (fake) Shape: {images_fake.shape}\")\n",
    "print(f\"Labels (fake) Shape: {labels_fake.shape}\")\n",
    "print(\"\")\n",
    "\n",
    "# To tensor - fake\n",
    "images_fake = torch.from_numpy(images_fake).permute(0, 3, 1, 2)\n",
    "labels_fake = torch.from_numpy(labels_fake)\n",
    "print(\"Transform `images_fake` and `labels_fake` to tensors.\")\n",
    "print(f\"Images (fake) Shape: {images_fake.shape}\")\n",
    "print(f\"Labels (fake) Shape: {labels_fake.shape}\")\n",
    "\n",
    "# Calculate mean and std\n",
    "images_fake_train, images_fake_val, labels_fake_train, labels_fake_val = train_test_split(\n",
    "    images_fake, labels_fake, test_size=TEST_SIZE, random_state=SEED\n",
    ")\n",
    "images_tmp = torch.cat((images, images_fake_train), dim=0)\n",
    "labels_tmp = torch.cat((labels, labels_fake_train), dim=0)\n",
    "mean = images_tmp.mean(dim=[0, 2, 3], keepdim=True)\n",
    "std = images_tmp.std(dim=[0, 2, 3], keepdim=True)\n",
    "\n",
    "# Images standardization\n",
    "images = (images - mean) / std\n",
    "images_fake = (images_fake - mean) / std\n",
    "\n",
    "# Label normalization\n",
    "labels = (labels - MIN_LABEL) / (MAX_LABEL - MIN_LABEL)\n",
    "labels_fake = (labels_fake - MIN_LABEL) / (MAX_LABEL - MIN_LABEL)"
   ]
  },
  {
   "cell_type": "markdown",
   "id": "2127b3c6",
   "metadata": {},
   "source": [
    "Then use `train_test_split` function to get data for training and validation."
   ]
  },
  {
   "cell_type": "code",
   "execution_count": 44,
   "id": "2f7d1dd9",
   "metadata": {
    "execution": {
     "iopub.execute_input": "2025-05-29T22:41:03.619772Z",
     "iopub.status.busy": "2025-05-29T22:41:03.619297Z",
     "iopub.status.idle": "2025-05-29T22:41:04.146806Z",
     "shell.execute_reply": "2025-05-29T22:41:04.146206Z"
    }
   },
   "outputs": [
    {
     "name": "stdout",
     "output_type": "stream",
     "text": [
      "Train test split with test size 0.2.\n",
      "Images (train) Shape: torch.Size([240, 3, 128, 128])\n",
      "Images (val) Shape: torch.Size([60, 3, 128, 128])\n",
      "Labels (train) Shape: torch.Size([240])\n",
      "Labels (val) Shape: torch.Size([60])\n",
      "\n",
      "Train test split with test size 0.2.\n",
      "Images (fake) (train) Shape: torch.Size([240, 3, 128, 128])\n",
      "Images (fake) (val) Shape: torch.Size([60, 3, 128, 128])\n",
      "Labels (fake) (train) Shape: torch.Size([240])\n",
      "Labels (fake) (val) Shape: torch.Size([60])\n"
     ]
    }
   ],
   "source": [
    "# Train-test split - real\n",
    "images_train, images_val, labels_train, labels_val = train_test_split(\n",
    "    images, labels, test_size=TEST_SIZE, random_state=SEED\n",
    ")\n",
    "print(f\"Train test split with test size {TEST_SIZE}.\")\n",
    "print(f\"Images (train) Shape: {images_train.shape}\")\n",
    "print(f\"Images (val) Shape: {images_val.shape}\")\n",
    "print(f\"Labels (train) Shape: {labels_train.shape}\")\n",
    "print(f\"Labels (val) Shape: {labels_val.shape}\")\n",
    "print(\"\")\n",
    "\n",
    "# Train-test split - fake\n",
    "images_fake_train, images_fake_val, labels_fake_train, labels_fake_val = train_test_split(\n",
    "    images_fake, labels_fake, test_size=TEST_SIZE, random_state=SEED\n",
    ")\n",
    "print(f\"Train test split with test size {TEST_SIZE}.\")\n",
    "print(f\"Images (fake) (train) Shape: {images_fake_train.shape}\")\n",
    "print(f\"Images (fake) (val) Shape: {images_fake_val.shape}\")\n",
    "print(f\"Labels (fake) (train) Shape: {labels_fake_train.shape}\")\n",
    "print(f\"Labels (fake) (val) Shape: {labels_fake_val.shape}\")\n",
    "\n",
    "# Combine and get new bigger training set\n",
    "images_train = torch.cat((images_train, images_fake_train), dim=0)\n",
    "labels_train = torch.cat((labels_train, labels_fake_train), dim = 0)"
   ]
  },
  {
   "cell_type": "markdown",
   "id": "e5f55f94",
   "metadata": {},
   "source": [
    "Next, we should transform the data to tensors, combine `images` and `labels` to datasets and get dataloaders according to `BATCH_SIZE`."
   ]
  },
  {
   "cell_type": "code",
   "execution_count": 45,
   "id": "51549a4b",
   "metadata": {
    "execution": {
     "iopub.execute_input": "2025-05-29T22:41:04.149042Z",
     "iopub.status.busy": "2025-05-29T22:41:04.148828Z",
     "iopub.status.idle": "2025-05-29T22:41:04.436755Z",
     "shell.execute_reply": "2025-05-29T22:41:04.436267Z"
    }
   },
   "outputs": [
    {
     "name": "stdout",
     "output_type": "stream",
     "text": [
      "Shape of `images_train_tensor`: torch.Size([480, 3, 128, 128])\n",
      "Shape of `labels_train_tensor`: torch.Size([480, 1])\n",
      "Shape of `images_val_tensor`: torch.Size([60, 3, 128, 128])\n",
      "Shape of `labels_val_tensor`: torch.Size([60, 1])\n"
     ]
    },
    {
     "name": "stderr",
     "output_type": "stream",
     "text": [
      "/tmp/ipykernel_120914/1722485521.py:2: UserWarning: To copy construct from a tensor, it is recommended to use sourceTensor.clone().detach() or sourceTensor.clone().detach().requires_grad_(True), rather than torch.tensor(sourceTensor).\n",
      "  images_train_tensor = torch.tensor(images_train, dtype=torch.float32)\n",
      "/tmp/ipykernel_120914/1722485521.py:3: UserWarning: To copy construct from a tensor, it is recommended to use sourceTensor.clone().detach() or sourceTensor.clone().detach().requires_grad_(True), rather than torch.tensor(sourceTensor).\n",
      "  images_val_tensor = torch.tensor(images_val, dtype=torch.float32)\n",
      "/tmp/ipykernel_120914/1722485521.py:4: UserWarning: To copy construct from a tensor, it is recommended to use sourceTensor.clone().detach() or sourceTensor.clone().detach().requires_grad_(True), rather than torch.tensor(sourceTensor).\n",
      "  labels_train_tensor = torch.tensor(labels_train, dtype=torch.float32).view(-1, 1)\n",
      "/tmp/ipykernel_120914/1722485521.py:5: UserWarning: To copy construct from a tensor, it is recommended to use sourceTensor.clone().detach() or sourceTensor.clone().detach().requires_grad_(True), rather than torch.tensor(sourceTensor).\n",
      "  labels_val_tensor = torch.tensor(labels_val, dtype=torch.float32).view(-1, 1)\n"
     ]
    }
   ],
   "source": [
    "# Change to tensor\n",
    "images_train_tensor = torch.tensor(images_train, dtype=torch.float32)\n",
    "images_val_tensor = torch.tensor(images_val, dtype=torch.float32)\n",
    "labels_train_tensor = torch.tensor(labels_train, dtype=torch.float32).view(-1, 1)\n",
    "labels_val_tensor = torch.tensor(labels_val, dtype=torch.float32).view(-1, 1)\n",
    "print(f\"Shape of `images_train_tensor`: {images_train_tensor.shape}\")\n",
    "print(f\"Shape of `labels_train_tensor`: {labels_train_tensor.shape}\")\n",
    "print(f\"Shape of `images_val_tensor`: {images_val_tensor.shape}\")\n",
    "print(f\"Shape of `labels_val_tensor`: {labels_val_tensor.shape}\")\n",
    "\n",
    "# Tensor's dataset\n",
    "train_dataset = TensorDataset(images_train_tensor, labels_train_tensor)\n",
    "val_dataset = TensorDataset(images_val_tensor, labels_val_tensor)\n",
    "\n",
    "# DataLoader\n",
    "train_loader = DataLoader(train_dataset, batch_size=BATCH_SIZE_TRAIN, shuffle=True)\n",
    "val_loader = DataLoader(val_dataset, batch_size=BATCH_SIZE_VAL)"
   ]
  },
  {
   "cell_type": "markdown",
   "id": "ce4ea102",
   "metadata": {},
   "source": [
    "## Step 3 - Train"
   ]
  },
  {
   "cell_type": "markdown",
   "id": "534bdeac",
   "metadata": {},
   "source": [
    "Start training for `epoch` loops, record the training losses and validation losses."
   ]
  },
  {
   "cell_type": "code",
   "execution_count": 46,
   "id": "c0161423",
   "metadata": {
    "execution": {
     "iopub.execute_input": "2025-05-29T22:41:04.439004Z",
     "iopub.status.busy": "2025-05-29T22:41:04.438813Z",
     "iopub.status.idle": "2025-05-29T23:04:53.312242Z",
     "shell.execute_reply": "2025-05-29T23:04:53.311740Z"
    }
   },
   "outputs": [
    {
     "name": "stderr",
     "output_type": "stream",
     "text": [
      "/opt/pytorch/lib/python3.12/site-packages/torch/optim/lr_scheduler.py:62: UserWarning: The verbose parameter is deprecated. Please use get_last_lr() to access the learning rate.\n",
      "  warnings.warn(\n"
     ]
    },
    {
     "name": "stdout",
     "output_type": "stream",
     "text": [
      "[Epoch 1 / 200] [Train Loss 25.185548 (MSE)] [Valid Loss 0.575606 (MSE)] [Learning Rate: 0.001]\n",
      "[Epoch 2 / 200] [Train Loss 1.501064 (MSE)] [Valid Loss 0.139213 (MSE)] [Learning Rate: 0.001]\n",
      "[Epoch 3 / 200] [Train Loss 0.359027 (MSE)] [Valid Loss 0.086359 (MSE)] [Learning Rate: 0.001]\n",
      "[Epoch 4 / 200] [Train Loss 0.131651 (MSE)] [Valid Loss 0.066003 (MSE)] [Learning Rate: 0.001]\n",
      "[Epoch 5 / 200] [Train Loss 0.115546 (MSE)] [Valid Loss 0.065040 (MSE)] [Learning Rate: 0.001]\n",
      "[Epoch 6 / 200] [Train Loss 0.094982 (MSE)] [Valid Loss 0.064826 (MSE)] [Learning Rate: 0.001]\n",
      "[Epoch 7 / 200] [Train Loss 0.086058 (MSE)] [Valid Loss 0.061507 (MSE)] [Learning Rate: 0.001]\n",
      "[Epoch 8 / 200] [Train Loss 0.079903 (MSE)] [Valid Loss 0.060144 (MSE)] [Learning Rate: 0.001]\n",
      "[Epoch 9 / 200] [Train Loss 0.063678 (MSE)] [Valid Loss 0.043717 (MSE)] [Learning Rate: 0.001]\n",
      "[Epoch 10 / 200] [Train Loss 0.064190 (MSE)] [Valid Loss 0.050919 (MSE)] [Learning Rate: 0.001]\n",
      "[Epoch 11 / 200] [Train Loss 0.064002 (MSE)] [Valid Loss 0.043642 (MSE)] [Learning Rate: 0.001]\n",
      "[Epoch 12 / 200] [Train Loss 0.055964 (MSE)] [Valid Loss 0.037985 (MSE)] [Learning Rate: 0.001]\n",
      "[Epoch 13 / 200] [Train Loss 0.052390 (MSE)] [Valid Loss 0.037492 (MSE)] [Learning Rate: 0.001]\n",
      "[Epoch 14 / 200] [Train Loss 0.054807 (MSE)] [Valid Loss 0.051291 (MSE)] [Learning Rate: 0.001]\n",
      "[Epoch 15 / 200] [Train Loss 0.051502 (MSE)] [Valid Loss 0.035686 (MSE)] [Learning Rate: 0.001]\n",
      "[Epoch 16 / 200] [Train Loss 0.048191 (MSE)] [Valid Loss 0.031877 (MSE)] [Learning Rate: 0.001]\n",
      "[Epoch 17 / 200] [Train Loss 0.048152 (MSE)] [Valid Loss 0.032737 (MSE)] [Learning Rate: 0.001]\n",
      "[Epoch 18 / 200] [Train Loss 0.045553 (MSE)] [Valid Loss 0.033725 (MSE)] [Learning Rate: 0.001]\n",
      "[Epoch 19 / 200] [Train Loss 0.045136 (MSE)] [Valid Loss 0.038041 (MSE)] [Learning Rate: 0.001]\n",
      "[Epoch 20 / 200] [Train Loss 0.045007 (MSE)] [Valid Loss 0.026337 (MSE)] [Learning Rate: 0.001]\n",
      "[Epoch 21 / 200] [Train Loss 0.068015 (MSE)] [Valid Loss 0.032109 (MSE)] [Learning Rate: 0.001]\n",
      "[Epoch 22 / 200] [Train Loss 0.043989 (MSE)] [Valid Loss 0.029475 (MSE)] [Learning Rate: 0.001]\n",
      "[Epoch 23 / 200] [Train Loss 0.042433 (MSE)] [Valid Loss 0.024011 (MSE)] [Learning Rate: 0.001]\n",
      "[Epoch 24 / 200] [Train Loss 0.042869 (MSE)] [Valid Loss 0.034077 (MSE)] [Learning Rate: 0.001]\n",
      "[Epoch 25 / 200] [Train Loss 0.053110 (MSE)] [Valid Loss 0.031403 (MSE)] [Learning Rate: 0.001]\n",
      "[Epoch 26 / 200] [Train Loss 0.035677 (MSE)] [Valid Loss 0.026582 (MSE)] [Learning Rate: 0.001]\n",
      "[Epoch 27 / 200] [Train Loss 0.043829 (MSE)] [Valid Loss 0.036469 (MSE)] [Learning Rate: 0.001]\n",
      "[Epoch 28 / 200] [Train Loss 0.066420 (MSE)] [Valid Loss 0.058347 (MSE)] [Learning Rate: 0.001]\n",
      "[Epoch 29 / 200] [Train Loss 0.046670 (MSE)] [Valid Loss 0.023760 (MSE)] [Learning Rate: 0.001]\n",
      "[Epoch 30 / 200] [Train Loss 0.038532 (MSE)] [Valid Loss 0.020964 (MSE)] [Learning Rate: 0.001]\n",
      "[Epoch 31 / 200] [Train Loss 0.052769 (MSE)] [Valid Loss 0.023955 (MSE)] [Learning Rate: 0.001]\n",
      "[Epoch 32 / 200] [Train Loss 0.047985 (MSE)] [Valid Loss 0.054843 (MSE)] [Learning Rate: 0.001]\n",
      "[Epoch 33 / 200] [Train Loss 0.046549 (MSE)] [Valid Loss 0.022527 (MSE)] [Learning Rate: 0.001]\n",
      "[Epoch 34 / 200] [Train Loss 0.038330 (MSE)] [Valid Loss 0.024371 (MSE)] [Learning Rate: 0.001]\n",
      "[Epoch 35 / 200] [Train Loss 0.038798 (MSE)] [Valid Loss 0.052203 (MSE)] [Learning Rate: 0.001]\n",
      "[Epoch 36 / 200] [Train Loss 0.048143 (MSE)] [Valid Loss 0.023713 (MSE)] [Learning Rate: 0.001]\n",
      "[Epoch 37 / 200] [Train Loss 0.034154 (MSE)] [Valid Loss 0.021182 (MSE)] [Learning Rate: 0.0005]\n",
      "[Epoch 38 / 200] [Train Loss 0.033570 (MSE)] [Valid Loss 0.018778 (MSE)] [Learning Rate: 0.0005]\n",
      "[Epoch 39 / 200] [Train Loss 0.029553 (MSE)] [Valid Loss 0.019569 (MSE)] [Learning Rate: 0.0005]\n",
      "[Epoch 40 / 200] [Train Loss 0.031662 (MSE)] [Valid Loss 0.023814 (MSE)] [Learning Rate: 0.0005]\n",
      "[Epoch 41 / 200] [Train Loss 0.033774 (MSE)] [Valid Loss 0.018972 (MSE)] [Learning Rate: 0.0005]\n",
      "[Epoch 42 / 200] [Train Loss 0.026339 (MSE)] [Valid Loss 0.021156 (MSE)] [Learning Rate: 0.0005]\n",
      "[Epoch 43 / 200] [Train Loss 0.027922 (MSE)] [Valid Loss 0.018476 (MSE)] [Learning Rate: 0.0005]\n",
      "[Epoch 44 / 200] [Train Loss 0.031195 (MSE)] [Valid Loss 0.018592 (MSE)] [Learning Rate: 0.0005]\n",
      "[Epoch 45 / 200] [Train Loss 0.028988 (MSE)] [Valid Loss 0.018198 (MSE)] [Learning Rate: 0.0005]\n",
      "[Epoch 46 / 200] [Train Loss 0.030265 (MSE)] [Valid Loss 0.023745 (MSE)] [Learning Rate: 0.0005]\n",
      "[Epoch 47 / 200] [Train Loss 0.037994 (MSE)] [Valid Loss 0.019091 (MSE)] [Learning Rate: 0.0005]\n",
      "[Epoch 48 / 200] [Train Loss 0.028362 (MSE)] [Valid Loss 0.019174 (MSE)] [Learning Rate: 0.0005]\n",
      "[Epoch 49 / 200] [Train Loss 0.028792 (MSE)] [Valid Loss 0.017657 (MSE)] [Learning Rate: 0.0005]\n",
      "[Epoch 50 / 200] [Train Loss 0.027739 (MSE)] [Valid Loss 0.021130 (MSE)] [Learning Rate: 0.0005]\n",
      "[Epoch 51 / 200] [Train Loss 0.029780 (MSE)] [Valid Loss 0.017352 (MSE)] [Learning Rate: 0.0005]\n",
      "[Epoch 52 / 200] [Train Loss 0.029358 (MSE)] [Valid Loss 0.016777 (MSE)] [Learning Rate: 0.0005]\n",
      "[Epoch 53 / 200] [Train Loss 0.029913 (MSE)] [Valid Loss 0.019596 (MSE)] [Learning Rate: 0.0005]\n",
      "[Epoch 54 / 200] [Train Loss 0.027242 (MSE)] [Valid Loss 0.022742 (MSE)] [Learning Rate: 0.0005]\n",
      "[Epoch 55 / 200] [Train Loss 0.030783 (MSE)] [Valid Loss 0.020720 (MSE)] [Learning Rate: 0.0005]\n",
      "[Epoch 56 / 200] [Train Loss 0.032883 (MSE)] [Valid Loss 0.024161 (MSE)] [Learning Rate: 0.0005]\n",
      "[Epoch 57 / 200] [Train Loss 0.026259 (MSE)] [Valid Loss 0.023315 (MSE)] [Learning Rate: 0.0005]\n",
      "[Epoch 58 / 200] [Train Loss 0.031420 (MSE)] [Valid Loss 0.023650 (MSE)] [Learning Rate: 0.0005]\n",
      "[Epoch 59 / 200] [Train Loss 0.028946 (MSE)] [Valid Loss 0.018231 (MSE)] [Learning Rate: 0.00025]\n",
      "[Epoch 60 / 200] [Train Loss 0.026192 (MSE)] [Valid Loss 0.018295 (MSE)] [Learning Rate: 0.00025]\n",
      "[Epoch 61 / 200] [Train Loss 0.030244 (MSE)] [Valid Loss 0.019377 (MSE)] [Learning Rate: 0.00025]\n",
      "[Epoch 62 / 200] [Train Loss 0.025445 (MSE)] [Valid Loss 0.019757 (MSE)] [Learning Rate: 0.00025]\n",
      "[Epoch 63 / 200] [Train Loss 0.027729 (MSE)] [Valid Loss 0.017474 (MSE)] [Learning Rate: 0.00025]\n",
      "[Epoch 64 / 200] [Train Loss 0.025472 (MSE)] [Valid Loss 0.018060 (MSE)] [Learning Rate: 0.00025]\n",
      "[Epoch 65 / 200] [Train Loss 0.027178 (MSE)] [Valid Loss 0.018197 (MSE)] [Learning Rate: 0.000125]\n",
      "[Epoch 66 / 200] [Train Loss 0.023951 (MSE)] [Valid Loss 0.017684 (MSE)] [Learning Rate: 0.000125]\n",
      "[Epoch 67 / 200] [Train Loss 0.025354 (MSE)] [Valid Loss 0.017792 (MSE)] [Learning Rate: 0.000125]\n",
      "[Epoch 68 / 200] [Train Loss 0.023537 (MSE)] [Valid Loss 0.017774 (MSE)] [Learning Rate: 0.000125]\n",
      "[Epoch 69 / 200] [Train Loss 0.022029 (MSE)] [Valid Loss 0.017485 (MSE)] [Learning Rate: 0.000125]\n",
      "[Epoch 70 / 200] [Train Loss 0.026184 (MSE)] [Valid Loss 0.017265 (MSE)] [Learning Rate: 0.000125]\n",
      "[Epoch 71 / 200] [Train Loss 0.024838 (MSE)] [Valid Loss 0.017108 (MSE)] [Learning Rate: 6.25e-05]\n",
      "[Epoch 72 / 200] [Train Loss 0.023123 (MSE)] [Valid Loss 0.017384 (MSE)] [Learning Rate: 6.25e-05]\n",
      "[Epoch 73 / 200] [Train Loss 0.024338 (MSE)] [Valid Loss 0.018493 (MSE)] [Learning Rate: 6.25e-05]\n",
      "[Epoch 74 / 200] [Train Loss 0.027691 (MSE)] [Valid Loss 0.017933 (MSE)] [Learning Rate: 6.25e-05]\n",
      "[Epoch 75 / 200] [Train Loss 0.019914 (MSE)] [Valid Loss 0.018119 (MSE)] [Learning Rate: 6.25e-05]\n",
      "[Epoch 76 / 200] [Train Loss 0.028642 (MSE)] [Valid Loss 0.018159 (MSE)] [Learning Rate: 6.25e-05]\n",
      "[Epoch 77 / 200] [Train Loss 0.024057 (MSE)] [Valid Loss 0.018096 (MSE)] [Learning Rate: 3.125e-05]\n",
      "[Epoch 78 / 200] [Train Loss 0.026228 (MSE)] [Valid Loss 0.017974 (MSE)] [Learning Rate: 3.125e-05]\n",
      "[Epoch 79 / 200] [Train Loss 0.025046 (MSE)] [Valid Loss 0.017900 (MSE)] [Learning Rate: 3.125e-05]\n",
      "[Epoch 80 / 200] [Train Loss 0.023377 (MSE)] [Valid Loss 0.018109 (MSE)] [Learning Rate: 3.125e-05]\n",
      "[Epoch 81 / 200] [Train Loss 0.022079 (MSE)] [Valid Loss 0.017874 (MSE)] [Learning Rate: 3.125e-05]\n",
      "[Epoch 82 / 200] [Train Loss 0.020425 (MSE)] [Valid Loss 0.018825 (MSE)] [Learning Rate: 3.125e-05]\n",
      "[Epoch 83 / 200] [Train Loss 0.019946 (MSE)] [Valid Loss 0.018052 (MSE)] [Learning Rate: 1.5625e-05]\n",
      "[Epoch 84 / 200] [Train Loss 0.021807 (MSE)] [Valid Loss 0.017865 (MSE)] [Learning Rate: 1.5625e-05]\n",
      "[Epoch 85 / 200] [Train Loss 0.020289 (MSE)] [Valid Loss 0.017974 (MSE)] [Learning Rate: 1.5625e-05]\n",
      "[Epoch 86 / 200] [Train Loss 0.023100 (MSE)] [Valid Loss 0.017945 (MSE)] [Learning Rate: 1.5625e-05]\n",
      "[Epoch 87 / 200] [Train Loss 0.019673 (MSE)] [Valid Loss 0.017600 (MSE)] [Learning Rate: 1.5625e-05]\n",
      "[Epoch 88 / 200] [Train Loss 0.021917 (MSE)] [Valid Loss 0.017694 (MSE)] [Learning Rate: 1.5625e-05]\n",
      "[Epoch 89 / 200] [Train Loss 0.018528 (MSE)] [Valid Loss 0.017684 (MSE)] [Learning Rate: 7.8125e-06]\n",
      "[Epoch 90 / 200] [Train Loss 0.021638 (MSE)] [Valid Loss 0.017570 (MSE)] [Learning Rate: 7.8125e-06]\n",
      "[Epoch 91 / 200] [Train Loss 0.019474 (MSE)] [Valid Loss 0.017592 (MSE)] [Learning Rate: 7.8125e-06]\n",
      "[Epoch 92 / 200] [Train Loss 0.019534 (MSE)] [Valid Loss 0.017583 (MSE)] [Learning Rate: 7.8125e-06]\n",
      "[Epoch 93 / 200] [Train Loss 0.020594 (MSE)] [Valid Loss 0.017505 (MSE)] [Learning Rate: 7.8125e-06]\n",
      "[Epoch 94 / 200] [Train Loss 0.020660 (MSE)] [Valid Loss 0.017657 (MSE)] [Learning Rate: 7.8125e-06]\n",
      "[Epoch 95 / 200] [Train Loss 0.019256 (MSE)] [Valid Loss 0.017589 (MSE)] [Learning Rate: 3.90625e-06]\n",
      "[Epoch 96 / 200] [Train Loss 0.020866 (MSE)] [Valid Loss 0.017526 (MSE)] [Learning Rate: 3.90625e-06]\n",
      "[Epoch 97 / 200] [Train Loss 0.021156 (MSE)] [Valid Loss 0.017555 (MSE)] [Learning Rate: 3.90625e-06]\n",
      "[Epoch 98 / 200] [Train Loss 0.020554 (MSE)] [Valid Loss 0.017530 (MSE)] [Learning Rate: 3.90625e-06]\n",
      "[Epoch 99 / 200] [Train Loss 0.021766 (MSE)] [Valid Loss 0.017508 (MSE)] [Learning Rate: 3.90625e-06]\n",
      "[Epoch 100 / 200] [Train Loss 0.023383 (MSE)] [Valid Loss 0.017493 (MSE)] [Learning Rate: 3.90625e-06]\n",
      "[Epoch 101 / 200] [Train Loss 0.020234 (MSE)] [Valid Loss 0.017508 (MSE)] [Learning Rate: 1.953125e-06]\n",
      "[Epoch 102 / 200] [Train Loss 0.018158 (MSE)] [Valid Loss 0.017491 (MSE)] [Learning Rate: 1.953125e-06]\n",
      "[Epoch 103 / 200] [Train Loss 0.022288 (MSE)] [Valid Loss 0.017470 (MSE)] [Learning Rate: 1.953125e-06]\n",
      "[Epoch 104 / 200] [Train Loss 0.019381 (MSE)] [Valid Loss 0.017447 (MSE)] [Learning Rate: 1.953125e-06]\n",
      "[Epoch 105 / 200] [Train Loss 0.021098 (MSE)] [Valid Loss 0.017449 (MSE)] [Learning Rate: 1.953125e-06]\n",
      "[Epoch 106 / 200] [Train Loss 0.021334 (MSE)] [Valid Loss 0.017457 (MSE)] [Learning Rate: 1.953125e-06]\n",
      "[Epoch 107 / 200] [Train Loss 0.021901 (MSE)] [Valid Loss 0.017465 (MSE)] [Learning Rate: 9.765625e-07]\n",
      "[Epoch 108 / 200] [Train Loss 0.021229 (MSE)] [Valid Loss 0.017465 (MSE)] [Learning Rate: 9.765625e-07]\n",
      "[Epoch 109 / 200] [Train Loss 0.019783 (MSE)] [Valid Loss 0.017457 (MSE)] [Learning Rate: 9.765625e-07]\n",
      "[Epoch 110 / 200] [Train Loss 0.018713 (MSE)] [Valid Loss 0.017448 (MSE)] [Learning Rate: 9.765625e-07]\n",
      "[Epoch 111 / 200] [Train Loss 0.020183 (MSE)] [Valid Loss 0.017438 (MSE)] [Learning Rate: 9.765625e-07]\n",
      "[Epoch 112 / 200] [Train Loss 0.020478 (MSE)] [Valid Loss 0.017431 (MSE)] [Learning Rate: 9.765625e-07]\n",
      "[Epoch 113 / 200] [Train Loss 0.020576 (MSE)] [Valid Loss 0.017427 (MSE)] [Learning Rate: 4.8828125e-07]\n",
      "[Epoch 114 / 200] [Train Loss 0.023093 (MSE)] [Valid Loss 0.017424 (MSE)] [Learning Rate: 4.8828125e-07]\n",
      "[Epoch 115 / 200] [Train Loss 0.019960 (MSE)] [Valid Loss 0.017421 (MSE)] [Learning Rate: 4.8828125e-07]\n",
      "[Epoch 116 / 200] [Train Loss 0.020342 (MSE)] [Valid Loss 0.017419 (MSE)] [Learning Rate: 4.8828125e-07]\n",
      "[Epoch 117 / 200] [Train Loss 0.020304 (MSE)] [Valid Loss 0.017418 (MSE)] [Learning Rate: 4.8828125e-07]\n",
      "[Epoch 118 / 200] [Train Loss 0.022259 (MSE)] [Valid Loss 0.017414 (MSE)] [Learning Rate: 4.8828125e-07]\n",
      "[Epoch 119 / 200] [Train Loss 0.022216 (MSE)] [Valid Loss 0.017413 (MSE)] [Learning Rate: 2.44140625e-07]\n",
      "[Epoch 120 / 200] [Train Loss 0.022376 (MSE)] [Valid Loss 0.017412 (MSE)] [Learning Rate: 2.44140625e-07]\n",
      "[Epoch 121 / 200] [Train Loss 0.020463 (MSE)] [Valid Loss 0.017411 (MSE)] [Learning Rate: 2.44140625e-07]\n",
      "[Epoch 122 / 200] [Train Loss 0.019311 (MSE)] [Valid Loss 0.017411 (MSE)] [Learning Rate: 2.44140625e-07]\n",
      "[Epoch 123 / 200] [Train Loss 0.019355 (MSE)] [Valid Loss 0.017410 (MSE)] [Learning Rate: 2.44140625e-07]\n",
      "[Epoch 124 / 200] [Train Loss 0.023080 (MSE)] [Valid Loss 0.017408 (MSE)] [Learning Rate: 2.44140625e-07]\n",
      "[Epoch 125 / 200] [Train Loss 0.019882 (MSE)] [Valid Loss 0.017407 (MSE)] [Learning Rate: 1.220703125e-07]\n",
      "[Epoch 126 / 200] [Train Loss 0.019653 (MSE)] [Valid Loss 0.017406 (MSE)] [Learning Rate: 1.220703125e-07]\n",
      "[Epoch 127 / 200] [Train Loss 0.020723 (MSE)] [Valid Loss 0.017406 (MSE)] [Learning Rate: 1.220703125e-07]\n",
      "[Epoch 128 / 200] [Train Loss 0.021240 (MSE)] [Valid Loss 0.017405 (MSE)] [Learning Rate: 1.220703125e-07]\n",
      "[Epoch 129 / 200] [Train Loss 0.019057 (MSE)] [Valid Loss 0.017404 (MSE)] [Learning Rate: 1.220703125e-07]\n",
      "[Epoch 130 / 200] [Train Loss 0.018778 (MSE)] [Valid Loss 0.017403 (MSE)] [Learning Rate: 1.220703125e-07]\n",
      "[Epoch 131 / 200] [Train Loss 0.020309 (MSE)] [Valid Loss 0.017403 (MSE)] [Learning Rate: 6.103515625e-08]\n",
      "[Epoch 132 / 200] [Train Loss 0.022198 (MSE)] [Valid Loss 0.017403 (MSE)] [Learning Rate: 6.103515625e-08]\n",
      "[Epoch 133 / 200] [Train Loss 0.022611 (MSE)] [Valid Loss 0.017403 (MSE)] [Learning Rate: 6.103515625e-08]\n",
      "[Epoch 134 / 200] [Train Loss 0.022639 (MSE)] [Valid Loss 0.017403 (MSE)] [Learning Rate: 6.103515625e-08]\n",
      "[Epoch 135 / 200] [Train Loss 0.021897 (MSE)] [Valid Loss 0.017403 (MSE)] [Learning Rate: 6.103515625e-08]\n",
      "[Epoch 136 / 200] [Train Loss 0.019336 (MSE)] [Valid Loss 0.017403 (MSE)] [Learning Rate: 6.103515625e-08]\n",
      "[Epoch 137 / 200] [Train Loss 0.021050 (MSE)] [Valid Loss 0.017403 (MSE)] [Learning Rate: 3.0517578125e-08]\n",
      "[Epoch 138 / 200] [Train Loss 0.018854 (MSE)] [Valid Loss 0.017403 (MSE)] [Learning Rate: 3.0517578125e-08]\n",
      "[Epoch 139 / 200] [Train Loss 0.019375 (MSE)] [Valid Loss 0.017403 (MSE)] [Learning Rate: 3.0517578125e-08]\n",
      "[Epoch 140 / 200] [Train Loss 0.019629 (MSE)] [Valid Loss 0.017403 (MSE)] [Learning Rate: 3.0517578125e-08]\n",
      "[Epoch 141 / 200] [Train Loss 0.020574 (MSE)] [Valid Loss 0.017403 (MSE)] [Learning Rate: 3.0517578125e-08]\n",
      "[Epoch 142 / 200] [Train Loss 0.018964 (MSE)] [Valid Loss 0.017403 (MSE)] [Learning Rate: 3.0517578125e-08]\n",
      "[Epoch 143 / 200] [Train Loss 0.020667 (MSE)] [Valid Loss 0.017403 (MSE)] [Learning Rate: 1.52587890625e-08]\n",
      "[Epoch 144 / 200] [Train Loss 0.021182 (MSE)] [Valid Loss 0.017403 (MSE)] [Learning Rate: 1.52587890625e-08]\n",
      "[Epoch 145 / 200] [Train Loss 0.017595 (MSE)] [Valid Loss 0.017403 (MSE)] [Learning Rate: 1.52587890625e-08]\n",
      "[Epoch 146 / 200] [Train Loss 0.020856 (MSE)] [Valid Loss 0.017403 (MSE)] [Learning Rate: 1.52587890625e-08]\n",
      "[Epoch 147 / 200] [Train Loss 0.020464 (MSE)] [Valid Loss 0.017403 (MSE)] [Learning Rate: 1.52587890625e-08]\n",
      "[Epoch 148 / 200] [Train Loss 0.020261 (MSE)] [Valid Loss 0.017403 (MSE)] [Learning Rate: 1.52587890625e-08]\n",
      "[Epoch 149 / 200] [Train Loss 0.019916 (MSE)] [Valid Loss 0.017403 (MSE)] [Learning Rate: 1.52587890625e-08]\n",
      "[Epoch 150 / 200] [Train Loss 0.020861 (MSE)] [Valid Loss 0.017403 (MSE)] [Learning Rate: 1.52587890625e-08]\n",
      "[Epoch 151 / 200] [Train Loss 0.022697 (MSE)] [Valid Loss 0.017403 (MSE)] [Learning Rate: 1.52587890625e-08]\n",
      "[Epoch 152 / 200] [Train Loss 0.019875 (MSE)] [Valid Loss 0.017403 (MSE)] [Learning Rate: 1.52587890625e-08]\n",
      "[Epoch 153 / 200] [Train Loss 0.020563 (MSE)] [Valid Loss 0.017403 (MSE)] [Learning Rate: 1.52587890625e-08]\n",
      "[Epoch 154 / 200] [Train Loss 0.021605 (MSE)] [Valid Loss 0.017403 (MSE)] [Learning Rate: 1.52587890625e-08]\n",
      "[Epoch 155 / 200] [Train Loss 0.020846 (MSE)] [Valid Loss 0.017403 (MSE)] [Learning Rate: 1.52587890625e-08]\n",
      "[Epoch 156 / 200] [Train Loss 0.019601 (MSE)] [Valid Loss 0.017403 (MSE)] [Learning Rate: 1.52587890625e-08]\n",
      "[Epoch 157 / 200] [Train Loss 0.017951 (MSE)] [Valid Loss 0.017402 (MSE)] [Learning Rate: 1.52587890625e-08]\n",
      "[Epoch 158 / 200] [Train Loss 0.017975 (MSE)] [Valid Loss 0.017402 (MSE)] [Learning Rate: 1.52587890625e-08]\n",
      "[Epoch 159 / 200] [Train Loss 0.020238 (MSE)] [Valid Loss 0.017402 (MSE)] [Learning Rate: 1.52587890625e-08]\n",
      "[Epoch 160 / 200] [Train Loss 0.021357 (MSE)] [Valid Loss 0.017402 (MSE)] [Learning Rate: 1.52587890625e-08]\n",
      "[Epoch 161 / 200] [Train Loss 0.017857 (MSE)] [Valid Loss 0.017402 (MSE)] [Learning Rate: 1.52587890625e-08]\n",
      "[Epoch 162 / 200] [Train Loss 0.023630 (MSE)] [Valid Loss 0.017402 (MSE)] [Learning Rate: 1.52587890625e-08]\n",
      "[Epoch 163 / 200] [Train Loss 0.022160 (MSE)] [Valid Loss 0.017402 (MSE)] [Learning Rate: 1.52587890625e-08]\n",
      "[Epoch 164 / 200] [Train Loss 0.023481 (MSE)] [Valid Loss 0.017402 (MSE)] [Learning Rate: 1.52587890625e-08]\n",
      "[Epoch 165 / 200] [Train Loss 0.021532 (MSE)] [Valid Loss 0.017402 (MSE)] [Learning Rate: 1.52587890625e-08]\n",
      "[Epoch 166 / 200] [Train Loss 0.022457 (MSE)] [Valid Loss 0.017402 (MSE)] [Learning Rate: 1.52587890625e-08]\n",
      "[Epoch 167 / 200] [Train Loss 0.021650 (MSE)] [Valid Loss 0.017402 (MSE)] [Learning Rate: 1.52587890625e-08]\n",
      "[Epoch 168 / 200] [Train Loss 0.021473 (MSE)] [Valid Loss 0.017402 (MSE)] [Learning Rate: 1.52587890625e-08]\n",
      "[Epoch 169 / 200] [Train Loss 0.017618 (MSE)] [Valid Loss 0.017402 (MSE)] [Learning Rate: 1.52587890625e-08]\n",
      "[Epoch 170 / 200] [Train Loss 0.023593 (MSE)] [Valid Loss 0.017402 (MSE)] [Learning Rate: 1.52587890625e-08]\n",
      "[Epoch 171 / 200] [Train Loss 0.019912 (MSE)] [Valid Loss 0.017402 (MSE)] [Learning Rate: 1.52587890625e-08]\n",
      "[Epoch 172 / 200] [Train Loss 0.019558 (MSE)] [Valid Loss 0.017402 (MSE)] [Learning Rate: 1.52587890625e-08]\n",
      "[Epoch 173 / 200] [Train Loss 0.020825 (MSE)] [Valid Loss 0.017402 (MSE)] [Learning Rate: 1.52587890625e-08]\n",
      "[Epoch 174 / 200] [Train Loss 0.022682 (MSE)] [Valid Loss 0.017402 (MSE)] [Learning Rate: 1.52587890625e-08]\n",
      "[Epoch 175 / 200] [Train Loss 0.018543 (MSE)] [Valid Loss 0.017402 (MSE)] [Learning Rate: 1.52587890625e-08]\n",
      "[Epoch 176 / 200] [Train Loss 0.022822 (MSE)] [Valid Loss 0.017402 (MSE)] [Learning Rate: 1.52587890625e-08]\n",
      "[Epoch 177 / 200] [Train Loss 0.022123 (MSE)] [Valid Loss 0.017402 (MSE)] [Learning Rate: 1.52587890625e-08]\n",
      "[Epoch 178 / 200] [Train Loss 0.020732 (MSE)] [Valid Loss 0.017402 (MSE)] [Learning Rate: 1.52587890625e-08]\n",
      "[Epoch 179 / 200] [Train Loss 0.018684 (MSE)] [Valid Loss 0.017402 (MSE)] [Learning Rate: 1.52587890625e-08]\n",
      "[Epoch 180 / 200] [Train Loss 0.020247 (MSE)] [Valid Loss 0.017402 (MSE)] [Learning Rate: 1.52587890625e-08]\n",
      "[Epoch 181 / 200] [Train Loss 0.020939 (MSE)] [Valid Loss 0.017402 (MSE)] [Learning Rate: 1.52587890625e-08]\n",
      "[Epoch 182 / 200] [Train Loss 0.021024 (MSE)] [Valid Loss 0.017401 (MSE)] [Learning Rate: 1.52587890625e-08]\n",
      "[Epoch 183 / 200] [Train Loss 0.021875 (MSE)] [Valid Loss 0.017401 (MSE)] [Learning Rate: 1.52587890625e-08]\n",
      "[Epoch 184 / 200] [Train Loss 0.019682 (MSE)] [Valid Loss 0.017401 (MSE)] [Learning Rate: 1.52587890625e-08]\n",
      "[Epoch 185 / 200] [Train Loss 0.020381 (MSE)] [Valid Loss 0.017401 (MSE)] [Learning Rate: 1.52587890625e-08]\n",
      "[Epoch 186 / 200] [Train Loss 0.020189 (MSE)] [Valid Loss 0.017401 (MSE)] [Learning Rate: 1.52587890625e-08]\n",
      "[Epoch 187 / 200] [Train Loss 0.019406 (MSE)] [Valid Loss 0.017401 (MSE)] [Learning Rate: 1.52587890625e-08]\n",
      "[Epoch 188 / 200] [Train Loss 0.020739 (MSE)] [Valid Loss 0.017401 (MSE)] [Learning Rate: 1.52587890625e-08]\n",
      "[Epoch 189 / 200] [Train Loss 0.018926 (MSE)] [Valid Loss 0.017401 (MSE)] [Learning Rate: 1.52587890625e-08]\n",
      "[Epoch 190 / 200] [Train Loss 0.018808 (MSE)] [Valid Loss 0.017401 (MSE)] [Learning Rate: 1.52587890625e-08]\n",
      "[Epoch 191 / 200] [Train Loss 0.019239 (MSE)] [Valid Loss 0.017401 (MSE)] [Learning Rate: 1.52587890625e-08]\n",
      "[Epoch 192 / 200] [Train Loss 0.021278 (MSE)] [Valid Loss 0.017401 (MSE)] [Learning Rate: 1.52587890625e-08]\n",
      "[Epoch 193 / 200] [Train Loss 0.019952 (MSE)] [Valid Loss 0.017401 (MSE)] [Learning Rate: 1.52587890625e-08]\n",
      "[Epoch 194 / 200] [Train Loss 0.021281 (MSE)] [Valid Loss 0.017401 (MSE)] [Learning Rate: 1.52587890625e-08]\n",
      "[Epoch 195 / 200] [Train Loss 0.018300 (MSE)] [Valid Loss 0.017401 (MSE)] [Learning Rate: 1.52587890625e-08]\n",
      "[Epoch 196 / 200] [Train Loss 0.020253 (MSE)] [Valid Loss 0.017401 (MSE)] [Learning Rate: 1.52587890625e-08]\n",
      "[Epoch 197 / 200] [Train Loss 0.020946 (MSE)] [Valid Loss 0.017401 (MSE)] [Learning Rate: 1.52587890625e-08]\n",
      "[Epoch 198 / 200] [Train Loss 0.019147 (MSE)] [Valid Loss 0.017401 (MSE)] [Learning Rate: 1.52587890625e-08]\n",
      "[Epoch 199 / 200] [Train Loss 0.019677 (MSE)] [Valid Loss 0.017401 (MSE)] [Learning Rate: 1.52587890625e-08]\n",
      "[Epoch 200 / 200] [Train Loss 0.021162 (MSE)] [Valid Loss 0.017401 (MSE)] [Learning Rate: 1.52587890625e-08]\n"
     ]
    }
   ],
   "source": [
    "# Criterion and optimizer\n",
    "criterion = nn.MSELoss()\n",
    "optimizer = optim.Adam(\n",
    "    vgg16.classifier.parameters(), lr=LR, weight_decay=LR_WEIGHT_DECAY\n",
    ")\n",
    "scheduler = torch.optim.lr_scheduler.ReduceLROnPlateau(\n",
    "    optimizer, mode=\"min\", factor=0.5, patience=5, verbose=True\n",
    ")\n",
    "\n",
    "# Record the loss values\n",
    "train_loss_list = []\n",
    "val_loss_list = []\n",
    "\n",
    "# Loop by epoch\n",
    "for epoch in range(NUM_EPOCHS):\n",
    "\n",
    "    # Train\n",
    "    vgg16.train()\n",
    "    train_loss = 0.0\n",
    "    train_size = 0\n",
    "    for batch_images, batch_labels in train_loader:\n",
    "        # Load data\n",
    "        batch_images = batch_images.to(device)\n",
    "        batch_labels = batch_labels.to(device)\n",
    "        # Pass loss value\n",
    "        outputs = vgg16(batch_images)\n",
    "        loss = criterion(outputs, batch_labels)\n",
    "        # Back propagation\n",
    "        optimizer.zero_grad()\n",
    "        loss.backward()\n",
    "        optimizer.step()\n",
    "        # Add to the total loss\n",
    "        batch_size = batch_images.size(0)\n",
    "        train_loss += loss.item() * batch_size\n",
    "        train_size += batch_size\n",
    "\n",
    "    train_loss = train_loss / train_size\n",
    "    train_loss_list.append(train_loss)\n",
    "\n",
    "    # Validate\n",
    "    vgg16.eval()\n",
    "    val_loss = 0\n",
    "    val_samples = 0\n",
    "    with torch.no_grad():\n",
    "        for batch_images, batch_labels in val_loader:\n",
    "            # Load data\n",
    "            batch_images = batch_images.to(device)\n",
    "            batch_labels = batch_labels.to(device)\n",
    "            # Output\n",
    "            outputs = vgg16(batch_images)\n",
    "            # Calculate loss\n",
    "            loss = criterion(outputs, batch_labels)\n",
    "            # Add to total loss\n",
    "            batch_size = batch_images.size(0)\n",
    "            val_loss += loss.item() * batch_size\n",
    "            val_samples += batch_size\n",
    "    val_loss /= val_samples\n",
    "    val_loss_list.append(val_loss)\n",
    "\n",
    "    # Print\n",
    "    print(\n",
    "        f\"[Epoch {(epoch+1):d} / {(NUM_EPOCHS):d}] [Train Loss {train_loss:f} (MSE)] [Valid Loss {val_loss:f} (MSE)] [Learning Rate: {optimizer.param_groups[0]['lr']}]\"\n",
    "    )\n",
    "\n",
    "    # Scheduler\n",
    "    scheduler.step(val_loss)"
   ]
  },
  {
   "cell_type": "markdown",
   "id": "7cf24633",
   "metadata": {},
   "source": [
    "Then we plot the graphs of `train_loss_list` and `val_loss_lost`."
   ]
  },
  {
   "cell_type": "code",
   "execution_count": 47,
   "id": "f06a4e35",
   "metadata": {
    "execution": {
     "iopub.execute_input": "2025-05-29T23:04:53.314343Z",
     "iopub.status.busy": "2025-05-29T23:04:53.314047Z",
     "iopub.status.idle": "2025-05-29T23:04:53.428756Z",
     "shell.execute_reply": "2025-05-29T23:04:53.428296Z"
    }
   },
   "outputs": [
    {
     "data": {
      "image/png": "[encoded data removed]",
      "text/plain": [
       "<Figure size 640x480 with 1 Axes>"
      ]
     },
     "metadata": {},
     "output_type": "display_data"
    }
   ],
   "source": [
    "x = list(range(NUM_EPOCHS))\n",
    "plt.plot(x, train_loss_list, label=\"Train Loss\", marker=\".\")\n",
    "plt.plot(x, val_loss_list, label=\"Val Loss\", marker=\".\")\n",
    "plt.xlabel(\"Epoch\")\n",
    "plt.ylabel(\"Loss\")\n",
    "plt.title(\"Training and Validation Loss\")\n",
    "plt.legend()\n",
    "plt.show()"
   ]
  },
  {
   "cell_type": "markdown",
   "id": "bedc2858",
   "metadata": {},
   "source": [
    "## Step 4 - Save / load the model\n",
    "\n",
    "After training, we need to save the models."
   ]
  },
  {
   "cell_type": "code",
   "execution_count": 48,
   "id": "75c4022d",
   "metadata": {
    "execution": {
     "iopub.execute_input": "2025-05-29T23:04:53.430831Z",
     "iopub.status.busy": "2025-05-29T23:04:53.430546Z",
     "iopub.status.idle": "2025-05-29T23:04:57.618614Z",
     "shell.execute_reply": "2025-05-29T23:04:57.618136Z"
    }
   },
   "outputs": [
    {
     "name": "stdout",
     "output_type": "stream",
     "text": [
      "Model saved to /home/ubuntu/Desktop/Ra/models/VGG_128_fake_regression.pth\n"
     ]
    }
   ],
   "source": [
    "# Save the trained model to disk\n",
    "torch.save(vgg16.state_dict(), MODEL_PATH)\n",
    "print(f\"Model saved to {MODEL_PATH}\")"
   ]
  },
  {
   "cell_type": "markdown",
   "id": "814f9e3d",
   "metadata": {},
   "source": [
    "To read the saved data, we can run the following codes:"
   ]
  },
  {
   "cell_type": "code",
   "execution_count": 49,
   "id": "1b045a1c",
   "metadata": {
    "execution": {
     "iopub.execute_input": "2025-05-29T23:04:57.620616Z",
     "iopub.status.busy": "2025-05-29T23:04:57.620330Z",
     "iopub.status.idle": "2025-05-29T23:04:57.622700Z",
     "shell.execute_reply": "2025-05-29T23:04:57.622284Z"
    }
   },
   "outputs": [],
   "source": [
    "# # Load the trained model weights\n",
    "# vgg16.load_state_dict(torch.load(MODEL_PATH, map_location=device))\n",
    "# vgg16.eval()\n",
    "# print(\"Model loaded from\", MODEL_PATH)"
   ]
  },
  {
   "cell_type": "markdown",
   "id": "f3159f06",
   "metadata": {},
   "source": [
    "## Exceptional test\n",
    "\n",
    "Let's see if the model works well."
   ]
  },
  {
   "cell_type": "code",
   "execution_count": 50,
   "id": "5178524e",
   "metadata": {
    "execution": {
     "iopub.execute_input": "2025-05-29T23:04:57.624557Z",
     "iopub.status.busy": "2025-05-29T23:04:57.624291Z",
     "iopub.status.idle": "2025-05-29T23:04:59.854656Z",
     "shell.execute_reply": "2025-05-29T23:04:59.854195Z"
    }
   },
   "outputs": [
    {
     "name": "stdout",
     "output_type": "stream",
     "text": [
      "Model loaded from /home/ubuntu/Desktop/Ra/models/VGG_128_fake_regression.pth\n",
      "    Real Labels  Predicted Labels      Diff      MAPE\n",
      "0         3.549          2.995661 -0.553339  0.844086\n",
      "1         4.550          4.008449 -0.541551  0.880978\n",
      "2         3.336          3.056211 -0.279789  0.916130\n",
      "3         1.599          1.836822  0.237822  0.851269\n",
      "4         4.075          4.002996 -0.072004  0.982330\n",
      "5         3.905          3.834184 -0.070816  0.981865\n",
      "6         3.801          2.966833 -0.834167  0.780540\n",
      "7         2.836          3.514728  0.678728  0.760674\n",
      "8         1.578          2.767550  1.189550  0.246166\n",
      "9         3.302          3.517454  0.215454  0.934750\n",
      "10        3.995          4.092788  0.097788  0.975522\n",
      "11        2.123          2.963428  0.840428  0.604132\n",
      "12        3.902          3.365379 -0.536621  0.862475\n",
      "13        2.036          1.834453 -0.201547  0.901008\n",
      "14        3.819          3.498600 -0.320400  0.916104\n",
      "15        3.957          3.811674 -0.145326  0.963274\n",
      "16        4.597          4.165270 -0.431730  0.906084\n",
      "17        3.961          3.854567 -0.106433  0.973130\n",
      "18        3.193          2.863107 -0.329893  0.896682\n",
      "19        3.399          3.229914 -0.169086  0.950254\n",
      "20        2.377          2.386502  0.009502  0.996003\n",
      "21        2.680          2.893342  0.213342  0.920395\n",
      "22        4.338          3.986288 -0.351712  0.918923\n",
      "23        4.477          4.026907 -0.450093  0.899465\n",
      "24        2.641          2.177471 -0.463529  0.824487\n",
      "25        1.947          1.926597 -0.020403  0.989521\n",
      "26        4.577          3.866503 -0.710497  0.844768\n",
      "27        4.711          4.125177 -0.585823  0.875648\n",
      "28        3.414          3.775730  0.361730  0.894045\n",
      "29        4.057          3.920338 -0.136662  0.966315\n",
      "30        1.621          2.876050  1.255050  0.225756\n",
      "31        3.323          3.174119 -0.148881  0.955197\n",
      "32        2.147          2.187919  0.040919  0.980941\n",
      "33        1.649          2.837263  1.188263  0.279404\n",
      "34        3.935          4.029390  0.094390  0.976013\n",
      "35        2.656          2.442614 -0.213386  0.919659\n",
      "36        1.590          2.253962  0.663962  0.582414\n",
      "37        2.655          2.513155 -0.141845  0.946574\n",
      "38        2.076          2.029687 -0.046313  0.977691\n",
      "39        2.413          3.185791  0.772791  0.679738\n",
      "40        2.836          3.248331  0.412331  0.854608\n",
      "41        2.331          2.277775 -0.053225  0.977166\n",
      "42        4.740          3.687025 -1.052975  0.777853\n",
      "43        2.422          2.906790  0.484790  0.799839\n",
      "44        2.444          3.135115  0.691115  0.717220\n",
      "45        2.492          2.897609  0.405609  0.837236\n",
      "46        3.957          4.011339  0.054339  0.986268\n",
      "47        3.905          3.615371 -0.289629  0.925831\n",
      "48        2.619          2.955170  0.336170  0.871642\n",
      "49        3.927          3.637709 -0.289291  0.926333\n",
      "50        3.819          3.850223  0.031223  0.991824\n",
      "51        3.119          2.826221 -0.292779  0.906131\n",
      "52        3.917          3.409674 -0.507326  0.870481\n",
      "53        2.453          2.527800  0.074800  0.969507\n",
      "54        4.565          4.007156 -0.557844  0.877800\n",
      "55        4.597          4.501963 -0.095037  0.979326\n",
      "56        2.691          2.618736 -0.072264  0.973146\n",
      "57        2.657          2.595153 -0.061847  0.976723\n",
      "58        3.725          3.030396 -0.694604  0.813529\n",
      "59        1.618          2.922827  1.304827  0.193556\n",
      "MAPE: 0.8501071859216187\n"
     ]
    },
    {
     "data": {
      "image/png": "[encoded data removed]",
      "text/plain": [
       "<Figure size 640x480 with 1 Axes>"
      ]
     },
     "metadata": {},
     "output_type": "display_data"
    },
    {
     "data": {
      "image/png": "[encoded data removed]",
      "text/plain": [
       "<Figure size 640x480 with 1 Axes>"
      ]
     },
     "metadata": {},
     "output_type": "display_data"
    }
   ],
   "source": [
    "# Load the trained model weights\n",
    "vgg16.load_state_dict(torch.load(MODEL_PATH, map_location=device))\n",
    "vgg16.eval()\n",
    "print(\"Model loaded from\", MODEL_PATH)\n",
    "\n",
    "# Turn to `numpy.array`\n",
    "labels_val_real = labels_val.numpy()\n",
    "labels_val_predicted = vgg16(images_val_tensor.to(device)).cpu().detach().numpy()\n",
    "\n",
    "# Unnormalize labels\n",
    "labels_val_real = labels_val_real * (MAX_LABEL - MIN_LABEL) + MIN_LABEL\n",
    "labels_val_predicted = labels_val_predicted * (MAX_LABEL - MIN_LABEL) + MIN_LABEL\n",
    "\n",
    "# Turn to `pandas.Series`\n",
    "labels_val_real = pd.Series(labels_val_real)\n",
    "labels_val_predicted = pd.Series(labels_val_predicted.flatten())\n",
    "labels_val_diff = labels_val_predicted - labels_val_real\n",
    "\n",
    "# Make `pandas.DataFrame`\n",
    "df = pd.DataFrame(\n",
    "    {\n",
    "        \"Real Labels\": labels_val_real,\n",
    "        \"Predicted Labels\": labels_val_predicted,\n",
    "        \"Diff\": labels_val_diff,\n",
    "        \"MAPE\": 1 - np.abs(labels_val_diff) / labels_val_real\n",
    "    }\n",
    ")\n",
    "df.to_csv(OUTPUT_PATH, index = False)\n",
    "print(df)\n",
    "print(f\"MAPE: {df[\"MAPE\"].mean()}\")\n",
    "\n",
    "# Boxplot of the differences\n",
    "plt.boxplot(labels_val_diff)\n",
    "plt.ylabel(\"Prediction Error (Predicted - Real)\")\n",
    "plt.title(\"Boxplot of Prediction Errors\")\n",
    "plt.show()\n",
    "\n",
    "# Plot the differences by the real labels.\n",
    "plt.scatter(labels_val_real, labels_val_diff, s=10)\n",
    "plt.xlabel(\"Real Labels\")\n",
    "plt.ylabel(\"Prediction Error (Predicted - Real)\")\n",
    "plt.title(\"Prediction Error vs Real Labels\")\n",
    "plt.axhline(0, color=\"red\", linestyle=\"--\", linewidth=1)\n",
    "plt.show()"
   ]
  }
 ],
 "metadata": {
  "kernelspec": {
   "display_name": "pytorch",
   "language": "python",
   "name": "python3"
  },
  "language_info": {
   "codemirror_mode": {
    "name": "ipython",
    "version": 3
   },
   "file_extension": ".py",
   "mimetype": "text/x-python",
   "name": "python",
   "nbconvert_exporter": "python",
   "pygments_lexer": "ipython3",
   "version": "3.12.6"
  }
 },
 "nbformat": 4,
 "nbformat_minor": 5
}
