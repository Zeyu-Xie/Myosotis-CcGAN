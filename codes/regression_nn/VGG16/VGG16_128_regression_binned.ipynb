{
 "cells": [
  {
   "cell_type": "markdown",
   "id": "05bee791",
   "metadata": {},
   "source": [
    "# VGG\n",
    "\n",
    "This notebook uses model \"VGG16\" to conduct regression of images."
   ]
  },
  {
   "cell_type": "code",
   "execution_count": 1,
   "id": "9c623ed7",
   "metadata": {
    "execution": {
     "iopub.execute_input": "2025-06-06T19:05:38.001450Z",
     "iopub.status.busy": "2025-06-06T19:05:38.001274Z",
     "iopub.status.idle": "2025-06-06T19:05:43.470627Z",
     "shell.execute_reply": "2025-06-06T19:05:43.470119Z"
    }
   },
   "outputs": [],
   "source": [
    "import h5py\n",
    "from matplotlib import pyplot as plt\n",
    "import numpy as np\n",
    "import os\n",
    "import pandas as pd\n",
    "from sklearn.model_selection import train_test_split\n",
    "import torch\n",
    "import torch.nn as nn\n",
    "import torch.optim as optim\n",
    "from torch.utils.data import TensorDataset, DataLoader\n",
    "from torchvision import models"
   ]
  },
  {
   "cell_type": "markdown",
   "id": "28904883",
   "metadata": {},
   "source": [
    "## Step 1 - Config\n",
    "\n",
    "First set the hyperparameters and other configurations."
   ]
  },
  {
   "cell_type": "code",
   "execution_count": 2,
   "id": "33cb27b0",
   "metadata": {
    "execution": {
     "iopub.execute_input": "2025-06-06T19:05:43.473253Z",
     "iopub.status.busy": "2025-06-06T19:05:43.472777Z",
     "iopub.status.idle": "2025-06-06T19:05:43.599799Z",
     "shell.execute_reply": "2025-06-06T19:05:43.599339Z"
    }
   },
   "outputs": [
    {
     "name": "stdout",
     "output_type": "stream",
     "text": [
      "Device: cuda\n"
     ]
    }
   ],
   "source": [
    "# Dataset and model path\n",
    "DATASET_PATH = \"/home/ubuntu/Desktop/Ra/datasets/Ra_128_indexed_binned.h5\"\n",
    "MODEL_PATH = \"/home/ubuntu/Desktop/Ra/models/VGG16_128_regression_binned.pth\"\n",
    "OUTPUT_PATH = \"/home/ubuntu/Desktop/Ra/outputs/VGG16_128_regression_binned.csv\"\n",
    "# Env\n",
    "SEED = 42\n",
    "# Dataset\n",
    "MIN_LABEL = 1.3\n",
    "MAX_LABEL = 5.2\n",
    "# Hyperparameters\n",
    "NUM_EPOCHS = 200\n",
    "LR = 1e-3\n",
    "LR_WEIGHT_DECAY = 1e-4\n",
    "TEST_SIZE = 0.2\n",
    "BATCH_SIZE_TRAIN = 16\n",
    "BATCH_SIZE_VAL = 10\n",
    "\n",
    "# Device\n",
    "device = \"cuda\" if torch.cuda.is_available() else \"cpu\"\n",
    "print(f\"Device: {device}\")\n",
    "\n",
    "# Path\n",
    "if not os.path.exists(os.path.dirname(MODEL_PATH)):\n",
    "    os.makedirs(os.path.dirname(MODEL_PATH), exist_ok=True)\n",
    "    print(f\"Make new directory {os.path.dirname(MODEL_PATH)}\")"
   ]
  },
  {
   "cell_type": "markdown",
   "id": "6d7ff1c7",
   "metadata": {},
   "source": [
    "Then load the pretrained model from `torchvision`."
   ]
  },
  {
   "cell_type": "code",
   "execution_count": 3,
   "id": "b8b13a96",
   "metadata": {
    "execution": {
     "iopub.execute_input": "2025-06-06T19:05:43.601827Z",
     "iopub.status.busy": "2025-06-06T19:05:43.601538Z",
     "iopub.status.idle": "2025-06-06T19:05:48.022745Z",
     "shell.execute_reply": "2025-06-06T19:05:48.022234Z"
    }
   },
   "outputs": [
    {
     "name": "stderr",
     "output_type": "stream",
     "text": [
      "/opt/pytorch/lib/python3.12/site-packages/torchvision/models/_utils.py:208: UserWarning: The parameter 'pretrained' is deprecated since 0.13 and may be removed in the future, please use 'weights' instead.\n",
      "  warnings.warn(\n",
      "/opt/pytorch/lib/python3.12/site-packages/torchvision/models/_utils.py:223: UserWarning: Arguments other than a weight enum or `None` for 'weights' are deprecated since 0.13 and may be removed in the future. The current behavior is equivalent to passing `weights=VGG16_Weights.IMAGENET1K_V1`. You can also use `weights=VGG16_Weights.DEFAULT` to get the most up-to-date weights.\n",
      "  warnings.warn(msg)\n"
     ]
    }
   ],
   "source": [
    "# Pretrained VGG16 model\n",
    "vgg16 = models.vgg16(pretrained=True)\n",
    "\n",
    "# Change the last layer to fit the regression task\n",
    "vgg16.classifier[-1] = nn.Linear(in_features=4096, out_features=1)\n",
    "\n",
    "# Choose to freeze the layers or not\n",
    "for param in vgg16.features.parameters():\n",
    "    param.requires_grad = False\n",
    "\n",
    "# Move to the appropriate device\n",
    "vgg16 = vgg16.to(device)"
   ]
  },
  {
   "cell_type": "markdown",
   "id": "4b3b175c",
   "metadata": {},
   "source": [
    "## Step 2 - Load data\n",
    "\n",
    "In this step we load the images and process them, the goal is to get `train_loader` and `val_loader` for training. After this step we will get:\n",
    "\n",
    "1. `images_train` and `images_val` (4 dim tensor)\n",
    "2. `labels_train` and `labels_val` (1 dim tensor)\n",
    "3. `train_dataset` and `val_dataset` (dataset)\n",
    "4. `train_loader` and `val_loader` (dataloader)\n",
    "\n",
    "First we load the images, and normalize the pixel values."
   ]
  },
  {
   "cell_type": "code",
   "execution_count": 4,
   "id": "bc9be499",
   "metadata": {
    "execution": {
     "iopub.execute_input": "2025-06-06T19:05:48.025141Z",
     "iopub.status.busy": "2025-06-06T19:05:48.024856Z",
     "iopub.status.idle": "2025-06-06T19:05:52.136377Z",
     "shell.execute_reply": "2025-06-06T19:05:52.135860Z"
    }
   },
   "outputs": [
    {
     "name": "stdout",
     "output_type": "stream",
     "text": [
      "Images and labels loaded.\n",
      "Images Shape: (300, 128, 128, 3)\n",
      "Labels Shape: (300,)\n",
      "\n",
      "Select indexes by MIN_LABEL = 1.3 and MAX_LABEL = 5.2\n",
      "Images Shape: (300, 128, 128, 3)\n",
      "Labels Shape: (300,)\n",
      "\n",
      "Transform `images` and `labels` to tensors.\n",
      "Images Shape: torch.Size([300, 3, 128, 128])\n",
      "Labels Shape: torch.Size([300])\n"
     ]
    }
   ],
   "source": [
    "# Load datasets\n",
    "with h5py.File(DATASET_PATH, \"r\") as f:\n",
    "    images = f[\"images\"][:].astype(float)\n",
    "    labels = f[\"labels\"][:].astype(float)\n",
    "N_all = len(images)\n",
    "print(\"Images and labels loaded.\")\n",
    "print(f\"Images Shape: {images.shape}\")\n",
    "print(f\"Labels Shape: {labels.shape}\")\n",
    "print(\"\")\n",
    "\n",
    "# Selection\n",
    "indx = np.where((labels >= MIN_LABEL) * (labels < MAX_LABEL) == True)[0]\n",
    "labels = labels[indx]\n",
    "images = images[indx]\n",
    "print(f\"Select indexes by MIN_LABEL = {MIN_LABEL} and MAX_LABEL = {MAX_LABEL}\")\n",
    "print(f\"Images Shape: {images.shape}\")\n",
    "print(f\"Labels Shape: {labels.shape}\")\n",
    "print(\"\")\n",
    "\n",
    "# To tensor\n",
    "images = torch.from_numpy(images).permute(0, 3, 1, 2)\n",
    "labels = torch.from_numpy(labels)\n",
    "print(\"Transform `images` and `labels` to tensors.\")\n",
    "print(f\"Images Shape: {images.shape}\")\n",
    "print(f\"Labels Shape: {labels.shape}\")\n",
    "\n",
    "# Image standardization\n",
    "mean = images.mean(dim=[0, 2, 3], keepdim=True)\n",
    "std = images.std(dim=[0, 2, 3], keepdim=True)\n",
    "images = (images - mean) / std\n",
    "\n",
    "# Label normalization\n",
    "labels = (labels - MIN_LABEL) / (MAX_LABEL - MIN_LABEL)"
   ]
  },
  {
   "cell_type": "markdown",
   "id": "2127b3c6",
   "metadata": {},
   "source": [
    "Then use `train_test_split` function to get data for training and validation."
   ]
  },
  {
   "cell_type": "code",
   "execution_count": 5,
   "id": "2f7d1dd9",
   "metadata": {
    "execution": {
     "iopub.execute_input": "2025-06-06T19:05:52.138757Z",
     "iopub.status.busy": "2025-06-06T19:05:52.138454Z",
     "iopub.status.idle": "2025-06-06T19:05:52.661044Z",
     "shell.execute_reply": "2025-06-06T19:05:52.660444Z"
    }
   },
   "outputs": [
    {
     "name": "stdout",
     "output_type": "stream",
     "text": [
      "Train test split with test size 0.2.\n",
      "Images (train) Shape: torch.Size([240, 3, 128, 128])\n",
      "Images (val) Shape: torch.Size([60, 3, 128, 128])\n",
      "Labels (train) Shape: torch.Size([240])\n",
      "Labels (val) Shape: torch.Size([60])\n"
     ]
    }
   ],
   "source": [
    "# Train-test split\n",
    "images_train, images_val, labels_train, labels_val = train_test_split(\n",
    "    images, labels, test_size=TEST_SIZE, random_state=SEED\n",
    ")\n",
    "print(f\"Train test split with test size {TEST_SIZE}.\")\n",
    "print(f\"Images (train) Shape: {images_train.shape}\")\n",
    "print(f\"Images (val) Shape: {images_val.shape}\")\n",
    "print(f\"Labels (train) Shape: {labels_train.shape}\")\n",
    "print(f\"Labels (val) Shape: {labels_val.shape}\")"
   ]
  },
  {
   "cell_type": "markdown",
   "id": "e5f55f94",
   "metadata": {},
   "source": [
    "Next, we should transform the data to tensors, combine `images` and `labels` to datasets and get dataloaders according to `BATCH_SIZE`."
   ]
  },
  {
   "cell_type": "code",
   "execution_count": 6,
   "id": "51549a4b",
   "metadata": {
    "execution": {
     "iopub.execute_input": "2025-06-06T19:05:52.663056Z",
     "iopub.status.busy": "2025-06-06T19:05:52.662877Z",
     "iopub.status.idle": "2025-06-06T19:05:52.935692Z",
     "shell.execute_reply": "2025-06-06T19:05:52.935115Z"
    }
   },
   "outputs": [
    {
     "name": "stdout",
     "output_type": "stream",
     "text": [
      "Shape of `images_train_tensor`: torch.Size([240, 3, 128, 128])\n",
      "Shape of `labels_train_tensor`: torch.Size([240, 1])\n",
      "Shape of `images_val_tensor`: torch.Size([60, 3, 128, 128])\n",
      "Shape of `labels_val_tensor`: torch.Size([60, 1])\n"
     ]
    },
    {
     "name": "stderr",
     "output_type": "stream",
     "text": [
      "/tmp/ipykernel_9786/1722485521.py:2: UserWarning: To copy construct from a tensor, it is recommended to use sourceTensor.detach().clone() or sourceTensor.detach().clone().requires_grad_(True), rather than torch.tensor(sourceTensor).\n",
      "  images_train_tensor = torch.tensor(images_train, dtype=torch.float32)\n",
      "/tmp/ipykernel_9786/1722485521.py:3: UserWarning: To copy construct from a tensor, it is recommended to use sourceTensor.detach().clone() or sourceTensor.detach().clone().requires_grad_(True), rather than torch.tensor(sourceTensor).\n",
      "  images_val_tensor = torch.tensor(images_val, dtype=torch.float32)\n",
      "/tmp/ipykernel_9786/1722485521.py:4: UserWarning: To copy construct from a tensor, it is recommended to use sourceTensor.detach().clone() or sourceTensor.detach().clone().requires_grad_(True), rather than torch.tensor(sourceTensor).\n",
      "  labels_train_tensor = torch.tensor(labels_train, dtype=torch.float32).view(-1, 1)\n",
      "/tmp/ipykernel_9786/1722485521.py:5: UserWarning: To copy construct from a tensor, it is recommended to use sourceTensor.detach().clone() or sourceTensor.detach().clone().requires_grad_(True), rather than torch.tensor(sourceTensor).\n",
      "  labels_val_tensor = torch.tensor(labels_val, dtype=torch.float32).view(-1, 1)\n"
     ]
    }
   ],
   "source": [
    "# Change to tensor\n",
    "images_train_tensor = torch.tensor(images_train, dtype=torch.float32)\n",
    "images_val_tensor = torch.tensor(images_val, dtype=torch.float32)\n",
    "labels_train_tensor = torch.tensor(labels_train, dtype=torch.float32).view(-1, 1)\n",
    "labels_val_tensor = torch.tensor(labels_val, dtype=torch.float32).view(-1, 1)\n",
    "print(f\"Shape of `images_train_tensor`: {images_train_tensor.shape}\")\n",
    "print(f\"Shape of `labels_train_tensor`: {labels_train_tensor.shape}\")\n",
    "print(f\"Shape of `images_val_tensor`: {images_val_tensor.shape}\")\n",
    "print(f\"Shape of `labels_val_tensor`: {labels_val_tensor.shape}\")\n",
    "\n",
    "# Tensor's dataset\n",
    "train_dataset = TensorDataset(images_train_tensor, labels_train_tensor)\n",
    "val_dataset = TensorDataset(images_val_tensor, labels_val_tensor)\n",
    "\n",
    "# DataLoader\n",
    "train_loader = DataLoader(train_dataset, batch_size=BATCH_SIZE_TRAIN, shuffle=True)\n",
    "val_loader = DataLoader(val_dataset, batch_size=BATCH_SIZE_VAL)"
   ]
  },
  {
   "cell_type": "markdown",
   "id": "ce4ea102",
   "metadata": {},
   "source": [
    "## Step 3 - Train"
   ]
  },
  {
   "cell_type": "markdown",
   "id": "534bdeac",
   "metadata": {},
   "source": [
    "Start training for `epoch` loops, record the training losses and validation losses."
   ]
  },
  {
   "cell_type": "code",
   "execution_count": 7,
   "id": "c0161423",
   "metadata": {
    "execution": {
     "iopub.execute_input": "2025-06-06T19:05:52.938044Z",
     "iopub.status.busy": "2025-06-06T19:05:52.937665Z",
     "iopub.status.idle": "2025-06-06T19:35:06.163298Z",
     "shell.execute_reply": "2025-06-06T19:35:06.162827Z"
    }
   },
   "outputs": [
    {
     "name": "stdout",
     "output_type": "stream",
     "text": [
      "[Epoch 1 / 200] [Train Loss 11.617188 (MSE)] [Valid Loss 0.940104 (MSE)] [Learning Rate: 0.001]\n",
      "[Epoch 2 / 200] [Train Loss 2.534794 (MSE)] [Valid Loss 0.069707 (MSE)] [Learning Rate: 0.001]\n",
      "[Epoch 3 / 200] [Train Loss 0.144271 (MSE)] [Valid Loss 0.066917 (MSE)] [Learning Rate: 0.001]\n",
      "[Epoch 4 / 200] [Train Loss 0.075384 (MSE)] [Valid Loss 0.067755 (MSE)] [Learning Rate: 0.001]\n",
      "[Epoch 5 / 200] [Train Loss 0.075146 (MSE)] [Valid Loss 0.065282 (MSE)] [Learning Rate: 0.001]\n",
      "[Epoch 6 / 200] [Train Loss 0.060542 (MSE)] [Valid Loss 0.049933 (MSE)] [Learning Rate: 0.001]\n",
      "[Epoch 7 / 200] [Train Loss 0.062473 (MSE)] [Valid Loss 0.041161 (MSE)] [Learning Rate: 0.001]\n",
      "[Epoch 8 / 200] [Train Loss 0.049754 (MSE)] [Valid Loss 0.035344 (MSE)] [Learning Rate: 0.001]\n",
      "[Epoch 9 / 200] [Train Loss 0.047387 (MSE)] [Valid Loss 0.031246 (MSE)] [Learning Rate: 0.001]\n",
      "[Epoch 10 / 200] [Train Loss 0.042291 (MSE)] [Valid Loss 0.033911 (MSE)] [Learning Rate: 0.001]\n",
      "[Epoch 11 / 200] [Train Loss 0.032342 (MSE)] [Valid Loss 0.038531 (MSE)] [Learning Rate: 0.001]\n",
      "[Epoch 12 / 200] [Train Loss 0.032733 (MSE)] [Valid Loss 0.028227 (MSE)] [Learning Rate: 0.001]\n",
      "[Epoch 13 / 200] [Train Loss 0.037637 (MSE)] [Valid Loss 0.026213 (MSE)] [Learning Rate: 0.001]\n",
      "[Epoch 14 / 200] [Train Loss 0.047202 (MSE)] [Valid Loss 0.030814 (MSE)] [Learning Rate: 0.001]\n",
      "[Epoch 15 / 200] [Train Loss 0.030243 (MSE)] [Valid Loss 0.023833 (MSE)] [Learning Rate: 0.001]\n",
      "[Epoch 16 / 200] [Train Loss 0.031106 (MSE)] [Valid Loss 0.021996 (MSE)] [Learning Rate: 0.001]\n",
      "[Epoch 17 / 200] [Train Loss 0.029915 (MSE)] [Valid Loss 0.021442 (MSE)] [Learning Rate: 0.001]\n",
      "[Epoch 18 / 200] [Train Loss 0.033258 (MSE)] [Valid Loss 0.026239 (MSE)] [Learning Rate: 0.001]\n",
      "[Epoch 19 / 200] [Train Loss 0.028460 (MSE)] [Valid Loss 0.022495 (MSE)] [Learning Rate: 0.001]\n",
      "[Epoch 20 / 200] [Train Loss 0.027290 (MSE)] [Valid Loss 0.024020 (MSE)] [Learning Rate: 0.001]\n",
      "[Epoch 21 / 200] [Train Loss 0.028397 (MSE)] [Valid Loss 0.027323 (MSE)] [Learning Rate: 0.001]\n",
      "[Epoch 22 / 200] [Train Loss 0.024773 (MSE)] [Valid Loss 0.023629 (MSE)] [Learning Rate: 0.001]\n",
      "[Epoch 23 / 200] [Train Loss 0.028282 (MSE)] [Valid Loss 0.024634 (MSE)] [Learning Rate: 0.001]\n",
      "[Epoch 24 / 200] [Train Loss 0.023930 (MSE)] [Valid Loss 0.020953 (MSE)] [Learning Rate: 0.0005]\n",
      "[Epoch 25 / 200] [Train Loss 0.022738 (MSE)] [Valid Loss 0.020203 (MSE)] [Learning Rate: 0.0005]\n",
      "[Epoch 26 / 200] [Train Loss 0.026070 (MSE)] [Valid Loss 0.021791 (MSE)] [Learning Rate: 0.0005]\n",
      "[Epoch 27 / 200] [Train Loss 0.022596 (MSE)] [Valid Loss 0.018913 (MSE)] [Learning Rate: 0.0005]\n",
      "[Epoch 28 / 200] [Train Loss 0.018842 (MSE)] [Valid Loss 0.020502 (MSE)] [Learning Rate: 0.0005]\n",
      "[Epoch 29 / 200] [Train Loss 0.022576 (MSE)] [Valid Loss 0.020145 (MSE)] [Learning Rate: 0.0005]\n",
      "[Epoch 30 / 200] [Train Loss 0.020120 (MSE)] [Valid Loss 0.017191 (MSE)] [Learning Rate: 0.0005]\n",
      "[Epoch 31 / 200] [Train Loss 0.017502 (MSE)] [Valid Loss 0.019658 (MSE)] [Learning Rate: 0.0005]\n",
      "[Epoch 32 / 200] [Train Loss 0.020212 (MSE)] [Valid Loss 0.017561 (MSE)] [Learning Rate: 0.0005]\n",
      "[Epoch 33 / 200] [Train Loss 0.020077 (MSE)] [Valid Loss 0.021564 (MSE)] [Learning Rate: 0.0005]\n",
      "[Epoch 34 / 200] [Train Loss 0.021269 (MSE)] [Valid Loss 0.019958 (MSE)] [Learning Rate: 0.0005]\n",
      "[Epoch 35 / 200] [Train Loss 0.017725 (MSE)] [Valid Loss 0.020391 (MSE)] [Learning Rate: 0.0005]\n",
      "[Epoch 36 / 200] [Train Loss 0.016271 (MSE)] [Valid Loss 0.018134 (MSE)] [Learning Rate: 0.0005]\n",
      "[Epoch 37 / 200] [Train Loss 0.015737 (MSE)] [Valid Loss 0.019201 (MSE)] [Learning Rate: 0.00025]\n",
      "[Epoch 38 / 200] [Train Loss 0.013435 (MSE)] [Valid Loss 0.018213 (MSE)] [Learning Rate: 0.00025]\n",
      "[Epoch 39 / 200] [Train Loss 0.018061 (MSE)] [Valid Loss 0.019109 (MSE)] [Learning Rate: 0.00025]\n",
      "[Epoch 40 / 200] [Train Loss 0.016204 (MSE)] [Valid Loss 0.018335 (MSE)] [Learning Rate: 0.00025]\n",
      "[Epoch 41 / 200] [Train Loss 0.016384 (MSE)] [Valid Loss 0.019279 (MSE)] [Learning Rate: 0.00025]\n",
      "[Epoch 42 / 200] [Train Loss 0.016055 (MSE)] [Valid Loss 0.019500 (MSE)] [Learning Rate: 0.00025]\n",
      "[Epoch 43 / 200] [Train Loss 0.015672 (MSE)] [Valid Loss 0.019704 (MSE)] [Learning Rate: 0.000125]\n",
      "[Epoch 44 / 200] [Train Loss 0.014496 (MSE)] [Valid Loss 0.018142 (MSE)] [Learning Rate: 0.000125]\n",
      "[Epoch 45 / 200] [Train Loss 0.015113 (MSE)] [Valid Loss 0.019098 (MSE)] [Learning Rate: 0.000125]\n",
      "[Epoch 46 / 200] [Train Loss 0.017047 (MSE)] [Valid Loss 0.019543 (MSE)] [Learning Rate: 0.000125]\n",
      "[Epoch 47 / 200] [Train Loss 0.015160 (MSE)] [Valid Loss 0.017348 (MSE)] [Learning Rate: 0.000125]\n",
      "[Epoch 48 / 200] [Train Loss 0.015419 (MSE)] [Valid Loss 0.017183 (MSE)] [Learning Rate: 0.000125]\n",
      "[Epoch 49 / 200] [Train Loss 0.013595 (MSE)] [Valid Loss 0.017833 (MSE)] [Learning Rate: 0.000125]\n",
      "[Epoch 50 / 200] [Train Loss 0.015380 (MSE)] [Valid Loss 0.016985 (MSE)] [Learning Rate: 0.000125]\n",
      "[Epoch 51 / 200] [Train Loss 0.012629 (MSE)] [Valid Loss 0.017079 (MSE)] [Learning Rate: 0.000125]\n",
      "[Epoch 52 / 200] [Train Loss 0.014201 (MSE)] [Valid Loss 0.017989 (MSE)] [Learning Rate: 0.000125]\n",
      "[Epoch 53 / 200] [Train Loss 0.013286 (MSE)] [Valid Loss 0.016904 (MSE)] [Learning Rate: 0.000125]\n",
      "[Epoch 54 / 200] [Train Loss 0.012076 (MSE)] [Valid Loss 0.016687 (MSE)] [Learning Rate: 0.000125]\n",
      "[Epoch 55 / 200] [Train Loss 0.014741 (MSE)] [Valid Loss 0.017115 (MSE)] [Learning Rate: 0.000125]\n",
      "[Epoch 56 / 200] [Train Loss 0.013742 (MSE)] [Valid Loss 0.017418 (MSE)] [Learning Rate: 0.000125]\n",
      "[Epoch 57 / 200] [Train Loss 0.013745 (MSE)] [Valid Loss 0.017027 (MSE)] [Learning Rate: 0.000125]\n",
      "[Epoch 58 / 200] [Train Loss 0.013581 (MSE)] [Valid Loss 0.017073 (MSE)] [Learning Rate: 0.000125]\n",
      "[Epoch 59 / 200] [Train Loss 0.012924 (MSE)] [Valid Loss 0.017093 (MSE)] [Learning Rate: 0.000125]\n",
      "[Epoch 60 / 200] [Train Loss 0.013909 (MSE)] [Valid Loss 0.018397 (MSE)] [Learning Rate: 0.000125]\n",
      "[Epoch 61 / 200] [Train Loss 0.013587 (MSE)] [Valid Loss 0.017738 (MSE)] [Learning Rate: 6.25e-05]\n",
      "[Epoch 62 / 200] [Train Loss 0.014829 (MSE)] [Valid Loss 0.017214 (MSE)] [Learning Rate: 6.25e-05]\n",
      "[Epoch 63 / 200] [Train Loss 0.012278 (MSE)] [Valid Loss 0.017094 (MSE)] [Learning Rate: 6.25e-05]\n",
      "[Epoch 64 / 200] [Train Loss 0.012388 (MSE)] [Valid Loss 0.016920 (MSE)] [Learning Rate: 6.25e-05]\n",
      "[Epoch 65 / 200] [Train Loss 0.013306 (MSE)] [Valid Loss 0.017003 (MSE)] [Learning Rate: 6.25e-05]\n",
      "[Epoch 66 / 200] [Train Loss 0.014906 (MSE)] [Valid Loss 0.017220 (MSE)] [Learning Rate: 6.25e-05]\n",
      "[Epoch 67 / 200] [Train Loss 0.013840 (MSE)] [Valid Loss 0.017387 (MSE)] [Learning Rate: 3.125e-05]\n",
      "[Epoch 68 / 200] [Train Loss 0.011593 (MSE)] [Valid Loss 0.017337 (MSE)] [Learning Rate: 3.125e-05]\n",
      "[Epoch 69 / 200] [Train Loss 0.012380 (MSE)] [Valid Loss 0.017156 (MSE)] [Learning Rate: 3.125e-05]\n",
      "[Epoch 70 / 200] [Train Loss 0.013411 (MSE)] [Valid Loss 0.017026 (MSE)] [Learning Rate: 3.125e-05]\n",
      "[Epoch 71 / 200] [Train Loss 0.011557 (MSE)] [Valid Loss 0.016984 (MSE)] [Learning Rate: 3.125e-05]\n",
      "[Epoch 72 / 200] [Train Loss 0.014121 (MSE)] [Valid Loss 0.017257 (MSE)] [Learning Rate: 3.125e-05]\n",
      "[Epoch 73 / 200] [Train Loss 0.013326 (MSE)] [Valid Loss 0.017372 (MSE)] [Learning Rate: 1.5625e-05]\n",
      "[Epoch 74 / 200] [Train Loss 0.011261 (MSE)] [Valid Loss 0.016785 (MSE)] [Learning Rate: 1.5625e-05]\n",
      "[Epoch 75 / 200] [Train Loss 0.011034 (MSE)] [Valid Loss 0.016813 (MSE)] [Learning Rate: 1.5625e-05]\n",
      "[Epoch 76 / 200] [Train Loss 0.012368 (MSE)] [Valid Loss 0.016926 (MSE)] [Learning Rate: 1.5625e-05]\n",
      "[Epoch 77 / 200] [Train Loss 0.011271 (MSE)] [Valid Loss 0.016857 (MSE)] [Learning Rate: 1.5625e-05]\n",
      "[Epoch 78 / 200] [Train Loss 0.011518 (MSE)] [Valid Loss 0.017267 (MSE)] [Learning Rate: 1.5625e-05]\n",
      "[Epoch 79 / 200] [Train Loss 0.011261 (MSE)] [Valid Loss 0.016863 (MSE)] [Learning Rate: 7.8125e-06]\n",
      "[Epoch 80 / 200] [Train Loss 0.014771 (MSE)] [Valid Loss 0.016896 (MSE)] [Learning Rate: 7.8125e-06]\n",
      "[Epoch 81 / 200] [Train Loss 0.013316 (MSE)] [Valid Loss 0.016905 (MSE)] [Learning Rate: 7.8125e-06]\n",
      "[Epoch 82 / 200] [Train Loss 0.012761 (MSE)] [Valid Loss 0.016955 (MSE)] [Learning Rate: 7.8125e-06]\n",
      "[Epoch 83 / 200] [Train Loss 0.011876 (MSE)] [Valid Loss 0.016892 (MSE)] [Learning Rate: 7.8125e-06]\n",
      "[Epoch 84 / 200] [Train Loss 0.011625 (MSE)] [Valid Loss 0.016852 (MSE)] [Learning Rate: 7.8125e-06]\n",
      "[Epoch 85 / 200] [Train Loss 0.013102 (MSE)] [Valid Loss 0.016835 (MSE)] [Learning Rate: 3.90625e-06]\n",
      "[Epoch 86 / 200] [Train Loss 0.011830 (MSE)] [Valid Loss 0.016826 (MSE)] [Learning Rate: 3.90625e-06]\n",
      "[Epoch 87 / 200] [Train Loss 0.013859 (MSE)] [Valid Loss 0.016878 (MSE)] [Learning Rate: 3.90625e-06]\n",
      "[Epoch 88 / 200] [Train Loss 0.013176 (MSE)] [Valid Loss 0.016836 (MSE)] [Learning Rate: 3.90625e-06]\n",
      "[Epoch 89 / 200] [Train Loss 0.010176 (MSE)] [Valid Loss 0.016811 (MSE)] [Learning Rate: 3.90625e-06]\n",
      "[Epoch 90 / 200] [Train Loss 0.011346 (MSE)] [Valid Loss 0.016807 (MSE)] [Learning Rate: 3.90625e-06]\n",
      "[Epoch 91 / 200] [Train Loss 0.010668 (MSE)] [Valid Loss 0.016813 (MSE)] [Learning Rate: 1.953125e-06]\n",
      "[Epoch 92 / 200] [Train Loss 0.010845 (MSE)] [Valid Loss 0.016819 (MSE)] [Learning Rate: 1.953125e-06]\n",
      "[Epoch 93 / 200] [Train Loss 0.010859 (MSE)] [Valid Loss 0.016832 (MSE)] [Learning Rate: 1.953125e-06]\n",
      "[Epoch 94 / 200] [Train Loss 0.010489 (MSE)] [Valid Loss 0.016845 (MSE)] [Learning Rate: 1.953125e-06]\n",
      "[Epoch 95 / 200] [Train Loss 0.011501 (MSE)] [Valid Loss 0.016841 (MSE)] [Learning Rate: 1.953125e-06]\n",
      "[Epoch 96 / 200] [Train Loss 0.012660 (MSE)] [Valid Loss 0.016803 (MSE)] [Learning Rate: 1.953125e-06]\n",
      "[Epoch 97 / 200] [Train Loss 0.011345 (MSE)] [Valid Loss 0.016785 (MSE)] [Learning Rate: 9.765625e-07]\n",
      "[Epoch 98 / 200] [Train Loss 0.013657 (MSE)] [Valid Loss 0.016781 (MSE)] [Learning Rate: 9.765625e-07]\n",
      "[Epoch 99 / 200] [Train Loss 0.011170 (MSE)] [Valid Loss 0.016788 (MSE)] [Learning Rate: 9.765625e-07]\n",
      "[Epoch 100 / 200] [Train Loss 0.010133 (MSE)] [Valid Loss 0.016790 (MSE)] [Learning Rate: 9.765625e-07]\n",
      "[Epoch 101 / 200] [Train Loss 0.012259 (MSE)] [Valid Loss 0.016793 (MSE)] [Learning Rate: 9.765625e-07]\n",
      "[Epoch 102 / 200] [Train Loss 0.011116 (MSE)] [Valid Loss 0.016796 (MSE)] [Learning Rate: 9.765625e-07]\n",
      "[Epoch 103 / 200] [Train Loss 0.012584 (MSE)] [Valid Loss 0.016795 (MSE)] [Learning Rate: 4.8828125e-07]\n",
      "[Epoch 104 / 200] [Train Loss 0.011198 (MSE)] [Valid Loss 0.016795 (MSE)] [Learning Rate: 4.8828125e-07]\n",
      "[Epoch 105 / 200] [Train Loss 0.013333 (MSE)] [Valid Loss 0.016792 (MSE)] [Learning Rate: 4.8828125e-07]\n",
      "[Epoch 106 / 200] [Train Loss 0.012690 (MSE)] [Valid Loss 0.016793 (MSE)] [Learning Rate: 4.8828125e-07]\n",
      "[Epoch 107 / 200] [Train Loss 0.011169 (MSE)] [Valid Loss 0.016791 (MSE)] [Learning Rate: 4.8828125e-07]\n",
      "[Epoch 108 / 200] [Train Loss 0.010699 (MSE)] [Valid Loss 0.016790 (MSE)] [Learning Rate: 4.8828125e-07]\n",
      "[Epoch 109 / 200] [Train Loss 0.011016 (MSE)] [Valid Loss 0.016791 (MSE)] [Learning Rate: 2.44140625e-07]\n",
      "[Epoch 110 / 200] [Train Loss 0.013548 (MSE)] [Valid Loss 0.016793 (MSE)] [Learning Rate: 2.44140625e-07]\n",
      "[Epoch 111 / 200] [Train Loss 0.014615 (MSE)] [Valid Loss 0.016792 (MSE)] [Learning Rate: 2.44140625e-07]\n",
      "[Epoch 112 / 200] [Train Loss 0.012449 (MSE)] [Valid Loss 0.016794 (MSE)] [Learning Rate: 2.44140625e-07]\n",
      "[Epoch 113 / 200] [Train Loss 0.011573 (MSE)] [Valid Loss 0.016796 (MSE)] [Learning Rate: 2.44140625e-07]\n",
      "[Epoch 114 / 200] [Train Loss 0.013823 (MSE)] [Valid Loss 0.016796 (MSE)] [Learning Rate: 2.44140625e-07]\n",
      "[Epoch 115 / 200] [Train Loss 0.012396 (MSE)] [Valid Loss 0.016796 (MSE)] [Learning Rate: 1.220703125e-07]\n",
      "[Epoch 116 / 200] [Train Loss 0.011340 (MSE)] [Valid Loss 0.016796 (MSE)] [Learning Rate: 1.220703125e-07]\n",
      "[Epoch 117 / 200] [Train Loss 0.011323 (MSE)] [Valid Loss 0.016795 (MSE)] [Learning Rate: 1.220703125e-07]\n",
      "[Epoch 118 / 200] [Train Loss 0.013351 (MSE)] [Valid Loss 0.016795 (MSE)] [Learning Rate: 1.220703125e-07]\n",
      "[Epoch 119 / 200] [Train Loss 0.012696 (MSE)] [Valid Loss 0.016796 (MSE)] [Learning Rate: 1.220703125e-07]\n",
      "[Epoch 120 / 200] [Train Loss 0.011232 (MSE)] [Valid Loss 0.016795 (MSE)] [Learning Rate: 1.220703125e-07]\n",
      "[Epoch 121 / 200] [Train Loss 0.012262 (MSE)] [Valid Loss 0.016795 (MSE)] [Learning Rate: 6.103515625e-08]\n",
      "[Epoch 122 / 200] [Train Loss 0.014293 (MSE)] [Valid Loss 0.016794 (MSE)] [Learning Rate: 6.103515625e-08]\n",
      "[Epoch 123 / 200] [Train Loss 0.011688 (MSE)] [Valid Loss 0.016794 (MSE)] [Learning Rate: 6.103515625e-08]\n",
      "[Epoch 124 / 200] [Train Loss 0.013886 (MSE)] [Valid Loss 0.016794 (MSE)] [Learning Rate: 6.103515625e-08]\n",
      "[Epoch 125 / 200] [Train Loss 0.012559 (MSE)] [Valid Loss 0.016794 (MSE)] [Learning Rate: 6.103515625e-08]\n",
      "[Epoch 126 / 200] [Train Loss 0.013065 (MSE)] [Valid Loss 0.016794 (MSE)] [Learning Rate: 6.103515625e-08]\n",
      "[Epoch 127 / 200] [Train Loss 0.015198 (MSE)] [Valid Loss 0.016794 (MSE)] [Learning Rate: 3.0517578125e-08]\n",
      "[Epoch 128 / 200] [Train Loss 0.012368 (MSE)] [Valid Loss 0.016794 (MSE)] [Learning Rate: 3.0517578125e-08]\n",
      "[Epoch 129 / 200] [Train Loss 0.011615 (MSE)] [Valid Loss 0.016794 (MSE)] [Learning Rate: 3.0517578125e-08]\n",
      "[Epoch 130 / 200] [Train Loss 0.013331 (MSE)] [Valid Loss 0.016794 (MSE)] [Learning Rate: 3.0517578125e-08]\n",
      "[Epoch 131 / 200] [Train Loss 0.012321 (MSE)] [Valid Loss 0.016794 (MSE)] [Learning Rate: 3.0517578125e-08]\n",
      "[Epoch 132 / 200] [Train Loss 0.014861 (MSE)] [Valid Loss 0.016794 (MSE)] [Learning Rate: 3.0517578125e-08]\n",
      "[Epoch 133 / 200] [Train Loss 0.009741 (MSE)] [Valid Loss 0.016794 (MSE)] [Learning Rate: 1.52587890625e-08]\n",
      "[Epoch 134 / 200] [Train Loss 0.012451 (MSE)] [Valid Loss 0.016793 (MSE)] [Learning Rate: 1.52587890625e-08]\n",
      "[Epoch 135 / 200] [Train Loss 0.013754 (MSE)] [Valid Loss 0.016793 (MSE)] [Learning Rate: 1.52587890625e-08]\n",
      "[Epoch 136 / 200] [Train Loss 0.013868 (MSE)] [Valid Loss 0.016793 (MSE)] [Learning Rate: 1.52587890625e-08]\n",
      "[Epoch 137 / 200] [Train Loss 0.011072 (MSE)] [Valid Loss 0.016793 (MSE)] [Learning Rate: 1.52587890625e-08]\n",
      "[Epoch 138 / 200] [Train Loss 0.011387 (MSE)] [Valid Loss 0.016793 (MSE)] [Learning Rate: 1.52587890625e-08]\n",
      "[Epoch 139 / 200] [Train Loss 0.012082 (MSE)] [Valid Loss 0.016793 (MSE)] [Learning Rate: 1.52587890625e-08]\n",
      "[Epoch 140 / 200] [Train Loss 0.011845 (MSE)] [Valid Loss 0.016794 (MSE)] [Learning Rate: 1.52587890625e-08]\n",
      "[Epoch 141 / 200] [Train Loss 0.012367 (MSE)] [Valid Loss 0.016794 (MSE)] [Learning Rate: 1.52587890625e-08]\n",
      "[Epoch 142 / 200] [Train Loss 0.014144 (MSE)] [Valid Loss 0.016794 (MSE)] [Learning Rate: 1.52587890625e-08]\n",
      "[Epoch 143 / 200] [Train Loss 0.011042 (MSE)] [Valid Loss 0.016794 (MSE)] [Learning Rate: 1.52587890625e-08]\n",
      "[Epoch 144 / 200] [Train Loss 0.012050 (MSE)] [Valid Loss 0.016793 (MSE)] [Learning Rate: 1.52587890625e-08]\n",
      "[Epoch 145 / 200] [Train Loss 0.011051 (MSE)] [Valid Loss 0.016794 (MSE)] [Learning Rate: 1.52587890625e-08]\n",
      "[Epoch 146 / 200] [Train Loss 0.011551 (MSE)] [Valid Loss 0.016794 (MSE)] [Learning Rate: 1.52587890625e-08]\n",
      "[Epoch 147 / 200] [Train Loss 0.011810 (MSE)] [Valid Loss 0.016794 (MSE)] [Learning Rate: 1.52587890625e-08]\n",
      "[Epoch 148 / 200] [Train Loss 0.015097 (MSE)] [Valid Loss 0.016794 (MSE)] [Learning Rate: 1.52587890625e-08]\n",
      "[Epoch 149 / 200] [Train Loss 0.011389 (MSE)] [Valid Loss 0.016794 (MSE)] [Learning Rate: 1.52587890625e-08]\n",
      "[Epoch 150 / 200] [Train Loss 0.011550 (MSE)] [Valid Loss 0.016794 (MSE)] [Learning Rate: 1.52587890625e-08]\n",
      "[Epoch 151 / 200] [Train Loss 0.012314 (MSE)] [Valid Loss 0.016794 (MSE)] [Learning Rate: 1.52587890625e-08]\n",
      "[Epoch 152 / 200] [Train Loss 0.012049 (MSE)] [Valid Loss 0.016794 (MSE)] [Learning Rate: 1.52587890625e-08]\n",
      "[Epoch 153 / 200] [Train Loss 0.010735 (MSE)] [Valid Loss 0.016794 (MSE)] [Learning Rate: 1.52587890625e-08]\n",
      "[Epoch 154 / 200] [Train Loss 0.013346 (MSE)] [Valid Loss 0.016794 (MSE)] [Learning Rate: 1.52587890625e-08]\n",
      "[Epoch 155 / 200] [Train Loss 0.011092 (MSE)] [Valid Loss 0.016794 (MSE)] [Learning Rate: 1.52587890625e-08]\n",
      "[Epoch 156 / 200] [Train Loss 0.009469 (MSE)] [Valid Loss 0.016794 (MSE)] [Learning Rate: 1.52587890625e-08]\n",
      "[Epoch 157 / 200] [Train Loss 0.010904 (MSE)] [Valid Loss 0.016794 (MSE)] [Learning Rate: 1.52587890625e-08]\n",
      "[Epoch 158 / 200] [Train Loss 0.014447 (MSE)] [Valid Loss 0.016794 (MSE)] [Learning Rate: 1.52587890625e-08]\n",
      "[Epoch 159 / 200] [Train Loss 0.011080 (MSE)] [Valid Loss 0.016794 (MSE)] [Learning Rate: 1.52587890625e-08]\n",
      "[Epoch 160 / 200] [Train Loss 0.011906 (MSE)] [Valid Loss 0.016794 (MSE)] [Learning Rate: 1.52587890625e-08]\n",
      "[Epoch 161 / 200] [Train Loss 0.010854 (MSE)] [Valid Loss 0.016794 (MSE)] [Learning Rate: 1.52587890625e-08]\n",
      "[Epoch 162 / 200] [Train Loss 0.012083 (MSE)] [Valid Loss 0.016794 (MSE)] [Learning Rate: 1.52587890625e-08]\n",
      "[Epoch 163 / 200] [Train Loss 0.013124 (MSE)] [Valid Loss 0.016794 (MSE)] [Learning Rate: 1.52587890625e-08]\n",
      "[Epoch 164 / 200] [Train Loss 0.016102 (MSE)] [Valid Loss 0.016794 (MSE)] [Learning Rate: 1.52587890625e-08]\n",
      "[Epoch 165 / 200] [Train Loss 0.011170 (MSE)] [Valid Loss 0.016794 (MSE)] [Learning Rate: 1.52587890625e-08]\n",
      "[Epoch 166 / 200] [Train Loss 0.010637 (MSE)] [Valid Loss 0.016794 (MSE)] [Learning Rate: 1.52587890625e-08]\n",
      "[Epoch 167 / 200] [Train Loss 0.011405 (MSE)] [Valid Loss 0.016793 (MSE)] [Learning Rate: 1.52587890625e-08]\n",
      "[Epoch 168 / 200] [Train Loss 0.012300 (MSE)] [Valid Loss 0.016793 (MSE)] [Learning Rate: 1.52587890625e-08]\n",
      "[Epoch 169 / 200] [Train Loss 0.013773 (MSE)] [Valid Loss 0.016793 (MSE)] [Learning Rate: 1.52587890625e-08]\n",
      "[Epoch 170 / 200] [Train Loss 0.012788 (MSE)] [Valid Loss 0.016793 (MSE)] [Learning Rate: 1.52587890625e-08]\n",
      "[Epoch 171 / 200] [Train Loss 0.012032 (MSE)] [Valid Loss 0.016793 (MSE)] [Learning Rate: 1.52587890625e-08]\n",
      "[Epoch 172 / 200] [Train Loss 0.012998 (MSE)] [Valid Loss 0.016794 (MSE)] [Learning Rate: 1.52587890625e-08]\n",
      "[Epoch 173 / 200] [Train Loss 0.011836 (MSE)] [Valid Loss 0.016794 (MSE)] [Learning Rate: 1.52587890625e-08]\n",
      "[Epoch 174 / 200] [Train Loss 0.014179 (MSE)] [Valid Loss 0.016793 (MSE)] [Learning Rate: 1.52587890625e-08]\n",
      "[Epoch 175 / 200] [Train Loss 0.011089 (MSE)] [Valid Loss 0.016793 (MSE)] [Learning Rate: 1.52587890625e-08]\n",
      "[Epoch 176 / 200] [Train Loss 0.011858 (MSE)] [Valid Loss 0.016794 (MSE)] [Learning Rate: 1.52587890625e-08]\n",
      "[Epoch 177 / 200] [Train Loss 0.013100 (MSE)] [Valid Loss 0.016794 (MSE)] [Learning Rate: 1.52587890625e-08]\n",
      "[Epoch 178 / 200] [Train Loss 0.012124 (MSE)] [Valid Loss 0.016794 (MSE)] [Learning Rate: 1.52587890625e-08]\n",
      "[Epoch 179 / 200] [Train Loss 0.011747 (MSE)] [Valid Loss 0.016794 (MSE)] [Learning Rate: 1.52587890625e-08]\n",
      "[Epoch 180 / 200] [Train Loss 0.011980 (MSE)] [Valid Loss 0.016794 (MSE)] [Learning Rate: 1.52587890625e-08]\n",
      "[Epoch 181 / 200] [Train Loss 0.011576 (MSE)] [Valid Loss 0.016794 (MSE)] [Learning Rate: 1.52587890625e-08]\n",
      "[Epoch 182 / 200] [Train Loss 0.012536 (MSE)] [Valid Loss 0.016794 (MSE)] [Learning Rate: 1.52587890625e-08]\n",
      "[Epoch 183 / 200] [Train Loss 0.012496 (MSE)] [Valid Loss 0.016794 (MSE)] [Learning Rate: 1.52587890625e-08]\n",
      "[Epoch 184 / 200] [Train Loss 0.013539 (MSE)] [Valid Loss 0.016794 (MSE)] [Learning Rate: 1.52587890625e-08]\n",
      "[Epoch 185 / 200] [Train Loss 0.012662 (MSE)] [Valid Loss 0.016794 (MSE)] [Learning Rate: 1.52587890625e-08]\n",
      "[Epoch 186 / 200] [Train Loss 0.012267 (MSE)] [Valid Loss 0.016794 (MSE)] [Learning Rate: 1.52587890625e-08]\n",
      "[Epoch 187 / 200] [Train Loss 0.012376 (MSE)] [Valid Loss 0.016793 (MSE)] [Learning Rate: 1.52587890625e-08]\n",
      "[Epoch 188 / 200] [Train Loss 0.011293 (MSE)] [Valid Loss 0.016794 (MSE)] [Learning Rate: 1.52587890625e-08]\n",
      "[Epoch 189 / 200] [Train Loss 0.011871 (MSE)] [Valid Loss 0.016794 (MSE)] [Learning Rate: 1.52587890625e-08]\n",
      "[Epoch 190 / 200] [Train Loss 0.012803 (MSE)] [Valid Loss 0.016794 (MSE)] [Learning Rate: 1.52587890625e-08]\n",
      "[Epoch 191 / 200] [Train Loss 0.011753 (MSE)] [Valid Loss 0.016794 (MSE)] [Learning Rate: 1.52587890625e-08]\n",
      "[Epoch 192 / 200] [Train Loss 0.011674 (MSE)] [Valid Loss 0.016793 (MSE)] [Learning Rate: 1.52587890625e-08]\n",
      "[Epoch 193 / 200] [Train Loss 0.009446 (MSE)] [Valid Loss 0.016794 (MSE)] [Learning Rate: 1.52587890625e-08]\n",
      "[Epoch 194 / 200] [Train Loss 0.009197 (MSE)] [Valid Loss 0.016794 (MSE)] [Learning Rate: 1.52587890625e-08]\n",
      "[Epoch 195 / 200] [Train Loss 0.012641 (MSE)] [Valid Loss 0.016794 (MSE)] [Learning Rate: 1.52587890625e-08]\n",
      "[Epoch 196 / 200] [Train Loss 0.010954 (MSE)] [Valid Loss 0.016794 (MSE)] [Learning Rate: 1.52587890625e-08]\n",
      "[Epoch 197 / 200] [Train Loss 0.012831 (MSE)] [Valid Loss 0.016794 (MSE)] [Learning Rate: 1.52587890625e-08]\n",
      "[Epoch 198 / 200] [Train Loss 0.010642 (MSE)] [Valid Loss 0.016793 (MSE)] [Learning Rate: 1.52587890625e-08]\n",
      "[Epoch 199 / 200] [Train Loss 0.012820 (MSE)] [Valid Loss 0.016793 (MSE)] [Learning Rate: 1.52587890625e-08]\n",
      "[Epoch 200 / 200] [Train Loss 0.011804 (MSE)] [Valid Loss 0.016794 (MSE)] [Learning Rate: 1.52587890625e-08]\n"
     ]
    }
   ],
   "source": [
    "# Criterion and optimizer\n",
    "criterion = nn.MSELoss()\n",
    "optimizer = optim.Adam(\n",
    "    vgg16.classifier.parameters(), lr=LR, weight_decay=LR_WEIGHT_DECAY\n",
    ")\n",
    "scheduler = torch.optim.lr_scheduler.ReduceLROnPlateau(\n",
    "    optimizer, mode=\"min\", factor=0.5, patience=5\n",
    ")\n",
    "\n",
    "# Record the loss values\n",
    "train_loss_list = []\n",
    "val_loss_list = []\n",
    "\n",
    "# Loop by epoch\n",
    "for epoch in range(NUM_EPOCHS):\n",
    "\n",
    "    # Train\n",
    "    vgg16.train()\n",
    "    train_loss = 0.0\n",
    "    train_size = 0\n",
    "    for batch_images, batch_labels in train_loader:\n",
    "        # Load data\n",
    "        batch_images = batch_images.to(device)\n",
    "        batch_labels = batch_labels.to(device)\n",
    "        # Pass loss value\n",
    "        outputs = vgg16(batch_images)\n",
    "        loss = criterion(outputs, batch_labels)\n",
    "        # Back propagation\n",
    "        optimizer.zero_grad()\n",
    "        loss.backward()\n",
    "        optimizer.step()\n",
    "        # Add to the total loss\n",
    "        batch_size = batch_images.size(0)\n",
    "        train_loss += loss.item() * batch_size\n",
    "        train_size += batch_size\n",
    "\n",
    "    train_loss = train_loss / train_size\n",
    "    train_loss_list.append(train_loss)\n",
    "\n",
    "    # Validate\n",
    "    vgg16.eval()\n",
    "    val_loss = 0\n",
    "    val_samples = 0\n",
    "    with torch.no_grad():\n",
    "        for batch_images, batch_labels in val_loader:\n",
    "            # Load data\n",
    "            batch_images = batch_images.to(device)\n",
    "            batch_labels = batch_labels.to(device)\n",
    "            # Output\n",
    "            outputs = vgg16(batch_images)\n",
    "            # Calculate loss\n",
    "            loss = criterion(outputs, batch_labels)\n",
    "            # Add to total loss\n",
    "            batch_size = batch_images.size(0)\n",
    "            val_loss += loss.item() * batch_size\n",
    "            val_samples += batch_size\n",
    "    val_loss /= val_samples\n",
    "    val_loss_list.append(val_loss)\n",
    "\n",
    "    # Print\n",
    "    print(\n",
    "        f\"[Epoch {(epoch+1):d} / {(NUM_EPOCHS):d}] [Train Loss {train_loss:f} (MSE)] [Valid Loss {val_loss:f} (MSE)] [Learning Rate: {optimizer.param_groups[0]['lr']}]\"\n",
    "    )\n",
    "\n",
    "    # Scheduler\n",
    "    scheduler.step(val_loss)"
   ]
  },
  {
   "cell_type": "markdown",
   "id": "7cf24633",
   "metadata": {},
   "source": [
    "Then we plot the graphs of `train_loss_list` and `val_loss_lost`."
   ]
  },
  {
   "cell_type": "code",
   "execution_count": 8,
   "id": "f06a4e35",
   "metadata": {
    "execution": {
     "iopub.execute_input": "2025-06-06T19:35:06.165257Z",
     "iopub.status.busy": "2025-06-06T19:35:06.165087Z",
     "iopub.status.idle": "2025-06-06T19:35:06.280915Z",
     "shell.execute_reply": "2025-06-06T19:35:06.280443Z"
    }
   },
   "outputs": [
    {
     "data": {
      "image/png": "[encoded data removed]",
      "text/plain": [
       "<Figure size 640x480 with 1 Axes>"
      ]
     },
     "metadata": {},
     "output_type": "display_data"
    }
   ],
   "source": [
    "x = list(range(NUM_EPOCHS))\n",
    "plt.plot(x, train_loss_list, label=\"Train Loss\", marker=\".\")\n",
    "plt.plot(x, val_loss_list, label=\"Val Loss\", marker=\".\")\n",
    "plt.xlabel(\"Epoch\")\n",
    "plt.ylabel(\"Loss\")\n",
    "plt.title(\"Training and Validation Loss\")\n",
    "plt.legend()\n",
    "plt.show()"
   ]
  },
  {
   "cell_type": "markdown",
   "id": "bedc2858",
   "metadata": {},
   "source": [
    "## Step 4 - Save / load the model\n",
    "\n",
    "After training, we need to save the models."
   ]
  },
  {
   "cell_type": "code",
   "execution_count": 9,
   "id": "75c4022d",
   "metadata": {
    "execution": {
     "iopub.execute_input": "2025-06-06T19:35:06.282964Z",
     "iopub.status.busy": "2025-06-06T19:35:06.282657Z",
     "iopub.status.idle": "2025-06-06T19:35:10.413069Z",
     "shell.execute_reply": "2025-06-06T19:35:10.412586Z"
    }
   },
   "outputs": [
    {
     "name": "stdout",
     "output_type": "stream",
     "text": [
      "Model saved to /home/ubuntu/Desktop/Ra/models/VGG16_128_regression_binned.pth\n"
     ]
    }
   ],
   "source": [
    "# Save the trained model to disk\n",
    "torch.save(vgg16.state_dict(), MODEL_PATH)\n",
    "print(f\"Model saved to {MODEL_PATH}\")"
   ]
  },
  {
   "cell_type": "markdown",
   "id": "814f9e3d",
   "metadata": {},
   "source": [
    "To read the saved data, we can run the following codes:"
   ]
  },
  {
   "cell_type": "code",
   "execution_count": 10,
   "id": "1b045a1c",
   "metadata": {
    "execution": {
     "iopub.execute_input": "2025-06-06T19:35:10.415075Z",
     "iopub.status.busy": "2025-06-06T19:35:10.414773Z",
     "iopub.status.idle": "2025-06-06T19:35:10.417143Z",
     "shell.execute_reply": "2025-06-06T19:35:10.416716Z"
    }
   },
   "outputs": [],
   "source": [
    "# # Load the trained model weights\n",
    "# vgg16.load_state_dict(torch.load(MODEL_PATH, map_location=device))\n",
    "# vgg16.eval()\n",
    "# print(\"Model loaded from\", MODEL_PATH)"
   ]
  },
  {
   "cell_type": "markdown",
   "id": "f3159f06",
   "metadata": {},
   "source": [
    "## Exceptional test\n",
    "\n",
    "Let's see if the model works well."
   ]
  },
  {
   "cell_type": "code",
   "execution_count": 11,
   "id": "5178524e",
   "metadata": {
    "execution": {
     "iopub.execute_input": "2025-06-06T19:35:10.418900Z",
     "iopub.status.busy": "2025-06-06T19:35:10.418629Z",
     "iopub.status.idle": "2025-06-06T19:35:12.462231Z",
     "shell.execute_reply": "2025-06-06T19:35:12.461762Z"
    }
   },
   "outputs": [
    {
     "name": "stdout",
     "output_type": "stream",
     "text": [
      "Model loaded from /home/ubuntu/Desktop/Ra/models/VGG16_128_regression_binned.pth\n",
      "    Real Labels  Predicted Labels      Diff      MAPE\n",
      "0         3.549          3.190166 -0.358834  0.898892\n",
      "1         4.550          4.064200 -0.485800  0.893231\n",
      "2         3.336          3.060239 -0.275761  0.917338\n",
      "3         1.599          1.709992  0.110992  0.930586\n",
      "4         4.075          4.134416  0.059416  0.985419\n",
      "5         3.905          3.867103 -0.037897  0.990295\n",
      "6         3.801          3.088771 -0.712229  0.812621\n",
      "7         2.836          3.522975  0.686975  0.757766\n",
      "8         1.578          2.570972  0.992972  0.370740\n",
      "9         3.302          3.541622  0.239622  0.927431\n",
      "10        3.995          4.207779  0.212779  0.946739\n",
      "11        2.123          3.200664  1.077664  0.492386\n",
      "12        3.902          3.324715 -0.577285  0.852054\n",
      "13        2.036          1.818962 -0.217038  0.893400\n",
      "14        3.819          3.469175 -0.349825  0.908399\n",
      "15        3.957          3.898547 -0.058453  0.985228\n",
      "16        4.597          4.415355 -0.181645  0.960486\n",
      "17        3.961          3.990244  0.029244  0.992617\n",
      "18        3.193          3.056964 -0.136036  0.957396\n",
      "19        3.399          3.242285 -0.156715  0.953894\n",
      "20        2.377          2.308307 -0.068693  0.971101\n",
      "21        2.680          2.869426  0.189426  0.929319\n",
      "22        4.338          4.094005 -0.243995  0.943754\n",
      "23        4.477          3.934155 -0.542845  0.878748\n",
      "24        2.641          2.552928 -0.088072  0.966652\n",
      "25        1.947          1.803472 -0.143528  0.926283\n",
      "26        4.577          3.816995 -0.760005  0.833951\n",
      "27        4.711          4.317759 -0.393241  0.916527\n",
      "28        3.414          3.483466  0.069466  0.979653\n",
      "29        4.057          3.928127 -0.128873  0.968234\n",
      "30        1.621          2.851770  1.230770  0.240734\n",
      "31        3.323          3.198483 -0.124517  0.962529\n",
      "32        2.147          2.178655  0.031655  0.985256\n",
      "33        1.649          2.357409  0.708409  0.570401\n",
      "34        3.935          4.116881  0.181881  0.953779\n",
      "35        2.656          2.283157 -0.372843  0.859622\n",
      "36        1.590          2.088595  0.498595  0.686418\n",
      "37        2.655          2.426665 -0.228335  0.913998\n",
      "38        2.076          1.982536 -0.093464  0.954979\n",
      "39        2.413          3.177896  0.764896  0.683011\n",
      "40        2.836          3.361171  0.525171  0.814820\n",
      "41        2.331          2.017097 -0.313903  0.865335\n",
      "42        4.740          3.541182 -1.198818  0.747085\n",
      "43        2.422          3.032088  0.610088  0.748106\n",
      "44        2.444          3.282398  0.838398  0.656957\n",
      "45        2.492          3.125013  0.633013  0.745982\n",
      "46        3.957          4.323338  0.366338  0.907420\n",
      "47        3.905          4.007478  0.102478  0.973757\n",
      "48        2.619          2.900529  0.281529  0.892505\n",
      "49        3.927          3.673071 -0.253929  0.935338\n",
      "50        3.819          3.825139  0.006139  0.998392\n",
      "51        3.119          2.973992 -0.145008  0.953508\n",
      "52        3.917          3.438779 -0.478221  0.877912\n",
      "53        2.453          2.364161 -0.088839  0.963783\n",
      "54        4.565          3.964487 -0.600513  0.868453\n",
      "55        4.597          4.842000  0.245000  0.946704\n",
      "56        2.691          2.542212 -0.148788  0.944709\n",
      "57        2.657          2.496010 -0.160990  0.939409\n",
      "58        3.725          2.642161 -1.082839  0.709305\n",
      "59        1.618          2.763014  1.145014  0.292328\n",
      "MAPE: 0.8555612467101862\n"
     ]
    },
    {
     "data": {
      "image/png": "[encoded data removed]",
      "text/plain": [
       "<Figure size 640x480 with 1 Axes>"
      ]
     },
     "metadata": {},
     "output_type": "display_data"
    },
    {
     "data": {
      "image/png": "[encoded data removed]",
      "text/plain": [
       "<Figure size 640x480 with 1 Axes>"
      ]
     },
     "metadata": {},
     "output_type": "display_data"
    }
   ],
   "source": [
    "# Load the trained model weights\n",
    "vgg16.load_state_dict(torch.load(MODEL_PATH, map_location=device))\n",
    "vgg16.eval()\n",
    "print(\"Model loaded from\", MODEL_PATH)\n",
    "\n",
    "# Turn to `numpy.array`\n",
    "labels_val_real = labels_val.numpy()\n",
    "labels_val_predicted = vgg16(images_val_tensor.to(device)).cpu().detach().numpy()\n",
    "\n",
    "# Unnormalize labels\n",
    "labels_val_real = labels_val_real * (MAX_LABEL - MIN_LABEL) + MIN_LABEL\n",
    "labels_val_predicted = labels_val_predicted * (MAX_LABEL - MIN_LABEL) + MIN_LABEL\n",
    "\n",
    "# Turn to `pandas.Series`\n",
    "labels_val_real = pd.Series(labels_val_real)\n",
    "labels_val_predicted = pd.Series(labels_val_predicted.flatten())\n",
    "labels_val_diff = labels_val_predicted - labels_val_real\n",
    "\n",
    "# Make `pandas.DataFrame`\n",
    "df = pd.DataFrame(\n",
    "    {\n",
    "        \"Real Labels\": labels_val_real,\n",
    "        \"Predicted Labels\": labels_val_predicted,\n",
    "        \"Diff\": labels_val_diff,\n",
    "        \"MAPE\": 1 - np.abs(labels_val_diff) / labels_val_real\n",
    "    }\n",
    ")\n",
    "df.to_csv(OUTPUT_PATH, index = False)\n",
    "print(df)\n",
    "print(f\"MAPE: {df[\"MAPE\"].mean()}\")\n",
    "\n",
    "# Boxplot of the differences\n",
    "plt.boxplot(labels_val_diff)\n",
    "plt.ylabel(\"Prediction Error (Predicted - Real)\")\n",
    "plt.title(\"Boxplot of Prediction Errors\")\n",
    "plt.show()\n",
    "\n",
    "# Plot the differences by the real labels.\n",
    "plt.scatter(labels_val_real, labels_val_diff, s=10)\n",
    "plt.xlabel(\"Real Labels\")\n",
    "plt.ylabel(\"Prediction Error (Predicted - Real)\")\n",
    "plt.title(\"Prediction Error vs Real Labels\")\n",
    "plt.axhline(0, color=\"red\", linestyle=\"--\", linewidth=1)\n",
    "plt.show()"
   ]
  }
 ],
 "metadata": {
  "kernelspec": {
   "display_name": "pytorch",
   "language": "python",
   "name": "python3"
  },
  "language_info": {
   "codemirror_mode": {
    "name": "ipython",
    "version": 3
   },
   "file_extension": ".py",
   "mimetype": "text/x-python",
   "name": "python",
   "nbconvert_exporter": "python",
   "pygments_lexer": "ipython3",
   "version": "3.12.10"
  }
 },
 "nbformat": 4,
 "nbformat_minor": 5
}
