{
 "cells": [
  {
   "cell_type": "markdown",
   "id": "05bee791",
   "metadata": {},
   "source": [
    "# VGG\n",
    "\n",
    "This notebook uses model \"VGG16\" to conduct regression of images."
   ]
  },
  {
   "cell_type": "code",
   "execution_count": 8,
   "id": "9c623ed7",
   "metadata": {
    "execution": {
     "iopub.execute_input": "2025-05-29T22:40:54.406756Z",
     "iopub.status.busy": "2025-05-29T22:40:54.406399Z",
     "iopub.status.idle": "2025-05-29T22:40:57.684867Z",
     "shell.execute_reply": "2025-05-29T22:40:57.684352Z"
    }
   },
   "outputs": [],
   "source": [
    "import h5py\n",
    "from matplotlib import pyplot as plt\n",
    "import numpy as np\n",
    "import os\n",
    "import pandas as pd\n",
    "from sklearn.model_selection import train_test_split\n",
    "import torch\n",
    "import torch.nn as nn\n",
    "import torch.optim as optim\n",
    "from torch.utils.data import TensorDataset, DataLoader\n",
    "from torchvision import models"
   ]
  },
  {
   "cell_type": "markdown",
   "id": "28904883",
   "metadata": {},
   "source": [
    "## Step 1 - Config\n",
    "\n",
    "First set the hyperparameters and other configurations."
   ]
  },
  {
   "cell_type": "code",
   "execution_count": null,
   "id": "33cb27b0",
   "metadata": {
    "execution": {
     "iopub.execute_input": "2025-05-29T22:40:57.687467Z",
     "iopub.status.busy": "2025-05-29T22:40:57.687174Z",
     "iopub.status.idle": "2025-05-29T22:40:57.822458Z",
     "shell.execute_reply": "2025-05-29T22:40:57.822002Z"
    }
   },
   "outputs": [
    {
     "name": "stdout",
     "output_type": "stream",
     "text": [
      "Device: cuda\n"
     ]
    }
   ],
   "source": [
    "# Dataset and model path\n",
    "DATASET_PATH = \"/home/ubuntu/Desktop/Ra/datasets/Ra_128_indexed.h5\"\n",
    "MODEL_PATH = \"/home/ubuntu/Desktop/Ra/models/VGG16_128_regression.pth\"\n",
    "OUTPUT_PATH = \"/home/ubuntu/Desktop/Ra/outputs/VGG16_128_regression.csv\"\n",
    "# Env\n",
    "SEED = 42\n",
    "# Dataset\n",
    "MIN_LABEL = 1.3\n",
    "MAX_LABEL = 5.2\n",
    "# Hyperparameters\n",
    "NUM_EPOCHS = 200\n",
    "LR = 1e-3\n",
    "LR_WEIGHT_DECAY = 1e-4\n",
    "TEST_SIZE = 0.2\n",
    "BATCH_SIZE_TRAIN = 64\n",
    "BATCH_SIZE_VAL = 10\n",
    "\n",
    "# Device\n",
    "device = \"cuda\" if torch.cuda.is_available() else \"cpu\"\n",
    "print(f\"Device: {device}\")\n",
    "\n",
    "# Path\n",
    "if not os.path.exists(os.path.dirname(MODEL_PATH)):\n",
    "    os.makedirs(os.path.dirname(MODEL_PATH), exist_ok=True)\n",
    "    print(f\"Make new directory {os.path.dirname(MODEL_PATH)}\")"
   ]
  },
  {
   "cell_type": "markdown",
   "id": "6d7ff1c7",
   "metadata": {},
   "source": [
    "Then load the pretrained model from `torchvision`."
   ]
  },
  {
   "cell_type": "code",
   "execution_count": 10,
   "id": "b8b13a96",
   "metadata": {
    "execution": {
     "iopub.execute_input": "2025-05-29T22:40:57.824481Z",
     "iopub.status.busy": "2025-05-29T22:40:57.824210Z",
     "iopub.status.idle": "2025-05-29T22:40:59.329245Z",
     "shell.execute_reply": "2025-05-29T22:40:59.328708Z"
    }
   },
   "outputs": [],
   "source": [
    "# Pretrained VGG16 model\n",
    "vgg16 = models.vgg16(pretrained=True)\n",
    "\n",
    "# Change the last layer to fit the regression task\n",
    "vgg16.classifier[-1] = nn.Linear(in_features=4096, out_features=1)\n",
    "\n",
    "# Choose to freeze the layers or not\n",
    "for param in vgg16.features.parameters():\n",
    "    param.requires_grad = False\n",
    "\n",
    "# Move to the appropriate device\n",
    "vgg16 = vgg16.to(device)"
   ]
  },
  {
   "cell_type": "markdown",
   "id": "4b3b175c",
   "metadata": {},
   "source": [
    "## Step 2 - Load data\n",
    "\n",
    "In this step we load the images and process them, the goal is to get `train_loader` and `val_loader` for training. After this step we will get:\n",
    "\n",
    "1. `images_train` and `images_val` (4 dim tensor)\n",
    "2. `labels_train` and `labels_val` (1 dim tensor)\n",
    "3. `train_dataset` and `val_dataset` (dataset)\n",
    "4. `train_loader` and `val_loader` (dataloader)\n",
    "\n",
    "First we load the images, and normalize the pixel values."
   ]
  },
  {
   "cell_type": "code",
   "execution_count": 11,
   "id": "bc9be499",
   "metadata": {
    "execution": {
     "iopub.execute_input": "2025-05-29T22:40:59.331634Z",
     "iopub.status.busy": "2025-05-29T22:40:59.331349Z",
     "iopub.status.idle": "2025-05-29T22:41:03.617056Z",
     "shell.execute_reply": "2025-05-29T22:41:03.616488Z"
    }
   },
   "outputs": [
    {
     "name": "stdout",
     "output_type": "stream",
     "text": [
      "Images and labels loaded.\n",
      "Images Shape: (9192, 128, 128, 3)\n",
      "Labels Shape: (9192,)\n",
      "\n",
      "Select indexes by MIN_LABEL = 1.3 and MAX_LABEL = 5.2\n",
      "Images Shape: (9192, 128, 128, 3)\n",
      "Labels Shape: (9192,)\n",
      "\n",
      "Transform `images` and `labels` to tensors.\n",
      "Images Shape: torch.Size([9192, 3, 128, 128])\n",
      "Labels Shape: torch.Size([9192])\n"
     ]
    }
   ],
   "source": [
    "# Load datasets\n",
    "with h5py.File(DATASET_PATH, \"r\") as f:\n",
    "    images = f[\"images\"][:].astype(float)\n",
    "    labels = f[\"labels\"][:].astype(float)\n",
    "N_all = len(images)\n",
    "print(\"Images and labels loaded.\")\n",
    "print(f\"Images Shape: {images.shape}\")\n",
    "print(f\"Labels Shape: {labels.shape}\")\n",
    "print(\"\")\n",
    "\n",
    "# Selection\n",
    "indx = np.where((labels >= MIN_LABEL) * (labels < MAX_LABEL) == True)[0]\n",
    "labels = labels[indx]\n",
    "images = images[indx]\n",
    "print(f\"Select indexes by MIN_LABEL = {MIN_LABEL} and MAX_LABEL = {MAX_LABEL}\")\n",
    "print(f\"Images Shape: {images.shape}\")\n",
    "print(f\"Labels Shape: {labels.shape}\")\n",
    "print(\"\")\n",
    "\n",
    "# To tensor\n",
    "images = torch.from_numpy(images).permute(0, 3, 1, 2)\n",
    "labels = torch.from_numpy(labels)\n",
    "print(\"Transform `images` and `labels` to tensors.\")\n",
    "print(f\"Images Shape: {images.shape}\")\n",
    "print(f\"Labels Shape: {labels.shape}\")\n",
    "\n",
    "# Image standardization\n",
    "mean = images.mean(dim=[0, 2, 3], keepdim=True)\n",
    "std = images.std(dim=[0, 2, 3], keepdim=True)\n",
    "images = (images - mean) / std\n",
    "\n",
    "# Label normalization\n",
    "labels = (labels - MIN_LABEL) / (MAX_LABEL - MIN_LABEL)"
   ]
  },
  {
   "cell_type": "markdown",
   "id": "2127b3c6",
   "metadata": {},
   "source": [
    "Then use `train_test_split` function to get data for training and validation."
   ]
  },
  {
   "cell_type": "code",
   "execution_count": 12,
   "id": "2f7d1dd9",
   "metadata": {
    "execution": {
     "iopub.execute_input": "2025-05-29T22:41:03.619772Z",
     "iopub.status.busy": "2025-05-29T22:41:03.619297Z",
     "iopub.status.idle": "2025-05-29T22:41:04.146806Z",
     "shell.execute_reply": "2025-05-29T22:41:04.146206Z"
    }
   },
   "outputs": [
    {
     "name": "stdout",
     "output_type": "stream",
     "text": [
      "Train test split with test size 0.2.\n",
      "Images (train) Shape: torch.Size([7353, 3, 128, 128])\n",
      "Images (val) Shape: torch.Size([1839, 3, 128, 128])\n",
      "Labels (train) Shape: torch.Size([7353])\n",
      "Labels (val) Shape: torch.Size([1839])\n"
     ]
    }
   ],
   "source": [
    "# Train-test split\n",
    "images_train, images_val, labels_train, labels_val = train_test_split(\n",
    "    images, labels, test_size=TEST_SIZE, random_state=SEED\n",
    ")\n",
    "print(f\"Train test split with test size {TEST_SIZE}.\")\n",
    "print(f\"Images (train) Shape: {images_train.shape}\")\n",
    "print(f\"Images (val) Shape: {images_val.shape}\")\n",
    "print(f\"Labels (train) Shape: {labels_train.shape}\")\n",
    "print(f\"Labels (val) Shape: {labels_val.shape}\")"
   ]
  },
  {
   "cell_type": "markdown",
   "id": "e5f55f94",
   "metadata": {},
   "source": [
    "Next, we should transform the data to tensors, combine `images` and `labels` to datasets and get dataloaders according to `BATCH_SIZE`."
   ]
  },
  {
   "cell_type": "code",
   "execution_count": 13,
   "id": "51549a4b",
   "metadata": {
    "execution": {
     "iopub.execute_input": "2025-05-29T22:41:04.149042Z",
     "iopub.status.busy": "2025-05-29T22:41:04.148828Z",
     "iopub.status.idle": "2025-05-29T22:41:04.436755Z",
     "shell.execute_reply": "2025-05-29T22:41:04.436267Z"
    }
   },
   "outputs": [
    {
     "name": "stderr",
     "output_type": "stream",
     "text": [
      "/tmp/ipykernel_7480/1722485521.py:2: UserWarning: To copy construct from a tensor, it is recommended to use sourceTensor.detach().clone() or sourceTensor.detach().clone().requires_grad_(True), rather than torch.tensor(sourceTensor).\n",
      "  images_train_tensor = torch.tensor(images_train, dtype=torch.float32)\n",
      "/tmp/ipykernel_7480/1722485521.py:3: UserWarning: To copy construct from a tensor, it is recommended to use sourceTensor.detach().clone() or sourceTensor.detach().clone().requires_grad_(True), rather than torch.tensor(sourceTensor).\n",
      "  images_val_tensor = torch.tensor(images_val, dtype=torch.float32)\n",
      "/tmp/ipykernel_7480/1722485521.py:4: UserWarning: To copy construct from a tensor, it is recommended to use sourceTensor.detach().clone() or sourceTensor.detach().clone().requires_grad_(True), rather than torch.tensor(sourceTensor).\n",
      "  labels_train_tensor = torch.tensor(labels_train, dtype=torch.float32).view(-1, 1)\n",
      "/tmp/ipykernel_7480/1722485521.py:5: UserWarning: To copy construct from a tensor, it is recommended to use sourceTensor.detach().clone() or sourceTensor.detach().clone().requires_grad_(True), rather than torch.tensor(sourceTensor).\n",
      "  labels_val_tensor = torch.tensor(labels_val, dtype=torch.float32).view(-1, 1)\n"
     ]
    },
    {
     "name": "stdout",
     "output_type": "stream",
     "text": [
      "Shape of `images_train_tensor`: torch.Size([7353, 3, 128, 128])\n",
      "Shape of `labels_train_tensor`: torch.Size([7353, 1])\n",
      "Shape of `images_val_tensor`: torch.Size([1839, 3, 128, 128])\n",
      "Shape of `labels_val_tensor`: torch.Size([1839, 1])\n"
     ]
    }
   ],
   "source": [
    "# Change to tensor\n",
    "images_train_tensor = torch.tensor(images_train, dtype=torch.float32)\n",
    "images_val_tensor = torch.tensor(images_val, dtype=torch.float32)\n",
    "labels_train_tensor = torch.tensor(labels_train, dtype=torch.float32).view(-1, 1)\n",
    "labels_val_tensor = torch.tensor(labels_val, dtype=torch.float32).view(-1, 1)\n",
    "print(f\"Shape of `images_train_tensor`: {images_train_tensor.shape}\")\n",
    "print(f\"Shape of `labels_train_tensor`: {labels_train_tensor.shape}\")\n",
    "print(f\"Shape of `images_val_tensor`: {images_val_tensor.shape}\")\n",
    "print(f\"Shape of `labels_val_tensor`: {labels_val_tensor.shape}\")\n",
    "\n",
    "# Tensor's dataset\n",
    "train_dataset = TensorDataset(images_train_tensor, labels_train_tensor)\n",
    "val_dataset = TensorDataset(images_val_tensor, labels_val_tensor)\n",
    "\n",
    "# DataLoader\n",
    "train_loader = DataLoader(train_dataset, batch_size=BATCH_SIZE_TRAIN, shuffle=True)\n",
    "val_loader = DataLoader(val_dataset, batch_size=BATCH_SIZE_VAL)"
   ]
  },
  {
   "cell_type": "markdown",
   "id": "ce4ea102",
   "metadata": {},
   "source": [
    "## Step 3 - Train"
   ]
  },
  {
   "cell_type": "markdown",
   "id": "534bdeac",
   "metadata": {},
   "source": [
    "Start training for `epoch` loops, record the training losses and validation losses."
   ]
  },
  {
   "cell_type": "code",
   "execution_count": 14,
   "id": "c0161423",
   "metadata": {
    "execution": {
     "iopub.execute_input": "2025-05-29T22:41:04.439004Z",
     "iopub.status.busy": "2025-05-29T22:41:04.438813Z",
     "iopub.status.idle": "2025-05-29T23:04:53.312242Z",
     "shell.execute_reply": "2025-05-29T23:04:53.311740Z"
    }
   },
   "outputs": [],
   "source": [
    "# Criterion and optimizer\n",
    "criterion = nn.MSELoss()\n",
    "optimizer = optim.Adam(\n",
    "    vgg16.classifier.parameters(), lr=LR, weight_decay=LR_WEIGHT_DECAY\n",
    ")\n",
    "scheduler = torch.optim.lr_scheduler.ReduceLROnPlateau(\n",
    "    optimizer, mode=\"min\", factor=0.5, patience=5\n",
    ")\n",
    "\n",
    "# Record the loss values\n",
    "train_loss_list = []\n",
    "val_loss_list = []\n",
    "\n",
    "# # Loop by epoch\n",
    "# for epoch in range(NUM_EPOCHS):\n",
    "\n",
    "#     # Train\n",
    "#     vgg16.train()\n",
    "#     train_loss = 0.0\n",
    "#     train_size = 0\n",
    "#     for batch_images, batch_labels in train_loader:\n",
    "#         # Load data\n",
    "#         batch_images = batch_images.to(device)\n",
    "#         batch_labels = batch_labels.to(device)\n",
    "#         # Pass loss value\n",
    "#         outputs = vgg16(batch_images)\n",
    "#         loss = criterion(outputs, batch_labels)\n",
    "#         # Back propagation\n",
    "#         optimizer.zero_grad()\n",
    "#         loss.backward()\n",
    "#         optimizer.step()\n",
    "#         # Add to the total loss\n",
    "#         batch_size = batch_images.size(0)\n",
    "#         train_loss += loss.item() * batch_size\n",
    "#         train_size += batch_size\n",
    "\n",
    "#     train_loss = train_loss / train_size\n",
    "#     train_loss_list.append(train_loss)\n",
    "\n",
    "#     # Validate\n",
    "#     vgg16.eval()\n",
    "#     val_loss = 0\n",
    "#     val_samples = 0\n",
    "#     with torch.no_grad():\n",
    "#         for batch_images, batch_labels in val_loader:\n",
    "#             # Load data\n",
    "#             batch_images = batch_images.to(device)\n",
    "#             batch_labels = batch_labels.to(device)\n",
    "#             # Output\n",
    "#             outputs = vgg16(batch_images)\n",
    "#             # Calculate loss\n",
    "#             loss = criterion(outputs, batch_labels)\n",
    "#             # Add to total loss\n",
    "#             batch_size = batch_images.size(0)\n",
    "#             val_loss += loss.item() * batch_size\n",
    "#             val_samples += batch_size\n",
    "#     val_loss /= val_samples\n",
    "#     val_loss_list.append(val_loss)\n",
    "\n",
    "#     # Print\n",
    "#     print(\n",
    "#         f\"[Epoch {(epoch+1):d} / {(NUM_EPOCHS):d}] [Train Loss {train_loss:f} (MSE)] [Valid Loss {val_loss:f} (MSE)] [Learning Rate: {optimizer.param_groups[0]['lr']}]\"\n",
    "#     )\n",
    "\n",
    "#     # Scheduler\n",
    "#     scheduler.step(val_loss)"
   ]
  },
  {
   "cell_type": "markdown",
   "id": "7cf24633",
   "metadata": {},
   "source": [
    "Then we plot the graphs of `train_loss_list` and `val_loss_lost`."
   ]
  },
  {
   "cell_type": "code",
   "execution_count": 15,
   "id": "f06a4e35",
   "metadata": {
    "execution": {
     "iopub.execute_input": "2025-05-29T23:04:53.314343Z",
     "iopub.status.busy": "2025-05-29T23:04:53.314047Z",
     "iopub.status.idle": "2025-05-29T23:04:53.428756Z",
     "shell.execute_reply": "2025-05-29T23:04:53.428296Z"
    }
   },
   "outputs": [],
   "source": [
    "# x = list(range(NUM_EPOCHS))\n",
    "# plt.plot(x, train_loss_list, label=\"Train Loss\", marker=\".\")\n",
    "# plt.plot(x, val_loss_list, label=\"Val Loss\", marker=\".\")\n",
    "# plt.xlabel(\"Epoch\")\n",
    "# plt.ylabel(\"Loss\")\n",
    "# plt.title(\"Training and Validation Loss\")\n",
    "# plt.legend()\n",
    "# plt.show()"
   ]
  },
  {
   "cell_type": "markdown",
   "id": "bedc2858",
   "metadata": {},
   "source": [
    "## Step 4 - Save / load the model\n",
    "\n",
    "After training, we need to save the models."
   ]
  },
  {
   "cell_type": "code",
   "execution_count": 16,
   "id": "75c4022d",
   "metadata": {
    "execution": {
     "iopub.execute_input": "2025-05-29T23:04:53.430831Z",
     "iopub.status.busy": "2025-05-29T23:04:53.430546Z",
     "iopub.status.idle": "2025-05-29T23:04:57.618614Z",
     "shell.execute_reply": "2025-05-29T23:04:57.618136Z"
    }
   },
   "outputs": [],
   "source": [
    "# # Save the trained model to disk\n",
    "# torch.save(vgg16.state_dict(), MODEL_PATH)\n",
    "# print(f\"Model saved to {MODEL_PATH}\")"
   ]
  },
  {
   "cell_type": "markdown",
   "id": "814f9e3d",
   "metadata": {},
   "source": [
    "To read the saved data, we can run the following codes:"
   ]
  },
  {
   "cell_type": "code",
   "execution_count": 17,
   "id": "1b045a1c",
   "metadata": {
    "execution": {
     "iopub.execute_input": "2025-05-29T23:04:57.620616Z",
     "iopub.status.busy": "2025-05-29T23:04:57.620330Z",
     "iopub.status.idle": "2025-05-29T23:04:57.622700Z",
     "shell.execute_reply": "2025-05-29T23:04:57.622284Z"
    }
   },
   "outputs": [],
   "source": [
    "# # Load the trained model weights\n",
    "# vgg16.load_state_dict(torch.load(MODEL_PATH, map_location=device))\n",
    "# vgg16.eval()\n",
    "# print(\"Model loaded from\", MODEL_PATH)"
   ]
  },
  {
   "cell_type": "markdown",
   "id": "f3159f06",
   "metadata": {},
   "source": [
    "## Exceptional test\n",
    "\n",
    "Let's see if the model works well."
   ]
  },
  {
   "cell_type": "code",
   "execution_count": 18,
   "id": "5178524e",
   "metadata": {
    "execution": {
     "iopub.execute_input": "2025-05-29T23:04:57.624557Z",
     "iopub.status.busy": "2025-05-29T23:04:57.624291Z",
     "iopub.status.idle": "2025-05-29T23:04:59.854656Z",
     "shell.execute_reply": "2025-05-29T23:04:59.854195Z"
    }
   },
   "outputs": [
    {
     "name": "stdout",
     "output_type": "stream",
     "text": [
      "Model loaded from /home/ubuntu/Desktop/Ra/models/VGG_128_regression.pth\n",
      "      Real Labels  Predicted Labels      Diff      MAPE\n",
      "0           1.746          1.737595 -0.008405  0.995186\n",
      "1           2.695          3.010450  0.315450  0.882950\n",
      "2           1.816          2.055939  0.239939  0.867875\n",
      "3           2.354          2.415876  0.061876  0.973714\n",
      "4           3.901          3.885176 -0.015824  0.995944\n",
      "...           ...               ...       ...       ...\n",
      "1834        2.051          2.058516  0.007516  0.996336\n",
      "1835        1.757          1.682156 -0.074844  0.957402\n",
      "1836        2.593          2.941000  0.348000  0.865792\n",
      "1837        4.092          4.103238  0.011238  0.997254\n",
      "1838        2.040          1.938146 -0.101854  0.950071\n",
      "\n",
      "[1839 rows x 4 columns]\n",
      "MAPE: 0.9566445001014806\n"
     ]
    },
    {
     "data": {
      "image/png": "[encoded data removed]",
      "text/plain": [
       "<Figure size 640x480 with 1 Axes>"
      ]
     },
     "metadata": {},
     "output_type": "display_data"
    },
    {
     "data": {
      "image/png": "[encoded data removed]",
      "text/plain": [
       "<Figure size 640x480 with 1 Axes>"
      ]
     },
     "metadata": {},
     "output_type": "display_data"
    }
   ],
   "source": [
    "# Load the trained model weights\n",
    "vgg16.load_state_dict(torch.load(MODEL_PATH, map_location=device))\n",
    "vgg16.eval()\n",
    "print(\"Model loaded from\", MODEL_PATH)\n",
    "\n",
    "# Turn to `numpy.array`\n",
    "labels_val_real = labels_val.numpy()\n",
    "labels_val_predicted = vgg16(images_val_tensor.to(device)).cpu().detach().numpy()\n",
    "\n",
    "# Unnormalize labels\n",
    "labels_val_real = labels_val_real * (MAX_LABEL - MIN_LABEL) + MIN_LABEL\n",
    "labels_val_predicted = labels_val_predicted * (MAX_LABEL - MIN_LABEL) + MIN_LABEL\n",
    "\n",
    "# Turn to `pandas.Series`\n",
    "labels_val_real = pd.Series(labels_val_real)\n",
    "labels_val_predicted = pd.Series(labels_val_predicted.flatten())\n",
    "labels_val_diff = labels_val_predicted - labels_val_real\n",
    "\n",
    "# Make `pandas.DataFrame`\n",
    "df = pd.DataFrame(\n",
    "    {\n",
    "        \"Real Labels\": labels_val_real,\n",
    "        \"Predicted Labels\": labels_val_predicted,\n",
    "        \"Diff\": labels_val_diff,\n",
    "        \"MAPE\": 1 - np.abs(labels_val_diff) / labels_val_real\n",
    "    }\n",
    ")\n",
    "df.to_csv(OUTPUT_PATH, index = False)\n",
    "print(df)\n",
    "print(f\"MAPE: {df[\"MAPE\"].mean()}\")\n",
    "\n",
    "# Boxplot of the differences\n",
    "plt.boxplot(labels_val_diff)\n",
    "plt.ylabel(\"Prediction Error (Predicted - Real)\")\n",
    "plt.title(\"Boxplot of Prediction Errors\")\n",
    "plt.show()\n",
    "\n",
    "# Plot the differences by the real labels.\n",
    "plt.scatter(labels_val_real, labels_val_diff, s=10)\n",
    "plt.xlabel(\"Real Labels\")\n",
    "plt.ylabel(\"Prediction Error (Predicted - Real)\")\n",
    "plt.title(\"Prediction Error vs Real Labels\")\n",
    "plt.axhline(0, color=\"red\", linestyle=\"--\", linewidth=1)\n",
    "plt.show()"
   ]
  }
 ],
 "metadata": {
  "kernelspec": {
   "display_name": "pytorch",
   "language": "python",
   "name": "python3"
  },
  "language_info": {
   "codemirror_mode": {
    "name": "ipython",
    "version": 3
   },
   "file_extension": ".py",
   "mimetype": "text/x-python",
   "name": "python",
   "nbconvert_exporter": "python",
   "pygments_lexer": "ipython3",
   "version": "3.12.10"
  }
 },
 "nbformat": 4,
 "nbformat_minor": 5
}
