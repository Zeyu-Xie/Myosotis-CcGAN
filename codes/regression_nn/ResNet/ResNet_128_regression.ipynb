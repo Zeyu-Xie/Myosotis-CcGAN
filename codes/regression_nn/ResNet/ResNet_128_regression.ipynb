{
 "cells": [
  {
   "cell_type": "markdown",
   "id": "c37c98f7",
   "metadata": {},
   "source": [
    "# Pretrain CNN (ResNet) for Regression (Image Size: 128)"
   ]
  },
  {
   "cell_type": "code",
   "execution_count": 29,
   "id": "90c4f95d",
   "metadata": {},
   "outputs": [],
   "source": [
    "import h5py\n",
    "from matplotlib import pyplot as plt\n",
    "import numpy as np\n",
    "import os\n",
    "import pandas as pd\n",
    "import random\n",
    "from sklearn.model_selection import train_test_split\n",
    "import timeit\n",
    "import torch\n",
    "import torch.nn as nn\n",
    "import torch.nn.functional as F"
   ]
  },
  {
   "cell_type": "markdown",
   "id": "94b7ddfa",
   "metadata": {},
   "source": [
    "## Step 1 - Preparations\n",
    "\n",
    "Set paths, environment variables, data and model configurations and training hyperparameters."
   ]
  },
  {
   "cell_type": "code",
   "execution_count": 30,
   "id": "16f3c18b",
   "metadata": {},
   "outputs": [],
   "source": [
    "# Data and model paths\n",
    "DATA_PATH = \"/home/ubuntu/Desktop/Ra/datasets/Ra_128_indexed_binned.h5\"\n",
    "MODEL_PATH = \"/home/ubuntu/Desktop/Ra/models/ResNet_128_regression.pth\"\n",
    "OUTPUT_PATH = \"/home/ubuntu/Desktop/Ra/outputs/ResNet_128_regression.csv\"\n",
    "# Env\n",
    "SEED = 42\n",
    "NUM_WORKERS = 0\n",
    "# Data\n",
    "IMG_SIZE = 128\n",
    "MIN_LABEL = 1.3\n",
    "MAX_LABEL = 5.2\n",
    "TEST_SIZE = 0.2\n",
    "# Model\n",
    "CNN = \"ResNet34_regre\"\n",
    "# Hyperparameters\n",
    "EPOCHS = 20\n",
    "BATCH_SIZE_TRAIN = 64\n",
    "BATCH_SIZE_VALID = 10\n",
    "BASE_LR = 0.01\n",
    "LR_WEIGHT_DECAY = 1e-4\n",
    "MOMENTUM = 0.9"
   ]
  },
  {
   "cell_type": "markdown",
   "id": "86f32173",
   "metadata": {},
   "source": [
    "Create directory `os.path.dirname(MODEL_PATH)` if not existed."
   ]
  },
  {
   "cell_type": "code",
   "execution_count": 31,
   "id": "137d9975",
   "metadata": {},
   "outputs": [],
   "source": [
    "# Path\n",
    "if not os.path.exists(os.path.dirname(MODEL_PATH)):\n",
    "    os.makedirs(os.path.dirname(MODEL_PATH), exist_ok=True)\n",
    "    print(f\"Make new directory {os.path.dirname(MODEL_PATH)}\")"
   ]
  },
  {
   "cell_type": "markdown",
   "id": "0815ce04",
   "metadata": {},
   "source": [
    "Set `SEED` globally."
   ]
  },
  {
   "cell_type": "code",
   "execution_count": 32,
   "id": "8f00e2d8",
   "metadata": {},
   "outputs": [
    {
     "name": "stdout",
     "output_type": "stream",
     "text": [
      "Random Seed: 42\n"
     ]
    }
   ],
   "source": [
    "# Seed\n",
    "random.seed(SEED)\n",
    "torch.manual_seed(SEED)\n",
    "torch.backends.cudnn.deterministic = True\n",
    "np.random.seed(SEED)\n",
    "print(f\"Random Seed: {SEED}\")"
   ]
  },
  {
   "cell_type": "markdown",
   "id": "c81d4a31",
   "metadata": {},
   "source": [
    "Set `device` as \"cuda\" if available, otherwise use \"cpu\"."
   ]
  },
  {
   "cell_type": "code",
   "execution_count": 33,
   "id": "df92ed1d",
   "metadata": {},
   "outputs": [
    {
     "name": "stdout",
     "output_type": "stream",
     "text": [
      "Device: cuda\n",
      "Device Count: 1\n"
     ]
    }
   ],
   "source": [
    "# Device\n",
    "device = \"cuda\" if torch.cuda.is_available() else \"cpu\"\n",
    "ngpu = torch.cuda.device_count()\n",
    "print(f\"Device: {device}\")\n",
    "print(f\"Device Count: {ngpu}\")"
   ]
  },
  {
   "cell_type": "markdown",
   "id": "2ba18e7a",
   "metadata": {},
   "source": [
    "Define an `IMGs_dataset` class, which is an inherit of class `torch.utils.data.Dataset`. `IMGs_dataset` is a class for storing images and labels at the same place, we will use it to initialize the data loader."
   ]
  },
  {
   "cell_type": "code",
   "execution_count": 34,
   "id": "20ed91d2",
   "metadata": {},
   "outputs": [],
   "source": [
    "class IMGs_dataset(torch.utils.data.Dataset):\n",
    "    def __init__(self, images, labels):\n",
    "        super(IMGs_dataset, self).__init__()\n",
    "        self.images = images\n",
    "        self.labels = labels\n",
    "\n",
    "    def __getitem__(self, index):\n",
    "        images = self.images[index]\n",
    "        labels = self.labels[index]\n",
    "        return images, labels\n",
    "\n",
    "    def __len__(self):\n",
    "        return len(self.images)"
   ]
  },
  {
   "cell_type": "markdown",
   "id": "da392402",
   "metadata": {},
   "source": [
    "After that we define five different ResNet regression classes: \n",
    "\n",
    "1. `ResNet18_regre`\n",
    "2. `ResNet34_regre`\n",
    "3. `ResNet50_regre`\n",
    "4. `ResNet101_regre`\n",
    "5. `ResNet152_regre`\n",
    "\n",
    "These classes are only suitable for image size 128. The variable `CNN` shows which model will be used."
   ]
  },
  {
   "cell_type": "code",
   "execution_count": 35,
   "id": "e875ee06",
   "metadata": {},
   "outputs": [
    {
     "name": "stdout",
     "output_type": "stream",
     "text": [
      "Defined 5 different ResNet regression class for image size 128. \n"
     ]
    }
   ],
   "source": [
    "class _BasicBlock(nn.Module):\n",
    "    expansion = 1\n",
    "\n",
    "    def __init__(self, in_planes, planes, stride=1):\n",
    "        super(_BasicBlock, self).__init__()\n",
    "        self.conv1 = nn.Conv2d(\n",
    "            in_planes, planes, kernel_size=3, stride=stride, padding=1, bias=False\n",
    "        )\n",
    "        self.bn1 = nn.BatchNorm2d(planes)\n",
    "        self.conv2 = nn.Conv2d(\n",
    "            planes, planes, kernel_size=3, stride=1, padding=1, bias=False\n",
    "        )\n",
    "        self.bn2 = nn.BatchNorm2d(planes)\n",
    "        self.shortcut = nn.Sequential()\n",
    "        if stride != 1 or in_planes != self.expansion * planes:\n",
    "            self.shortcut = nn.Sequential(\n",
    "                nn.Conv2d(\n",
    "                    in_planes,\n",
    "                    self.expansion * planes,\n",
    "                    kernel_size=1,\n",
    "                    stride=stride,\n",
    "                    bias=False,\n",
    "                ),\n",
    "                nn.BatchNorm2d(self.expansion * planes),\n",
    "            )\n",
    "\n",
    "    def forward(self, x):\n",
    "        out = F.relu(self.bn1(self.conv1(x)))\n",
    "        out = self.bn2(self.conv2(out))\n",
    "        out += self.shortcut(x)\n",
    "        out = F.relu(out)\n",
    "        return out\n",
    "\n",
    "\n",
    "class _Bottleneck(nn.Module):\n",
    "    expansion = 4\n",
    "\n",
    "    def __init__(self, in_planes, planes, stride=1):\n",
    "        super(_Bottleneck, self).__init__()\n",
    "        self.conv1 = nn.Conv2d(in_planes, planes, kernel_size=1, bias=False)\n",
    "        self.bn1 = nn.BatchNorm2d(planes)\n",
    "        self.conv2 = nn.Conv2d(\n",
    "            planes, planes, kernel_size=3, stride=stride, padding=1, bias=False\n",
    "        )\n",
    "        self.bn2 = nn.BatchNorm2d(planes)\n",
    "        self.conv3 = nn.Conv2d(\n",
    "            planes, self.expansion * planes, kernel_size=1, bias=False\n",
    "        )\n",
    "        self.bn3 = nn.BatchNorm2d(self.expansion * planes)\n",
    "        self.shortcut = nn.Sequential()\n",
    "        if stride != 1 or in_planes != self.expansion * planes:\n",
    "            self.shortcut = nn.Sequential(\n",
    "                nn.Conv2d(\n",
    "                    in_planes,\n",
    "                    self.expansion * planes,\n",
    "                    kernel_size=1,\n",
    "                    stride=stride,\n",
    "                    bias=False,\n",
    "                ),\n",
    "                nn.BatchNorm2d(self.expansion * planes),\n",
    "            )\n",
    "\n",
    "    def forward(self, x):\n",
    "        out = F.relu(self.bn1(self.conv1(x)))\n",
    "        out = F.relu(self.bn2(self.conv2(out)))\n",
    "        out = self.bn3(self.conv3(out))\n",
    "        out += self.shortcut(x)\n",
    "        out = F.relu(out)\n",
    "        return out\n",
    "\n",
    "\n",
    "class _ResNet_regre(nn.Module):\n",
    "    def __init__(self, block, num_blocks, nc=3, ngpu=1, feature_layer=\"f3\"):\n",
    "        super(_ResNet_regre, self).__init__()\n",
    "        self.in_planes = 64\n",
    "        self.ngpu = ngpu\n",
    "        self.feature_layer = feature_layer\n",
    "\n",
    "        self.block1 = nn.Sequential(\n",
    "            nn.Conv2d(nc, 64, kernel_size=3, stride=1, padding=1, bias=False),  # h=h\n",
    "            nn.BatchNorm2d(64),\n",
    "            nn.ReLU(),\n",
    "            nn.MaxPool2d(2, 2),  # h=h/2 64\n",
    "            self._make_layer(block, 64, num_blocks[0], stride=2),  # h=h/2 32\n",
    "        )\n",
    "        self.block2 = self._make_layer(block, 128, num_blocks[1], stride=2)  # h=h/2 16\n",
    "        self.block3 = self._make_layer(block, 256, num_blocks[2], stride=2)  # h=h/2 8\n",
    "        self.block4 = self._make_layer(block, 512, num_blocks[3], stride=2)  # h=h/2 4\n",
    "\n",
    "        self.pool1 = nn.AvgPool2d(kernel_size=4)\n",
    "        if self.feature_layer == \"f2\":\n",
    "            self.pool2 = nn.AdaptiveAvgPool2d((2, 2))\n",
    "        elif self.feature_layer == \"f3\":\n",
    "            self.pool2 = nn.AdaptiveAvgPool2d((2, 2))\n",
    "        else:\n",
    "            self.pool2 = nn.AdaptiveAvgPool2d((1, 1))\n",
    "\n",
    "        linear_layers = [\n",
    "            nn.Linear(512 * block.expansion, 128),\n",
    "            nn.BatchNorm1d(128),\n",
    "            nn.ReLU(),\n",
    "            nn.Linear(128, 128),\n",
    "            nn.BatchNorm1d(128),\n",
    "            nn.ReLU(),\n",
    "            nn.Linear(128, 1),\n",
    "            # nn.Sigmoid()\n",
    "            nn.ReLU(),\n",
    "        ]\n",
    "        self.linear = nn.Sequential(*linear_layers)\n",
    "\n",
    "    def _make_layer(self, block, planes, num_blocks, stride):\n",
    "        strides = [stride] + [1] * (num_blocks - 1)\n",
    "        layers = []\n",
    "        for stride in strides:\n",
    "            layers.append(block(self.in_planes, planes, stride))\n",
    "            self.in_planes = planes * block.expansion\n",
    "        return nn.Sequential(*layers)\n",
    "\n",
    "    def forward(self, x):\n",
    "\n",
    "        if x.is_cuda and self.ngpu > 1:\n",
    "            ft1 = nn.parallel.data_parallel(self.block1, x, range(self.ngpu))\n",
    "            ft2 = nn.parallel.data_parallel(self.block2, ft1, range(self.ngpu))\n",
    "            ft3 = nn.parallel.data_parallel(self.block3, ft2, range(self.ngpu))\n",
    "            ft4 = nn.parallel.data_parallel(self.block4, ft3, range(self.ngpu))\n",
    "            out = nn.parallel.data_parallel(self.pool1, ft4, range(self.ngpu))\n",
    "            out = out.view(out.size(0), -1)\n",
    "            out = nn.parallel.data_parallel(self.linear, out, range(self.ngpu))\n",
    "        else:\n",
    "            ft1 = self.block1(x)\n",
    "            ft2 = self.block2(ft1)\n",
    "            ft3 = self.block3(ft2)\n",
    "            ft4 = self.block4(ft3)\n",
    "            out = self.pool1(ft4)\n",
    "            out = out.view(out.size(0), -1)\n",
    "            out = self.linear(out)\n",
    "\n",
    "        if self.feature_layer == \"f2\":\n",
    "            ext_features = self.pool2(ft2)\n",
    "        elif self.feature_layer == \"f3\":\n",
    "            ext_features = self.pool2(ft3)\n",
    "        else:\n",
    "            ext_features = self.pool2(ft4)\n",
    "\n",
    "        ext_features = ext_features.view(ext_features.size(0), -1)\n",
    "\n",
    "        return out, ext_features\n",
    "\n",
    "\n",
    "def ResNet18_regre(ngpu=1):\n",
    "    return _ResNet_regre(_BasicBlock, [2, 2, 2, 2], ngpu=ngpu)\n",
    "\n",
    "\n",
    "def ResNet34_regre(ngpu=1):\n",
    "    return _ResNet_regre(_BasicBlock, [3, 4, 6, 3], ngpu=ngpu)\n",
    "\n",
    "\n",
    "def ResNet50_regre(ngpu=1):\n",
    "    return _ResNet_regre(_BasicBlock, [3, 4, 6, 3], ngpu=ngpu)\n",
    "\n",
    "\n",
    "def ResNet101_regre(ngpu=1):\n",
    "    return _ResNet_regre(_BasicBlock, [3, 4, 23, 3], ngpu=ngpu)\n",
    "\n",
    "\n",
    "def ResNet152_regre(ngpu=1):\n",
    "    return _ResNet_regre(_BasicBlock, [3, 8, 36, 3], ngpu=ngpu)\n",
    "\n",
    "\n",
    "print(\"Defined 5 different ResNet regression class for image size 128. \")"
   ]
  },
  {
   "cell_type": "markdown",
   "id": "592608f2",
   "metadata": {},
   "source": [
    "## Step 2 - Load and process datasets"
   ]
  },
  {
   "cell_type": "markdown",
   "id": "81d20eff",
   "metadata": {},
   "source": [
    "Load the images and labels from `DATA_PATH` (It is an `.h5` file with fields like `images`, `labels`, `types` and so on. In this notebook we only require the `images` and `labels` fields).\n",
    "\n",
    "We filter the dataset to include only samples with labels in the range [`MIN_LABEL`, `MAX_LABEL`), convert the images and labels to PyTorch tensors, standardize the images (per layer), and normalize the labels. Then, we split the data into training and validation sets (with ratio `TEST_SIZE`), and create PyTorch datasets and dataloaders for both.\n",
    "\n",
    "After this section we get:\n",
    "\n",
    "1. `images_train` and `images_val` (4 dim tensor)\n",
    "2. `labels_train` and `labels_val` (1 dim tensor)\n",
    "3. `trainset` and `validset` (IMGs_dataset)\n",
    "4. `trainloader` and `validloader` (dataloader)"
   ]
  },
  {
   "cell_type": "code",
   "execution_count": 36,
   "id": "988fb6f4",
   "metadata": {},
   "outputs": [
    {
     "name": "stdout",
     "output_type": "stream",
     "text": [
      "Images and labels loaded.\n",
      "Images Shape: (300, 128, 128, 3)\n",
      "Labels Shape: (300,)\n",
      "\n",
      "Select indexes by MIN_LABEL = 1.3 and MAX_LABEL = 5.2\n",
      "Images Shape: (300, 128, 128, 3)\n",
      "Labels Shape: (300,)\n",
      "\n",
      "Transform `images` and `labels` to tensors.\n",
      "Images Shape: torch.Size([300, 3, 128, 128])\n",
      "Labels Shape: torch.Size([300])\n",
      "\n",
      "Train test split with test size 0.2.\n",
      "Images (train) Shape: torch.Size([240, 3, 128, 128])\n",
      "Images (val) Shape: torch.Size([60, 3, 128, 128])\n",
      "Labels (train) Shape: torch.Size([240])\n",
      "Labels (val) Shape: torch.Size([60])\n"
     ]
    }
   ],
   "source": [
    "# Load datasets\n",
    "with h5py.File(DATA_PATH, \"r\") as f:\n",
    "    labels = f[\"labels\"][:]\n",
    "    labels = labels.astype(float)\n",
    "    images = f[\"images\"][:].astype(float)\n",
    "N_all = len(images)\n",
    "print(\"Images and labels loaded.\")\n",
    "print(f\"Images Shape: {images.shape}\")\n",
    "print(f\"Labels Shape: {labels.shape}\")\n",
    "print(\"\")\n",
    "\n",
    "# Selection\n",
    "indx = np.where((labels >= MIN_LABEL) * (labels < MAX_LABEL) == True)[0]\n",
    "labels = labels[indx]\n",
    "images = images[indx]\n",
    "print(f\"Select indexes by MIN_LABEL = {MIN_LABEL} and MAX_LABEL = {MAX_LABEL}\")\n",
    "print(f\"Images Shape: {images.shape}\")\n",
    "print(f\"Labels Shape: {labels.shape}\")\n",
    "print(\"\")\n",
    "\n",
    "# To tensor\n",
    "images = torch.from_numpy(images).permute(0, 3, 1, 2)\n",
    "labels = torch.from_numpy(labels)\n",
    "print(\"Transform `images` and `labels` to tensors.\")\n",
    "print(f\"Images Shape: {images.shape}\")\n",
    "print(f\"Labels Shape: {labels.shape}\")\n",
    "print(\"\")\n",
    "\n",
    "# Image standardization\n",
    "mean = images.mean(dim=[0, 2, 3], keepdim=True)\n",
    "std = images.std(dim=[0, 2, 3], keepdim=True)\n",
    "images = (images - mean) / std\n",
    "\n",
    "# Label normalization\n",
    "labels = (labels - MIN_LABEL) / (MAX_LABEL - MIN_LABEL)\n",
    "\n",
    "# Train test split\n",
    "images_train, images_val, labels_train, labels_val = train_test_split(\n",
    "    images, labels, test_size=TEST_SIZE, random_state=SEED\n",
    ")\n",
    "print(f\"Train test split with test size {TEST_SIZE}.\")\n",
    "print(f\"Images (train) Shape: {images_train.shape}\")\n",
    "print(f\"Images (val) Shape: {images_val.shape}\")\n",
    "print(f\"Labels (train) Shape: {labels_train.shape}\")\n",
    "print(f\"Labels (val) Shape: {labels_val.shape}\")\n",
    "\n",
    "# Create datasets\n",
    "trainset = IMGs_dataset(images_train, labels_train)\n",
    "validset = IMGs_dataset(images_val, labels_val)\n",
    "\n",
    "# Create dataloaders\n",
    "trainloader = torch.utils.data.DataLoader(\n",
    "    trainset, batch_size=BATCH_SIZE_TRAIN, shuffle=True, num_workers=NUM_WORKERS\n",
    ")\n",
    "validloader = torch.utils.data.DataLoader(\n",
    "    validset, batch_size=BATCH_SIZE_VALID, shuffle=False, num_workers=NUM_WORKERS\n",
    ")"
   ]
  },
  {
   "cell_type": "markdown",
   "id": "96e7db4e",
   "metadata": {},
   "source": [
    "## Step 3 - Train CNN function and valid CNN function\n",
    "\n",
    "In this section we define the `train_CNN` function and `valid_CNN` function.\n",
    "\n",
    "The `train_CNN` function contains the whole iteration for `EPOCHS` times. In each epoch, we iterate through the `trainloader` (each time we do backpropagation for one time) and calculate one average loss."
   ]
  },
  {
   "cell_type": "code",
   "execution_count": 37,
   "id": "fd294c11",
   "metadata": {},
   "outputs": [],
   "source": [
    "# Function: train\n",
    "def train_CNN(net, optimizer, criterion, valid_CNN):\n",
    "\n",
    "    # Timer\n",
    "    start_tmp = timeit.default_timer()\n",
    "    # Loop for epochs\n",
    "    for epoch in range(EPOCHS):\n",
    "        net.train()\n",
    "        train_loss = 0\n",
    "        train_size = 0\n",
    "        # Loop for batches\n",
    "        for batch_idx, (batch_train_images, batch_train_labels) in enumerate(\n",
    "            trainloader\n",
    "        ):\n",
    "            # Load data\n",
    "            batch_train_images = batch_train_images.type(torch.float).to(device)\n",
    "            batch_train_labels = (\n",
    "                batch_train_labels.type(torch.float).view(-1, 1).to(device)\n",
    "            )\n",
    "            # Forward pass\n",
    "            outputs, _ = net(batch_train_images)\n",
    "            loss = criterion(outputs, batch_train_labels)\n",
    "            # Backpropagation\n",
    "            optimizer.zero_grad()\n",
    "            loss.backward()\n",
    "            optimizer.step()\n",
    "            # Add loss\n",
    "            batch_size = batch_train_labels.size(0)\n",
    "            train_loss += loss.cpu().item() * batch_size\n",
    "            train_size += batch_size\n",
    "        # Calculate train loss\n",
    "        train_loss = train_loss / train_size\n",
    "\n",
    "        valid_mse, valid_mae = valid_CNN(net)\n",
    "        print(\n",
    "            f\"[Epoch {(epoch+1):d} / {(EPOCHS):d}] [Train Loss {train_loss:f} (MSE)] [Valid Loss {valid_mse:f} (MSE) {valid_mae:f} (MAE)] [Learning Rate: {optimizer.param_groups[0]['lr']}] [Time: {(timeit.default_timer() - start_tmp):.4f}]\"\n",
    "        )\n",
    "\n",
    "    # Return net and optimizer\n",
    "    return net, optimizer"
   ]
  },
  {
   "cell_type": "markdown",
   "id": "01e19cdc",
   "metadata": {},
   "source": [
    "We define a `valid_CNN` function to calculate the average loss among the validation set (in `.eval()` mode)."
   ]
  },
  {
   "cell_type": "code",
   "execution_count": 38,
   "id": "e6534029",
   "metadata": {},
   "outputs": [],
   "source": [
    "def valid_CNN(net):\n",
    "    net.eval()\n",
    "    with torch.no_grad():\n",
    "        valid_mse = 0.0\n",
    "        valid_mae = 0.0\n",
    "        valid_size = 0\n",
    "        for _, (batch_val_images, batch_val_labels) in enumerate(validloader):\n",
    "            # Load data\n",
    "            batch_val_images = batch_val_images.type(torch.float).to(device)\n",
    "            batch_val_labels = batch_val_labels.type(torch.float).view(-1).cpu().numpy()\n",
    "            # Calculate outputs\n",
    "            outputs, _ = net(batch_val_images)\n",
    "            outputs = outputs.view(-1).cpu().numpy()\n",
    "            # Add loss\n",
    "            valid_mse += np.sum((batch_val_labels - outputs) ** 2)\n",
    "            valid_mae += np.sum(np.abs(batch_val_labels - outputs))\n",
    "            valid_size += len(batch_val_labels)\n",
    "\n",
    "    return valid_mse / valid_size, valid_mae / valid_size"
   ]
  },
  {
   "cell_type": "markdown",
   "id": "59c0d63d",
   "metadata": {},
   "source": [
    "## Step 4 - Train and Validate"
   ]
  },
  {
   "cell_type": "markdown",
   "id": "f3b72080",
   "metadata": {},
   "source": [
    "In this section we train and validate our ResNet model. First we instantiate the model class according to variable `CNN`."
   ]
  },
  {
   "cell_type": "code",
   "execution_count": 39,
   "id": "503e7a0b",
   "metadata": {},
   "outputs": [
    {
     "name": "stdout",
     "output_type": "stream",
     "text": [
      "Net Type: ResNet34_regre\n"
     ]
    }
   ],
   "source": [
    "# model initialization\n",
    "if CNN == \"ResNet18_regre\":\n",
    "    net = ResNet18_regre(ngpu=ngpu)\n",
    "elif CNN == \"ResNet34_regre\":\n",
    "    net = ResNet34_regre(ngpu=ngpu)\n",
    "elif CNN == \"ResNet50_regre\":\n",
    "    net = ResNet50_regre(ngpu=ngpu)\n",
    "elif CNN == \"ResNet101_regre\":\n",
    "    net = ResNet101_regre(ngpu=ngpu)\n",
    "net = net.to(device)\n",
    "print(f\"Net Type: {CNN}\")"
   ]
  },
  {
   "cell_type": "markdown",
   "id": "5de1dd8f",
   "metadata": {},
   "source": [
    "Then we determine the criterion and the optimizer."
   ]
  },
  {
   "cell_type": "code",
   "execution_count": 40,
   "id": "1619b428",
   "metadata": {},
   "outputs": [],
   "source": [
    "# Criterion and optimizer\n",
    "criterion = nn.MSELoss()\n",
    "optimizer = torch.optim.SGD(\n",
    "    net.parameters(), lr=BASE_LR, momentum=MOMENTUM, weight_decay=LR_WEIGHT_DECAY\n",
    ")"
   ]
  },
  {
   "cell_type": "markdown",
   "id": "a7c26b53",
   "metadata": {},
   "source": [
    "Next we train the ResNet with pre defined `train_CNN` function. This is the key part of the whole notebook."
   ]
  },
  {
   "cell_type": "code",
   "execution_count": 41,
   "id": "7f060693",
   "metadata": {},
   "outputs": [
    {
     "name": "stdout",
     "output_type": "stream",
     "text": [
      "[Epoch 1 / 20] [Train Loss 0.223651 (MSE)] [Valid Loss 0.294890 (MSE) 0.485603 (MAE)] [Learning Rate: 0.01] [Time: 0.2805]\n",
      "[Epoch 2 / 20] [Train Loss 0.117764 (MSE)] [Valid Loss 0.242659 (MSE) 0.428612 (MAE)] [Learning Rate: 0.01] [Time: 0.5453]\n",
      "[Epoch 3 / 20] [Train Loss 0.071952 (MSE)] [Valid Loss 0.259876 (MSE) 0.455470 (MAE)] [Learning Rate: 0.01] [Time: 0.8002]\n",
      "[Epoch 4 / 20] [Train Loss 0.046640 (MSE)] [Valid Loss 2.341249 (MSE) 1.250000 (MAE)] [Learning Rate: 0.01] [Time: 1.0538]\n",
      "[Epoch 5 / 20] [Train Loss 0.035762 (MSE)] [Valid Loss 3.337495 (MSE) 1.402109 (MAE)] [Learning Rate: 0.01] [Time: 1.3198]\n",
      "[Epoch 6 / 20] [Train Loss 0.022560 (MSE)] [Valid Loss 0.990169 (MSE) 0.783296 (MAE)] [Learning Rate: 0.01] [Time: 1.5941]\n",
      "[Epoch 7 / 20] [Train Loss 0.023847 (MSE)] [Valid Loss 0.141713 (MSE) 0.332547 (MAE)] [Learning Rate: 0.01] [Time: 1.8660]\n",
      "[Epoch 8 / 20] [Train Loss 0.022845 (MSE)] [Valid Loss 0.046313 (MSE) 0.185671 (MAE)] [Learning Rate: 0.01] [Time: 2.1187]\n",
      "[Epoch 9 / 20] [Train Loss 0.030612 (MSE)] [Valid Loss 0.049385 (MSE) 0.181831 (MAE)] [Learning Rate: 0.01] [Time: 2.3740]\n",
      "[Epoch 10 / 20] [Train Loss 0.026416 (MSE)] [Valid Loss 0.036028 (MSE) 0.153665 (MAE)] [Learning Rate: 0.01] [Time: 2.6336]\n",
      "[Epoch 11 / 20] [Train Loss 0.030187 (MSE)] [Valid Loss 0.028995 (MSE) 0.129903 (MAE)] [Learning Rate: 0.01] [Time: 2.8978]\n",
      "[Epoch 12 / 20] [Train Loss 0.018117 (MSE)] [Valid Loss 0.018926 (MSE) 0.108399 (MAE)] [Learning Rate: 0.01] [Time: 3.1568]\n",
      "[Epoch 13 / 20] [Train Loss 0.026937 (MSE)] [Valid Loss 0.039221 (MSE) 0.137627 (MAE)] [Learning Rate: 0.01] [Time: 3.4277]\n",
      "[Epoch 14 / 20] [Train Loss 0.025302 (MSE)] [Valid Loss 0.019979 (MSE) 0.117930 (MAE)] [Learning Rate: 0.01] [Time: 3.6981]\n",
      "[Epoch 15 / 20] [Train Loss 0.025582 (MSE)] [Valid Loss 0.033961 (MSE) 0.125307 (MAE)] [Learning Rate: 0.01] [Time: 3.9627]\n",
      "[Epoch 16 / 20] [Train Loss 0.029600 (MSE)] [Valid Loss 0.029704 (MSE) 0.115496 (MAE)] [Learning Rate: 0.01] [Time: 4.2146]\n",
      "[Epoch 17 / 20] [Train Loss 0.025894 (MSE)] [Valid Loss 0.017600 (MSE) 0.101092 (MAE)] [Learning Rate: 0.01] [Time: 4.4690]\n",
      "[Epoch 18 / 20] [Train Loss 0.019988 (MSE)] [Valid Loss 0.033717 (MSE) 0.129492 (MAE)] [Learning Rate: 0.01] [Time: 4.7282]\n",
      "[Epoch 19 / 20] [Train Loss 0.014266 (MSE)] [Valid Loss 0.017908 (MSE) 0.109500 (MAE)] [Learning Rate: 0.01] [Time: 4.9916]\n",
      "[Epoch 20 / 20] [Train Loss 0.010137 (MSE)] [Valid Loss 0.021108 (MSE) 0.104615 (MAE)] [Learning Rate: 0.01] [Time: 5.2500]\n",
      "Model saved to /home/ubuntu/Desktop/Ra/models/ResNet_128_regression.pth\n"
     ]
    }
   ],
   "source": [
    "# TRAIN CNN\n",
    "net, optimizer = train_CNN(\n",
    "    net=net, optimizer=optimizer, criterion=criterion, valid_CNN=valid_CNN\n",
    ")\n",
    "\n",
    "# Save model\n",
    "torch.save(net.state_dict(), MODEL_PATH)\n",
    "print(f\"Model saved to {MODEL_PATH}\")\n",
    "torch.cuda.empty_cache()"
   ]
  },
  {
   "cell_type": "markdown",
   "id": "61b3ee0f",
   "metadata": {},
   "source": [
    "## Exceptional Test\n",
    "\n",
    "Let's see if the model works well.\n",
    "\n",
    "We load the model from `MODEL_PATH` and evaluate it on the validation set. The differences are reported in the original label scale."
   ]
  },
  {
   "cell_type": "code",
   "execution_count": 42,
   "id": "93ef0d1b",
   "metadata": {},
   "outputs": [
    {
     "name": "stdout",
     "output_type": "stream",
     "text": [
      "Model loaded from /home/ubuntu/Desktop/Ra/models/ResNet_128_regression.pth.\n",
      "    Real Labels  Predicted Labels      Diff      MAPE\n",
      "0         3.549          4.799116  1.250116  0.647755\n",
      "1         4.550          4.510461 -0.039539  0.991310\n",
      "2         3.336          3.287856 -0.048144  0.985568\n",
      "3         1.599          2.079544  0.480544  0.699472\n",
      "4         4.075          3.933868 -0.141132  0.965366\n",
      "5         3.905          4.011531  0.106531  0.972719\n",
      "6         3.801          3.336279 -0.464721  0.877737\n",
      "7         2.836          3.068829  0.232829  0.917902\n",
      "8         1.578          2.368646  0.790646  0.498957\n",
      "9         3.302          3.135563 -0.166437  0.949595\n",
      "10        3.995          4.145639  0.150639  0.962293\n",
      "11        2.123          2.287909  0.164909  0.922323\n",
      "12        3.902          3.921647  0.019647  0.994965\n",
      "13        2.036          2.214394  0.178394  0.912380\n",
      "14        3.819          3.561980 -0.257020  0.932700\n",
      "15        3.957          4.404531  0.447531  0.886902\n",
      "16        4.597          4.569980 -0.027020  0.994122\n",
      "17        3.961          3.093714 -0.867286  0.781044\n",
      "18        3.193          2.899041 -0.293959  0.907936\n",
      "19        3.399          3.365499 -0.033501  0.990144\n",
      "20        2.377          3.200451  0.823451  0.653576\n",
      "21        2.680          3.613530  0.933530  0.651668\n",
      "22        4.338          6.483266  2.145266  0.505471\n",
      "23        4.477          4.370835 -0.106165  0.976287\n",
      "24        2.641          3.335629  0.694629  0.736983\n",
      "25        1.947          2.386180  0.439180  0.774432\n",
      "26        4.577          4.543143 -0.033857  0.992603\n",
      "27        4.711          4.488583 -0.222417  0.952788\n",
      "28        3.414          3.172484 -0.241516  0.929257\n",
      "29        4.057          3.262401 -0.794599  0.804141\n",
      "30        1.621          2.355360  0.734360  0.546971\n",
      "31        3.323          3.532937  0.209937  0.936823\n",
      "32        2.147          2.128569 -0.018431  0.991416\n",
      "33        1.649          1.825870  0.176870  0.892741\n",
      "34        3.935          4.356061  0.421061  0.892996\n",
      "35        2.656          2.346873 -0.309127  0.883612\n",
      "36        1.590          1.832626  0.242626  0.847405\n",
      "37        2.655          2.824803  0.169803  0.936044\n",
      "38        2.076          2.734315  0.658315  0.682893\n",
      "39        2.413          2.874411  0.461411  0.808781\n",
      "40        2.836          2.645645 -0.190355  0.932879\n",
      "41        2.331          2.537333  0.206333  0.911483\n",
      "42        4.740          4.774230  0.034230  0.992778\n",
      "43        2.422          3.001684  0.579684  0.760659\n",
      "44        2.444          2.732609  0.288609  0.881911\n",
      "45        2.492          3.566432  1.074432  0.568847\n",
      "46        3.957          3.990190  0.033190  0.991612\n",
      "47        3.905          3.812599 -0.092401  0.976338\n",
      "48        2.619          3.053468  0.434468  0.834109\n",
      "49        3.927          3.604069 -0.322931  0.917766\n",
      "50        3.819          3.282894 -0.536106  0.859621\n",
      "51        3.119          2.956728 -0.162272  0.947973\n",
      "52        3.917          2.971095 -0.945905  0.758513\n",
      "53        2.453          3.806701  1.353701  0.448145\n",
      "54        4.565          4.451183 -0.113817  0.975067\n",
      "55        4.597          4.206561 -0.390439  0.915066\n",
      "56        2.691          2.796931  0.105931  0.960635\n",
      "57        2.657          2.990044  0.333044  0.874654\n",
      "58        3.725          3.158159 -0.566841  0.847828\n",
      "59        1.618          2.336141  0.718141  0.556155\n",
      "MAPE: 0.8516686811043914\n"
     ]
    },
    {
     "data": {
      "image/png": "[encoded data removed]",
      "text/plain": [
       "<Figure size 640x480 with 1 Axes>"
      ]
     },
     "metadata": {},
     "output_type": "display_data"
    },
    {
     "data": {
      "image/png": "[encoded data removed]",
      "text/plain": [
       "<Figure size 640x480 with 1 Axes>"
      ]
     },
     "metadata": {},
     "output_type": "display_data"
    }
   ],
   "source": [
    "# Load the trained model weights\n",
    "net.load_state_dict(torch.load(MODEL_PATH, map_location=device))\n",
    "net.eval()\n",
    "print(f\"Model loaded from {MODEL_PATH}.\")\n",
    "\n",
    "# Calculate predicted labels\n",
    "labels_val_predicted = []\n",
    "with torch.no_grad():\n",
    "    valid_mse = 0.0\n",
    "    valid_mae = 0.0\n",
    "    valid_size = 0\n",
    "    for _, (batch_val_images, batch_val_labels) in enumerate(validloader):\n",
    "\n",
    "        # Load data\n",
    "        batch_val_images = batch_val_images.type(torch.float).to(device)\n",
    "        batch_val_labels = batch_val_labels.type(torch.float).view(-1).cpu().numpy()\n",
    "\n",
    "        # Calculate predicted labels\n",
    "        outputs, _ = net(batch_val_images)\n",
    "        outputs = outputs.view(-1).cpu().numpy()\n",
    "        labels_val_predicted.extend(outputs)\n",
    "\n",
    "# Turn to `numpy.array`\n",
    "labels_val_real = labels_val.numpy()\n",
    "labels_val_predicted = np.array(labels_val_predicted)\n",
    "\n",
    "# Unnormalize labels\n",
    "labels_val_real = labels_val_real * (MAX_LABEL - MIN_LABEL) + MIN_LABEL\n",
    "labels_val_predicted = labels_val_predicted * (MAX_LABEL - MIN_LABEL) + MIN_LABEL\n",
    "\n",
    "# Turn to `pandas.Series`\n",
    "labels_val_real = pd.Series(labels_val_real)\n",
    "labels_val_predicted = pd.Series(labels_val_predicted)\n",
    "labels_val_diff = labels_val_predicted - labels_val_real\n",
    "\n",
    "# Create `pandas.DataFrame`\n",
    "df = pd.DataFrame(\n",
    "    {\n",
    "        \"Real Labels\": labels_val_real,\n",
    "        \"Predicted Labels\": labels_val_predicted,\n",
    "        \"Diff\": labels_val_diff,\n",
    "        \"MAPE\": 1 - np.abs(labels_val_diff) / labels_val_real\n",
    "    }\n",
    ")\n",
    "df.to_csv(OUTPUT_PATH, index = False)\n",
    "print(df)\n",
    "print(f\"MAPE: {df[\"MAPE\"].mean()}\")\n",
    "\n",
    "# Boxplot of the differences\n",
    "plt.boxplot(labels_val_diff)\n",
    "plt.ylabel(\"Prediction Error (Predicted - Real)\")\n",
    "plt.title(\"Boxplot of Prediction Errors\")\n",
    "plt.show()\n",
    "\n",
    "# Plot the differences by the real labels.\n",
    "plt.scatter(labels_val_real, labels_val_diff, s=10)\n",
    "plt.xlabel(\"Real Labels\")\n",
    "plt.ylabel(\"Prediction Error (Predicted - Real)\")\n",
    "plt.title(\"Prediction Error vs Real Labels\")\n",
    "plt.axhline(0, color=\"red\", linestyle=\"--\", linewidth=1)\n",
    "plt.show()"
   ]
  }
 ],
 "metadata": {
  "kernelspec": {
   "display_name": "pytorch",
   "language": "python",
   "name": "python3"
  },
  "language_info": {
   "codemirror_mode": {
    "name": "ipython",
    "version": 3
   },
   "file_extension": ".py",
   "mimetype": "text/x-python",
   "name": "python",
   "nbconvert_exporter": "python",
   "pygments_lexer": "ipython3",
   "version": "3.12.6"
  }
 },
 "nbformat": 4,
 "nbformat_minor": 5
}
